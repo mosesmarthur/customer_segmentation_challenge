{
 "cells": [
  {
   "cell_type": "code",
   "execution_count": 145,
   "id": "f75b9ce2",
   "metadata": {},
   "outputs": [
    {
     "data": {
      "text/html": [
       "        <script type=\"text/javascript\">\n",
       "        window.PlotlyConfig = {MathJaxConfig: 'local'};\n",
       "        if (window.MathJax) {MathJax.Hub.Config({SVG: {font: \"STIX-Web\"}});}\n",
       "        if (typeof require !== 'undefined') {\n",
       "        require.undef(\"plotly\");\n",
       "        requirejs.config({\n",
       "            paths: {\n",
       "                'plotly': ['https://cdn.plot.ly/plotly-2.8.3.min']\n",
       "            }\n",
       "        });\n",
       "        require(['plotly'], function(Plotly) {\n",
       "            window._Plotly = Plotly;\n",
       "        });\n",
       "        }\n",
       "        </script>\n",
       "        "
      ]
     },
     "metadata": {},
     "output_type": "display_data"
    }
   ],
   "source": [
    "import pandas as pd\n",
    "import plotly.express as px\n",
    "from plotly.offline import plot, iplot, init_notebook_mode\n",
    "import plotly.graph_objs as go\n",
    "init_notebook_mode(connected=True)"
   ]
  },
  {
   "cell_type": "code",
   "execution_count": 134,
   "id": "cd24a4f3",
   "metadata": {},
   "outputs": [
    {
     "data": {
      "text/html": [
       "<div>\n",
       "<style scoped>\n",
       "    .dataframe tbody tr th:only-of-type {\n",
       "        vertical-align: middle;\n",
       "    }\n",
       "\n",
       "    .dataframe tbody tr th {\n",
       "        vertical-align: top;\n",
       "    }\n",
       "\n",
       "    .dataframe thead th {\n",
       "        text-align: right;\n",
       "    }\n",
       "</style>\n",
       "<table border=\"1\" class=\"dataframe\">\n",
       "  <thead>\n",
       "    <tr style=\"text-align: right;\">\n",
       "      <th></th>\n",
       "      <th>customer_id</th>\n",
       "      <th>converted</th>\n",
       "      <th>customer_segment</th>\n",
       "      <th>gender</th>\n",
       "      <th>age</th>\n",
       "      <th>related_customers</th>\n",
       "      <th>family_size</th>\n",
       "      <th>initial_fee_level</th>\n",
       "      <th>credit_account_id</th>\n",
       "      <th>branch</th>\n",
       "    </tr>\n",
       "  </thead>\n",
       "  <tbody>\n",
       "    <tr>\n",
       "      <th>0</th>\n",
       "      <td>15001</td>\n",
       "      <td>0</td>\n",
       "      <td>13</td>\n",
       "      <td>male</td>\n",
       "      <td>22.0</td>\n",
       "      <td>1</td>\n",
       "      <td>0</td>\n",
       "      <td>14.5000</td>\n",
       "      <td>9b2d5b4678781e53038e91ea5324530a03f27dc1d0e5f6...</td>\n",
       "      <td>Helsinki</td>\n",
       "    </tr>\n",
       "    <tr>\n",
       "      <th>1</th>\n",
       "      <td>15002</td>\n",
       "      <td>1</td>\n",
       "      <td>11</td>\n",
       "      <td>female</td>\n",
       "      <td>38.0</td>\n",
       "      <td>1</td>\n",
       "      <td>0</td>\n",
       "      <td>142.5666</td>\n",
       "      <td>afa2dc179e46e8456ffff9016f91396e9c6adf1fe20d17...</td>\n",
       "      <td>Tampere</td>\n",
       "    </tr>\n",
       "    <tr>\n",
       "      <th>2</th>\n",
       "      <td>15003</td>\n",
       "      <td>1</td>\n",
       "      <td>13</td>\n",
       "      <td>female</td>\n",
       "      <td>26.0</td>\n",
       "      <td>0</td>\n",
       "      <td>0</td>\n",
       "      <td>15.8500</td>\n",
       "      <td>9b2d5b4678781e53038e91ea5324530a03f27dc1d0e5f6...</td>\n",
       "      <td>Helsinki</td>\n",
       "    </tr>\n",
       "    <tr>\n",
       "      <th>3</th>\n",
       "      <td>15004</td>\n",
       "      <td>1</td>\n",
       "      <td>11</td>\n",
       "      <td>female</td>\n",
       "      <td>35.0</td>\n",
       "      <td>1</td>\n",
       "      <td>0</td>\n",
       "      <td>106.2000</td>\n",
       "      <td>abefcf257b5d2ff2816a68ec7c84ec8c11e0e0dc4f3425...</td>\n",
       "      <td>Helsinki</td>\n",
       "    </tr>\n",
       "    <tr>\n",
       "      <th>4</th>\n",
       "      <td>15005</td>\n",
       "      <td>0</td>\n",
       "      <td>13</td>\n",
       "      <td>male</td>\n",
       "      <td>35.0</td>\n",
       "      <td>0</td>\n",
       "      <td>0</td>\n",
       "      <td>16.1000</td>\n",
       "      <td>9b2d5b4678781e53038e91ea5324530a03f27dc1d0e5f6...</td>\n",
       "      <td>Helsinki</td>\n",
       "    </tr>\n",
       "    <tr>\n",
       "      <th>...</th>\n",
       "      <td>...</td>\n",
       "      <td>...</td>\n",
       "      <td>...</td>\n",
       "      <td>...</td>\n",
       "      <td>...</td>\n",
       "      <td>...</td>\n",
       "      <td>...</td>\n",
       "      <td>...</td>\n",
       "      <td>...</td>\n",
       "      <td>...</td>\n",
       "    </tr>\n",
       "    <tr>\n",
       "      <th>886</th>\n",
       "      <td>15887</td>\n",
       "      <td>0</td>\n",
       "      <td>12</td>\n",
       "      <td>male</td>\n",
       "      <td>27.0</td>\n",
       "      <td>0</td>\n",
       "      <td>0</td>\n",
       "      <td>26.0000</td>\n",
       "      <td>9b2d5b4678781e53038e91ea5324530a03f27dc1d0e5f6...</td>\n",
       "      <td>Helsinki</td>\n",
       "    </tr>\n",
       "    <tr>\n",
       "      <th>887</th>\n",
       "      <td>15888</td>\n",
       "      <td>1</td>\n",
       "      <td>11</td>\n",
       "      <td>female</td>\n",
       "      <td>19.0</td>\n",
       "      <td>0</td>\n",
       "      <td>0</td>\n",
       "      <td>60.0000</td>\n",
       "      <td>72294ba1616ddcaee48e56501040e876d26bd0c1839f3c...</td>\n",
       "      <td>Helsinki</td>\n",
       "    </tr>\n",
       "    <tr>\n",
       "      <th>888</th>\n",
       "      <td>15889</td>\n",
       "      <td>0</td>\n",
       "      <td>13</td>\n",
       "      <td>female</td>\n",
       "      <td>NaN</td>\n",
       "      <td>1</td>\n",
       "      <td>2</td>\n",
       "      <td>46.9000</td>\n",
       "      <td>9b2d5b4678781e53038e91ea5324530a03f27dc1d0e5f6...</td>\n",
       "      <td>Helsinki</td>\n",
       "    </tr>\n",
       "    <tr>\n",
       "      <th>889</th>\n",
       "      <td>15890</td>\n",
       "      <td>1</td>\n",
       "      <td>11</td>\n",
       "      <td>male</td>\n",
       "      <td>26.0</td>\n",
       "      <td>0</td>\n",
       "      <td>0</td>\n",
       "      <td>60.0000</td>\n",
       "      <td>a2b612f45840d6f27b1a73ddae7f50e0bd9c4935903de6...</td>\n",
       "      <td>Tampere</td>\n",
       "    </tr>\n",
       "    <tr>\n",
       "      <th>890</th>\n",
       "      <td>15891</td>\n",
       "      <td>0</td>\n",
       "      <td>13</td>\n",
       "      <td>male</td>\n",
       "      <td>32.0</td>\n",
       "      <td>0</td>\n",
       "      <td>0</td>\n",
       "      <td>15.5000</td>\n",
       "      <td>9b2d5b4678781e53038e91ea5324530a03f27dc1d0e5f6...</td>\n",
       "      <td>Turku</td>\n",
       "    </tr>\n",
       "  </tbody>\n",
       "</table>\n",
       "<p>891 rows × 10 columns</p>\n",
       "</div>"
      ],
      "text/plain": [
       "     customer_id  converted  customer_segment  gender   age  \\\n",
       "0          15001          0                13    male  22.0   \n",
       "1          15002          1                11  female  38.0   \n",
       "2          15003          1                13  female  26.0   \n",
       "3          15004          1                11  female  35.0   \n",
       "4          15005          0                13    male  35.0   \n",
       "..           ...        ...               ...     ...   ...   \n",
       "886        15887          0                12    male  27.0   \n",
       "887        15888          1                11  female  19.0   \n",
       "888        15889          0                13  female   NaN   \n",
       "889        15890          1                11    male  26.0   \n",
       "890        15891          0                13    male  32.0   \n",
       "\n",
       "     related_customers  family_size  initial_fee_level  \\\n",
       "0                    1            0            14.5000   \n",
       "1                    1            0           142.5666   \n",
       "2                    0            0            15.8500   \n",
       "3                    1            0           106.2000   \n",
       "4                    0            0            16.1000   \n",
       "..                 ...          ...                ...   \n",
       "886                  0            0            26.0000   \n",
       "887                  0            0            60.0000   \n",
       "888                  1            2            46.9000   \n",
       "889                  0            0            60.0000   \n",
       "890                  0            0            15.5000   \n",
       "\n",
       "                                     credit_account_id    branch  \n",
       "0    9b2d5b4678781e53038e91ea5324530a03f27dc1d0e5f6...  Helsinki  \n",
       "1    afa2dc179e46e8456ffff9016f91396e9c6adf1fe20d17...   Tampere  \n",
       "2    9b2d5b4678781e53038e91ea5324530a03f27dc1d0e5f6...  Helsinki  \n",
       "3    abefcf257b5d2ff2816a68ec7c84ec8c11e0e0dc4f3425...  Helsinki  \n",
       "4    9b2d5b4678781e53038e91ea5324530a03f27dc1d0e5f6...  Helsinki  \n",
       "..                                                 ...       ...  \n",
       "886  9b2d5b4678781e53038e91ea5324530a03f27dc1d0e5f6...  Helsinki  \n",
       "887  72294ba1616ddcaee48e56501040e876d26bd0c1839f3c...  Helsinki  \n",
       "888  9b2d5b4678781e53038e91ea5324530a03f27dc1d0e5f6...  Helsinki  \n",
       "889  a2b612f45840d6f27b1a73ddae7f50e0bd9c4935903de6...   Tampere  \n",
       "890  9b2d5b4678781e53038e91ea5324530a03f27dc1d0e5f6...     Turku  \n",
       "\n",
       "[891 rows x 10 columns]"
      ]
     },
     "execution_count": 134,
     "metadata": {},
     "output_type": "execute_result"
    }
   ],
   "source": [
    "data = pd.read_csv('DS_customer_data_sample.csv')\n",
    "data"
   ]
  },
  {
   "cell_type": "code",
   "execution_count": 135,
   "id": "d0c02d58",
   "metadata": {},
   "outputs": [
    {
     "data": {
      "text/plain": [
       "891"
      ]
     },
     "execution_count": 135,
     "metadata": {},
     "output_type": "execute_result"
    }
   ],
   "source": [
    "# Are the customers unique or there is repetition of customer id\n",
    "data['customer_id'].nunique()"
   ]
  },
  {
   "cell_type": "code",
   "execution_count": 136,
   "id": "63b0bab0",
   "metadata": {},
   "outputs": [
    {
     "data": {
      "text/plain": [
       "array([13, 11, 12])"
      ]
     },
     "execution_count": 136,
     "metadata": {},
     "output_type": "execute_result"
    }
   ],
   "source": [
    "#Number of Customer Segments\n",
    "data['customer_segment'].unique()"
   ]
  },
  {
   "cell_type": "code",
   "execution_count": 137,
   "id": "95d497fa",
   "metadata": {},
   "outputs": [
    {
     "data": {
      "text/plain": [
       "array(['male', 'female'], dtype=object)"
      ]
     },
     "execution_count": 137,
     "metadata": {},
     "output_type": "execute_result"
    }
   ],
   "source": [
    "#Number of Gender\n",
    "data['gender'].unique()"
   ]
  },
  {
   "cell_type": "code",
   "execution_count": 138,
   "id": "c7ef5948",
   "metadata": {},
   "outputs": [
    {
     "data": {
      "text/plain": [
       "array([1, 0, 3, 4, 2, 5, 8])"
      ]
     },
     "execution_count": 138,
     "metadata": {},
     "output_type": "execute_result"
    }
   ],
   "source": [
    "# Find the number of unique value in related customer\n",
    "data['related_customers'].unique()"
   ]
  },
  {
   "cell_type": "code",
   "execution_count": 139,
   "id": "4b44e490",
   "metadata": {},
   "outputs": [
    {
     "data": {
      "text/plain": [
       "array([1, 0, 3, 4, 2, 5, 8])"
      ]
     },
     "execution_count": 139,
     "metadata": {},
     "output_type": "execute_result"
    }
   ],
   "source": [
    "# Find the number unique Familie size\n",
    "data['related_customers'].unique()"
   ]
  },
  {
   "cell_type": "code",
   "execution_count": 140,
   "id": "64fda02c",
   "metadata": {},
   "outputs": [
    {
     "data": {
      "text/plain": [
       "array(['Helsinki', 'Tampere', 'Turku', nan], dtype=object)"
      ]
     },
     "execution_count": 140,
     "metadata": {},
     "output_type": "execute_result"
    }
   ],
   "source": [
    "# Find the number unique Familie size\n",
    "data['branch'].unique()"
   ]
  },
  {
   "cell_type": "code",
   "execution_count": 141,
   "id": "b160d627",
   "metadata": {},
   "outputs": [],
   "source": [
    "count = 0\n",
    "\n",
    "if (data['credit_account_id'] == '9b2d5b4678781e53038e91ea5324530a03f27dc1d0e5f6c9bc9d493a23be9de0') is True:\n",
    "    count = count+1\n",
    "    print(count)"
   ]
  },
  {
   "cell_type": "code",
   "execution_count": 142,
   "id": "e5eb2a2d",
   "metadata": {},
   "outputs": [
    {
     "data": {
      "text/plain": [
       "customer_id            0\n",
       "converted              0\n",
       "customer_segment       0\n",
       "gender                 0\n",
       "age                  177\n",
       "related_customers      0\n",
       "family_size            0\n",
       "initial_fee_level      0\n",
       "credit_account_id      0\n",
       "branch                 2\n",
       "dtype: int64"
      ]
     },
     "execution_count": 142,
     "metadata": {},
     "output_type": "execute_result"
    }
   ],
   "source": [
    "#Check for na in dataset\n",
    "data.isna().sum()"
   ]
  },
  {
   "cell_type": "code",
   "execution_count": 143,
   "id": "420ad71a",
   "metadata": {},
   "outputs": [
    {
     "data": {
      "text/html": [
       "<div>\n",
       "<style scoped>\n",
       "    .dataframe tbody tr th:only-of-type {\n",
       "        vertical-align: middle;\n",
       "    }\n",
       "\n",
       "    .dataframe tbody tr th {\n",
       "        vertical-align: top;\n",
       "    }\n",
       "\n",
       "    .dataframe thead th {\n",
       "        text-align: right;\n",
       "    }\n",
       "</style>\n",
       "<table border=\"1\" class=\"dataframe\">\n",
       "  <thead>\n",
       "    <tr style=\"text-align: right;\">\n",
       "      <th></th>\n",
       "      <th>customer_id</th>\n",
       "      <th>converted</th>\n",
       "      <th>customer_segment</th>\n",
       "      <th>gender</th>\n",
       "      <th>age</th>\n",
       "      <th>related_customers</th>\n",
       "      <th>family_size</th>\n",
       "      <th>initial_fee_level</th>\n",
       "      <th>credit_account_id</th>\n",
       "      <th>branch</th>\n",
       "    </tr>\n",
       "  </thead>\n",
       "  <tbody>\n",
       "    <tr>\n",
       "      <th>0</th>\n",
       "      <td>15001</td>\n",
       "      <td>0</td>\n",
       "      <td>13</td>\n",
       "      <td>male</td>\n",
       "      <td>22.0</td>\n",
       "      <td>1</td>\n",
       "      <td>0</td>\n",
       "      <td>14.5000</td>\n",
       "      <td>9b2d5b4678781e53038e91ea5324530a03f27dc1d0e5f6...</td>\n",
       "      <td>Helsinki</td>\n",
       "    </tr>\n",
       "    <tr>\n",
       "      <th>1</th>\n",
       "      <td>15002</td>\n",
       "      <td>1</td>\n",
       "      <td>11</td>\n",
       "      <td>female</td>\n",
       "      <td>38.0</td>\n",
       "      <td>1</td>\n",
       "      <td>0</td>\n",
       "      <td>142.5666</td>\n",
       "      <td>afa2dc179e46e8456ffff9016f91396e9c6adf1fe20d17...</td>\n",
       "      <td>Tampere</td>\n",
       "    </tr>\n",
       "    <tr>\n",
       "      <th>2</th>\n",
       "      <td>15003</td>\n",
       "      <td>1</td>\n",
       "      <td>13</td>\n",
       "      <td>female</td>\n",
       "      <td>26.0</td>\n",
       "      <td>0</td>\n",
       "      <td>0</td>\n",
       "      <td>15.8500</td>\n",
       "      <td>9b2d5b4678781e53038e91ea5324530a03f27dc1d0e5f6...</td>\n",
       "      <td>Helsinki</td>\n",
       "    </tr>\n",
       "    <tr>\n",
       "      <th>3</th>\n",
       "      <td>15004</td>\n",
       "      <td>1</td>\n",
       "      <td>11</td>\n",
       "      <td>female</td>\n",
       "      <td>35.0</td>\n",
       "      <td>1</td>\n",
       "      <td>0</td>\n",
       "      <td>106.2000</td>\n",
       "      <td>abefcf257b5d2ff2816a68ec7c84ec8c11e0e0dc4f3425...</td>\n",
       "      <td>Helsinki</td>\n",
       "    </tr>\n",
       "    <tr>\n",
       "      <th>4</th>\n",
       "      <td>15005</td>\n",
       "      <td>0</td>\n",
       "      <td>13</td>\n",
       "      <td>male</td>\n",
       "      <td>35.0</td>\n",
       "      <td>0</td>\n",
       "      <td>0</td>\n",
       "      <td>16.1000</td>\n",
       "      <td>9b2d5b4678781e53038e91ea5324530a03f27dc1d0e5f6...</td>\n",
       "      <td>Helsinki</td>\n",
       "    </tr>\n",
       "    <tr>\n",
       "      <th>...</th>\n",
       "      <td>...</td>\n",
       "      <td>...</td>\n",
       "      <td>...</td>\n",
       "      <td>...</td>\n",
       "      <td>...</td>\n",
       "      <td>...</td>\n",
       "      <td>...</td>\n",
       "      <td>...</td>\n",
       "      <td>...</td>\n",
       "      <td>...</td>\n",
       "    </tr>\n",
       "    <tr>\n",
       "      <th>885</th>\n",
       "      <td>15886</td>\n",
       "      <td>0</td>\n",
       "      <td>13</td>\n",
       "      <td>female</td>\n",
       "      <td>39.0</td>\n",
       "      <td>0</td>\n",
       "      <td>5</td>\n",
       "      <td>58.2500</td>\n",
       "      <td>9b2d5b4678781e53038e91ea5324530a03f27dc1d0e5f6...</td>\n",
       "      <td>Turku</td>\n",
       "    </tr>\n",
       "    <tr>\n",
       "      <th>886</th>\n",
       "      <td>15887</td>\n",
       "      <td>0</td>\n",
       "      <td>12</td>\n",
       "      <td>male</td>\n",
       "      <td>27.0</td>\n",
       "      <td>0</td>\n",
       "      <td>0</td>\n",
       "      <td>26.0000</td>\n",
       "      <td>9b2d5b4678781e53038e91ea5324530a03f27dc1d0e5f6...</td>\n",
       "      <td>Helsinki</td>\n",
       "    </tr>\n",
       "    <tr>\n",
       "      <th>887</th>\n",
       "      <td>15888</td>\n",
       "      <td>1</td>\n",
       "      <td>11</td>\n",
       "      <td>female</td>\n",
       "      <td>19.0</td>\n",
       "      <td>0</td>\n",
       "      <td>0</td>\n",
       "      <td>60.0000</td>\n",
       "      <td>72294ba1616ddcaee48e56501040e876d26bd0c1839f3c...</td>\n",
       "      <td>Helsinki</td>\n",
       "    </tr>\n",
       "    <tr>\n",
       "      <th>889</th>\n",
       "      <td>15890</td>\n",
       "      <td>1</td>\n",
       "      <td>11</td>\n",
       "      <td>male</td>\n",
       "      <td>26.0</td>\n",
       "      <td>0</td>\n",
       "      <td>0</td>\n",
       "      <td>60.0000</td>\n",
       "      <td>a2b612f45840d6f27b1a73ddae7f50e0bd9c4935903de6...</td>\n",
       "      <td>Tampere</td>\n",
       "    </tr>\n",
       "    <tr>\n",
       "      <th>890</th>\n",
       "      <td>15891</td>\n",
       "      <td>0</td>\n",
       "      <td>13</td>\n",
       "      <td>male</td>\n",
       "      <td>32.0</td>\n",
       "      <td>0</td>\n",
       "      <td>0</td>\n",
       "      <td>15.5000</td>\n",
       "      <td>9b2d5b4678781e53038e91ea5324530a03f27dc1d0e5f6...</td>\n",
       "      <td>Turku</td>\n",
       "    </tr>\n",
       "  </tbody>\n",
       "</table>\n",
       "<p>712 rows × 10 columns</p>\n",
       "</div>"
      ],
      "text/plain": [
       "     customer_id  converted  customer_segment  gender   age  \\\n",
       "0          15001          0                13    male  22.0   \n",
       "1          15002          1                11  female  38.0   \n",
       "2          15003          1                13  female  26.0   \n",
       "3          15004          1                11  female  35.0   \n",
       "4          15005          0                13    male  35.0   \n",
       "..           ...        ...               ...     ...   ...   \n",
       "885        15886          0                13  female  39.0   \n",
       "886        15887          0                12    male  27.0   \n",
       "887        15888          1                11  female  19.0   \n",
       "889        15890          1                11    male  26.0   \n",
       "890        15891          0                13    male  32.0   \n",
       "\n",
       "     related_customers  family_size  initial_fee_level  \\\n",
       "0                    1            0            14.5000   \n",
       "1                    1            0           142.5666   \n",
       "2                    0            0            15.8500   \n",
       "3                    1            0           106.2000   \n",
       "4                    0            0            16.1000   \n",
       "..                 ...          ...                ...   \n",
       "885                  0            5            58.2500   \n",
       "886                  0            0            26.0000   \n",
       "887                  0            0            60.0000   \n",
       "889                  0            0            60.0000   \n",
       "890                  0            0            15.5000   \n",
       "\n",
       "                                     credit_account_id    branch  \n",
       "0    9b2d5b4678781e53038e91ea5324530a03f27dc1d0e5f6...  Helsinki  \n",
       "1    afa2dc179e46e8456ffff9016f91396e9c6adf1fe20d17...   Tampere  \n",
       "2    9b2d5b4678781e53038e91ea5324530a03f27dc1d0e5f6...  Helsinki  \n",
       "3    abefcf257b5d2ff2816a68ec7c84ec8c11e0e0dc4f3425...  Helsinki  \n",
       "4    9b2d5b4678781e53038e91ea5324530a03f27dc1d0e5f6...  Helsinki  \n",
       "..                                                 ...       ...  \n",
       "885  9b2d5b4678781e53038e91ea5324530a03f27dc1d0e5f6...     Turku  \n",
       "886  9b2d5b4678781e53038e91ea5324530a03f27dc1d0e5f6...  Helsinki  \n",
       "887  72294ba1616ddcaee48e56501040e876d26bd0c1839f3c...  Helsinki  \n",
       "889  a2b612f45840d6f27b1a73ddae7f50e0bd9c4935903de6...   Tampere  \n",
       "890  9b2d5b4678781e53038e91ea5324530a03f27dc1d0e5f6...     Turku  \n",
       "\n",
       "[712 rows x 10 columns]"
      ]
     },
     "execution_count": 143,
     "metadata": {},
     "output_type": "execute_result"
    }
   ],
   "source": [
    "#Remove the na rows\n",
    "clean_data = data.dropna()\n",
    "clean_data"
   ]
  },
  {
   "cell_type": "code",
   "execution_count": 146,
   "id": "246fe4a7",
   "metadata": {},
   "outputs": [
    {
     "data": {
      "application/vnd.plotly.v1+json": {
       "config": {
        "plotlyServerURL": "https://plot.ly"
       },
       "data": [
        {
         "domain": {
          "x": [
           0,
           1
          ],
          "y": [
           0,
           1
          ]
         },
         "hovertemplate": "branch=%{label}<br>initial_fee_level=%{value}<extra></extra>",
         "labels": [
          "Helsinki",
          "Tampere",
          "Helsinki",
          "Helsinki",
          "Helsinki",
          "Helsinki",
          "Helsinki",
          "Helsinki",
          "Tampere",
          "Helsinki",
          "Helsinki",
          "Helsinki",
          "Helsinki",
          "Helsinki",
          "Helsinki",
          "Turku",
          "Helsinki",
          "Helsinki",
          "Helsinki",
          "Turku",
          "Helsinki",
          "Helsinki",
          "Helsinki",
          "Helsinki",
          "Tampere",
          "Helsinki",
          "Tampere",
          "Helsinki",
          "Helsinki",
          "Helsinki",
          "Tampere",
          "Helsinki",
          "Helsinki",
          "Tampere",
          "Turku",
          "Helsinki",
          "Helsinki",
          "Helsinki",
          "Tampere",
          "Helsinki",
          "Tampere",
          "Helsinki",
          "Tampere",
          "Helsinki",
          "Helsinki",
          "Tampere",
          "Helsinki",
          "Helsinki",
          "Helsinki",
          "Helsinki",
          "Helsinki",
          "Helsinki",
          "Helsinki",
          "Helsinki",
          "Helsinki",
          "Tampere",
          "Helsinki",
          "Helsinki",
          "Helsinki",
          "Helsinki",
          "Helsinki",
          "Helsinki",
          "Helsinki",
          "Helsinki",
          "Helsinki",
          "Helsinki",
          "Helsinki",
          "Helsinki",
          "Helsinki",
          "Helsinki",
          "Helsinki",
          "Helsinki",
          "Helsinki",
          "Tampere",
          "Tampere",
          "Helsinki",
          "Helsinki",
          "Helsinki",
          "Helsinki",
          "Helsinki",
          "Helsinki",
          "Helsinki",
          "Helsinki",
          "Helsinki",
          "Helsinki",
          "Tampere",
          "Helsinki",
          "Helsinki",
          "Tampere",
          "Helsinki",
          "Turku",
          "Helsinki",
          "Tampere",
          "Helsinki",
          "Helsinki",
          "Tampere",
          "Helsinki",
          "Helsinki",
          "Tampere",
          "Helsinki",
          "Helsinki",
          "Tampere",
          "Helsinki",
          "Helsinki",
          "Helsinki",
          "Helsinki",
          "Tampere",
          "Helsinki",
          "Helsinki",
          "Helsinki",
          "Tampere",
          "Helsinki",
          "Helsinki",
          "Turku",
          "Helsinki",
          "Helsinki",
          "Helsinki",
          "Helsinki",
          "Helsinki",
          "Helsinki",
          "Helsinki",
          "Helsinki",
          "Helsinki",
          "Helsinki",
          "Tampere",
          "Turku",
          "Helsinki",
          "Helsinki",
          "Helsinki",
          "Helsinki",
          "Helsinki",
          "Helsinki",
          "Helsinki",
          "Helsinki",
          "Helsinki",
          "Helsinki",
          "Turku",
          "Helsinki",
          "Helsinki",
          "Tampere",
          "Helsinki",
          "Tampere",
          "Helsinki",
          "Helsinki",
          "Helsinki",
          "Helsinki",
          "Helsinki",
          "Helsinki",
          "Turku",
          "Helsinki",
          "Helsinki",
          "Helsinki",
          "Helsinki",
          "Helsinki",
          "Tampere",
          "Tampere",
          "Helsinki",
          "Helsinki",
          "Helsinki",
          "Helsinki",
          "Tampere",
          "Helsinki",
          "Helsinki",
          "Helsinki",
          "Tampere",
          "Turku",
          "Tampere",
          "Helsinki",
          "Helsinki",
          "Helsinki",
          "Helsinki",
          "Tampere",
          "Helsinki",
          "Helsinki",
          "Tampere",
          "Helsinki",
          "Helsinki",
          "Helsinki",
          "Helsinki",
          "Helsinki",
          "Helsinki",
          "Helsinki",
          "Helsinki",
          "Helsinki",
          "Helsinki",
          "Helsinki",
          "Helsinki",
          "Helsinki",
          "Helsinki",
          "Helsinki",
          "Helsinki",
          "Helsinki",
          "Helsinki",
          "Helsinki",
          "Helsinki",
          "Tampere",
          "Turku",
          "Helsinki",
          "Helsinki",
          "Helsinki",
          "Helsinki",
          "Helsinki",
          "Helsinki",
          "Helsinki",
          "Helsinki",
          "Tampere",
          "Helsinki",
          "Tampere",
          "Helsinki",
          "Helsinki",
          "Helsinki",
          "Helsinki",
          "Helsinki",
          "Helsinki",
          "Helsinki",
          "Helsinki",
          "Helsinki",
          "Helsinki",
          "Helsinki",
          "Tampere",
          "Helsinki",
          "Helsinki",
          "Turku",
          "Helsinki",
          "Turku",
          "Helsinki",
          "Helsinki",
          "Helsinki",
          "Tampere",
          "Helsinki",
          "Helsinki",
          "Helsinki",
          "Turku",
          "Helsinki",
          "Tampere",
          "Tampere",
          "Helsinki",
          "Helsinki",
          "Tampere",
          "Helsinki",
          "Tampere",
          "Helsinki",
          "Helsinki",
          "Tampere",
          "Tampere",
          "Tampere",
          "Tampere",
          "Tampere",
          "Helsinki",
          "Helsinki",
          "Helsinki",
          "Helsinki",
          "Helsinki",
          "Helsinki",
          "Helsinki",
          "Tampere",
          "Helsinki",
          "Helsinki",
          "Turku",
          "Helsinki",
          "Tampere",
          "Helsinki",
          "Helsinki",
          "Helsinki",
          "Tampere",
          "Helsinki",
          "Helsinki",
          "Helsinki",
          "Helsinki",
          "Tampere",
          "Helsinki",
          "Helsinki",
          "Helsinki",
          "Helsinki",
          "Helsinki",
          "Helsinki",
          "Helsinki",
          "Helsinki",
          "Helsinki",
          "Helsinki",
          "Helsinki",
          "Helsinki",
          "Tampere",
          "Helsinki",
          "Helsinki",
          "Helsinki",
          "Helsinki",
          "Helsinki",
          "Tampere",
          "Tampere",
          "Helsinki",
          "Helsinki",
          "Tampere",
          "Tampere",
          "Tampere",
          "Helsinki",
          "Helsinki",
          "Tampere",
          "Helsinki",
          "Helsinki",
          "Tampere",
          "Tampere",
          "Helsinki",
          "Tampere",
          "Tampere",
          "Helsinki",
          "Helsinki",
          "Helsinki",
          "Helsinki",
          "Helsinki",
          "Tampere",
          "Helsinki",
          "Helsinki",
          "Helsinki",
          "Tampere",
          "Helsinki",
          "Helsinki",
          "Helsinki",
          "Helsinki",
          "Helsinki",
          "Helsinki",
          "Helsinki",
          "Helsinki",
          "Helsinki",
          "Helsinki",
          "Helsinki",
          "Helsinki",
          "Helsinki",
          "Helsinki",
          "Helsinki",
          "Turku",
          "Helsinki",
          "Helsinki",
          "Helsinki",
          "Helsinki",
          "Helsinki",
          "Turku",
          "Helsinki",
          "Helsinki",
          "Helsinki",
          "Helsinki",
          "Helsinki",
          "Helsinki",
          "Helsinki",
          "Helsinki",
          "Helsinki",
          "Helsinki",
          "Helsinki",
          "Helsinki",
          "Helsinki",
          "Helsinki",
          "Helsinki",
          "Helsinki",
          "Helsinki",
          "Helsinki",
          "Helsinki",
          "Helsinki",
          "Helsinki",
          "Helsinki",
          "Tampere",
          "Helsinki",
          "Helsinki",
          "Tampere",
          "Tampere",
          "Tampere",
          "Helsinki",
          "Helsinki",
          "Helsinki",
          "Helsinki",
          "Helsinki",
          "Helsinki",
          "Helsinki",
          "Helsinki",
          "Tampere",
          "Helsinki",
          "Helsinki",
          "Tampere",
          "Helsinki",
          "Helsinki",
          "Helsinki",
          "Helsinki",
          "Helsinki",
          "Helsinki",
          "Helsinki",
          "Helsinki",
          "Tampere",
          "Helsinki",
          "Tampere",
          "Helsinki",
          "Helsinki",
          "Helsinki",
          "Helsinki",
          "Tampere",
          "Helsinki",
          "Tampere",
          "Helsinki",
          "Helsinki",
          "Helsinki",
          "Turku",
          "Helsinki",
          "Helsinki",
          "Tampere",
          "Helsinki",
          "Helsinki",
          "Helsinki",
          "Turku",
          "Helsinki",
          "Tampere",
          "Helsinki",
          "Helsinki",
          "Helsinki",
          "Helsinki",
          "Helsinki",
          "Helsinki",
          "Helsinki",
          "Tampere",
          "Turku",
          "Helsinki",
          "Helsinki",
          "Helsinki",
          "Helsinki",
          "Tampere",
          "Helsinki",
          "Helsinki",
          "Helsinki",
          "Tampere",
          "Tampere",
          "Helsinki",
          "Helsinki",
          "Helsinki",
          "Helsinki",
          "Tampere",
          "Helsinki",
          "Helsinki",
          "Helsinki",
          "Helsinki",
          "Tampere",
          "Helsinki",
          "Tampere",
          "Helsinki",
          "Helsinki",
          "Tampere",
          "Helsinki",
          "Helsinki",
          "Helsinki",
          "Helsinki",
          "Helsinki",
          "Helsinki",
          "Helsinki",
          "Helsinki",
          "Helsinki",
          "Helsinki",
          "Helsinki",
          "Helsinki",
          "Helsinki",
          "Helsinki",
          "Helsinki",
          "Helsinki",
          "Helsinki",
          "Tampere",
          "Helsinki",
          "Tampere",
          "Helsinki",
          "Helsinki",
          "Tampere",
          "Helsinki",
          "Helsinki",
          "Tampere",
          "Helsinki",
          "Helsinki",
          "Helsinki",
          "Helsinki",
          "Tampere",
          "Helsinki",
          "Helsinki",
          "Tampere",
          "Helsinki",
          "Helsinki",
          "Helsinki",
          "Tampere",
          "Helsinki",
          "Helsinki",
          "Helsinki",
          "Helsinki",
          "Helsinki",
          "Helsinki",
          "Helsinki",
          "Helsinki",
          "Tampere",
          "Helsinki",
          "Tampere",
          "Helsinki",
          "Helsinki",
          "Helsinki",
          "Turku",
          "Helsinki",
          "Helsinki",
          "Helsinki",
          "Helsinki",
          "Tampere",
          "Helsinki",
          "Helsinki",
          "Helsinki",
          "Helsinki",
          "Helsinki",
          "Helsinki",
          "Tampere",
          "Helsinki",
          "Tampere",
          "Tampere",
          "Helsinki",
          "Tampere",
          "Helsinki",
          "Helsinki",
          "Helsinki",
          "Turku",
          "Helsinki",
          "Turku",
          "Helsinki",
          "Tampere",
          "Helsinki",
          "Tampere",
          "Helsinki",
          "Helsinki",
          "Helsinki",
          "Helsinki",
          "Helsinki",
          "Helsinki",
          "Helsinki",
          "Helsinki",
          "Helsinki",
          "Helsinki",
          "Helsinki",
          "Helsinki",
          "Helsinki",
          "Helsinki",
          "Tampere",
          "Tampere",
          "Helsinki",
          "Helsinki",
          "Helsinki",
          "Tampere",
          "Helsinki",
          "Helsinki",
          "Helsinki",
          "Helsinki",
          "Helsinki",
          "Tampere",
          "Tampere",
          "Helsinki",
          "Helsinki",
          "Helsinki",
          "Tampere",
          "Helsinki",
          "Tampere",
          "Helsinki",
          "Tampere",
          "Turku",
          "Helsinki",
          "Helsinki",
          "Helsinki",
          "Helsinki",
          "Helsinki",
          "Tampere",
          "Helsinki",
          "Helsinki",
          "Helsinki",
          "Helsinki",
          "Tampere",
          "Helsinki",
          "Helsinki",
          "Helsinki",
          "Helsinki",
          "Helsinki",
          "Helsinki",
          "Helsinki",
          "Helsinki",
          "Helsinki",
          "Helsinki",
          "Helsinki",
          "Helsinki",
          "Tampere",
          "Helsinki",
          "Helsinki",
          "Helsinki",
          "Helsinki",
          "Tampere",
          "Helsinki",
          "Tampere",
          "Helsinki",
          "Helsinki",
          "Helsinki",
          "Helsinki",
          "Helsinki",
          "Helsinki",
          "Turku",
          "Helsinki",
          "Helsinki",
          "Helsinki",
          "Helsinki",
          "Helsinki",
          "Helsinki",
          "Helsinki",
          "Helsinki",
          "Helsinki",
          "Helsinki",
          "Helsinki",
          "Tampere",
          "Helsinki",
          "Helsinki",
          "Helsinki",
          "Turku",
          "Helsinki",
          "Helsinki",
          "Helsinki",
          "Helsinki",
          "Helsinki",
          "Helsinki",
          "Helsinki",
          "Helsinki",
          "Tampere",
          "Helsinki",
          "Helsinki",
          "Helsinki",
          "Helsinki",
          "Helsinki",
          "Turku",
          "Helsinki",
          "Tampere",
          "Helsinki",
          "Helsinki",
          "Helsinki",
          "Helsinki",
          "Helsinki",
          "Tampere",
          "Helsinki",
          "Helsinki",
          "Helsinki",
          "Helsinki",
          "Tampere",
          "Helsinki",
          "Helsinki",
          "Helsinki",
          "Helsinki",
          "Helsinki",
          "Helsinki",
          "Helsinki",
          "Helsinki",
          "Helsinki",
          "Helsinki",
          "Helsinki",
          "Helsinki",
          "Tampere",
          "Helsinki",
          "Helsinki",
          "Helsinki",
          "Helsinki",
          "Helsinki",
          "Helsinki",
          "Helsinki",
          "Tampere",
          "Tampere",
          "Helsinki",
          "Helsinki",
          "Helsinki",
          "Tampere",
          "Helsinki",
          "Helsinki",
          "Helsinki",
          "Helsinki",
          "Tampere",
          "Tampere",
          "Helsinki",
          "Helsinki",
          "Tampere",
          "Helsinki",
          "Helsinki",
          "Helsinki",
          "Tampere",
          "Helsinki",
          "Helsinki",
          "Helsinki",
          "Helsinki",
          "Helsinki",
          "Tampere",
          "Helsinki",
          "Helsinki",
          "Helsinki",
          "Helsinki",
          "Helsinki",
          "Tampere",
          "Helsinki",
          "Helsinki",
          "Helsinki",
          "Helsinki",
          "Helsinki",
          "Helsinki",
          "Tampere",
          "Tampere",
          "Helsinki",
          "Helsinki",
          "Tampere",
          "Helsinki",
          "Helsinki",
          "Helsinki",
          "Helsinki",
          "Helsinki",
          "Turku",
          "Helsinki",
          "Helsinki",
          "Tampere",
          "Turku"
         ],
         "legendgroup": "",
         "name": "",
         "showlegend": true,
         "type": "pie",
         "values": [
          14.5,
          142.5666,
          15.85,
          106.2,
          16.1,
          103.725,
          42.15,
          22.2666,
          60.1416,
          33.4,
          53.1,
          16.1,
          62.55,
          15.7084,
          32,
          58.25,
          36,
          52,
          26,
          16.0584,
          71,
          42.15,
          62.775,
          526,
          55.4416,
          21,
          164.3416,
          104,
          16.1,
          36,
          22.4834,
          18.95,
          42,
          83.1584,
          15.7584,
          35.6,
          79.375,
          15.6,
          153.4584,
          52,
          123.9584,
          21,
          14.4584,
          55.5,
          93.8,
          14.4584,
          166.95,
          55.8,
          21,
          16.3166,
          15.85,
          17.325,
          21,
          93.8,
          147,
          28.9084,
          112.9916,
          15.3,
          58,
          24.95,
          18,
          19,
          94.2,
          21,
          31.7,
          68.75,
          526,
          16.1,
          16.1,
          15.7084,
          122.35,
          41.15,
          14.5,
          69.3084,
          126.7166,
          46,
          52,
          15.7916,
          154.575,
          17.3084,
          15.85,
          15.7916,
          15.3,
          15.7916,
          104,
          28.9084,
          16.1,
          19.65,
          28.9166,
          15.85,
          15.5,
          42,
          495.0416,
          62.55,
          147,
          60.1416,
          26,
          154.575,
          22.4834,
          14.2834,
          13.95,
          15.7916,
          14.1,
          29,
          52,
          26,
          30.0916,
          52.5666,
          106.2,
          18.4334,
          158.4,
          15.5,
          31.7,
          13.5,
          23,
          73.5,
          15.5916,
          68.75,
          52,
          26,
          25.05,
          133.2,
          16.1,
          29,
          122.7584,
          15.4666,
          16.1,
          32.2,
          31.5,
          15.55,
          17.325,
          79.375,
          41.05,
          55.8,
          112.9916,
          67,
          58.25,
          22.2666,
          15.85,
          61.3916,
          15.7084,
          57.425,
          26,
          0,
          62.775,
          78,
          44.05,
          53.1,
          31,
          15.7916,
          26,
          26,
          15.7084,
          52,
          55.4416,
          293.0416,
          16.8084,
          26,
          19,
          12.9916,
          14.45,
          16.1,
          20.925,
          31.7,
          37.575,
          15.5,
          62,
          14.1,
          42,
          14.5,
          26,
          226.55,
          15.85,
          54,
          152.5834,
          21,
          16.1,
          26,
          16.1,
          180,
          18.7,
          21,
          14.5,
          26,
          166.95,
          15.55,
          27,
          62.775,
          21,
          52,
          52.5,
          21,
          24.55,
          21,
          14.25,
          14.45,
          180,
          15.55,
          29,
          105.1084,
          52,
          20.925,
          53.1,
          32.2,
          40.425,
          30.4916,
          173,
          1024.6584,
          52,
          62.775,
          159.3,
          0,
          21,
          79.375,
          15.55,
          306.925,
          271.2666,
          0,
          39,
          59.4,
          155.9166,
          15.5,
          58.25,
          40.5,
          15.5,
          15.7084,
          19,
          16.1,
          17.325,
          19,
          15.7916,
          26,
          15.5,
          157.7,
          182.1584,
          25.75,
          17.7,
          15.7916,
          14.4584,
          303.1,
          495.0416,
          0,
          303.1,
          217.8,
          48,
          113.8584,
          166.3166,
          524.75,
          52,
          15.7916,
          52.5,
          15.7084,
          52,
          28,
          329.7334,
          269,
          14.5,
          15.7916,
          24.7,
          58,
          271.2666,
          12.475,
          26,
          41.05,
          115.9584,
          57,
          306.925,
          36,
          133.2,
          269,
          16.1,
          71,
          52,
          526,
          26,
          26,
          26,
          26,
          26,
          31.8,
          17.325,
          18.45,
          14.4584,
          35.6,
          19,
          110,
          26,
          55.8,
          55.4416,
          28.9084,
          14.1,
          14.5,
          150.5,
          138.6,
          110.8834,
          12.9916,
          16.1,
          271.2666,
          42.15,
          14.5,
          423,
          8.025,
          15.55,
          455.05,
          31.4834,
          15.85,
          104,
          147,
          93.8,
          26,
          24,
          240,
          15.5916,
          15.85,
          226.55,
          33.4,
          15.5916,
          15.7084,
          52,
          21,
          25.3,
          15.85,
          16.1,
          19.65,
          31.7,
          17.325,
          42,
          15.5,
          37.5,
          15.55,
          180,
          15.85,
          65,
          26,
          26,
          48.3,
          15.4666,
          15.75,
          28.8,
          40.425,
          52,
          52,
          16.1,
          53.1,
          52,
          14.25,
          111.8,
          240,
          68.75,
          37.5,
          526,
          21,
          52.5,
          19,
          15.55,
          26,
          163.7166,
          39,
          53.1,
          38.5166,
          61,
          55.5,
          55.5,
          178.2084,
          15.7916,
          53.1,
          21,
          53.1,
          16.1,
          77,
          26,
          14.1,
          53.1,
          38.5166,
          17.325,
          55.5,
          27.5834,
          19.675,
          42,
          14.0916,
          15.0416,
          24.575,
          93.8,
          16.1,
          19.175,
          182.1584,
          180,
          59.4,
          16.1,
          31.8,
          14.5,
          61,
          99.0084,
          16.1,
          156.5334,
          303.1,
          15.5916,
          17.325,
          15.5,
          19.175,
          173,
          217.8,
          52,
          45.05,
          112.9916,
          15.5,
          52.575,
          118.8,
          14.9916,
          68.0416,
          21,
          52,
          15.7916,
          187,
          15.7916,
          115.9584,
          15.5,
          21,
          15.85,
          23,
          52,
          14.4584,
          17.325,
          52.5,
          53.1,
          212.85,
          99,
          142,
          62.55,
          62.55,
          52,
          212.85,
          52,
          52,
          41.05,
          73.5,
          221.7666,
          52,
          14.45,
          15.55,
          53.1,
          79.2,
          159.3,
          34.8,
          15.7916,
          27,
          48.3,
          15.7916,
          42.15,
          15.7084,
          21,
          102.9584,
          52.775,
          16.1,
          29,
          26,
          111.8,
          15.85,
          60,
          221.7666,
          52,
          80.25,
          159.3,
          30,
          158.4,
          16.1,
          14.25,
          156.5334,
          14.5,
          52,
          48.3,
          0,
          113.8584,
          54,
          16.1,
          53.1,
          31.1,
          15.7916,
          61,
          83.1584,
          306.925,
          62.55,
          16.1,
          130,
          28.8,
          32.2,
          78,
          21,
          28.9084,
          105.1084,
          31.4834,
          15.7084,
          32.2,
          64.6416,
          24.7,
          155.9166,
          15.7916,
          60,
          14.1084,
          61,
          55.8,
          26,
          15.85,
          52.5,
          79.375,
          15.7084,
          138.6,
          55.8,
          38.5166,
          153.4584,
          15.7916,
          71,
          15.1,
          46,
          16.8666,
          13.5,
          147,
          31,
          26,
          226.55,
          267.3,
          14.45,
          51.175,
          14.9916,
          15.85,
          147,
          26,
          16.1,
          78,
          104,
          21,
          26,
          15.55,
          16.1,
          19.6834,
          93.8,
          1024.6584,
          153.4584,
          18.45,
          93.8,
          78,
          83.1584,
          79.375,
          20.3416,
          15.5916,
          422.675,
          114,
          26.8334,
          14.45,
          53.1,
          27,
          16.1,
          221.7666,
          15.3,
          455.05,
          52.575,
          28.9084,
          15.4834,
          15.7084,
          52,
          27,
          52.575,
          303.1,
          99.0084,
          104,
          18.9666,
          26,
          15.3,
          455.05,
          21,
          15.55,
          66,
          14.1084,
          26,
          26,
          106.2,
          17.325,
          42,
          52,
          15.85,
          422.675,
          37.575,
          26,
          26,
          32.2,
          68.75,
          1024.6584,
          157.7,
          524.75,
          32.2,
          15.85,
          142,
          40.5,
          26,
          106.2,
          15.5,
          46,
          24.95,
          19,
          15.7916,
          130,
          29,
          15.5916,
          23,
          16.1,
          173,
          14.25,
          14.4584,
          240,
          15.55,
          155.9166,
          15.5,
          16.725,
          19,
          15.7084,
          21,
          46,
          15.5,
          24.95,
          422.675,
          14.4584,
          114,
          60,
          14.1,
          14.5,
          14.9916,
          58.25,
          41.15,
          158.4,
          52,
          15.7916,
          26,
          51.8584,
          17.3666,
          14.4584,
          48.3,
          26,
          52.5,
          240,
          17.0334,
          13.95,
          15.55,
          0,
          15.55,
          26,
          106.2,
          15.775,
          48.3,
          21,
          62.55,
          16.1,
          15.85,
          74.0084,
          12.9,
          55.8,
          187,
          17.325,
          0,
          24.95,
          79.375,
          74.0084,
          28.9084,
          37.5,
          15.7084,
          16.6,
          166.3166,
          17.325,
          112.9916,
          15.85,
          21,
          62,
          12.875,
          17.325,
          15.1,
          15.7916,
          66,
          62.55,
          15.55,
          30.4916,
          78.8,
          52,
          18.7,
          329.7334,
          53.1,
          38.5166,
          28.2166,
          23,
          51.8584,
          26,
          26,
          27.7166,
          100.9916,
          22.2666,
          15.7916,
          105.1084,
          10,
          18,
          48,
          14.45,
          19.6916,
          15.7916,
          166.3166,
          52,
          15.7916,
          21.0334,
          21,
          14.1,
          58.25,
          26,
          60,
          60,
          15.5
         ]
        }
       ],
       "layout": {
        "height": 400,
        "legend": {
         "tracegroupgap": 0
        },
        "template": {
         "data": {
          "bar": [
           {
            "error_x": {
             "color": "#2a3f5f"
            },
            "error_y": {
             "color": "#2a3f5f"
            },
            "marker": {
             "line": {
              "color": "#E5ECF6",
              "width": 0.5
             },
             "pattern": {
              "fillmode": "overlay",
              "size": 10,
              "solidity": 0.2
             }
            },
            "type": "bar"
           }
          ],
          "barpolar": [
           {
            "marker": {
             "line": {
              "color": "#E5ECF6",
              "width": 0.5
             },
             "pattern": {
              "fillmode": "overlay",
              "size": 10,
              "solidity": 0.2
             }
            },
            "type": "barpolar"
           }
          ],
          "carpet": [
           {
            "aaxis": {
             "endlinecolor": "#2a3f5f",
             "gridcolor": "white",
             "linecolor": "white",
             "minorgridcolor": "white",
             "startlinecolor": "#2a3f5f"
            },
            "baxis": {
             "endlinecolor": "#2a3f5f",
             "gridcolor": "white",
             "linecolor": "white",
             "minorgridcolor": "white",
             "startlinecolor": "#2a3f5f"
            },
            "type": "carpet"
           }
          ],
          "choropleth": [
           {
            "colorbar": {
             "outlinewidth": 0,
             "ticks": ""
            },
            "type": "choropleth"
           }
          ],
          "contour": [
           {
            "colorbar": {
             "outlinewidth": 0,
             "ticks": ""
            },
            "colorscale": [
             [
              0,
              "#0d0887"
             ],
             [
              0.1111111111111111,
              "#46039f"
             ],
             [
              0.2222222222222222,
              "#7201a8"
             ],
             [
              0.3333333333333333,
              "#9c179e"
             ],
             [
              0.4444444444444444,
              "#bd3786"
             ],
             [
              0.5555555555555556,
              "#d8576b"
             ],
             [
              0.6666666666666666,
              "#ed7953"
             ],
             [
              0.7777777777777778,
              "#fb9f3a"
             ],
             [
              0.8888888888888888,
              "#fdca26"
             ],
             [
              1,
              "#f0f921"
             ]
            ],
            "type": "contour"
           }
          ],
          "contourcarpet": [
           {
            "colorbar": {
             "outlinewidth": 0,
             "ticks": ""
            },
            "type": "contourcarpet"
           }
          ],
          "heatmap": [
           {
            "colorbar": {
             "outlinewidth": 0,
             "ticks": ""
            },
            "colorscale": [
             [
              0,
              "#0d0887"
             ],
             [
              0.1111111111111111,
              "#46039f"
             ],
             [
              0.2222222222222222,
              "#7201a8"
             ],
             [
              0.3333333333333333,
              "#9c179e"
             ],
             [
              0.4444444444444444,
              "#bd3786"
             ],
             [
              0.5555555555555556,
              "#d8576b"
             ],
             [
              0.6666666666666666,
              "#ed7953"
             ],
             [
              0.7777777777777778,
              "#fb9f3a"
             ],
             [
              0.8888888888888888,
              "#fdca26"
             ],
             [
              1,
              "#f0f921"
             ]
            ],
            "type": "heatmap"
           }
          ],
          "heatmapgl": [
           {
            "colorbar": {
             "outlinewidth": 0,
             "ticks": ""
            },
            "colorscale": [
             [
              0,
              "#0d0887"
             ],
             [
              0.1111111111111111,
              "#46039f"
             ],
             [
              0.2222222222222222,
              "#7201a8"
             ],
             [
              0.3333333333333333,
              "#9c179e"
             ],
             [
              0.4444444444444444,
              "#bd3786"
             ],
             [
              0.5555555555555556,
              "#d8576b"
             ],
             [
              0.6666666666666666,
              "#ed7953"
             ],
             [
              0.7777777777777778,
              "#fb9f3a"
             ],
             [
              0.8888888888888888,
              "#fdca26"
             ],
             [
              1,
              "#f0f921"
             ]
            ],
            "type": "heatmapgl"
           }
          ],
          "histogram": [
           {
            "marker": {
             "pattern": {
              "fillmode": "overlay",
              "size": 10,
              "solidity": 0.2
             }
            },
            "type": "histogram"
           }
          ],
          "histogram2d": [
           {
            "colorbar": {
             "outlinewidth": 0,
             "ticks": ""
            },
            "colorscale": [
             [
              0,
              "#0d0887"
             ],
             [
              0.1111111111111111,
              "#46039f"
             ],
             [
              0.2222222222222222,
              "#7201a8"
             ],
             [
              0.3333333333333333,
              "#9c179e"
             ],
             [
              0.4444444444444444,
              "#bd3786"
             ],
             [
              0.5555555555555556,
              "#d8576b"
             ],
             [
              0.6666666666666666,
              "#ed7953"
             ],
             [
              0.7777777777777778,
              "#fb9f3a"
             ],
             [
              0.8888888888888888,
              "#fdca26"
             ],
             [
              1,
              "#f0f921"
             ]
            ],
            "type": "histogram2d"
           }
          ],
          "histogram2dcontour": [
           {
            "colorbar": {
             "outlinewidth": 0,
             "ticks": ""
            },
            "colorscale": [
             [
              0,
              "#0d0887"
             ],
             [
              0.1111111111111111,
              "#46039f"
             ],
             [
              0.2222222222222222,
              "#7201a8"
             ],
             [
              0.3333333333333333,
              "#9c179e"
             ],
             [
              0.4444444444444444,
              "#bd3786"
             ],
             [
              0.5555555555555556,
              "#d8576b"
             ],
             [
              0.6666666666666666,
              "#ed7953"
             ],
             [
              0.7777777777777778,
              "#fb9f3a"
             ],
             [
              0.8888888888888888,
              "#fdca26"
             ],
             [
              1,
              "#f0f921"
             ]
            ],
            "type": "histogram2dcontour"
           }
          ],
          "mesh3d": [
           {
            "colorbar": {
             "outlinewidth": 0,
             "ticks": ""
            },
            "type": "mesh3d"
           }
          ],
          "parcoords": [
           {
            "line": {
             "colorbar": {
              "outlinewidth": 0,
              "ticks": ""
             }
            },
            "type": "parcoords"
           }
          ],
          "pie": [
           {
            "automargin": true,
            "type": "pie"
           }
          ],
          "scatter": [
           {
            "marker": {
             "colorbar": {
              "outlinewidth": 0,
              "ticks": ""
             }
            },
            "type": "scatter"
           }
          ],
          "scatter3d": [
           {
            "line": {
             "colorbar": {
              "outlinewidth": 0,
              "ticks": ""
             }
            },
            "marker": {
             "colorbar": {
              "outlinewidth": 0,
              "ticks": ""
             }
            },
            "type": "scatter3d"
           }
          ],
          "scattercarpet": [
           {
            "marker": {
             "colorbar": {
              "outlinewidth": 0,
              "ticks": ""
             }
            },
            "type": "scattercarpet"
           }
          ],
          "scattergeo": [
           {
            "marker": {
             "colorbar": {
              "outlinewidth": 0,
              "ticks": ""
             }
            },
            "type": "scattergeo"
           }
          ],
          "scattergl": [
           {
            "marker": {
             "colorbar": {
              "outlinewidth": 0,
              "ticks": ""
             }
            },
            "type": "scattergl"
           }
          ],
          "scattermapbox": [
           {
            "marker": {
             "colorbar": {
              "outlinewidth": 0,
              "ticks": ""
             }
            },
            "type": "scattermapbox"
           }
          ],
          "scatterpolar": [
           {
            "marker": {
             "colorbar": {
              "outlinewidth": 0,
              "ticks": ""
             }
            },
            "type": "scatterpolar"
           }
          ],
          "scatterpolargl": [
           {
            "marker": {
             "colorbar": {
              "outlinewidth": 0,
              "ticks": ""
             }
            },
            "type": "scatterpolargl"
           }
          ],
          "scatterternary": [
           {
            "marker": {
             "colorbar": {
              "outlinewidth": 0,
              "ticks": ""
             }
            },
            "type": "scatterternary"
           }
          ],
          "surface": [
           {
            "colorbar": {
             "outlinewidth": 0,
             "ticks": ""
            },
            "colorscale": [
             [
              0,
              "#0d0887"
             ],
             [
              0.1111111111111111,
              "#46039f"
             ],
             [
              0.2222222222222222,
              "#7201a8"
             ],
             [
              0.3333333333333333,
              "#9c179e"
             ],
             [
              0.4444444444444444,
              "#bd3786"
             ],
             [
              0.5555555555555556,
              "#d8576b"
             ],
             [
              0.6666666666666666,
              "#ed7953"
             ],
             [
              0.7777777777777778,
              "#fb9f3a"
             ],
             [
              0.8888888888888888,
              "#fdca26"
             ],
             [
              1,
              "#f0f921"
             ]
            ],
            "type": "surface"
           }
          ],
          "table": [
           {
            "cells": {
             "fill": {
              "color": "#EBF0F8"
             },
             "line": {
              "color": "white"
             }
            },
            "header": {
             "fill": {
              "color": "#C8D4E3"
             },
             "line": {
              "color": "white"
             }
            },
            "type": "table"
           }
          ]
         },
         "layout": {
          "annotationdefaults": {
           "arrowcolor": "#2a3f5f",
           "arrowhead": 0,
           "arrowwidth": 1
          },
          "autotypenumbers": "strict",
          "coloraxis": {
           "colorbar": {
            "outlinewidth": 0,
            "ticks": ""
           }
          },
          "colorscale": {
           "diverging": [
            [
             0,
             "#8e0152"
            ],
            [
             0.1,
             "#c51b7d"
            ],
            [
             0.2,
             "#de77ae"
            ],
            [
             0.3,
             "#f1b6da"
            ],
            [
             0.4,
             "#fde0ef"
            ],
            [
             0.5,
             "#f7f7f7"
            ],
            [
             0.6,
             "#e6f5d0"
            ],
            [
             0.7,
             "#b8e186"
            ],
            [
             0.8,
             "#7fbc41"
            ],
            [
             0.9,
             "#4d9221"
            ],
            [
             1,
             "#276419"
            ]
           ],
           "sequential": [
            [
             0,
             "#0d0887"
            ],
            [
             0.1111111111111111,
             "#46039f"
            ],
            [
             0.2222222222222222,
             "#7201a8"
            ],
            [
             0.3333333333333333,
             "#9c179e"
            ],
            [
             0.4444444444444444,
             "#bd3786"
            ],
            [
             0.5555555555555556,
             "#d8576b"
            ],
            [
             0.6666666666666666,
             "#ed7953"
            ],
            [
             0.7777777777777778,
             "#fb9f3a"
            ],
            [
             0.8888888888888888,
             "#fdca26"
            ],
            [
             1,
             "#f0f921"
            ]
           ],
           "sequentialminus": [
            [
             0,
             "#0d0887"
            ],
            [
             0.1111111111111111,
             "#46039f"
            ],
            [
             0.2222222222222222,
             "#7201a8"
            ],
            [
             0.3333333333333333,
             "#9c179e"
            ],
            [
             0.4444444444444444,
             "#bd3786"
            ],
            [
             0.5555555555555556,
             "#d8576b"
            ],
            [
             0.6666666666666666,
             "#ed7953"
            ],
            [
             0.7777777777777778,
             "#fb9f3a"
            ],
            [
             0.8888888888888888,
             "#fdca26"
            ],
            [
             1,
             "#f0f921"
            ]
           ]
          },
          "colorway": [
           "#636efa",
           "#EF553B",
           "#00cc96",
           "#ab63fa",
           "#FFA15A",
           "#19d3f3",
           "#FF6692",
           "#B6E880",
           "#FF97FF",
           "#FECB52"
          ],
          "font": {
           "color": "#2a3f5f"
          },
          "geo": {
           "bgcolor": "white",
           "lakecolor": "white",
           "landcolor": "#E5ECF6",
           "showlakes": true,
           "showland": true,
           "subunitcolor": "white"
          },
          "hoverlabel": {
           "align": "left"
          },
          "hovermode": "closest",
          "mapbox": {
           "style": "light"
          },
          "paper_bgcolor": "white",
          "plot_bgcolor": "#E5ECF6",
          "polar": {
           "angularaxis": {
            "gridcolor": "white",
            "linecolor": "white",
            "ticks": ""
           },
           "bgcolor": "#E5ECF6",
           "radialaxis": {
            "gridcolor": "white",
            "linecolor": "white",
            "ticks": ""
           }
          },
          "scene": {
           "xaxis": {
            "backgroundcolor": "#E5ECF6",
            "gridcolor": "white",
            "gridwidth": 2,
            "linecolor": "white",
            "showbackground": true,
            "ticks": "",
            "zerolinecolor": "white"
           },
           "yaxis": {
            "backgroundcolor": "#E5ECF6",
            "gridcolor": "white",
            "gridwidth": 2,
            "linecolor": "white",
            "showbackground": true,
            "ticks": "",
            "zerolinecolor": "white"
           },
           "zaxis": {
            "backgroundcolor": "#E5ECF6",
            "gridcolor": "white",
            "gridwidth": 2,
            "linecolor": "white",
            "showbackground": true,
            "ticks": "",
            "zerolinecolor": "white"
           }
          },
          "shapedefaults": {
           "line": {
            "color": "#2a3f5f"
           }
          },
          "ternary": {
           "aaxis": {
            "gridcolor": "white",
            "linecolor": "white",
            "ticks": ""
           },
           "baxis": {
            "gridcolor": "white",
            "linecolor": "white",
            "ticks": ""
           },
           "bgcolor": "#E5ECF6",
           "caxis": {
            "gridcolor": "white",
            "linecolor": "white",
            "ticks": ""
           }
          },
          "title": {
           "x": 0.05
          },
          "xaxis": {
           "automargin": true,
           "gridcolor": "white",
           "linecolor": "white",
           "ticks": "",
           "title": {
            "standoff": 15
           },
           "zerolinecolor": "white",
           "zerolinewidth": 2
          },
          "yaxis": {
           "automargin": true,
           "gridcolor": "white",
           "linecolor": "white",
           "ticks": "",
           "title": {
            "standoff": 15
           },
           "zerolinecolor": "white",
           "zerolinewidth": 2
          }
         }
        },
        "title": {
         "text": "Segment by Geography"
        },
        "width": 400
       }
      },
      "text/html": [
       "<div>                            <div id=\"c69aa615-8803-44e3-ba48-65cdec689182\" class=\"plotly-graph-div\" style=\"height:400px; width:400px;\"></div>            <script type=\"text/javascript\">                require([\"plotly\"], function(Plotly) {                    window.PLOTLYENV=window.PLOTLYENV || {};                                    if (document.getElementById(\"c69aa615-8803-44e3-ba48-65cdec689182\")) {                    Plotly.newPlot(                        \"c69aa615-8803-44e3-ba48-65cdec689182\",                        [{\"domain\":{\"x\":[0.0,1.0],\"y\":[0.0,1.0]},\"hovertemplate\":\"branch=%{label}<br>initial_fee_level=%{value}<extra></extra>\",\"labels\":[\"Helsinki\",\"Tampere\",\"Helsinki\",\"Helsinki\",\"Helsinki\",\"Helsinki\",\"Helsinki\",\"Helsinki\",\"Tampere\",\"Helsinki\",\"Helsinki\",\"Helsinki\",\"Helsinki\",\"Helsinki\",\"Helsinki\",\"Turku\",\"Helsinki\",\"Helsinki\",\"Helsinki\",\"Turku\",\"Helsinki\",\"Helsinki\",\"Helsinki\",\"Helsinki\",\"Tampere\",\"Helsinki\",\"Tampere\",\"Helsinki\",\"Helsinki\",\"Helsinki\",\"Tampere\",\"Helsinki\",\"Helsinki\",\"Tampere\",\"Turku\",\"Helsinki\",\"Helsinki\",\"Helsinki\",\"Tampere\",\"Helsinki\",\"Tampere\",\"Helsinki\",\"Tampere\",\"Helsinki\",\"Helsinki\",\"Tampere\",\"Helsinki\",\"Helsinki\",\"Helsinki\",\"Helsinki\",\"Helsinki\",\"Helsinki\",\"Helsinki\",\"Helsinki\",\"Helsinki\",\"Tampere\",\"Helsinki\",\"Helsinki\",\"Helsinki\",\"Helsinki\",\"Helsinki\",\"Helsinki\",\"Helsinki\",\"Helsinki\",\"Helsinki\",\"Helsinki\",\"Helsinki\",\"Helsinki\",\"Helsinki\",\"Helsinki\",\"Helsinki\",\"Helsinki\",\"Helsinki\",\"Tampere\",\"Tampere\",\"Helsinki\",\"Helsinki\",\"Helsinki\",\"Helsinki\",\"Helsinki\",\"Helsinki\",\"Helsinki\",\"Helsinki\",\"Helsinki\",\"Helsinki\",\"Tampere\",\"Helsinki\",\"Helsinki\",\"Tampere\",\"Helsinki\",\"Turku\",\"Helsinki\",\"Tampere\",\"Helsinki\",\"Helsinki\",\"Tampere\",\"Helsinki\",\"Helsinki\",\"Tampere\",\"Helsinki\",\"Helsinki\",\"Tampere\",\"Helsinki\",\"Helsinki\",\"Helsinki\",\"Helsinki\",\"Tampere\",\"Helsinki\",\"Helsinki\",\"Helsinki\",\"Tampere\",\"Helsinki\",\"Helsinki\",\"Turku\",\"Helsinki\",\"Helsinki\",\"Helsinki\",\"Helsinki\",\"Helsinki\",\"Helsinki\",\"Helsinki\",\"Helsinki\",\"Helsinki\",\"Helsinki\",\"Tampere\",\"Turku\",\"Helsinki\",\"Helsinki\",\"Helsinki\",\"Helsinki\",\"Helsinki\",\"Helsinki\",\"Helsinki\",\"Helsinki\",\"Helsinki\",\"Helsinki\",\"Turku\",\"Helsinki\",\"Helsinki\",\"Tampere\",\"Helsinki\",\"Tampere\",\"Helsinki\",\"Helsinki\",\"Helsinki\",\"Helsinki\",\"Helsinki\",\"Helsinki\",\"Turku\",\"Helsinki\",\"Helsinki\",\"Helsinki\",\"Helsinki\",\"Helsinki\",\"Tampere\",\"Tampere\",\"Helsinki\",\"Helsinki\",\"Helsinki\",\"Helsinki\",\"Tampere\",\"Helsinki\",\"Helsinki\",\"Helsinki\",\"Tampere\",\"Turku\",\"Tampere\",\"Helsinki\",\"Helsinki\",\"Helsinki\",\"Helsinki\",\"Tampere\",\"Helsinki\",\"Helsinki\",\"Tampere\",\"Helsinki\",\"Helsinki\",\"Helsinki\",\"Helsinki\",\"Helsinki\",\"Helsinki\",\"Helsinki\",\"Helsinki\",\"Helsinki\",\"Helsinki\",\"Helsinki\",\"Helsinki\",\"Helsinki\",\"Helsinki\",\"Helsinki\",\"Helsinki\",\"Helsinki\",\"Helsinki\",\"Helsinki\",\"Helsinki\",\"Tampere\",\"Turku\",\"Helsinki\",\"Helsinki\",\"Helsinki\",\"Helsinki\",\"Helsinki\",\"Helsinki\",\"Helsinki\",\"Helsinki\",\"Tampere\",\"Helsinki\",\"Tampere\",\"Helsinki\",\"Helsinki\",\"Helsinki\",\"Helsinki\",\"Helsinki\",\"Helsinki\",\"Helsinki\",\"Helsinki\",\"Helsinki\",\"Helsinki\",\"Helsinki\",\"Tampere\",\"Helsinki\",\"Helsinki\",\"Turku\",\"Helsinki\",\"Turku\",\"Helsinki\",\"Helsinki\",\"Helsinki\",\"Tampere\",\"Helsinki\",\"Helsinki\",\"Helsinki\",\"Turku\",\"Helsinki\",\"Tampere\",\"Tampere\",\"Helsinki\",\"Helsinki\",\"Tampere\",\"Helsinki\",\"Tampere\",\"Helsinki\",\"Helsinki\",\"Tampere\",\"Tampere\",\"Tampere\",\"Tampere\",\"Tampere\",\"Helsinki\",\"Helsinki\",\"Helsinki\",\"Helsinki\",\"Helsinki\",\"Helsinki\",\"Helsinki\",\"Tampere\",\"Helsinki\",\"Helsinki\",\"Turku\",\"Helsinki\",\"Tampere\",\"Helsinki\",\"Helsinki\",\"Helsinki\",\"Tampere\",\"Helsinki\",\"Helsinki\",\"Helsinki\",\"Helsinki\",\"Tampere\",\"Helsinki\",\"Helsinki\",\"Helsinki\",\"Helsinki\",\"Helsinki\",\"Helsinki\",\"Helsinki\",\"Helsinki\",\"Helsinki\",\"Helsinki\",\"Helsinki\",\"Helsinki\",\"Tampere\",\"Helsinki\",\"Helsinki\",\"Helsinki\",\"Helsinki\",\"Helsinki\",\"Tampere\",\"Tampere\",\"Helsinki\",\"Helsinki\",\"Tampere\",\"Tampere\",\"Tampere\",\"Helsinki\",\"Helsinki\",\"Tampere\",\"Helsinki\",\"Helsinki\",\"Tampere\",\"Tampere\",\"Helsinki\",\"Tampere\",\"Tampere\",\"Helsinki\",\"Helsinki\",\"Helsinki\",\"Helsinki\",\"Helsinki\",\"Tampere\",\"Helsinki\",\"Helsinki\",\"Helsinki\",\"Tampere\",\"Helsinki\",\"Helsinki\",\"Helsinki\",\"Helsinki\",\"Helsinki\",\"Helsinki\",\"Helsinki\",\"Helsinki\",\"Helsinki\",\"Helsinki\",\"Helsinki\",\"Helsinki\",\"Helsinki\",\"Helsinki\",\"Helsinki\",\"Turku\",\"Helsinki\",\"Helsinki\",\"Helsinki\",\"Helsinki\",\"Helsinki\",\"Turku\",\"Helsinki\",\"Helsinki\",\"Helsinki\",\"Helsinki\",\"Helsinki\",\"Helsinki\",\"Helsinki\",\"Helsinki\",\"Helsinki\",\"Helsinki\",\"Helsinki\",\"Helsinki\",\"Helsinki\",\"Helsinki\",\"Helsinki\",\"Helsinki\",\"Helsinki\",\"Helsinki\",\"Helsinki\",\"Helsinki\",\"Helsinki\",\"Helsinki\",\"Tampere\",\"Helsinki\",\"Helsinki\",\"Tampere\",\"Tampere\",\"Tampere\",\"Helsinki\",\"Helsinki\",\"Helsinki\",\"Helsinki\",\"Helsinki\",\"Helsinki\",\"Helsinki\",\"Helsinki\",\"Tampere\",\"Helsinki\",\"Helsinki\",\"Tampere\",\"Helsinki\",\"Helsinki\",\"Helsinki\",\"Helsinki\",\"Helsinki\",\"Helsinki\",\"Helsinki\",\"Helsinki\",\"Tampere\",\"Helsinki\",\"Tampere\",\"Helsinki\",\"Helsinki\",\"Helsinki\",\"Helsinki\",\"Tampere\",\"Helsinki\",\"Tampere\",\"Helsinki\",\"Helsinki\",\"Helsinki\",\"Turku\",\"Helsinki\",\"Helsinki\",\"Tampere\",\"Helsinki\",\"Helsinki\",\"Helsinki\",\"Turku\",\"Helsinki\",\"Tampere\",\"Helsinki\",\"Helsinki\",\"Helsinki\",\"Helsinki\",\"Helsinki\",\"Helsinki\",\"Helsinki\",\"Tampere\",\"Turku\",\"Helsinki\",\"Helsinki\",\"Helsinki\",\"Helsinki\",\"Tampere\",\"Helsinki\",\"Helsinki\",\"Helsinki\",\"Tampere\",\"Tampere\",\"Helsinki\",\"Helsinki\",\"Helsinki\",\"Helsinki\",\"Tampere\",\"Helsinki\",\"Helsinki\",\"Helsinki\",\"Helsinki\",\"Tampere\",\"Helsinki\",\"Tampere\",\"Helsinki\",\"Helsinki\",\"Tampere\",\"Helsinki\",\"Helsinki\",\"Helsinki\",\"Helsinki\",\"Helsinki\",\"Helsinki\",\"Helsinki\",\"Helsinki\",\"Helsinki\",\"Helsinki\",\"Helsinki\",\"Helsinki\",\"Helsinki\",\"Helsinki\",\"Helsinki\",\"Helsinki\",\"Helsinki\",\"Tampere\",\"Helsinki\",\"Tampere\",\"Helsinki\",\"Helsinki\",\"Tampere\",\"Helsinki\",\"Helsinki\",\"Tampere\",\"Helsinki\",\"Helsinki\",\"Helsinki\",\"Helsinki\",\"Tampere\",\"Helsinki\",\"Helsinki\",\"Tampere\",\"Helsinki\",\"Helsinki\",\"Helsinki\",\"Tampere\",\"Helsinki\",\"Helsinki\",\"Helsinki\",\"Helsinki\",\"Helsinki\",\"Helsinki\",\"Helsinki\",\"Helsinki\",\"Tampere\",\"Helsinki\",\"Tampere\",\"Helsinki\",\"Helsinki\",\"Helsinki\",\"Turku\",\"Helsinki\",\"Helsinki\",\"Helsinki\",\"Helsinki\",\"Tampere\",\"Helsinki\",\"Helsinki\",\"Helsinki\",\"Helsinki\",\"Helsinki\",\"Helsinki\",\"Tampere\",\"Helsinki\",\"Tampere\",\"Tampere\",\"Helsinki\",\"Tampere\",\"Helsinki\",\"Helsinki\",\"Helsinki\",\"Turku\",\"Helsinki\",\"Turku\",\"Helsinki\",\"Tampere\",\"Helsinki\",\"Tampere\",\"Helsinki\",\"Helsinki\",\"Helsinki\",\"Helsinki\",\"Helsinki\",\"Helsinki\",\"Helsinki\",\"Helsinki\",\"Helsinki\",\"Helsinki\",\"Helsinki\",\"Helsinki\",\"Helsinki\",\"Helsinki\",\"Tampere\",\"Tampere\",\"Helsinki\",\"Helsinki\",\"Helsinki\",\"Tampere\",\"Helsinki\",\"Helsinki\",\"Helsinki\",\"Helsinki\",\"Helsinki\",\"Tampere\",\"Tampere\",\"Helsinki\",\"Helsinki\",\"Helsinki\",\"Tampere\",\"Helsinki\",\"Tampere\",\"Helsinki\",\"Tampere\",\"Turku\",\"Helsinki\",\"Helsinki\",\"Helsinki\",\"Helsinki\",\"Helsinki\",\"Tampere\",\"Helsinki\",\"Helsinki\",\"Helsinki\",\"Helsinki\",\"Tampere\",\"Helsinki\",\"Helsinki\",\"Helsinki\",\"Helsinki\",\"Helsinki\",\"Helsinki\",\"Helsinki\",\"Helsinki\",\"Helsinki\",\"Helsinki\",\"Helsinki\",\"Helsinki\",\"Tampere\",\"Helsinki\",\"Helsinki\",\"Helsinki\",\"Helsinki\",\"Tampere\",\"Helsinki\",\"Tampere\",\"Helsinki\",\"Helsinki\",\"Helsinki\",\"Helsinki\",\"Helsinki\",\"Helsinki\",\"Turku\",\"Helsinki\",\"Helsinki\",\"Helsinki\",\"Helsinki\",\"Helsinki\",\"Helsinki\",\"Helsinki\",\"Helsinki\",\"Helsinki\",\"Helsinki\",\"Helsinki\",\"Tampere\",\"Helsinki\",\"Helsinki\",\"Helsinki\",\"Turku\",\"Helsinki\",\"Helsinki\",\"Helsinki\",\"Helsinki\",\"Helsinki\",\"Helsinki\",\"Helsinki\",\"Helsinki\",\"Tampere\",\"Helsinki\",\"Helsinki\",\"Helsinki\",\"Helsinki\",\"Helsinki\",\"Turku\",\"Helsinki\",\"Tampere\",\"Helsinki\",\"Helsinki\",\"Helsinki\",\"Helsinki\",\"Helsinki\",\"Tampere\",\"Helsinki\",\"Helsinki\",\"Helsinki\",\"Helsinki\",\"Tampere\",\"Helsinki\",\"Helsinki\",\"Helsinki\",\"Helsinki\",\"Helsinki\",\"Helsinki\",\"Helsinki\",\"Helsinki\",\"Helsinki\",\"Helsinki\",\"Helsinki\",\"Helsinki\",\"Tampere\",\"Helsinki\",\"Helsinki\",\"Helsinki\",\"Helsinki\",\"Helsinki\",\"Helsinki\",\"Helsinki\",\"Tampere\",\"Tampere\",\"Helsinki\",\"Helsinki\",\"Helsinki\",\"Tampere\",\"Helsinki\",\"Helsinki\",\"Helsinki\",\"Helsinki\",\"Tampere\",\"Tampere\",\"Helsinki\",\"Helsinki\",\"Tampere\",\"Helsinki\",\"Helsinki\",\"Helsinki\",\"Tampere\",\"Helsinki\",\"Helsinki\",\"Helsinki\",\"Helsinki\",\"Helsinki\",\"Tampere\",\"Helsinki\",\"Helsinki\",\"Helsinki\",\"Helsinki\",\"Helsinki\",\"Tampere\",\"Helsinki\",\"Helsinki\",\"Helsinki\",\"Helsinki\",\"Helsinki\",\"Helsinki\",\"Tampere\",\"Tampere\",\"Helsinki\",\"Helsinki\",\"Tampere\",\"Helsinki\",\"Helsinki\",\"Helsinki\",\"Helsinki\",\"Helsinki\",\"Turku\",\"Helsinki\",\"Helsinki\",\"Tampere\",\"Turku\"],\"legendgroup\":\"\",\"name\":\"\",\"showlegend\":true,\"values\":[14.5,142.5666,15.85,106.2,16.1,103.725,42.15,22.2666,60.1416,33.4,53.1,16.1,62.55,15.7084,32.0,58.25,36.0,52.0,26.0,16.0584,71.0,42.15,62.775,526.0,55.4416,21.0,164.3416,104.0,16.1,36.0,22.4834,18.95,42.0,83.1584,15.7584,35.6,79.375,15.6,153.4584,52.0,123.9584,21.0,14.4584,55.5,93.8,14.4584,166.95,55.8,21.0,16.3166,15.85,17.325,21.0,93.8,147.0,28.9084,112.9916,15.3,58.0,24.95,18.0,19.0,94.2,21.0,31.7,68.75,526.0,16.1,16.1,15.7084,122.35,41.15,14.5,69.3084,126.7166,46.0,52.0,15.7916,154.575,17.3084,15.85,15.7916,15.3,15.7916,104.0,28.9084,16.1,19.65,28.9166,15.85,15.5,42.0,495.0416,62.55,147.0,60.1416,26.0,154.575,22.4834,14.2834,13.95,15.7916,14.1,29.0,52.0,26.0,30.0916,52.5666,106.2,18.4334,158.4,15.5,31.7,13.5,23.0,73.5,15.5916,68.75,52.0,26.0,25.05,133.2,16.1,29.0,122.7584,15.4666,16.1,32.2,31.5,15.55,17.325,79.375,41.05,55.8,112.9916,67.0,58.25,22.2666,15.85,61.3916,15.7084,57.425,26.0,0.0,62.775,78.0,44.05,53.1,31.0,15.7916,26.0,26.0,15.7084,52.0,55.4416,293.0416,16.8084,26.0,19.0,12.9916,14.45,16.1,20.925,31.7,37.575,15.5,62.0,14.1,42.0,14.5,26.0,226.55,15.85,54.0,152.5834,21.0,16.1,26.0,16.1,180.0,18.7,21.0,14.5,26.0,166.95,15.55,27.0,62.775,21.0,52.0,52.5,21.0,24.55,21.0,14.25,14.45,180.0,15.55,29.0,105.1084,52.0,20.925,53.1,32.2,40.425,30.4916,173.0,1024.6584,52.0,62.775,159.3,0.0,21.0,79.375,15.55,306.925,271.2666,0.0,39.0,59.4,155.9166,15.5,58.25,40.5,15.5,15.7084,19.0,16.1,17.325,19.0,15.7916,26.0,15.5,157.7,182.1584,25.75,17.7,15.7916,14.4584,303.1,495.0416,0.0,303.1,217.8,48.0,113.8584,166.3166,524.75,52.0,15.7916,52.5,15.7084,52.0,28.0,329.7334,269.0,14.5,15.7916,24.7,58.0,271.2666,12.475,26.0,41.05,115.9584,57.0,306.925,36.0,133.2,269.0,16.1,71.0,52.0,526.0,26.0,26.0,26.0,26.0,26.0,31.8,17.325,18.45,14.4584,35.6,19.0,110.0,26.0,55.8,55.4416,28.9084,14.1,14.5,150.5,138.6,110.8834,12.9916,16.1,271.2666,42.15,14.5,423.0,8.025,15.55,455.05,31.4834,15.85,104.0,147.0,93.8,26.0,24.0,240.0,15.5916,15.85,226.55,33.4,15.5916,15.7084,52.0,21.0,25.3,15.85,16.1,19.65,31.7,17.325,42.0,15.5,37.5,15.55,180.0,15.85,65.0,26.0,26.0,48.3,15.4666,15.75,28.8,40.425,52.0,52.0,16.1,53.1,52.0,14.25,111.8,240.0,68.75,37.5,526.0,21.0,52.5,19.0,15.55,26.0,163.7166,39.0,53.1,38.5166,61.0,55.5,55.5,178.2084,15.7916,53.1,21.0,53.1,16.1,77.0,26.0,14.1,53.1,38.5166,17.325,55.5,27.5834,19.675,42.0,14.0916,15.0416,24.575,93.8,16.1,19.175,182.1584,180.0,59.4,16.1,31.8,14.5,61.0,99.0084,16.1,156.5334,303.1,15.5916,17.325,15.5,19.175,173.0,217.8,52.0,45.05,112.9916,15.5,52.575,118.8,14.9916,68.0416,21.0,52.0,15.7916,187.0,15.7916,115.9584,15.5,21.0,15.85,23.0,52.0,14.4584,17.325,52.5,53.1,212.85,99.0,142.0,62.55,62.55,52.0,212.85,52.0,52.0,41.05,73.5,221.7666,52.0,14.45,15.55,53.1,79.2,159.3,34.8,15.7916,27.0,48.3,15.7916,42.15,15.7084,21.0,102.9584,52.775,16.1,29.0,26.0,111.8,15.85,60.0,221.7666,52.0,80.25,159.3,30.0,158.4,16.1,14.25,156.5334,14.5,52.0,48.3,0.0,113.8584,54.0,16.1,53.1,31.1,15.7916,61.0,83.1584,306.925,62.55,16.1,130.0,28.8,32.2,78.0,21.0,28.9084,105.1084,31.4834,15.7084,32.2,64.6416,24.7,155.9166,15.7916,60.0,14.1084,61.0,55.8,26.0,15.85,52.5,79.375,15.7084,138.6,55.8,38.5166,153.4584,15.7916,71.0,15.1,46.0,16.8666,13.5,147.0,31.0,26.0,226.55,267.3,14.45,51.175,14.9916,15.85,147.0,26.0,16.1,78.0,104.0,21.0,26.0,15.55,16.1,19.6834,93.8,1024.6584,153.4584,18.45,93.8,78.0,83.1584,79.375,20.3416,15.5916,422.675,114.0,26.8334,14.45,53.1,27.0,16.1,221.7666,15.3,455.05,52.575,28.9084,15.4834,15.7084,52.0,27.0,52.575,303.1,99.0084,104.0,18.9666,26.0,15.3,455.05,21.0,15.55,66.0,14.1084,26.0,26.0,106.2,17.325,42.0,52.0,15.85,422.675,37.575,26.0,26.0,32.2,68.75,1024.6584,157.7,524.75,32.2,15.85,142.0,40.5,26.0,106.2,15.5,46.0,24.95,19.0,15.7916,130.0,29.0,15.5916,23.0,16.1,173.0,14.25,14.4584,240.0,15.55,155.9166,15.5,16.725,19.0,15.7084,21.0,46.0,15.5,24.95,422.675,14.4584,114.0,60.0,14.1,14.5,14.9916,58.25,41.15,158.4,52.0,15.7916,26.0,51.8584,17.3666,14.4584,48.3,26.0,52.5,240.0,17.0334,13.95,15.55,0.0,15.55,26.0,106.2,15.775,48.3,21.0,62.55,16.1,15.85,74.0084,12.9,55.8,187.0,17.325,0.0,24.95,79.375,74.0084,28.9084,37.5,15.7084,16.6,166.3166,17.325,112.9916,15.85,21.0,62.0,12.875,17.325,15.1,15.7916,66.0,62.55,15.55,30.4916,78.8,52.0,18.7,329.7334,53.1,38.5166,28.2166,23.0,51.8584,26.0,26.0,27.7166,100.9916,22.2666,15.7916,105.1084,10.0,18.0,48.0,14.45,19.6916,15.7916,166.3166,52.0,15.7916,21.0334,21.0,14.1,58.25,26.0,60.0,60.0,15.5],\"type\":\"pie\"}],                        {\"template\":{\"data\":{\"bar\":[{\"error_x\":{\"color\":\"#2a3f5f\"},\"error_y\":{\"color\":\"#2a3f5f\"},\"marker\":{\"line\":{\"color\":\"#E5ECF6\",\"width\":0.5},\"pattern\":{\"fillmode\":\"overlay\",\"size\":10,\"solidity\":0.2}},\"type\":\"bar\"}],\"barpolar\":[{\"marker\":{\"line\":{\"color\":\"#E5ECF6\",\"width\":0.5},\"pattern\":{\"fillmode\":\"overlay\",\"size\":10,\"solidity\":0.2}},\"type\":\"barpolar\"}],\"carpet\":[{\"aaxis\":{\"endlinecolor\":\"#2a3f5f\",\"gridcolor\":\"white\",\"linecolor\":\"white\",\"minorgridcolor\":\"white\",\"startlinecolor\":\"#2a3f5f\"},\"baxis\":{\"endlinecolor\":\"#2a3f5f\",\"gridcolor\":\"white\",\"linecolor\":\"white\",\"minorgridcolor\":\"white\",\"startlinecolor\":\"#2a3f5f\"},\"type\":\"carpet\"}],\"choropleth\":[{\"colorbar\":{\"outlinewidth\":0,\"ticks\":\"\"},\"type\":\"choropleth\"}],\"contour\":[{\"colorbar\":{\"outlinewidth\":0,\"ticks\":\"\"},\"colorscale\":[[0.0,\"#0d0887\"],[0.1111111111111111,\"#46039f\"],[0.2222222222222222,\"#7201a8\"],[0.3333333333333333,\"#9c179e\"],[0.4444444444444444,\"#bd3786\"],[0.5555555555555556,\"#d8576b\"],[0.6666666666666666,\"#ed7953\"],[0.7777777777777778,\"#fb9f3a\"],[0.8888888888888888,\"#fdca26\"],[1.0,\"#f0f921\"]],\"type\":\"contour\"}],\"contourcarpet\":[{\"colorbar\":{\"outlinewidth\":0,\"ticks\":\"\"},\"type\":\"contourcarpet\"}],\"heatmap\":[{\"colorbar\":{\"outlinewidth\":0,\"ticks\":\"\"},\"colorscale\":[[0.0,\"#0d0887\"],[0.1111111111111111,\"#46039f\"],[0.2222222222222222,\"#7201a8\"],[0.3333333333333333,\"#9c179e\"],[0.4444444444444444,\"#bd3786\"],[0.5555555555555556,\"#d8576b\"],[0.6666666666666666,\"#ed7953\"],[0.7777777777777778,\"#fb9f3a\"],[0.8888888888888888,\"#fdca26\"],[1.0,\"#f0f921\"]],\"type\":\"heatmap\"}],\"heatmapgl\":[{\"colorbar\":{\"outlinewidth\":0,\"ticks\":\"\"},\"colorscale\":[[0.0,\"#0d0887\"],[0.1111111111111111,\"#46039f\"],[0.2222222222222222,\"#7201a8\"],[0.3333333333333333,\"#9c179e\"],[0.4444444444444444,\"#bd3786\"],[0.5555555555555556,\"#d8576b\"],[0.6666666666666666,\"#ed7953\"],[0.7777777777777778,\"#fb9f3a\"],[0.8888888888888888,\"#fdca26\"],[1.0,\"#f0f921\"]],\"type\":\"heatmapgl\"}],\"histogram\":[{\"marker\":{\"pattern\":{\"fillmode\":\"overlay\",\"size\":10,\"solidity\":0.2}},\"type\":\"histogram\"}],\"histogram2d\":[{\"colorbar\":{\"outlinewidth\":0,\"ticks\":\"\"},\"colorscale\":[[0.0,\"#0d0887\"],[0.1111111111111111,\"#46039f\"],[0.2222222222222222,\"#7201a8\"],[0.3333333333333333,\"#9c179e\"],[0.4444444444444444,\"#bd3786\"],[0.5555555555555556,\"#d8576b\"],[0.6666666666666666,\"#ed7953\"],[0.7777777777777778,\"#fb9f3a\"],[0.8888888888888888,\"#fdca26\"],[1.0,\"#f0f921\"]],\"type\":\"histogram2d\"}],\"histogram2dcontour\":[{\"colorbar\":{\"outlinewidth\":0,\"ticks\":\"\"},\"colorscale\":[[0.0,\"#0d0887\"],[0.1111111111111111,\"#46039f\"],[0.2222222222222222,\"#7201a8\"],[0.3333333333333333,\"#9c179e\"],[0.4444444444444444,\"#bd3786\"],[0.5555555555555556,\"#d8576b\"],[0.6666666666666666,\"#ed7953\"],[0.7777777777777778,\"#fb9f3a\"],[0.8888888888888888,\"#fdca26\"],[1.0,\"#f0f921\"]],\"type\":\"histogram2dcontour\"}],\"mesh3d\":[{\"colorbar\":{\"outlinewidth\":0,\"ticks\":\"\"},\"type\":\"mesh3d\"}],\"parcoords\":[{\"line\":{\"colorbar\":{\"outlinewidth\":0,\"ticks\":\"\"}},\"type\":\"parcoords\"}],\"pie\":[{\"automargin\":true,\"type\":\"pie\"}],\"scatter\":[{\"marker\":{\"colorbar\":{\"outlinewidth\":0,\"ticks\":\"\"}},\"type\":\"scatter\"}],\"scatter3d\":[{\"line\":{\"colorbar\":{\"outlinewidth\":0,\"ticks\":\"\"}},\"marker\":{\"colorbar\":{\"outlinewidth\":0,\"ticks\":\"\"}},\"type\":\"scatter3d\"}],\"scattercarpet\":[{\"marker\":{\"colorbar\":{\"outlinewidth\":0,\"ticks\":\"\"}},\"type\":\"scattercarpet\"}],\"scattergeo\":[{\"marker\":{\"colorbar\":{\"outlinewidth\":0,\"ticks\":\"\"}},\"type\":\"scattergeo\"}],\"scattergl\":[{\"marker\":{\"colorbar\":{\"outlinewidth\":0,\"ticks\":\"\"}},\"type\":\"scattergl\"}],\"scattermapbox\":[{\"marker\":{\"colorbar\":{\"outlinewidth\":0,\"ticks\":\"\"}},\"type\":\"scattermapbox\"}],\"scatterpolar\":[{\"marker\":{\"colorbar\":{\"outlinewidth\":0,\"ticks\":\"\"}},\"type\":\"scatterpolar\"}],\"scatterpolargl\":[{\"marker\":{\"colorbar\":{\"outlinewidth\":0,\"ticks\":\"\"}},\"type\":\"scatterpolargl\"}],\"scatterternary\":[{\"marker\":{\"colorbar\":{\"outlinewidth\":0,\"ticks\":\"\"}},\"type\":\"scatterternary\"}],\"surface\":[{\"colorbar\":{\"outlinewidth\":0,\"ticks\":\"\"},\"colorscale\":[[0.0,\"#0d0887\"],[0.1111111111111111,\"#46039f\"],[0.2222222222222222,\"#7201a8\"],[0.3333333333333333,\"#9c179e\"],[0.4444444444444444,\"#bd3786\"],[0.5555555555555556,\"#d8576b\"],[0.6666666666666666,\"#ed7953\"],[0.7777777777777778,\"#fb9f3a\"],[0.8888888888888888,\"#fdca26\"],[1.0,\"#f0f921\"]],\"type\":\"surface\"}],\"table\":[{\"cells\":{\"fill\":{\"color\":\"#EBF0F8\"},\"line\":{\"color\":\"white\"}},\"header\":{\"fill\":{\"color\":\"#C8D4E3\"},\"line\":{\"color\":\"white\"}},\"type\":\"table\"}]},\"layout\":{\"annotationdefaults\":{\"arrowcolor\":\"#2a3f5f\",\"arrowhead\":0,\"arrowwidth\":1},\"autotypenumbers\":\"strict\",\"coloraxis\":{\"colorbar\":{\"outlinewidth\":0,\"ticks\":\"\"}},\"colorscale\":{\"diverging\":[[0,\"#8e0152\"],[0.1,\"#c51b7d\"],[0.2,\"#de77ae\"],[0.3,\"#f1b6da\"],[0.4,\"#fde0ef\"],[0.5,\"#f7f7f7\"],[0.6,\"#e6f5d0\"],[0.7,\"#b8e186\"],[0.8,\"#7fbc41\"],[0.9,\"#4d9221\"],[1,\"#276419\"]],\"sequential\":[[0.0,\"#0d0887\"],[0.1111111111111111,\"#46039f\"],[0.2222222222222222,\"#7201a8\"],[0.3333333333333333,\"#9c179e\"],[0.4444444444444444,\"#bd3786\"],[0.5555555555555556,\"#d8576b\"],[0.6666666666666666,\"#ed7953\"],[0.7777777777777778,\"#fb9f3a\"],[0.8888888888888888,\"#fdca26\"],[1.0,\"#f0f921\"]],\"sequentialminus\":[[0.0,\"#0d0887\"],[0.1111111111111111,\"#46039f\"],[0.2222222222222222,\"#7201a8\"],[0.3333333333333333,\"#9c179e\"],[0.4444444444444444,\"#bd3786\"],[0.5555555555555556,\"#d8576b\"],[0.6666666666666666,\"#ed7953\"],[0.7777777777777778,\"#fb9f3a\"],[0.8888888888888888,\"#fdca26\"],[1.0,\"#f0f921\"]]},\"colorway\":[\"#636efa\",\"#EF553B\",\"#00cc96\",\"#ab63fa\",\"#FFA15A\",\"#19d3f3\",\"#FF6692\",\"#B6E880\",\"#FF97FF\",\"#FECB52\"],\"font\":{\"color\":\"#2a3f5f\"},\"geo\":{\"bgcolor\":\"white\",\"lakecolor\":\"white\",\"landcolor\":\"#E5ECF6\",\"showlakes\":true,\"showland\":true,\"subunitcolor\":\"white\"},\"hoverlabel\":{\"align\":\"left\"},\"hovermode\":\"closest\",\"mapbox\":{\"style\":\"light\"},\"paper_bgcolor\":\"white\",\"plot_bgcolor\":\"#E5ECF6\",\"polar\":{\"angularaxis\":{\"gridcolor\":\"white\",\"linecolor\":\"white\",\"ticks\":\"\"},\"bgcolor\":\"#E5ECF6\",\"radialaxis\":{\"gridcolor\":\"white\",\"linecolor\":\"white\",\"ticks\":\"\"}},\"scene\":{\"xaxis\":{\"backgroundcolor\":\"#E5ECF6\",\"gridcolor\":\"white\",\"gridwidth\":2,\"linecolor\":\"white\",\"showbackground\":true,\"ticks\":\"\",\"zerolinecolor\":\"white\"},\"yaxis\":{\"backgroundcolor\":\"#E5ECF6\",\"gridcolor\":\"white\",\"gridwidth\":2,\"linecolor\":\"white\",\"showbackground\":true,\"ticks\":\"\",\"zerolinecolor\":\"white\"},\"zaxis\":{\"backgroundcolor\":\"#E5ECF6\",\"gridcolor\":\"white\",\"gridwidth\":2,\"linecolor\":\"white\",\"showbackground\":true,\"ticks\":\"\",\"zerolinecolor\":\"white\"}},\"shapedefaults\":{\"line\":{\"color\":\"#2a3f5f\"}},\"ternary\":{\"aaxis\":{\"gridcolor\":\"white\",\"linecolor\":\"white\",\"ticks\":\"\"},\"baxis\":{\"gridcolor\":\"white\",\"linecolor\":\"white\",\"ticks\":\"\"},\"bgcolor\":\"#E5ECF6\",\"caxis\":{\"gridcolor\":\"white\",\"linecolor\":\"white\",\"ticks\":\"\"}},\"title\":{\"x\":0.05},\"xaxis\":{\"automargin\":true,\"gridcolor\":\"white\",\"linecolor\":\"white\",\"ticks\":\"\",\"title\":{\"standoff\":15},\"zerolinecolor\":\"white\",\"zerolinewidth\":2},\"yaxis\":{\"automargin\":true,\"gridcolor\":\"white\",\"linecolor\":\"white\",\"ticks\":\"\",\"title\":{\"standoff\":15},\"zerolinecolor\":\"white\",\"zerolinewidth\":2}}},\"legend\":{\"tracegroupgap\":0},\"title\":{\"text\":\"Segment by Geography\"},\"height\":400,\"width\":400},                        {\"responsive\": true}                    ).then(function(){\n",
       "                            \n",
       "var gd = document.getElementById('c69aa615-8803-44e3-ba48-65cdec689182');\n",
       "var x = new MutationObserver(function (mutations, observer) {{\n",
       "        var display = window.getComputedStyle(gd).display;\n",
       "        if (!display || display === 'none') {{\n",
       "            console.log([gd, 'removed!']);\n",
       "            Plotly.purge(gd);\n",
       "            observer.disconnect();\n",
       "        }}\n",
       "}});\n",
       "\n",
       "// Listen for the removal of the full notebook cells\n",
       "var notebookContainer = gd.closest('#notebook-container');\n",
       "if (notebookContainer) {{\n",
       "    x.observe(notebookContainer, {childList: true});\n",
       "}}\n",
       "\n",
       "// Listen for the clearing of the current output cell\n",
       "var outputEl = gd.closest('.output');\n",
       "if (outputEl) {{\n",
       "    x.observe(outputEl, {childList: true});\n",
       "}}\n",
       "\n",
       "                        })                };                });            </script>        </div>"
      ]
     },
     "metadata": {},
     "output_type": "display_data"
    },
    {
     "data": {
      "text/plain": [
       "'\\nResult - Helsinki is the dominant Market in this dataset with intial fee level sum\\n'"
      ]
     },
     "execution_count": 146,
     "metadata": {},
     "output_type": "execute_result"
    }
   ],
   "source": [
    "#Segment the data with Geography\n",
    "fig = px.pie(clean_data, values='initial_fee_level', names='branch', \n",
    "             title='Segment by Geography',\n",
    "             width=400, height=400)    \n",
    "fig.show()\n",
    "\n",
    "'''\n",
    "Result - Helsinki is the dominant Market in this dataset with intial fee level sum\n",
    "''' "
   ]
  },
  {
   "cell_type": "code",
   "execution_count": 113,
   "id": "5eb6d480",
   "metadata": {},
   "outputs": [
    {
     "data": {
      "application/vnd.plotly.v1+json": {
       "config": {
        "plotlyServerURL": "https://plot.ly"
       },
       "data": [
        {
         "alignmentgroup": "True",
         "bingroup": "x",
         "histfunc": "sum",
         "hovertemplate": "gender=male<br>branch=%{x}<br>sum of initial_fee_level=%{y}<extra></extra>",
         "legendgroup": "male",
         "marker": {
          "color": "#636efa",
          "pattern": {
           "shape": ""
          }
         },
         "name": "male",
         "offsetgroup": "male",
         "orientation": "v",
         "showlegend": true,
         "type": "histogram",
         "x": [
          "Helsinki",
          "Helsinki",
          "Helsinki",
          "Helsinki",
          "Helsinki",
          "Helsinki",
          "Turku",
          "Helsinki",
          "Helsinki",
          "Helsinki",
          "Helsinki",
          "Tampere",
          "Helsinki",
          "Tampere",
          "Helsinki",
          "Helsinki",
          "Helsinki",
          "Helsinki",
          "Tampere",
          "Tampere",
          "Helsinki",
          "Tampere",
          "Helsinki",
          "Helsinki",
          "Helsinki",
          "Helsinki",
          "Helsinki",
          "Helsinki",
          "Tampere",
          "Helsinki",
          "Helsinki",
          "Helsinki",
          "Helsinki",
          "Helsinki",
          "Helsinki",
          "Helsinki",
          "Helsinki",
          "Helsinki",
          "Helsinki",
          "Helsinki",
          "Helsinki",
          "Helsinki",
          "Tampere",
          "Tampere",
          "Helsinki",
          "Helsinki",
          "Helsinki",
          "Helsinki",
          "Helsinki",
          "Helsinki",
          "Helsinki",
          "Helsinki",
          "Helsinki",
          "Turku",
          "Helsinki",
          "Tampere",
          "Helsinki",
          "Tampere",
          "Helsinki",
          "Tampere",
          "Helsinki",
          "Helsinki",
          "Tampere",
          "Helsinki",
          "Helsinki",
          "Tampere",
          "Helsinki",
          "Helsinki",
          "Tampere",
          "Turku",
          "Helsinki",
          "Helsinki",
          "Helsinki",
          "Helsinki",
          "Helsinki",
          "Helsinki",
          "Helsinki",
          "Helsinki",
          "Tampere",
          "Helsinki",
          "Helsinki",
          "Helsinki",
          "Helsinki",
          "Helsinki",
          "Helsinki",
          "Helsinki",
          "Helsinki",
          "Turku",
          "Helsinki",
          "Tampere",
          "Helsinki",
          "Helsinki",
          "Helsinki",
          "Helsinki",
          "Helsinki",
          "Helsinki",
          "Turku",
          "Helsinki",
          "Helsinki",
          "Helsinki",
          "Helsinki",
          "Helsinki",
          "Helsinki",
          "Tampere",
          "Helsinki",
          "Helsinki",
          "Tampere",
          "Tampere",
          "Helsinki",
          "Helsinki",
          "Helsinki",
          "Helsinki",
          "Helsinki",
          "Helsinki",
          "Helsinki",
          "Helsinki",
          "Helsinki",
          "Helsinki",
          "Helsinki",
          "Helsinki",
          "Helsinki",
          "Helsinki",
          "Helsinki",
          "Helsinki",
          "Helsinki",
          "Helsinki",
          "Helsinki",
          "Helsinki",
          "Helsinki",
          "Tampere",
          "Turku",
          "Helsinki",
          "Helsinki",
          "Helsinki",
          "Helsinki",
          "Helsinki",
          "Helsinki",
          "Helsinki",
          "Helsinki",
          "Helsinki",
          "Helsinki",
          "Helsinki",
          "Tampere",
          "Turku",
          "Turku",
          "Helsinki",
          "Helsinki",
          "Helsinki",
          "Tampere",
          "Helsinki",
          "Helsinki",
          "Helsinki",
          "Tampere",
          "Helsinki",
          "Tampere",
          "Helsinki",
          "Helsinki",
          "Tampere",
          "Helsinki",
          "Helsinki",
          "Helsinki",
          "Helsinki",
          "Helsinki",
          "Helsinki",
          "Helsinki",
          "Helsinki",
          "Helsinki",
          "Helsinki",
          "Helsinki",
          "Helsinki",
          "Helsinki",
          "Helsinki",
          "Helsinki",
          "Helsinki",
          "Helsinki",
          "Helsinki",
          "Helsinki",
          "Tampere",
          "Helsinki",
          "Helsinki",
          "Helsinki",
          "Tampere",
          "Helsinki",
          "Helsinki",
          "Tampere",
          "Helsinki",
          "Helsinki",
          "Tampere",
          "Tampere",
          "Tampere",
          "Helsinki",
          "Helsinki",
          "Helsinki",
          "Helsinki",
          "Helsinki",
          "Helsinki",
          "Helsinki",
          "Helsinki",
          "Helsinki",
          "Helsinki",
          "Helsinki",
          "Helsinki",
          "Helsinki",
          "Helsinki",
          "Helsinki",
          "Helsinki",
          "Helsinki",
          "Helsinki",
          "Helsinki",
          "Turku",
          "Helsinki",
          "Helsinki",
          "Helsinki",
          "Helsinki",
          "Helsinki",
          "Helsinki",
          "Helsinki",
          "Helsinki",
          "Helsinki",
          "Helsinki",
          "Helsinki",
          "Helsinki",
          "Helsinki",
          "Helsinki",
          "Tampere",
          "Tampere",
          "Tampere",
          "Helsinki",
          "Helsinki",
          "Helsinki",
          "Helsinki",
          "Helsinki",
          "Helsinki",
          "Helsinki",
          "Helsinki",
          "Helsinki",
          "Helsinki",
          "Helsinki",
          "Helsinki",
          "Helsinki",
          "Tampere",
          "Tampere",
          "Helsinki",
          "Helsinki",
          "Helsinki",
          "Helsinki",
          "Tampere",
          "Helsinki",
          "Helsinki",
          "Helsinki",
          "Tampere",
          "Helsinki",
          "Helsinki",
          "Turku",
          "Helsinki",
          "Helsinki",
          "Helsinki",
          "Helsinki",
          "Helsinki",
          "Turku",
          "Helsinki",
          "Helsinki",
          "Tampere",
          "Helsinki",
          "Helsinki",
          "Tampere",
          "Helsinki",
          "Helsinki",
          "Helsinki",
          "Tampere",
          "Helsinki",
          "Tampere",
          "Helsinki",
          "Helsinki",
          "Helsinki",
          "Helsinki",
          "Helsinki",
          "Helsinki",
          "Helsinki",
          "Helsinki",
          "Helsinki",
          "Helsinki",
          "Helsinki",
          "Helsinki",
          "Tampere",
          "Helsinki",
          "Tampere",
          "Helsinki",
          "Helsinki",
          "Helsinki",
          "Helsinki",
          "Helsinki",
          "Helsinki",
          "Tampere",
          "Helsinki",
          "Tampere",
          "Helsinki",
          "Helsinki",
          "Helsinki",
          "Helsinki",
          "Helsinki",
          "Helsinki",
          "Tampere",
          "Helsinki",
          "Tampere",
          "Helsinki",
          "Helsinki",
          "Helsinki",
          "Turku",
          "Helsinki",
          "Helsinki",
          "Helsinki",
          "Tampere",
          "Helsinki",
          "Helsinki",
          "Helsinki",
          "Tampere",
          "Helsinki",
          "Tampere",
          "Helsinki",
          "Helsinki",
          "Helsinki",
          "Tampere",
          "Helsinki",
          "Tampere",
          "Helsinki",
          "Helsinki",
          "Helsinki",
          "Helsinki",
          "Helsinki",
          "Helsinki",
          "Helsinki",
          "Helsinki",
          "Helsinki",
          "Helsinki",
          "Helsinki",
          "Tampere",
          "Tampere",
          "Helsinki",
          "Helsinki",
          "Helsinki",
          "Tampere",
          "Helsinki",
          "Helsinki",
          "Helsinki",
          "Helsinki",
          "Tampere",
          "Helsinki",
          "Helsinki",
          "Helsinki",
          "Tampere",
          "Helsinki",
          "Helsinki",
          "Turku",
          "Helsinki",
          "Helsinki",
          "Helsinki",
          "Helsinki",
          "Helsinki",
          "Helsinki",
          "Helsinki",
          "Helsinki",
          "Helsinki",
          "Helsinki",
          "Helsinki",
          "Helsinki",
          "Helsinki",
          "Helsinki",
          "Tampere",
          "Helsinki",
          "Helsinki",
          "Helsinki",
          "Tampere",
          "Helsinki",
          "Helsinki",
          "Helsinki",
          "Helsinki",
          "Helsinki",
          "Helsinki",
          "Turku",
          "Helsinki",
          "Helsinki",
          "Helsinki",
          "Helsinki",
          "Helsinki",
          "Helsinki",
          "Helsinki",
          "Helsinki",
          "Tampere",
          "Helsinki",
          "Helsinki",
          "Helsinki",
          "Helsinki",
          "Helsinki",
          "Helsinki",
          "Helsinki",
          "Helsinki",
          "Turku",
          "Helsinki",
          "Tampere",
          "Helsinki",
          "Helsinki",
          "Helsinki",
          "Tampere",
          "Helsinki",
          "Helsinki",
          "Tampere",
          "Helsinki",
          "Helsinki",
          "Helsinki",
          "Helsinki",
          "Helsinki",
          "Helsinki",
          "Helsinki",
          "Helsinki",
          "Tampere",
          "Helsinki",
          "Helsinki",
          "Helsinki",
          "Helsinki",
          "Helsinki",
          "Tampere",
          "Helsinki",
          "Helsinki",
          "Helsinki",
          "Helsinki",
          "Helsinki",
          "Helsinki",
          "Helsinki",
          "Tampere",
          "Helsinki",
          "Helsinki",
          "Tampere",
          "Helsinki",
          "Helsinki",
          "Helsinki",
          "Helsinki",
          "Helsinki",
          "Helsinki",
          "Helsinki",
          "Helsinki",
          "Helsinki",
          "Helsinki",
          "Helsinki",
          "Helsinki",
          "Helsinki",
          "Helsinki",
          "Helsinki",
          "Helsinki",
          "Helsinki",
          "Helsinki",
          "Tampere",
          "Turku"
         ],
         "xaxis": "x",
         "y": [
          14.5,
          16.1,
          103.725,
          42.15,
          16.1,
          62.55,
          58.25,
          52,
          26,
          71,
          526,
          55.4416,
          21,
          164.3416,
          104,
          16.1,
          79.375,
          15.6,
          123.9584,
          14.4584,
          93.8,
          14.4584,
          166.95,
          55.8,
          16.3166,
          17.325,
          21,
          147,
          28.9084,
          112.9916,
          15.3,
          58,
          18,
          19,
          94.2,
          68.75,
          16.1,
          16.1,
          15.7084,
          122.35,
          41.15,
          14.5,
          69.3084,
          126.7166,
          52,
          154.575,
          17.3084,
          15.85,
          15.7916,
          15.7916,
          104,
          16.1,
          15.85,
          15.5,
          42,
          495.0416,
          147,
          60.1416,
          154.575,
          22.4834,
          14.2834,
          13.95,
          15.7916,
          14.1,
          26,
          30.0916,
          106.2,
          18.4334,
          158.4,
          13.5,
          23,
          73.5,
          15.5916,
          52,
          26,
          25.05,
          16.1,
          29,
          122.7584,
          16.1,
          32.2,
          15.55,
          17.325,
          79.375,
          41.05,
          112.9916,
          67,
          58.25,
          15.85,
          61.3916,
          15.7084,
          26,
          0,
          62.775,
          78,
          53.1,
          31,
          15.7916,
          26,
          52,
          16.8084,
          19,
          12.9916,
          14.45,
          16.1,
          31.7,
          37.575,
          62,
          14.1,
          14.5,
          26,
          54,
          21,
          16.1,
          26,
          16.1,
          180,
          18.7,
          21,
          14.5,
          26,
          15.55,
          27,
          21,
          52,
          21,
          24.55,
          21,
          14.25,
          14.45,
          180,
          105.1084,
          52,
          53.1,
          32.2,
          62.775,
          159.3,
          0,
          21,
          79.375,
          15.55,
          0,
          59.4,
          58.25,
          15.5,
          15.7084,
          19,
          16.1,
          17.325,
          19,
          15.7916,
          26,
          25.75,
          15.7916,
          14.4584,
          0,
          303.1,
          48,
          15.7916,
          52.5,
          28,
          14.5,
          15.7916,
          12.475,
          57,
          306.925,
          36,
          133.2,
          16.1,
          71,
          52,
          26,
          26,
          26,
          31.8,
          17.325,
          18.45,
          14.4584,
          35.6,
          19,
          55.8,
          55.4416,
          14.1,
          14.5,
          110.8834,
          12.9916,
          16.1,
          271.2666,
          423,
          8.025,
          15.55,
          15.85,
          147,
          93.8,
          240,
          15.5916,
          15.85,
          15.5916,
          52,
          21,
          15.85,
          16.1,
          31.7,
          42,
          15.5,
          37.5,
          15.55,
          15.85,
          26,
          15.4666,
          15.75,
          40.425,
          16.1,
          53.1,
          14.25,
          111.8,
          526,
          21,
          19,
          15.55,
          163.7166,
          53.1,
          61,
          55.5,
          55.5,
          178.2084,
          15.7916,
          53.1,
          53.1,
          16.1,
          77,
          26,
          14.1,
          53.1,
          17.325,
          42,
          14.0916,
          15.0416,
          93.8,
          16.1,
          182.1584,
          59.4,
          16.1,
          31.8,
          14.5,
          61,
          99.0084,
          16.1,
          15.5916,
          17.325,
          217.8,
          45.05,
          112.9916,
          15.5,
          52.575,
          14.9916,
          68.0416,
          15.7916,
          15.7916,
          15.5,
          15.85,
          23,
          14.4584,
          53.1,
          52,
          212.85,
          52,
          41.05,
          73.5,
          221.7666,
          52,
          14.45,
          53.1,
          15.7916,
          27,
          48.3,
          15.7916,
          15.7084,
          21,
          52.775,
          16.1,
          29,
          15.85,
          52,
          80.25,
          30,
          158.4,
          16.1,
          14.25,
          14.5,
          52,
          48.3,
          0,
          113.8584,
          16.1,
          53.1,
          31.1,
          15.7916,
          61,
          16.1,
          28.8,
          21,
          28.9084,
          105.1084,
          31.4834,
          15.7084,
          32.2,
          64.6416,
          24.7,
          15.7916,
          60,
          14.1084,
          61,
          15.85,
          52.5,
          15.7084,
          153.4584,
          15.7916,
          71,
          16.8666,
          147,
          26,
          226.55,
          267.3,
          14.45,
          51.175,
          14.9916,
          15.85,
          147,
          26,
          16.1,
          104,
          21,
          26,
          15.55,
          16.1,
          1024.6584,
          153.4584,
          18.45,
          93.8,
          78,
          83.1584,
          79.375,
          20.3416,
          15.5916,
          114,
          14.45,
          53.1,
          27,
          16.1,
          221.7666,
          15.3,
          52.575,
          15.4834,
          15.7084,
          52,
          52.575,
          104,
          18.9666,
          26,
          15.3,
          15.55,
          14.1084,
          26,
          26,
          106.2,
          17.325,
          52,
          37.575,
          26,
          26,
          32.2,
          1024.6584,
          157.7,
          32.2,
          15.85,
          142,
          40.5,
          106.2,
          15.5,
          24.95,
          19,
          15.7916,
          29,
          15.5916,
          23,
          16.1,
          14.25,
          14.4584,
          15.55,
          16.725,
          19,
          15.7084,
          15.5,
          60,
          14.1,
          14.5,
          58.25,
          41.15,
          158.4,
          52,
          15.7916,
          26,
          14.4584,
          26,
          240,
          17.0334,
          13.95,
          15.55,
          0,
          26,
          15.775,
          48.3,
          21,
          16.1,
          74.0084,
          12.9,
          55.8,
          17.325,
          0,
          79.375,
          74.0084,
          37.5,
          15.7084,
          16.6,
          17.325,
          112.9916,
          15.85,
          21,
          12.875,
          17.325,
          15.1,
          15.7916,
          66,
          62.55,
          15.55,
          53.1,
          28.2166,
          23,
          26,
          100.9916,
          22.2666,
          15.7916,
          10,
          18,
          19.6916,
          15.7916,
          15.7916,
          21,
          14.1,
          26,
          60,
          15.5
         ],
         "yaxis": "y"
        },
        {
         "alignmentgroup": "True",
         "bingroup": "x",
         "histfunc": "sum",
         "hovertemplate": "gender=female<br>branch=%{x}<br>sum of initial_fee_level=%{y}<extra></extra>",
         "legendgroup": "female",
         "marker": {
          "color": "#EF553B",
          "pattern": {
           "shape": ""
          }
         },
         "name": "female",
         "offsetgroup": "female",
         "orientation": "v",
         "showlegend": true,
         "type": "histogram",
         "x": [
          "Tampere",
          "Helsinki",
          "Helsinki",
          "Helsinki",
          "Tampere",
          "Helsinki",
          "Helsinki",
          "Helsinki",
          "Helsinki",
          "Helsinki",
          "Turku",
          "Helsinki",
          "Helsinki",
          "Helsinki",
          "Tampere",
          "Helsinki",
          "Helsinki",
          "Tampere",
          "Turku",
          "Helsinki",
          "Tampere",
          "Helsinki",
          "Helsinki",
          "Helsinki",
          "Helsinki",
          "Helsinki",
          "Helsinki",
          "Helsinki",
          "Helsinki",
          "Helsinki",
          "Helsinki",
          "Helsinki",
          "Helsinki",
          "Helsinki",
          "Tampere",
          "Helsinki",
          "Tampere",
          "Helsinki",
          "Helsinki",
          "Helsinki",
          "Helsinki",
          "Helsinki",
          "Helsinki",
          "Helsinki",
          "Helsinki",
          "Helsinki",
          "Turku",
          "Helsinki",
          "Helsinki",
          "Helsinki",
          "Tampere",
          "Helsinki",
          "Helsinki",
          "Helsinki",
          "Tampere",
          "Tampere",
          "Helsinki",
          "Helsinki",
          "Turku",
          "Helsinki",
          "Tampere",
          "Helsinki",
          "Tampere",
          "Helsinki",
          "Helsinki",
          "Helsinki",
          "Helsinki",
          "Helsinki",
          "Helsinki",
          "Helsinki",
          "Tampere",
          "Helsinki",
          "Tampere",
          "Helsinki",
          "Helsinki",
          "Helsinki",
          "Helsinki",
          "Helsinki",
          "Helsinki",
          "Helsinki",
          "Turku",
          "Helsinki",
          "Tampere",
          "Helsinki",
          "Helsinki",
          "Tampere",
          "Tampere",
          "Tampere",
          "Tampere",
          "Tampere",
          "Helsinki",
          "Helsinki",
          "Helsinki",
          "Helsinki",
          "Tampere",
          "Turku",
          "Helsinki",
          "Tampere",
          "Helsinki",
          "Helsinki",
          "Tampere",
          "Tampere",
          "Helsinki",
          "Helsinki",
          "Helsinki",
          "Helsinki",
          "Helsinki",
          "Tampere",
          "Tampere",
          "Tampere",
          "Helsinki",
          "Helsinki",
          "Tampere",
          "Tampere",
          "Helsinki",
          "Helsinki",
          "Tampere",
          "Tampere",
          "Helsinki",
          "Helsinki",
          "Helsinki",
          "Helsinki",
          "Helsinki",
          "Turku",
          "Helsinki",
          "Helsinki",
          "Helsinki",
          "Helsinki",
          "Helsinki",
          "Helsinki",
          "Helsinki",
          "Helsinki",
          "Helsinki",
          "Helsinki",
          "Helsinki",
          "Helsinki",
          "Helsinki",
          "Tampere",
          "Helsinki",
          "Tampere",
          "Helsinki",
          "Tampere",
          "Helsinki",
          "Helsinki",
          "Helsinki",
          "Helsinki",
          "Tampere",
          "Helsinki",
          "Turku",
          "Helsinki",
          "Helsinki",
          "Helsinki",
          "Tampere",
          "Helsinki",
          "Helsinki",
          "Helsinki",
          "Tampere",
          "Helsinki",
          "Helsinki",
          "Helsinki",
          "Helsinki",
          "Tampere",
          "Tampere",
          "Helsinki",
          "Helsinki",
          "Helsinki",
          "Helsinki",
          "Helsinki",
          "Tampere",
          "Helsinki",
          "Helsinki",
          "Helsinki",
          "Helsinki",
          "Helsinki",
          "Helsinki",
          "Helsinki",
          "Tampere",
          "Helsinki",
          "Tampere",
          "Helsinki",
          "Tampere",
          "Helsinki",
          "Helsinki",
          "Helsinki",
          "Helsinki",
          "Helsinki",
          "Helsinki",
          "Helsinki",
          "Helsinki",
          "Helsinki",
          "Tampere",
          "Helsinki",
          "Tampere",
          "Helsinki",
          "Helsinki",
          "Turku",
          "Turku",
          "Helsinki",
          "Helsinki",
          "Helsinki",
          "Helsinki",
          "Tampere",
          "Tampere",
          "Tampere",
          "Helsinki",
          "Helsinki",
          "Tampere",
          "Tampere",
          "Helsinki",
          "Helsinki",
          "Helsinki",
          "Helsinki",
          "Helsinki",
          "Helsinki",
          "Tampere",
          "Helsinki",
          "Helsinki",
          "Helsinki",
          "Helsinki",
          "Helsinki",
          "Helsinki",
          "Turku",
          "Helsinki",
          "Helsinki",
          "Helsinki",
          "Helsinki",
          "Tampere",
          "Helsinki",
          "Helsinki",
          "Helsinki",
          "Helsinki",
          "Helsinki",
          "Helsinki",
          "Helsinki",
          "Helsinki",
          "Helsinki",
          "Helsinki",
          "Helsinki",
          "Helsinki",
          "Tampere",
          "Tampere",
          "Tampere",
          "Tampere",
          "Helsinki",
          "Helsinki",
          "Helsinki",
          "Helsinki",
          "Tampere",
          "Helsinki",
          "Helsinki",
          "Tampere",
          "Helsinki",
          "Tampere",
          "Tampere",
          "Tampere",
          "Helsinki",
          "Helsinki",
          "Turku",
          "Helsinki"
         ],
         "xaxis": "x",
         "y": [
          142.5666,
          15.85,
          106.2,
          22.2666,
          60.1416,
          33.4,
          53.1,
          15.7084,
          32,
          36,
          16.0584,
          42.15,
          62.775,
          36,
          22.4834,
          18.95,
          42,
          83.1584,
          15.7584,
          35.6,
          153.4584,
          52,
          21,
          55.5,
          21,
          15.85,
          93.8,
          24.95,
          21,
          31.7,
          526,
          46,
          15.7916,
          15.3,
          28.9084,
          19.65,
          28.9166,
          62.55,
          26,
          29,
          52,
          52.5666,
          15.5,
          31.7,
          68.75,
          133.2,
          15.4666,
          31.5,
          55.8,
          22.2666,
          57.425,
          44.05,
          26,
          15.7084,
          55.4416,
          293.0416,
          26,
          20.925,
          15.5,
          42,
          226.55,
          15.85,
          152.5834,
          166.95,
          62.775,
          52.5,
          15.55,
          29,
          20.925,
          40.425,
          30.4916,
          173,
          1024.6584,
          52,
          306.925,
          271.2666,
          39,
          155.9166,
          15.5,
          40.5,
          15.5,
          157.7,
          182.1584,
          17.7,
          303.1,
          495.0416,
          217.8,
          113.8584,
          166.3166,
          524.75,
          52,
          15.7084,
          52,
          329.7334,
          269,
          24.7,
          58,
          271.2666,
          26,
          41.05,
          115.9584,
          269,
          526,
          26,
          26,
          110,
          26,
          28.9084,
          150.5,
          138.6,
          42.15,
          14.5,
          455.05,
          31.4834,
          104,
          26,
          24,
          226.55,
          33.4,
          15.7084,
          25.3,
          19.65,
          17.325,
          180,
          65,
          26,
          48.3,
          28.8,
          52,
          52,
          52,
          240,
          68.75,
          37.5,
          52.5,
          26,
          39,
          38.5166,
          21,
          38.5166,
          55.5,
          27.5834,
          19.675,
          24.575,
          19.175,
          180,
          156.5334,
          303.1,
          15.5,
          19.175,
          173,
          52,
          118.8,
          21,
          52,
          187,
          115.9584,
          21,
          52,
          17.325,
          52.5,
          212.85,
          99,
          142,
          62.55,
          62.55,
          52,
          15.55,
          79.2,
          159.3,
          34.8,
          42.15,
          102.9584,
          26,
          111.8,
          60,
          221.7666,
          159.3,
          156.5334,
          54,
          83.1584,
          306.925,
          62.55,
          130,
          32.2,
          78,
          155.9166,
          55.8,
          26,
          79.375,
          138.6,
          55.8,
          38.5166,
          15.1,
          46,
          13.5,
          31,
          78,
          19.6834,
          93.8,
          422.675,
          26.8334,
          455.05,
          28.9084,
          27,
          303.1,
          99.0084,
          455.05,
          21,
          66,
          42,
          15.85,
          422.675,
          68.75,
          524.75,
          26,
          46,
          130,
          173,
          240,
          155.9166,
          15.5,
          21,
          46,
          24.95,
          422.675,
          14.4584,
          114,
          14.9916,
          51.8584,
          17.3666,
          48.3,
          52.5,
          15.55,
          106.2,
          62.55,
          15.85,
          187,
          24.95,
          28.9084,
          166.3166,
          62,
          30.4916,
          78.8,
          52,
          18.7,
          329.7334,
          38.5166,
          51.8584,
          26,
          27.7166,
          105.1084,
          48,
          14.45,
          166.3166,
          52,
          21.0334,
          58.25,
          60
         ],
         "yaxis": "y"
        }
       ],
       "layout": {
        "barmode": "group",
        "height": 400,
        "legend": {
         "title": {
          "text": "gender"
         },
         "tracegroupgap": 0
        },
        "template": {
         "data": {
          "bar": [
           {
            "error_x": {
             "color": "#2a3f5f"
            },
            "error_y": {
             "color": "#2a3f5f"
            },
            "marker": {
             "line": {
              "color": "#E5ECF6",
              "width": 0.5
             },
             "pattern": {
              "fillmode": "overlay",
              "size": 10,
              "solidity": 0.2
             }
            },
            "type": "bar"
           }
          ],
          "barpolar": [
           {
            "marker": {
             "line": {
              "color": "#E5ECF6",
              "width": 0.5
             },
             "pattern": {
              "fillmode": "overlay",
              "size": 10,
              "solidity": 0.2
             }
            },
            "type": "barpolar"
           }
          ],
          "carpet": [
           {
            "aaxis": {
             "endlinecolor": "#2a3f5f",
             "gridcolor": "white",
             "linecolor": "white",
             "minorgridcolor": "white",
             "startlinecolor": "#2a3f5f"
            },
            "baxis": {
             "endlinecolor": "#2a3f5f",
             "gridcolor": "white",
             "linecolor": "white",
             "minorgridcolor": "white",
             "startlinecolor": "#2a3f5f"
            },
            "type": "carpet"
           }
          ],
          "choropleth": [
           {
            "colorbar": {
             "outlinewidth": 0,
             "ticks": ""
            },
            "type": "choropleth"
           }
          ],
          "contour": [
           {
            "colorbar": {
             "outlinewidth": 0,
             "ticks": ""
            },
            "colorscale": [
             [
              0,
              "#0d0887"
             ],
             [
              0.1111111111111111,
              "#46039f"
             ],
             [
              0.2222222222222222,
              "#7201a8"
             ],
             [
              0.3333333333333333,
              "#9c179e"
             ],
             [
              0.4444444444444444,
              "#bd3786"
             ],
             [
              0.5555555555555556,
              "#d8576b"
             ],
             [
              0.6666666666666666,
              "#ed7953"
             ],
             [
              0.7777777777777778,
              "#fb9f3a"
             ],
             [
              0.8888888888888888,
              "#fdca26"
             ],
             [
              1,
              "#f0f921"
             ]
            ],
            "type": "contour"
           }
          ],
          "contourcarpet": [
           {
            "colorbar": {
             "outlinewidth": 0,
             "ticks": ""
            },
            "type": "contourcarpet"
           }
          ],
          "heatmap": [
           {
            "colorbar": {
             "outlinewidth": 0,
             "ticks": ""
            },
            "colorscale": [
             [
              0,
              "#0d0887"
             ],
             [
              0.1111111111111111,
              "#46039f"
             ],
             [
              0.2222222222222222,
              "#7201a8"
             ],
             [
              0.3333333333333333,
              "#9c179e"
             ],
             [
              0.4444444444444444,
              "#bd3786"
             ],
             [
              0.5555555555555556,
              "#d8576b"
             ],
             [
              0.6666666666666666,
              "#ed7953"
             ],
             [
              0.7777777777777778,
              "#fb9f3a"
             ],
             [
              0.8888888888888888,
              "#fdca26"
             ],
             [
              1,
              "#f0f921"
             ]
            ],
            "type": "heatmap"
           }
          ],
          "heatmapgl": [
           {
            "colorbar": {
             "outlinewidth": 0,
             "ticks": ""
            },
            "colorscale": [
             [
              0,
              "#0d0887"
             ],
             [
              0.1111111111111111,
              "#46039f"
             ],
             [
              0.2222222222222222,
              "#7201a8"
             ],
             [
              0.3333333333333333,
              "#9c179e"
             ],
             [
              0.4444444444444444,
              "#bd3786"
             ],
             [
              0.5555555555555556,
              "#d8576b"
             ],
             [
              0.6666666666666666,
              "#ed7953"
             ],
             [
              0.7777777777777778,
              "#fb9f3a"
             ],
             [
              0.8888888888888888,
              "#fdca26"
             ],
             [
              1,
              "#f0f921"
             ]
            ],
            "type": "heatmapgl"
           }
          ],
          "histogram": [
           {
            "marker": {
             "pattern": {
              "fillmode": "overlay",
              "size": 10,
              "solidity": 0.2
             }
            },
            "type": "histogram"
           }
          ],
          "histogram2d": [
           {
            "colorbar": {
             "outlinewidth": 0,
             "ticks": ""
            },
            "colorscale": [
             [
              0,
              "#0d0887"
             ],
             [
              0.1111111111111111,
              "#46039f"
             ],
             [
              0.2222222222222222,
              "#7201a8"
             ],
             [
              0.3333333333333333,
              "#9c179e"
             ],
             [
              0.4444444444444444,
              "#bd3786"
             ],
             [
              0.5555555555555556,
              "#d8576b"
             ],
             [
              0.6666666666666666,
              "#ed7953"
             ],
             [
              0.7777777777777778,
              "#fb9f3a"
             ],
             [
              0.8888888888888888,
              "#fdca26"
             ],
             [
              1,
              "#f0f921"
             ]
            ],
            "type": "histogram2d"
           }
          ],
          "histogram2dcontour": [
           {
            "colorbar": {
             "outlinewidth": 0,
             "ticks": ""
            },
            "colorscale": [
             [
              0,
              "#0d0887"
             ],
             [
              0.1111111111111111,
              "#46039f"
             ],
             [
              0.2222222222222222,
              "#7201a8"
             ],
             [
              0.3333333333333333,
              "#9c179e"
             ],
             [
              0.4444444444444444,
              "#bd3786"
             ],
             [
              0.5555555555555556,
              "#d8576b"
             ],
             [
              0.6666666666666666,
              "#ed7953"
             ],
             [
              0.7777777777777778,
              "#fb9f3a"
             ],
             [
              0.8888888888888888,
              "#fdca26"
             ],
             [
              1,
              "#f0f921"
             ]
            ],
            "type": "histogram2dcontour"
           }
          ],
          "mesh3d": [
           {
            "colorbar": {
             "outlinewidth": 0,
             "ticks": ""
            },
            "type": "mesh3d"
           }
          ],
          "parcoords": [
           {
            "line": {
             "colorbar": {
              "outlinewidth": 0,
              "ticks": ""
             }
            },
            "type": "parcoords"
           }
          ],
          "pie": [
           {
            "automargin": true,
            "type": "pie"
           }
          ],
          "scatter": [
           {
            "marker": {
             "colorbar": {
              "outlinewidth": 0,
              "ticks": ""
             }
            },
            "type": "scatter"
           }
          ],
          "scatter3d": [
           {
            "line": {
             "colorbar": {
              "outlinewidth": 0,
              "ticks": ""
             }
            },
            "marker": {
             "colorbar": {
              "outlinewidth": 0,
              "ticks": ""
             }
            },
            "type": "scatter3d"
           }
          ],
          "scattercarpet": [
           {
            "marker": {
             "colorbar": {
              "outlinewidth": 0,
              "ticks": ""
             }
            },
            "type": "scattercarpet"
           }
          ],
          "scattergeo": [
           {
            "marker": {
             "colorbar": {
              "outlinewidth": 0,
              "ticks": ""
             }
            },
            "type": "scattergeo"
           }
          ],
          "scattergl": [
           {
            "marker": {
             "colorbar": {
              "outlinewidth": 0,
              "ticks": ""
             }
            },
            "type": "scattergl"
           }
          ],
          "scattermapbox": [
           {
            "marker": {
             "colorbar": {
              "outlinewidth": 0,
              "ticks": ""
             }
            },
            "type": "scattermapbox"
           }
          ],
          "scatterpolar": [
           {
            "marker": {
             "colorbar": {
              "outlinewidth": 0,
              "ticks": ""
             }
            },
            "type": "scatterpolar"
           }
          ],
          "scatterpolargl": [
           {
            "marker": {
             "colorbar": {
              "outlinewidth": 0,
              "ticks": ""
             }
            },
            "type": "scatterpolargl"
           }
          ],
          "scatterternary": [
           {
            "marker": {
             "colorbar": {
              "outlinewidth": 0,
              "ticks": ""
             }
            },
            "type": "scatterternary"
           }
          ],
          "surface": [
           {
            "colorbar": {
             "outlinewidth": 0,
             "ticks": ""
            },
            "colorscale": [
             [
              0,
              "#0d0887"
             ],
             [
              0.1111111111111111,
              "#46039f"
             ],
             [
              0.2222222222222222,
              "#7201a8"
             ],
             [
              0.3333333333333333,
              "#9c179e"
             ],
             [
              0.4444444444444444,
              "#bd3786"
             ],
             [
              0.5555555555555556,
              "#d8576b"
             ],
             [
              0.6666666666666666,
              "#ed7953"
             ],
             [
              0.7777777777777778,
              "#fb9f3a"
             ],
             [
              0.8888888888888888,
              "#fdca26"
             ],
             [
              1,
              "#f0f921"
             ]
            ],
            "type": "surface"
           }
          ],
          "table": [
           {
            "cells": {
             "fill": {
              "color": "#EBF0F8"
             },
             "line": {
              "color": "white"
             }
            },
            "header": {
             "fill": {
              "color": "#C8D4E3"
             },
             "line": {
              "color": "white"
             }
            },
            "type": "table"
           }
          ]
         },
         "layout": {
          "annotationdefaults": {
           "arrowcolor": "#2a3f5f",
           "arrowhead": 0,
           "arrowwidth": 1
          },
          "autotypenumbers": "strict",
          "coloraxis": {
           "colorbar": {
            "outlinewidth": 0,
            "ticks": ""
           }
          },
          "colorscale": {
           "diverging": [
            [
             0,
             "#8e0152"
            ],
            [
             0.1,
             "#c51b7d"
            ],
            [
             0.2,
             "#de77ae"
            ],
            [
             0.3,
             "#f1b6da"
            ],
            [
             0.4,
             "#fde0ef"
            ],
            [
             0.5,
             "#f7f7f7"
            ],
            [
             0.6,
             "#e6f5d0"
            ],
            [
             0.7,
             "#b8e186"
            ],
            [
             0.8,
             "#7fbc41"
            ],
            [
             0.9,
             "#4d9221"
            ],
            [
             1,
             "#276419"
            ]
           ],
           "sequential": [
            [
             0,
             "#0d0887"
            ],
            [
             0.1111111111111111,
             "#46039f"
            ],
            [
             0.2222222222222222,
             "#7201a8"
            ],
            [
             0.3333333333333333,
             "#9c179e"
            ],
            [
             0.4444444444444444,
             "#bd3786"
            ],
            [
             0.5555555555555556,
             "#d8576b"
            ],
            [
             0.6666666666666666,
             "#ed7953"
            ],
            [
             0.7777777777777778,
             "#fb9f3a"
            ],
            [
             0.8888888888888888,
             "#fdca26"
            ],
            [
             1,
             "#f0f921"
            ]
           ],
           "sequentialminus": [
            [
             0,
             "#0d0887"
            ],
            [
             0.1111111111111111,
             "#46039f"
            ],
            [
             0.2222222222222222,
             "#7201a8"
            ],
            [
             0.3333333333333333,
             "#9c179e"
            ],
            [
             0.4444444444444444,
             "#bd3786"
            ],
            [
             0.5555555555555556,
             "#d8576b"
            ],
            [
             0.6666666666666666,
             "#ed7953"
            ],
            [
             0.7777777777777778,
             "#fb9f3a"
            ],
            [
             0.8888888888888888,
             "#fdca26"
            ],
            [
             1,
             "#f0f921"
            ]
           ]
          },
          "colorway": [
           "#636efa",
           "#EF553B",
           "#00cc96",
           "#ab63fa",
           "#FFA15A",
           "#19d3f3",
           "#FF6692",
           "#B6E880",
           "#FF97FF",
           "#FECB52"
          ],
          "font": {
           "color": "#2a3f5f"
          },
          "geo": {
           "bgcolor": "white",
           "lakecolor": "white",
           "landcolor": "#E5ECF6",
           "showlakes": true,
           "showland": true,
           "subunitcolor": "white"
          },
          "hoverlabel": {
           "align": "left"
          },
          "hovermode": "closest",
          "mapbox": {
           "style": "light"
          },
          "paper_bgcolor": "white",
          "plot_bgcolor": "#E5ECF6",
          "polar": {
           "angularaxis": {
            "gridcolor": "white",
            "linecolor": "white",
            "ticks": ""
           },
           "bgcolor": "#E5ECF6",
           "radialaxis": {
            "gridcolor": "white",
            "linecolor": "white",
            "ticks": ""
           }
          },
          "scene": {
           "xaxis": {
            "backgroundcolor": "#E5ECF6",
            "gridcolor": "white",
            "gridwidth": 2,
            "linecolor": "white",
            "showbackground": true,
            "ticks": "",
            "zerolinecolor": "white"
           },
           "yaxis": {
            "backgroundcolor": "#E5ECF6",
            "gridcolor": "white",
            "gridwidth": 2,
            "linecolor": "white",
            "showbackground": true,
            "ticks": "",
            "zerolinecolor": "white"
           },
           "zaxis": {
            "backgroundcolor": "#E5ECF6",
            "gridcolor": "white",
            "gridwidth": 2,
            "linecolor": "white",
            "showbackground": true,
            "ticks": "",
            "zerolinecolor": "white"
           }
          },
          "shapedefaults": {
           "line": {
            "color": "#2a3f5f"
           }
          },
          "ternary": {
           "aaxis": {
            "gridcolor": "white",
            "linecolor": "white",
            "ticks": ""
           },
           "baxis": {
            "gridcolor": "white",
            "linecolor": "white",
            "ticks": ""
           },
           "bgcolor": "#E5ECF6",
           "caxis": {
            "gridcolor": "white",
            "linecolor": "white",
            "ticks": ""
           }
          },
          "title": {
           "x": 0.05
          },
          "xaxis": {
           "automargin": true,
           "gridcolor": "white",
           "linecolor": "white",
           "ticks": "",
           "title": {
            "standoff": 15
           },
           "zerolinecolor": "white",
           "zerolinewidth": 2
          },
          "yaxis": {
           "automargin": true,
           "gridcolor": "white",
           "linecolor": "white",
           "ticks": "",
           "title": {
            "standoff": 15
           },
           "zerolinecolor": "white",
           "zerolinewidth": 2
          }
         }
        },
        "title": {
         "text": "Segment by Gender"
        },
        "width": 800,
        "xaxis": {
         "anchor": "y",
         "domain": [
          0,
          1
         ],
         "title": {
          "text": "branch"
         }
        },
        "yaxis": {
         "anchor": "x",
         "domain": [
          0,
          1
         ],
         "title": {
          "text": "sum of initial_fee_level"
         }
        }
       }
      },
      "text/html": [
       "<div>                            <div id=\"96d94dd8-933d-46a8-a008-09e741275e6f\" class=\"plotly-graph-div\" style=\"height:400px; width:800px;\"></div>            <script type=\"text/javascript\">                require([\"plotly\"], function(Plotly) {                    window.PLOTLYENV=window.PLOTLYENV || {};                                    if (document.getElementById(\"96d94dd8-933d-46a8-a008-09e741275e6f\")) {                    Plotly.newPlot(                        \"96d94dd8-933d-46a8-a008-09e741275e6f\",                        [{\"alignmentgroup\":\"True\",\"bingroup\":\"x\",\"histfunc\":\"sum\",\"hovertemplate\":\"gender=male<br>branch=%{x}<br>sum of initial_fee_level=%{y}<extra></extra>\",\"legendgroup\":\"male\",\"marker\":{\"color\":\"#636efa\",\"pattern\":{\"shape\":\"\"}},\"name\":\"male\",\"offsetgroup\":\"male\",\"orientation\":\"v\",\"showlegend\":true,\"x\":[\"Helsinki\",\"Helsinki\",\"Helsinki\",\"Helsinki\",\"Helsinki\",\"Helsinki\",\"Turku\",\"Helsinki\",\"Helsinki\",\"Helsinki\",\"Helsinki\",\"Tampere\",\"Helsinki\",\"Tampere\",\"Helsinki\",\"Helsinki\",\"Helsinki\",\"Helsinki\",\"Tampere\",\"Tampere\",\"Helsinki\",\"Tampere\",\"Helsinki\",\"Helsinki\",\"Helsinki\",\"Helsinki\",\"Helsinki\",\"Helsinki\",\"Tampere\",\"Helsinki\",\"Helsinki\",\"Helsinki\",\"Helsinki\",\"Helsinki\",\"Helsinki\",\"Helsinki\",\"Helsinki\",\"Helsinki\",\"Helsinki\",\"Helsinki\",\"Helsinki\",\"Helsinki\",\"Tampere\",\"Tampere\",\"Helsinki\",\"Helsinki\",\"Helsinki\",\"Helsinki\",\"Helsinki\",\"Helsinki\",\"Helsinki\",\"Helsinki\",\"Helsinki\",\"Turku\",\"Helsinki\",\"Tampere\",\"Helsinki\",\"Tampere\",\"Helsinki\",\"Tampere\",\"Helsinki\",\"Helsinki\",\"Tampere\",\"Helsinki\",\"Helsinki\",\"Tampere\",\"Helsinki\",\"Helsinki\",\"Tampere\",\"Turku\",\"Helsinki\",\"Helsinki\",\"Helsinki\",\"Helsinki\",\"Helsinki\",\"Helsinki\",\"Helsinki\",\"Helsinki\",\"Tampere\",\"Helsinki\",\"Helsinki\",\"Helsinki\",\"Helsinki\",\"Helsinki\",\"Helsinki\",\"Helsinki\",\"Helsinki\",\"Turku\",\"Helsinki\",\"Tampere\",\"Helsinki\",\"Helsinki\",\"Helsinki\",\"Helsinki\",\"Helsinki\",\"Helsinki\",\"Turku\",\"Helsinki\",\"Helsinki\",\"Helsinki\",\"Helsinki\",\"Helsinki\",\"Helsinki\",\"Tampere\",\"Helsinki\",\"Helsinki\",\"Tampere\",\"Tampere\",\"Helsinki\",\"Helsinki\",\"Helsinki\",\"Helsinki\",\"Helsinki\",\"Helsinki\",\"Helsinki\",\"Helsinki\",\"Helsinki\",\"Helsinki\",\"Helsinki\",\"Helsinki\",\"Helsinki\",\"Helsinki\",\"Helsinki\",\"Helsinki\",\"Helsinki\",\"Helsinki\",\"Helsinki\",\"Helsinki\",\"Helsinki\",\"Tampere\",\"Turku\",\"Helsinki\",\"Helsinki\",\"Helsinki\",\"Helsinki\",\"Helsinki\",\"Helsinki\",\"Helsinki\",\"Helsinki\",\"Helsinki\",\"Helsinki\",\"Helsinki\",\"Tampere\",\"Turku\",\"Turku\",\"Helsinki\",\"Helsinki\",\"Helsinki\",\"Tampere\",\"Helsinki\",\"Helsinki\",\"Helsinki\",\"Tampere\",\"Helsinki\",\"Tampere\",\"Helsinki\",\"Helsinki\",\"Tampere\",\"Helsinki\",\"Helsinki\",\"Helsinki\",\"Helsinki\",\"Helsinki\",\"Helsinki\",\"Helsinki\",\"Helsinki\",\"Helsinki\",\"Helsinki\",\"Helsinki\",\"Helsinki\",\"Helsinki\",\"Helsinki\",\"Helsinki\",\"Helsinki\",\"Helsinki\",\"Helsinki\",\"Helsinki\",\"Tampere\",\"Helsinki\",\"Helsinki\",\"Helsinki\",\"Tampere\",\"Helsinki\",\"Helsinki\",\"Tampere\",\"Helsinki\",\"Helsinki\",\"Tampere\",\"Tampere\",\"Tampere\",\"Helsinki\",\"Helsinki\",\"Helsinki\",\"Helsinki\",\"Helsinki\",\"Helsinki\",\"Helsinki\",\"Helsinki\",\"Helsinki\",\"Helsinki\",\"Helsinki\",\"Helsinki\",\"Helsinki\",\"Helsinki\",\"Helsinki\",\"Helsinki\",\"Helsinki\",\"Helsinki\",\"Helsinki\",\"Turku\",\"Helsinki\",\"Helsinki\",\"Helsinki\",\"Helsinki\",\"Helsinki\",\"Helsinki\",\"Helsinki\",\"Helsinki\",\"Helsinki\",\"Helsinki\",\"Helsinki\",\"Helsinki\",\"Helsinki\",\"Helsinki\",\"Tampere\",\"Tampere\",\"Tampere\",\"Helsinki\",\"Helsinki\",\"Helsinki\",\"Helsinki\",\"Helsinki\",\"Helsinki\",\"Helsinki\",\"Helsinki\",\"Helsinki\",\"Helsinki\",\"Helsinki\",\"Helsinki\",\"Helsinki\",\"Tampere\",\"Tampere\",\"Helsinki\",\"Helsinki\",\"Helsinki\",\"Helsinki\",\"Tampere\",\"Helsinki\",\"Helsinki\",\"Helsinki\",\"Tampere\",\"Helsinki\",\"Helsinki\",\"Turku\",\"Helsinki\",\"Helsinki\",\"Helsinki\",\"Helsinki\",\"Helsinki\",\"Turku\",\"Helsinki\",\"Helsinki\",\"Tampere\",\"Helsinki\",\"Helsinki\",\"Tampere\",\"Helsinki\",\"Helsinki\",\"Helsinki\",\"Tampere\",\"Helsinki\",\"Tampere\",\"Helsinki\",\"Helsinki\",\"Helsinki\",\"Helsinki\",\"Helsinki\",\"Helsinki\",\"Helsinki\",\"Helsinki\",\"Helsinki\",\"Helsinki\",\"Helsinki\",\"Helsinki\",\"Tampere\",\"Helsinki\",\"Tampere\",\"Helsinki\",\"Helsinki\",\"Helsinki\",\"Helsinki\",\"Helsinki\",\"Helsinki\",\"Tampere\",\"Helsinki\",\"Tampere\",\"Helsinki\",\"Helsinki\",\"Helsinki\",\"Helsinki\",\"Helsinki\",\"Helsinki\",\"Tampere\",\"Helsinki\",\"Tampere\",\"Helsinki\",\"Helsinki\",\"Helsinki\",\"Turku\",\"Helsinki\",\"Helsinki\",\"Helsinki\",\"Tampere\",\"Helsinki\",\"Helsinki\",\"Helsinki\",\"Tampere\",\"Helsinki\",\"Tampere\",\"Helsinki\",\"Helsinki\",\"Helsinki\",\"Tampere\",\"Helsinki\",\"Tampere\",\"Helsinki\",\"Helsinki\",\"Helsinki\",\"Helsinki\",\"Helsinki\",\"Helsinki\",\"Helsinki\",\"Helsinki\",\"Helsinki\",\"Helsinki\",\"Helsinki\",\"Tampere\",\"Tampere\",\"Helsinki\",\"Helsinki\",\"Helsinki\",\"Tampere\",\"Helsinki\",\"Helsinki\",\"Helsinki\",\"Helsinki\",\"Tampere\",\"Helsinki\",\"Helsinki\",\"Helsinki\",\"Tampere\",\"Helsinki\",\"Helsinki\",\"Turku\",\"Helsinki\",\"Helsinki\",\"Helsinki\",\"Helsinki\",\"Helsinki\",\"Helsinki\",\"Helsinki\",\"Helsinki\",\"Helsinki\",\"Helsinki\",\"Helsinki\",\"Helsinki\",\"Helsinki\",\"Helsinki\",\"Tampere\",\"Helsinki\",\"Helsinki\",\"Helsinki\",\"Tampere\",\"Helsinki\",\"Helsinki\",\"Helsinki\",\"Helsinki\",\"Helsinki\",\"Helsinki\",\"Turku\",\"Helsinki\",\"Helsinki\",\"Helsinki\",\"Helsinki\",\"Helsinki\",\"Helsinki\",\"Helsinki\",\"Helsinki\",\"Tampere\",\"Helsinki\",\"Helsinki\",\"Helsinki\",\"Helsinki\",\"Helsinki\",\"Helsinki\",\"Helsinki\",\"Helsinki\",\"Turku\",\"Helsinki\",\"Tampere\",\"Helsinki\",\"Helsinki\",\"Helsinki\",\"Tampere\",\"Helsinki\",\"Helsinki\",\"Tampere\",\"Helsinki\",\"Helsinki\",\"Helsinki\",\"Helsinki\",\"Helsinki\",\"Helsinki\",\"Helsinki\",\"Helsinki\",\"Tampere\",\"Helsinki\",\"Helsinki\",\"Helsinki\",\"Helsinki\",\"Helsinki\",\"Tampere\",\"Helsinki\",\"Helsinki\",\"Helsinki\",\"Helsinki\",\"Helsinki\",\"Helsinki\",\"Helsinki\",\"Tampere\",\"Helsinki\",\"Helsinki\",\"Tampere\",\"Helsinki\",\"Helsinki\",\"Helsinki\",\"Helsinki\",\"Helsinki\",\"Helsinki\",\"Helsinki\",\"Helsinki\",\"Helsinki\",\"Helsinki\",\"Helsinki\",\"Helsinki\",\"Helsinki\",\"Helsinki\",\"Helsinki\",\"Helsinki\",\"Helsinki\",\"Helsinki\",\"Tampere\",\"Turku\"],\"xaxis\":\"x\",\"y\":[14.5,16.1,103.725,42.15,16.1,62.55,58.25,52.0,26.0,71.0,526.0,55.4416,21.0,164.3416,104.0,16.1,79.375,15.6,123.9584,14.4584,93.8,14.4584,166.95,55.8,16.3166,17.325,21.0,147.0,28.9084,112.9916,15.3,58.0,18.0,19.0,94.2,68.75,16.1,16.1,15.7084,122.35,41.15,14.5,69.3084,126.7166,52.0,154.575,17.3084,15.85,15.7916,15.7916,104.0,16.1,15.85,15.5,42.0,495.0416,147.0,60.1416,154.575,22.4834,14.2834,13.95,15.7916,14.1,26.0,30.0916,106.2,18.4334,158.4,13.5,23.0,73.5,15.5916,52.0,26.0,25.05,16.1,29.0,122.7584,16.1,32.2,15.55,17.325,79.375,41.05,112.9916,67.0,58.25,15.85,61.3916,15.7084,26.0,0.0,62.775,78.0,53.1,31.0,15.7916,26.0,52.0,16.8084,19.0,12.9916,14.45,16.1,31.7,37.575,62.0,14.1,14.5,26.0,54.0,21.0,16.1,26.0,16.1,180.0,18.7,21.0,14.5,26.0,15.55,27.0,21.0,52.0,21.0,24.55,21.0,14.25,14.45,180.0,105.1084,52.0,53.1,32.2,62.775,159.3,0.0,21.0,79.375,15.55,0.0,59.4,58.25,15.5,15.7084,19.0,16.1,17.325,19.0,15.7916,26.0,25.75,15.7916,14.4584,0.0,303.1,48.0,15.7916,52.5,28.0,14.5,15.7916,12.475,57.0,306.925,36.0,133.2,16.1,71.0,52.0,26.0,26.0,26.0,31.8,17.325,18.45,14.4584,35.6,19.0,55.8,55.4416,14.1,14.5,110.8834,12.9916,16.1,271.2666,423.0,8.025,15.55,15.85,147.0,93.8,240.0,15.5916,15.85,15.5916,52.0,21.0,15.85,16.1,31.7,42.0,15.5,37.5,15.55,15.85,26.0,15.4666,15.75,40.425,16.1,53.1,14.25,111.8,526.0,21.0,19.0,15.55,163.7166,53.1,61.0,55.5,55.5,178.2084,15.7916,53.1,53.1,16.1,77.0,26.0,14.1,53.1,17.325,42.0,14.0916,15.0416,93.8,16.1,182.1584,59.4,16.1,31.8,14.5,61.0,99.0084,16.1,15.5916,17.325,217.8,45.05,112.9916,15.5,52.575,14.9916,68.0416,15.7916,15.7916,15.5,15.85,23.0,14.4584,53.1,52.0,212.85,52.0,41.05,73.5,221.7666,52.0,14.45,53.1,15.7916,27.0,48.3,15.7916,15.7084,21.0,52.775,16.1,29.0,15.85,52.0,80.25,30.0,158.4,16.1,14.25,14.5,52.0,48.3,0.0,113.8584,16.1,53.1,31.1,15.7916,61.0,16.1,28.8,21.0,28.9084,105.1084,31.4834,15.7084,32.2,64.6416,24.7,15.7916,60.0,14.1084,61.0,15.85,52.5,15.7084,153.4584,15.7916,71.0,16.8666,147.0,26.0,226.55,267.3,14.45,51.175,14.9916,15.85,147.0,26.0,16.1,104.0,21.0,26.0,15.55,16.1,1024.6584,153.4584,18.45,93.8,78.0,83.1584,79.375,20.3416,15.5916,114.0,14.45,53.1,27.0,16.1,221.7666,15.3,52.575,15.4834,15.7084,52.0,52.575,104.0,18.9666,26.0,15.3,15.55,14.1084,26.0,26.0,106.2,17.325,52.0,37.575,26.0,26.0,32.2,1024.6584,157.7,32.2,15.85,142.0,40.5,106.2,15.5,24.95,19.0,15.7916,29.0,15.5916,23.0,16.1,14.25,14.4584,15.55,16.725,19.0,15.7084,15.5,60.0,14.1,14.5,58.25,41.15,158.4,52.0,15.7916,26.0,14.4584,26.0,240.0,17.0334,13.95,15.55,0.0,26.0,15.775,48.3,21.0,16.1,74.0084,12.9,55.8,17.325,0.0,79.375,74.0084,37.5,15.7084,16.6,17.325,112.9916,15.85,21.0,12.875,17.325,15.1,15.7916,66.0,62.55,15.55,53.1,28.2166,23.0,26.0,100.9916,22.2666,15.7916,10.0,18.0,19.6916,15.7916,15.7916,21.0,14.1,26.0,60.0,15.5],\"yaxis\":\"y\",\"type\":\"histogram\"},{\"alignmentgroup\":\"True\",\"bingroup\":\"x\",\"histfunc\":\"sum\",\"hovertemplate\":\"gender=female<br>branch=%{x}<br>sum of initial_fee_level=%{y}<extra></extra>\",\"legendgroup\":\"female\",\"marker\":{\"color\":\"#EF553B\",\"pattern\":{\"shape\":\"\"}},\"name\":\"female\",\"offsetgroup\":\"female\",\"orientation\":\"v\",\"showlegend\":true,\"x\":[\"Tampere\",\"Helsinki\",\"Helsinki\",\"Helsinki\",\"Tampere\",\"Helsinki\",\"Helsinki\",\"Helsinki\",\"Helsinki\",\"Helsinki\",\"Turku\",\"Helsinki\",\"Helsinki\",\"Helsinki\",\"Tampere\",\"Helsinki\",\"Helsinki\",\"Tampere\",\"Turku\",\"Helsinki\",\"Tampere\",\"Helsinki\",\"Helsinki\",\"Helsinki\",\"Helsinki\",\"Helsinki\",\"Helsinki\",\"Helsinki\",\"Helsinki\",\"Helsinki\",\"Helsinki\",\"Helsinki\",\"Helsinki\",\"Helsinki\",\"Tampere\",\"Helsinki\",\"Tampere\",\"Helsinki\",\"Helsinki\",\"Helsinki\",\"Helsinki\",\"Helsinki\",\"Helsinki\",\"Helsinki\",\"Helsinki\",\"Helsinki\",\"Turku\",\"Helsinki\",\"Helsinki\",\"Helsinki\",\"Tampere\",\"Helsinki\",\"Helsinki\",\"Helsinki\",\"Tampere\",\"Tampere\",\"Helsinki\",\"Helsinki\",\"Turku\",\"Helsinki\",\"Tampere\",\"Helsinki\",\"Tampere\",\"Helsinki\",\"Helsinki\",\"Helsinki\",\"Helsinki\",\"Helsinki\",\"Helsinki\",\"Helsinki\",\"Tampere\",\"Helsinki\",\"Tampere\",\"Helsinki\",\"Helsinki\",\"Helsinki\",\"Helsinki\",\"Helsinki\",\"Helsinki\",\"Helsinki\",\"Turku\",\"Helsinki\",\"Tampere\",\"Helsinki\",\"Helsinki\",\"Tampere\",\"Tampere\",\"Tampere\",\"Tampere\",\"Tampere\",\"Helsinki\",\"Helsinki\",\"Helsinki\",\"Helsinki\",\"Tampere\",\"Turku\",\"Helsinki\",\"Tampere\",\"Helsinki\",\"Helsinki\",\"Tampere\",\"Tampere\",\"Helsinki\",\"Helsinki\",\"Helsinki\",\"Helsinki\",\"Helsinki\",\"Tampere\",\"Tampere\",\"Tampere\",\"Helsinki\",\"Helsinki\",\"Tampere\",\"Tampere\",\"Helsinki\",\"Helsinki\",\"Tampere\",\"Tampere\",\"Helsinki\",\"Helsinki\",\"Helsinki\",\"Helsinki\",\"Helsinki\",\"Turku\",\"Helsinki\",\"Helsinki\",\"Helsinki\",\"Helsinki\",\"Helsinki\",\"Helsinki\",\"Helsinki\",\"Helsinki\",\"Helsinki\",\"Helsinki\",\"Helsinki\",\"Helsinki\",\"Helsinki\",\"Tampere\",\"Helsinki\",\"Tampere\",\"Helsinki\",\"Tampere\",\"Helsinki\",\"Helsinki\",\"Helsinki\",\"Helsinki\",\"Tampere\",\"Helsinki\",\"Turku\",\"Helsinki\",\"Helsinki\",\"Helsinki\",\"Tampere\",\"Helsinki\",\"Helsinki\",\"Helsinki\",\"Tampere\",\"Helsinki\",\"Helsinki\",\"Helsinki\",\"Helsinki\",\"Tampere\",\"Tampere\",\"Helsinki\",\"Helsinki\",\"Helsinki\",\"Helsinki\",\"Helsinki\",\"Tampere\",\"Helsinki\",\"Helsinki\",\"Helsinki\",\"Helsinki\",\"Helsinki\",\"Helsinki\",\"Helsinki\",\"Tampere\",\"Helsinki\",\"Tampere\",\"Helsinki\",\"Tampere\",\"Helsinki\",\"Helsinki\",\"Helsinki\",\"Helsinki\",\"Helsinki\",\"Helsinki\",\"Helsinki\",\"Helsinki\",\"Helsinki\",\"Tampere\",\"Helsinki\",\"Tampere\",\"Helsinki\",\"Helsinki\",\"Turku\",\"Turku\",\"Helsinki\",\"Helsinki\",\"Helsinki\",\"Helsinki\",\"Tampere\",\"Tampere\",\"Tampere\",\"Helsinki\",\"Helsinki\",\"Tampere\",\"Tampere\",\"Helsinki\",\"Helsinki\",\"Helsinki\",\"Helsinki\",\"Helsinki\",\"Helsinki\",\"Tampere\",\"Helsinki\",\"Helsinki\",\"Helsinki\",\"Helsinki\",\"Helsinki\",\"Helsinki\",\"Turku\",\"Helsinki\",\"Helsinki\",\"Helsinki\",\"Helsinki\",\"Tampere\",\"Helsinki\",\"Helsinki\",\"Helsinki\",\"Helsinki\",\"Helsinki\",\"Helsinki\",\"Helsinki\",\"Helsinki\",\"Helsinki\",\"Helsinki\",\"Helsinki\",\"Helsinki\",\"Tampere\",\"Tampere\",\"Tampere\",\"Tampere\",\"Helsinki\",\"Helsinki\",\"Helsinki\",\"Helsinki\",\"Tampere\",\"Helsinki\",\"Helsinki\",\"Tampere\",\"Helsinki\",\"Tampere\",\"Tampere\",\"Tampere\",\"Helsinki\",\"Helsinki\",\"Turku\",\"Helsinki\"],\"xaxis\":\"x\",\"y\":[142.5666,15.85,106.2,22.2666,60.1416,33.4,53.1,15.7084,32.0,36.0,16.0584,42.15,62.775,36.0,22.4834,18.95,42.0,83.1584,15.7584,35.6,153.4584,52.0,21.0,55.5,21.0,15.85,93.8,24.95,21.0,31.7,526.0,46.0,15.7916,15.3,28.9084,19.65,28.9166,62.55,26.0,29.0,52.0,52.5666,15.5,31.7,68.75,133.2,15.4666,31.5,55.8,22.2666,57.425,44.05,26.0,15.7084,55.4416,293.0416,26.0,20.925,15.5,42.0,226.55,15.85,152.5834,166.95,62.775,52.5,15.55,29.0,20.925,40.425,30.4916,173.0,1024.6584,52.0,306.925,271.2666,39.0,155.9166,15.5,40.5,15.5,157.7,182.1584,17.7,303.1,495.0416,217.8,113.8584,166.3166,524.75,52.0,15.7084,52.0,329.7334,269.0,24.7,58.0,271.2666,26.0,41.05,115.9584,269.0,526.0,26.0,26.0,110.0,26.0,28.9084,150.5,138.6,42.15,14.5,455.05,31.4834,104.0,26.0,24.0,226.55,33.4,15.7084,25.3,19.65,17.325,180.0,65.0,26.0,48.3,28.8,52.0,52.0,52.0,240.0,68.75,37.5,52.5,26.0,39.0,38.5166,21.0,38.5166,55.5,27.5834,19.675,24.575,19.175,180.0,156.5334,303.1,15.5,19.175,173.0,52.0,118.8,21.0,52.0,187.0,115.9584,21.0,52.0,17.325,52.5,212.85,99.0,142.0,62.55,62.55,52.0,15.55,79.2,159.3,34.8,42.15,102.9584,26.0,111.8,60.0,221.7666,159.3,156.5334,54.0,83.1584,306.925,62.55,130.0,32.2,78.0,155.9166,55.8,26.0,79.375,138.6,55.8,38.5166,15.1,46.0,13.5,31.0,78.0,19.6834,93.8,422.675,26.8334,455.05,28.9084,27.0,303.1,99.0084,455.05,21.0,66.0,42.0,15.85,422.675,68.75,524.75,26.0,46.0,130.0,173.0,240.0,155.9166,15.5,21.0,46.0,24.95,422.675,14.4584,114.0,14.9916,51.8584,17.3666,48.3,52.5,15.55,106.2,62.55,15.85,187.0,24.95,28.9084,166.3166,62.0,30.4916,78.8,52.0,18.7,329.7334,38.5166,51.8584,26.0,27.7166,105.1084,48.0,14.45,166.3166,52.0,21.0334,58.25,60.0],\"yaxis\":\"y\",\"type\":\"histogram\"}],                        {\"template\":{\"data\":{\"bar\":[{\"error_x\":{\"color\":\"#2a3f5f\"},\"error_y\":{\"color\":\"#2a3f5f\"},\"marker\":{\"line\":{\"color\":\"#E5ECF6\",\"width\":0.5},\"pattern\":{\"fillmode\":\"overlay\",\"size\":10,\"solidity\":0.2}},\"type\":\"bar\"}],\"barpolar\":[{\"marker\":{\"line\":{\"color\":\"#E5ECF6\",\"width\":0.5},\"pattern\":{\"fillmode\":\"overlay\",\"size\":10,\"solidity\":0.2}},\"type\":\"barpolar\"}],\"carpet\":[{\"aaxis\":{\"endlinecolor\":\"#2a3f5f\",\"gridcolor\":\"white\",\"linecolor\":\"white\",\"minorgridcolor\":\"white\",\"startlinecolor\":\"#2a3f5f\"},\"baxis\":{\"endlinecolor\":\"#2a3f5f\",\"gridcolor\":\"white\",\"linecolor\":\"white\",\"minorgridcolor\":\"white\",\"startlinecolor\":\"#2a3f5f\"},\"type\":\"carpet\"}],\"choropleth\":[{\"colorbar\":{\"outlinewidth\":0,\"ticks\":\"\"},\"type\":\"choropleth\"}],\"contour\":[{\"colorbar\":{\"outlinewidth\":0,\"ticks\":\"\"},\"colorscale\":[[0.0,\"#0d0887\"],[0.1111111111111111,\"#46039f\"],[0.2222222222222222,\"#7201a8\"],[0.3333333333333333,\"#9c179e\"],[0.4444444444444444,\"#bd3786\"],[0.5555555555555556,\"#d8576b\"],[0.6666666666666666,\"#ed7953\"],[0.7777777777777778,\"#fb9f3a\"],[0.8888888888888888,\"#fdca26\"],[1.0,\"#f0f921\"]],\"type\":\"contour\"}],\"contourcarpet\":[{\"colorbar\":{\"outlinewidth\":0,\"ticks\":\"\"},\"type\":\"contourcarpet\"}],\"heatmap\":[{\"colorbar\":{\"outlinewidth\":0,\"ticks\":\"\"},\"colorscale\":[[0.0,\"#0d0887\"],[0.1111111111111111,\"#46039f\"],[0.2222222222222222,\"#7201a8\"],[0.3333333333333333,\"#9c179e\"],[0.4444444444444444,\"#bd3786\"],[0.5555555555555556,\"#d8576b\"],[0.6666666666666666,\"#ed7953\"],[0.7777777777777778,\"#fb9f3a\"],[0.8888888888888888,\"#fdca26\"],[1.0,\"#f0f921\"]],\"type\":\"heatmap\"}],\"heatmapgl\":[{\"colorbar\":{\"outlinewidth\":0,\"ticks\":\"\"},\"colorscale\":[[0.0,\"#0d0887\"],[0.1111111111111111,\"#46039f\"],[0.2222222222222222,\"#7201a8\"],[0.3333333333333333,\"#9c179e\"],[0.4444444444444444,\"#bd3786\"],[0.5555555555555556,\"#d8576b\"],[0.6666666666666666,\"#ed7953\"],[0.7777777777777778,\"#fb9f3a\"],[0.8888888888888888,\"#fdca26\"],[1.0,\"#f0f921\"]],\"type\":\"heatmapgl\"}],\"histogram\":[{\"marker\":{\"pattern\":{\"fillmode\":\"overlay\",\"size\":10,\"solidity\":0.2}},\"type\":\"histogram\"}],\"histogram2d\":[{\"colorbar\":{\"outlinewidth\":0,\"ticks\":\"\"},\"colorscale\":[[0.0,\"#0d0887\"],[0.1111111111111111,\"#46039f\"],[0.2222222222222222,\"#7201a8\"],[0.3333333333333333,\"#9c179e\"],[0.4444444444444444,\"#bd3786\"],[0.5555555555555556,\"#d8576b\"],[0.6666666666666666,\"#ed7953\"],[0.7777777777777778,\"#fb9f3a\"],[0.8888888888888888,\"#fdca26\"],[1.0,\"#f0f921\"]],\"type\":\"histogram2d\"}],\"histogram2dcontour\":[{\"colorbar\":{\"outlinewidth\":0,\"ticks\":\"\"},\"colorscale\":[[0.0,\"#0d0887\"],[0.1111111111111111,\"#46039f\"],[0.2222222222222222,\"#7201a8\"],[0.3333333333333333,\"#9c179e\"],[0.4444444444444444,\"#bd3786\"],[0.5555555555555556,\"#d8576b\"],[0.6666666666666666,\"#ed7953\"],[0.7777777777777778,\"#fb9f3a\"],[0.8888888888888888,\"#fdca26\"],[1.0,\"#f0f921\"]],\"type\":\"histogram2dcontour\"}],\"mesh3d\":[{\"colorbar\":{\"outlinewidth\":0,\"ticks\":\"\"},\"type\":\"mesh3d\"}],\"parcoords\":[{\"line\":{\"colorbar\":{\"outlinewidth\":0,\"ticks\":\"\"}},\"type\":\"parcoords\"}],\"pie\":[{\"automargin\":true,\"type\":\"pie\"}],\"scatter\":[{\"marker\":{\"colorbar\":{\"outlinewidth\":0,\"ticks\":\"\"}},\"type\":\"scatter\"}],\"scatter3d\":[{\"line\":{\"colorbar\":{\"outlinewidth\":0,\"ticks\":\"\"}},\"marker\":{\"colorbar\":{\"outlinewidth\":0,\"ticks\":\"\"}},\"type\":\"scatter3d\"}],\"scattercarpet\":[{\"marker\":{\"colorbar\":{\"outlinewidth\":0,\"ticks\":\"\"}},\"type\":\"scattercarpet\"}],\"scattergeo\":[{\"marker\":{\"colorbar\":{\"outlinewidth\":0,\"ticks\":\"\"}},\"type\":\"scattergeo\"}],\"scattergl\":[{\"marker\":{\"colorbar\":{\"outlinewidth\":0,\"ticks\":\"\"}},\"type\":\"scattergl\"}],\"scattermapbox\":[{\"marker\":{\"colorbar\":{\"outlinewidth\":0,\"ticks\":\"\"}},\"type\":\"scattermapbox\"}],\"scatterpolar\":[{\"marker\":{\"colorbar\":{\"outlinewidth\":0,\"ticks\":\"\"}},\"type\":\"scatterpolar\"}],\"scatterpolargl\":[{\"marker\":{\"colorbar\":{\"outlinewidth\":0,\"ticks\":\"\"}},\"type\":\"scatterpolargl\"}],\"scatterternary\":[{\"marker\":{\"colorbar\":{\"outlinewidth\":0,\"ticks\":\"\"}},\"type\":\"scatterternary\"}],\"surface\":[{\"colorbar\":{\"outlinewidth\":0,\"ticks\":\"\"},\"colorscale\":[[0.0,\"#0d0887\"],[0.1111111111111111,\"#46039f\"],[0.2222222222222222,\"#7201a8\"],[0.3333333333333333,\"#9c179e\"],[0.4444444444444444,\"#bd3786\"],[0.5555555555555556,\"#d8576b\"],[0.6666666666666666,\"#ed7953\"],[0.7777777777777778,\"#fb9f3a\"],[0.8888888888888888,\"#fdca26\"],[1.0,\"#f0f921\"]],\"type\":\"surface\"}],\"table\":[{\"cells\":{\"fill\":{\"color\":\"#EBF0F8\"},\"line\":{\"color\":\"white\"}},\"header\":{\"fill\":{\"color\":\"#C8D4E3\"},\"line\":{\"color\":\"white\"}},\"type\":\"table\"}]},\"layout\":{\"annotationdefaults\":{\"arrowcolor\":\"#2a3f5f\",\"arrowhead\":0,\"arrowwidth\":1},\"autotypenumbers\":\"strict\",\"coloraxis\":{\"colorbar\":{\"outlinewidth\":0,\"ticks\":\"\"}},\"colorscale\":{\"diverging\":[[0,\"#8e0152\"],[0.1,\"#c51b7d\"],[0.2,\"#de77ae\"],[0.3,\"#f1b6da\"],[0.4,\"#fde0ef\"],[0.5,\"#f7f7f7\"],[0.6,\"#e6f5d0\"],[0.7,\"#b8e186\"],[0.8,\"#7fbc41\"],[0.9,\"#4d9221\"],[1,\"#276419\"]],\"sequential\":[[0.0,\"#0d0887\"],[0.1111111111111111,\"#46039f\"],[0.2222222222222222,\"#7201a8\"],[0.3333333333333333,\"#9c179e\"],[0.4444444444444444,\"#bd3786\"],[0.5555555555555556,\"#d8576b\"],[0.6666666666666666,\"#ed7953\"],[0.7777777777777778,\"#fb9f3a\"],[0.8888888888888888,\"#fdca26\"],[1.0,\"#f0f921\"]],\"sequentialminus\":[[0.0,\"#0d0887\"],[0.1111111111111111,\"#46039f\"],[0.2222222222222222,\"#7201a8\"],[0.3333333333333333,\"#9c179e\"],[0.4444444444444444,\"#bd3786\"],[0.5555555555555556,\"#d8576b\"],[0.6666666666666666,\"#ed7953\"],[0.7777777777777778,\"#fb9f3a\"],[0.8888888888888888,\"#fdca26\"],[1.0,\"#f0f921\"]]},\"colorway\":[\"#636efa\",\"#EF553B\",\"#00cc96\",\"#ab63fa\",\"#FFA15A\",\"#19d3f3\",\"#FF6692\",\"#B6E880\",\"#FF97FF\",\"#FECB52\"],\"font\":{\"color\":\"#2a3f5f\"},\"geo\":{\"bgcolor\":\"white\",\"lakecolor\":\"white\",\"landcolor\":\"#E5ECF6\",\"showlakes\":true,\"showland\":true,\"subunitcolor\":\"white\"},\"hoverlabel\":{\"align\":\"left\"},\"hovermode\":\"closest\",\"mapbox\":{\"style\":\"light\"},\"paper_bgcolor\":\"white\",\"plot_bgcolor\":\"#E5ECF6\",\"polar\":{\"angularaxis\":{\"gridcolor\":\"white\",\"linecolor\":\"white\",\"ticks\":\"\"},\"bgcolor\":\"#E5ECF6\",\"radialaxis\":{\"gridcolor\":\"white\",\"linecolor\":\"white\",\"ticks\":\"\"}},\"scene\":{\"xaxis\":{\"backgroundcolor\":\"#E5ECF6\",\"gridcolor\":\"white\",\"gridwidth\":2,\"linecolor\":\"white\",\"showbackground\":true,\"ticks\":\"\",\"zerolinecolor\":\"white\"},\"yaxis\":{\"backgroundcolor\":\"#E5ECF6\",\"gridcolor\":\"white\",\"gridwidth\":2,\"linecolor\":\"white\",\"showbackground\":true,\"ticks\":\"\",\"zerolinecolor\":\"white\"},\"zaxis\":{\"backgroundcolor\":\"#E5ECF6\",\"gridcolor\":\"white\",\"gridwidth\":2,\"linecolor\":\"white\",\"showbackground\":true,\"ticks\":\"\",\"zerolinecolor\":\"white\"}},\"shapedefaults\":{\"line\":{\"color\":\"#2a3f5f\"}},\"ternary\":{\"aaxis\":{\"gridcolor\":\"white\",\"linecolor\":\"white\",\"ticks\":\"\"},\"baxis\":{\"gridcolor\":\"white\",\"linecolor\":\"white\",\"ticks\":\"\"},\"bgcolor\":\"#E5ECF6\",\"caxis\":{\"gridcolor\":\"white\",\"linecolor\":\"white\",\"ticks\":\"\"}},\"title\":{\"x\":0.05},\"xaxis\":{\"automargin\":true,\"gridcolor\":\"white\",\"linecolor\":\"white\",\"ticks\":\"\",\"title\":{\"standoff\":15},\"zerolinecolor\":\"white\",\"zerolinewidth\":2},\"yaxis\":{\"automargin\":true,\"gridcolor\":\"white\",\"linecolor\":\"white\",\"ticks\":\"\",\"title\":{\"standoff\":15},\"zerolinecolor\":\"white\",\"zerolinewidth\":2}}},\"xaxis\":{\"anchor\":\"y\",\"domain\":[0.0,1.0],\"title\":{\"text\":\"branch\"}},\"yaxis\":{\"anchor\":\"x\",\"domain\":[0.0,1.0],\"title\":{\"text\":\"sum of initial_fee_level\"}},\"legend\":{\"title\":{\"text\":\"gender\"},\"tracegroupgap\":0},\"title\":{\"text\":\"Segment by Gender\"},\"barmode\":\"group\",\"height\":400,\"width\":800},                        {\"responsive\": true}                    ).then(function(){\n",
       "                            \n",
       "var gd = document.getElementById('96d94dd8-933d-46a8-a008-09e741275e6f');\n",
       "var x = new MutationObserver(function (mutations, observer) {{\n",
       "        var display = window.getComputedStyle(gd).display;\n",
       "        if (!display || display === 'none') {{\n",
       "            console.log([gd, 'removed!']);\n",
       "            Plotly.purge(gd);\n",
       "            observer.disconnect();\n",
       "        }}\n",
       "}});\n",
       "\n",
       "// Listen for the removal of the full notebook cells\n",
       "var notebookContainer = gd.closest('#notebook-container');\n",
       "if (notebookContainer) {{\n",
       "    x.observe(notebookContainer, {childList: true});\n",
       "}}\n",
       "\n",
       "// Listen for the clearing of the current output cell\n",
       "var outputEl = gd.closest('.output');\n",
       "if (outputEl) {{\n",
       "    x.observe(outputEl, {childList: true});\n",
       "}}\n",
       "\n",
       "                        })                };                });            </script>        </div>"
      ]
     },
     "metadata": {},
     "output_type": "display_data"
    }
   ],
   "source": [
    "#Viewing the data with Gender as feature\n",
    "fig = px.histogram(clean_data, x=\"branch\", y=\"initial_fee_level\",\n",
    "             color='gender', barmode='group',\n",
    "             title='Segment by Gender',\n",
    "             width=800, height=400)\n",
    "fig.show()"
   ]
  },
  {
   "cell_type": "code",
   "execution_count": 115,
   "id": "e402f473",
   "metadata": {},
   "outputs": [
    {
     "data": {
      "application/vnd.plotly.v1+json": {
       "config": {
        "plotlyServerURL": "https://plot.ly"
       },
       "data": [
        {
         "alignmentgroup": "True",
         "bingroup": "x",
         "histfunc": "sum",
         "hovertemplate": "customer_segment=13<br>branch=%{x}<br>sum of initial_fee_level=%{y}<extra></extra>",
         "legendgroup": "13",
         "marker": {
          "color": "#636efa",
          "pattern": {
           "shape": ""
          }
         },
         "name": "13",
         "offsetgroup": "13",
         "orientation": "v",
         "showlegend": true,
         "type": "histogram",
         "x": [
          "Helsinki",
          "Helsinki",
          "Helsinki",
          "Helsinki",
          "Helsinki",
          "Helsinki",
          "Helsinki",
          "Helsinki",
          "Helsinki",
          "Turku",
          "Helsinki",
          "Turku",
          "Helsinki",
          "Helsinki",
          "Helsinki",
          "Helsinki",
          "Tampere",
          "Helsinki",
          "Turku",
          "Helsinki",
          "Helsinki",
          "Helsinki",
          "Tampere",
          "Helsinki",
          "Tampere",
          "Helsinki",
          "Helsinki",
          "Helsinki",
          "Helsinki",
          "Helsinki",
          "Tampere",
          "Helsinki",
          "Helsinki",
          "Helsinki",
          "Helsinki",
          "Helsinki",
          "Helsinki",
          "Helsinki",
          "Helsinki",
          "Helsinki",
          "Helsinki",
          "Helsinki",
          "Helsinki",
          "Helsinki",
          "Helsinki",
          "Helsinki",
          "Helsinki",
          "Helsinki",
          "Helsinki",
          "Tampere",
          "Helsinki",
          "Helsinki",
          "Tampere",
          "Helsinki",
          "Turku",
          "Helsinki",
          "Tampere",
          "Helsinki",
          "Helsinki",
          "Tampere",
          "Helsinki",
          "Helsinki",
          "Helsinki",
          "Helsinki",
          "Helsinki",
          "Turku",
          "Helsinki",
          "Helsinki",
          "Helsinki",
          "Helsinki",
          "Turku",
          "Helsinki",
          "Helsinki",
          "Helsinki",
          "Helsinki",
          "Helsinki",
          "Helsinki",
          "Helsinki",
          "Helsinki",
          "Turku",
          "Helsinki",
          "Helsinki",
          "Helsinki",
          "Helsinki",
          "Helsinki",
          "Helsinki",
          "Turku",
          "Helsinki",
          "Helsinki",
          "Helsinki",
          "Helsinki",
          "Helsinki",
          "Tampere",
          "Helsinki",
          "Helsinki",
          "Helsinki",
          "Tampere",
          "Turku",
          "Helsinki",
          "Helsinki",
          "Helsinki",
          "Helsinki",
          "Helsinki",
          "Helsinki",
          "Helsinki",
          "Helsinki",
          "Helsinki",
          "Helsinki",
          "Tampere",
          "Helsinki",
          "Helsinki",
          "Helsinki",
          "Helsinki",
          "Tampere",
          "Helsinki",
          "Helsinki",
          "Helsinki",
          "Helsinki",
          "Helsinki",
          "Turku",
          "Helsinki",
          "Turku",
          "Helsinki",
          "Helsinki",
          "Helsinki",
          "Tampere",
          "Helsinki",
          "Helsinki",
          "Turku",
          "Helsinki",
          "Helsinki",
          "Tampere",
          "Helsinki",
          "Helsinki",
          "Helsinki",
          "Helsinki",
          "Helsinki",
          "Helsinki",
          "Helsinki",
          "Helsinki",
          "Helsinki",
          "Helsinki",
          "Helsinki",
          "Helsinki",
          "Tampere",
          "Helsinki",
          "Helsinki",
          "Helsinki",
          "Tampere",
          "Helsinki",
          "Helsinki",
          "Helsinki",
          "Helsinki",
          "Helsinki",
          "Helsinki",
          "Tampere",
          "Helsinki",
          "Tampere",
          "Helsinki",
          "Helsinki",
          "Helsinki",
          "Helsinki",
          "Helsinki",
          "Helsinki",
          "Helsinki",
          "Helsinki",
          "Helsinki",
          "Helsinki",
          "Helsinki",
          "Helsinki",
          "Helsinki",
          "Helsinki",
          "Helsinki",
          "Helsinki",
          "Turku",
          "Helsinki",
          "Helsinki",
          "Helsinki",
          "Helsinki",
          "Helsinki",
          "Helsinki",
          "Helsinki",
          "Helsinki",
          "Tampere",
          "Tampere",
          "Helsinki",
          "Helsinki",
          "Tampere",
          "Helsinki",
          "Helsinki",
          "Helsinki",
          "Helsinki",
          "Helsinki",
          "Helsinki",
          "Helsinki",
          "Helsinki",
          "Helsinki",
          "Helsinki",
          "Helsinki",
          "Helsinki",
          "Helsinki",
          "Helsinki",
          "Turku",
          "Helsinki",
          "Helsinki",
          "Helsinki",
          "Turku",
          "Helsinki",
          "Helsinki",
          "Helsinki",
          "Turku",
          "Helsinki",
          "Tampere",
          "Helsinki",
          "Helsinki",
          "Helsinki",
          "Helsinki",
          "Tampere",
          "Helsinki",
          "Helsinki",
          "Helsinki",
          "Helsinki",
          "Helsinki",
          "Helsinki",
          "Helsinki",
          "Helsinki",
          "Helsinki",
          "Helsinki",
          "Helsinki",
          "Helsinki",
          "Helsinki",
          "Helsinki",
          "Helsinki",
          "Helsinki",
          "Helsinki",
          "Helsinki",
          "Helsinki",
          "Helsinki",
          "Helsinki",
          "Helsinki",
          "Tampere",
          "Tampere",
          "Helsinki",
          "Helsinki",
          "Helsinki",
          "Helsinki",
          "Helsinki",
          "Helsinki",
          "Helsinki",
          "Helsinki",
          "Helsinki",
          "Tampere",
          "Helsinki",
          "Helsinki",
          "Helsinki",
          "Turku",
          "Turku",
          "Tampere",
          "Helsinki",
          "Helsinki",
          "Helsinki",
          "Helsinki",
          "Helsinki",
          "Helsinki",
          "Helsinki",
          "Helsinki",
          "Helsinki",
          "Helsinki",
          "Helsinki",
          "Helsinki",
          "Tampere",
          "Tampere",
          "Helsinki",
          "Helsinki",
          "Tampere",
          "Turku",
          "Helsinki",
          "Helsinki",
          "Helsinki",
          "Helsinki",
          "Helsinki",
          "Helsinki",
          "Helsinki",
          "Tampere",
          "Helsinki",
          "Helsinki",
          "Helsinki",
          "Helsinki",
          "Helsinki",
          "Turku",
          "Helsinki",
          "Helsinki",
          "Helsinki",
          "Helsinki",
          "Helsinki",
          "Helsinki",
          "Tampere",
          "Helsinki",
          "Turku",
          "Helsinki",
          "Helsinki",
          "Helsinki",
          "Helsinki",
          "Helsinki",
          "Tampere",
          "Helsinki",
          "Helsinki",
          "Helsinki",
          "Turku",
          "Helsinki",
          "Helsinki",
          "Helsinki",
          "Tampere",
          "Helsinki",
          "Tampere",
          "Helsinki",
          "Helsinki",
          "Helsinki",
          "Helsinki",
          "Helsinki",
          "Helsinki",
          "Helsinki",
          "Helsinki",
          "Helsinki",
          "Helsinki",
          "Helsinki",
          "Helsinki",
          "Helsinki",
          "Tampere",
          "Helsinki",
          "Helsinki",
          "Helsinki",
          "Helsinki",
          "Helsinki",
          "Tampere",
          "Helsinki",
          "Helsinki",
          "Tampere",
          "Helsinki",
          "Helsinki",
          "Tampere",
          "Helsinki",
          "Tampere",
          "Helsinki",
          "Helsinki",
          "Helsinki",
          "Helsinki",
          "Tampere",
          "Helsinki",
          "Helsinki",
          "Helsinki",
          "Helsinki",
          "Helsinki",
          "Turku",
          "Turku"
         ],
         "xaxis": "x",
         "y": [
          14.5,
          15.85,
          16.1,
          42.15,
          22.2666,
          33.4,
          16.1,
          62.55,
          15.7084,
          58.25,
          36,
          16.0584,
          42.15,
          62.775,
          16.1,
          36,
          22.4834,
          18.95,
          15.7584,
          35.6,
          79.375,
          15.6,
          14.4584,
          93.8,
          14.4584,
          55.8,
          16.3166,
          15.85,
          17.325,
          93.8,
          28.9084,
          112.9916,
          15.3,
          24.95,
          18,
          19,
          31.7,
          68.75,
          16.1,
          16.1,
          15.7084,
          41.15,
          14.5,
          15.7916,
          17.3084,
          15.85,
          15.7916,
          15.3,
          15.7916,
          28.9084,
          16.1,
          19.65,
          28.9166,
          15.85,
          15.5,
          62.55,
          22.4834,
          14.2834,
          13.95,
          15.7916,
          14.1,
          29,
          18.4334,
          15.5,
          31.7,
          13.5,
          15.5916,
          68.75,
          16.1,
          29,
          15.4666,
          16.1,
          32.2,
          15.55,
          17.325,
          79.375,
          41.05,
          55.8,
          112.9916,
          58.25,
          22.2666,
          15.85,
          15.7084,
          0,
          62.775,
          44.05,
          31,
          15.7916,
          15.7084,
          16.8084,
          19,
          12.9916,
          14.45,
          16.1,
          20.925,
          31.7,
          37.575,
          15.5,
          14.1,
          14.5,
          15.85,
          16.1,
          16.1,
          18.7,
          14.5,
          15.55,
          62.775,
          14.25,
          14.45,
          15.55,
          20.925,
          32.2,
          40.425,
          30.4916,
          62.775,
          79.375,
          15.55,
          0,
          15.5,
          58.25,
          40.5,
          15.5,
          15.7084,
          19,
          16.1,
          17.325,
          19,
          15.7916,
          15.5,
          17.7,
          15.7916,
          14.4584,
          0,
          15.7916,
          15.7084,
          14.5,
          15.7916,
          12.475,
          41.05,
          36,
          16.1,
          31.8,
          17.325,
          18.45,
          14.4584,
          35.6,
          19,
          55.8,
          28.9084,
          14.1,
          14.5,
          12.9916,
          16.1,
          42.15,
          14.5,
          8.025,
          15.55,
          31.4834,
          15.85,
          93.8,
          15.5916,
          15.85,
          33.4,
          15.5916,
          15.7084,
          15.85,
          16.1,
          19.65,
          31.7,
          17.325,
          15.5,
          15.55,
          15.85,
          48.3,
          15.4666,
          15.75,
          28.8,
          40.425,
          16.1,
          14.25,
          68.75,
          19,
          15.55,
          38.5166,
          15.7916,
          16.1,
          14.1,
          38.5166,
          17.325,
          19.675,
          14.0916,
          15.0416,
          24.575,
          93.8,
          16.1,
          19.175,
          16.1,
          31.8,
          14.5,
          16.1,
          15.5916,
          17.325,
          15.5,
          19.175,
          45.05,
          112.9916,
          15.5,
          14.9916,
          15.7916,
          15.7916,
          15.5,
          15.85,
          14.4584,
          17.325,
          62.55,
          62.55,
          41.05,
          14.45,
          15.55,
          34.8,
          15.7916,
          48.3,
          15.7916,
          42.15,
          15.7084,
          16.1,
          29,
          15.85,
          16.1,
          14.25,
          14.5,
          48.3,
          0,
          16.1,
          31.1,
          15.7916,
          62.55,
          16.1,
          28.8,
          32.2,
          28.9084,
          31.4834,
          15.7084,
          32.2,
          15.7916,
          14.1084,
          55.8,
          15.85,
          79.375,
          15.7084,
          55.8,
          38.5166,
          15.7916,
          15.1,
          16.8666,
          13.5,
          31,
          14.45,
          14.9916,
          15.85,
          16.1,
          15.55,
          16.1,
          19.6834,
          93.8,
          18.45,
          93.8,
          79.375,
          20.3416,
          15.5916,
          26.8334,
          14.45,
          16.1,
          15.3,
          28.9084,
          15.4834,
          15.7084,
          18.9666,
          15.3,
          15.55,
          14.1084,
          17.325,
          15.85,
          37.575,
          32.2,
          68.75,
          32.2,
          15.85,
          40.5,
          15.5,
          24.95,
          19,
          15.7916,
          15.5916,
          16.1,
          14.25,
          14.4584,
          15.55,
          15.5,
          16.725,
          19,
          15.7084,
          15.5,
          24.95,
          14.4584,
          14.1,
          14.5,
          14.9916,
          58.25,
          41.15,
          15.7916,
          17.3666,
          14.4584,
          48.3,
          17.0334,
          13.95,
          15.55,
          15.55,
          15.775,
          48.3,
          62.55,
          16.1,
          15.85,
          12.9,
          55.8,
          17.325,
          24.95,
          79.375,
          28.9084,
          15.7084,
          16.6,
          17.325,
          112.9916,
          15.85,
          12.875,
          17.325,
          15.1,
          15.7916,
          62.55,
          15.55,
          30.4916,
          18.7,
          38.5166,
          28.2166,
          22.2666,
          15.7916,
          18,
          14.45,
          19.6916,
          15.7916,
          15.7916,
          21.0334,
          14.1,
          58.25,
          15.5
         ],
         "yaxis": "y"
        },
        {
         "alignmentgroup": "True",
         "bingroup": "x",
         "histfunc": "sum",
         "hovertemplate": "customer_segment=11<br>branch=%{x}<br>sum of initial_fee_level=%{y}<extra></extra>",
         "legendgroup": "11",
         "marker": {
          "color": "#EF553B",
          "pattern": {
           "shape": ""
          }
         },
         "name": "11",
         "offsetgroup": "11",
         "orientation": "v",
         "showlegend": true,
         "type": "histogram",
         "x": [
          "Tampere",
          "Helsinki",
          "Helsinki",
          "Helsinki",
          "Helsinki",
          "Helsinki",
          "Tampere",
          "Tampere",
          "Helsinki",
          "Tampere",
          "Tampere",
          "Helsinki",
          "Helsinki",
          "Helsinki",
          "Helsinki",
          "Tampere",
          "Tampere",
          "Helsinki",
          "Helsinki",
          "Tampere",
          "Helsinki",
          "Helsinki",
          "Helsinki",
          "Tampere",
          "Helsinki",
          "Tampere",
          "Helsinki",
          "Tampere",
          "Tampere",
          "Helsinki",
          "Tampere",
          "Tampere",
          "Tampere",
          "Tampere",
          "Tampere",
          "Helsinki",
          "Helsinki",
          "Turku",
          "Helsinki",
          "Helsinki",
          "Helsinki",
          "Tampere",
          "Helsinki",
          "Helsinki",
          "Helsinki",
          "Helsinki",
          "Tampere",
          "Helsinki",
          "Helsinki",
          "Tampere",
          "Helsinki",
          "Tampere",
          "Helsinki",
          "Tampere",
          "Tampere",
          "Tampere",
          "Tampere",
          "Helsinki",
          "Tampere",
          "Tampere",
          "Tampere",
          "Helsinki",
          "Helsinki",
          "Helsinki",
          "Tampere",
          "Helsinki",
          "Helsinki",
          "Helsinki",
          "Tampere",
          "Tampere",
          "Tampere",
          "Tampere",
          "Tampere",
          "Tampere",
          "Helsinki",
          "Helsinki",
          "Tampere",
          "Turku",
          "Helsinki",
          "Helsinki",
          "Helsinki",
          "Helsinki",
          "Helsinki",
          "Helsinki",
          "Helsinki",
          "Tampere",
          "Tampere",
          "Helsinki",
          "Helsinki",
          "Helsinki",
          "Helsinki",
          "Tampere",
          "Helsinki",
          "Tampere",
          "Helsinki",
          "Tampere",
          "Tampere",
          "Helsinki",
          "Helsinki",
          "Tampere",
          "Helsinki",
          "Tampere",
          "Helsinki",
          "Helsinki",
          "Tampere",
          "Helsinki",
          "Tampere",
          "Tampere",
          "Helsinki",
          "Tampere",
          "Helsinki",
          "Tampere",
          "Helsinki",
          "Tampere",
          "Helsinki",
          "Helsinki",
          "Helsinki",
          "Helsinki",
          "Tampere",
          "Tampere",
          "Helsinki",
          "Tampere",
          "Tampere",
          "Tampere",
          "Tampere",
          "Helsinki",
          "Helsinki",
          "Helsinki",
          "Helsinki",
          "Helsinki",
          "Helsinki",
          "Tampere",
          "Tampere",
          "Tampere",
          "Tampere",
          "Tampere",
          "Helsinki",
          "Helsinki",
          "Helsinki",
          "Tampere",
          "Tampere",
          "Helsinki",
          "Helsinki",
          "Helsinki",
          "Tampere",
          "Tampere",
          "Helsinki",
          "Helsinki",
          "Helsinki",
          "Tampere",
          "Helsinki",
          "Tampere",
          "Helsinki",
          "Helsinki",
          "Tampere",
          "Helsinki",
          "Tampere",
          "Helsinki",
          "Helsinki",
          "Helsinki",
          "Helsinki",
          "Helsinki",
          "Helsinki",
          "Helsinki",
          "Helsinki",
          "Tampere",
          "Helsinki",
          "Helsinki",
          "Helsinki",
          "Helsinki",
          "Helsinki",
          "Helsinki",
          "Tampere",
          "Tampere",
          "Helsinki",
          "Helsinki",
          "Helsinki",
          "Helsinki",
          "Helsinki",
          "Helsinki",
          "Helsinki",
          "Tampere",
          "Helsinki",
          "Tampere"
         ],
         "xaxis": "x",
         "y": [
          142.5666,
          106.2,
          103.725,
          53.1,
          71,
          526,
          55.4416,
          164.3416,
          104,
          153.4584,
          123.9584,
          166.95,
          94.2,
          526,
          122.35,
          69.3084,
          126.7166,
          154.575,
          104,
          495.0416,
          154.575,
          52.5666,
          106.2,
          158.4,
          133.2,
          122.7584,
          67,
          61.3916,
          57.425,
          53.1,
          55.4416,
          293.0416,
          62,
          226.55,
          152.5834,
          180,
          166.95,
          180,
          105.1084,
          53.1,
          173,
          1024.6584,
          159.3,
          0,
          306.925,
          271.2666,
          59.4,
          155.9166,
          157.7,
          182.1584,
          303.1,
          495.0416,
          303.1,
          217.8,
          113.8584,
          166.3166,
          524.75,
          329.7334,
          269,
          271.2666,
          115.9584,
          57,
          306.925,
          133.2,
          269,
          71,
          526,
          110,
          150.5,
          138.6,
          110.8834,
          271.2666,
          423,
          455.05,
          104,
          240,
          226.55,
          180,
          53.1,
          111.8,
          240,
          526,
          163.7166,
          53.1,
          61,
          55.5,
          178.2084,
          53.1,
          53.1,
          77,
          53.1,
          182.1584,
          180,
          59.4,
          61,
          99.0084,
          156.5334,
          303.1,
          173,
          217.8,
          52.575,
          118.8,
          68.0416,
          187,
          115.9584,
          53.1,
          212.85,
          99,
          142,
          212.85,
          52,
          221.7666,
          53.1,
          79.2,
          159.3,
          102.9584,
          52.775,
          111.8,
          221.7666,
          80.25,
          159.3,
          158.4,
          156.5334,
          113.8584,
          53.1,
          61,
          306.925,
          105.1084,
          64.6416,
          155.9166,
          60,
          61,
          138.6,
          153.4584,
          71,
          226.55,
          267.3,
          51.175,
          104,
          1024.6584,
          153.4584,
          422.675,
          114,
          53.1,
          221.7666,
          455.05,
          52.575,
          52.575,
          303.1,
          99.0084,
          104,
          455.05,
          106.2,
          422.675,
          1024.6584,
          157.7,
          524.75,
          142,
          106.2,
          173,
          240,
          155.9166,
          422.675,
          114,
          60,
          158.4,
          51.8584,
          240,
          0,
          106.2,
          187,
          0,
          166.3166,
          62,
          78.8,
          329.7334,
          53.1,
          51.8584,
          100.9916,
          105.1084,
          10,
          166.3166,
          60,
          60
         ],
         "yaxis": "y"
        },
        {
         "alignmentgroup": "True",
         "bingroup": "x",
         "histfunc": "sum",
         "hovertemplate": "customer_segment=12<br>branch=%{x}<br>sum of initial_fee_level=%{y}<extra></extra>",
         "legendgroup": "12",
         "marker": {
          "color": "#00cc96",
          "pattern": {
           "shape": ""
          }
         },
         "name": "12",
         "offsetgroup": "12",
         "orientation": "v",
         "showlegend": true,
         "type": "histogram",
         "x": [
          "Tampere",
          "Helsinki",
          "Helsinki",
          "Helsinki",
          "Helsinki",
          "Helsinki",
          "Tampere",
          "Helsinki",
          "Helsinki",
          "Helsinki",
          "Helsinki",
          "Helsinki",
          "Helsinki",
          "Helsinki",
          "Helsinki",
          "Helsinki",
          "Helsinki",
          "Helsinki",
          "Helsinki",
          "Tampere",
          "Helsinki",
          "Helsinki",
          "Helsinki",
          "Tampere",
          "Helsinki",
          "Helsinki",
          "Helsinki",
          "Helsinki",
          "Helsinki",
          "Helsinki",
          "Helsinki",
          "Helsinki",
          "Helsinki",
          "Helsinki",
          "Helsinki",
          "Helsinki",
          "Helsinki",
          "Helsinki",
          "Helsinki",
          "Helsinki",
          "Helsinki",
          "Helsinki",
          "Helsinki",
          "Helsinki",
          "Helsinki",
          "Helsinki",
          "Helsinki",
          "Helsinki",
          "Helsinki",
          "Helsinki",
          "Helsinki",
          "Helsinki",
          "Helsinki",
          "Helsinki",
          "Helsinki",
          "Helsinki",
          "Tampere",
          "Tampere",
          "Helsinki",
          "Helsinki",
          "Helsinki",
          "Helsinki",
          "Turku",
          "Helsinki",
          "Helsinki",
          "Helsinki",
          "Helsinki",
          "Helsinki",
          "Helsinki",
          "Helsinki",
          "Helsinki",
          "Helsinki",
          "Tampere",
          "Helsinki",
          "Helsinki",
          "Tampere",
          "Helsinki",
          "Helsinki",
          "Helsinki",
          "Helsinki",
          "Helsinki",
          "Helsinki",
          "Helsinki",
          "Helsinki",
          "Helsinki",
          "Helsinki",
          "Helsinki",
          "Helsinki",
          "Helsinki",
          "Helsinki",
          "Helsinki",
          "Helsinki",
          "Helsinki",
          "Helsinki",
          "Helsinki",
          "Helsinki",
          "Tampere",
          "Helsinki",
          "Helsinki",
          "Helsinki",
          "Helsinki",
          "Helsinki",
          "Helsinki",
          "Helsinki",
          "Helsinki",
          "Helsinki",
          "Helsinki",
          "Helsinki",
          "Helsinki",
          "Helsinki",
          "Helsinki",
          "Helsinki",
          "Helsinki",
          "Helsinki",
          "Helsinki",
          "Helsinki",
          "Helsinki",
          "Tampere",
          "Helsinki",
          "Helsinki",
          "Helsinki",
          "Turku",
          "Helsinki",
          "Helsinki",
          "Helsinki",
          "Helsinki",
          "Helsinki",
          "Helsinki",
          "Helsinki",
          "Helsinki",
          "Helsinki",
          "Helsinki",
          "Helsinki",
          "Tampere",
          "Helsinki",
          "Helsinki",
          "Helsinki",
          "Helsinki",
          "Helsinki",
          "Helsinki",
          "Helsinki",
          "Helsinki",
          "Helsinki",
          "Helsinki",
          "Helsinki",
          "Helsinki",
          "Helsinki",
          "Helsinki",
          "Helsinki",
          "Helsinki",
          "Helsinki",
          "Helsinki",
          "Helsinki",
          "Helsinki",
          "Helsinki",
          "Helsinki",
          "Helsinki",
          "Helsinki",
          "Helsinki",
          "Tampere",
          "Tampere",
          "Helsinki",
          "Helsinki",
          "Helsinki",
          "Helsinki",
          "Helsinki",
          "Helsinki",
          "Helsinki",
          "Tampere",
          "Tampere",
          "Helsinki",
          "Helsinki",
          "Helsinki"
         ],
         "xaxis": "x",
         "y": [
          60.1416,
          32,
          52,
          26,
          21,
          42,
          83.1584,
          52,
          21,
          55.5,
          21,
          21,
          147,
          58,
          21,
          46,
          52,
          42,
          147,
          60.1416,
          26,
          52,
          26,
          30.0916,
          23,
          73.5,
          52,
          26,
          25.05,
          31.5,
          26,
          78,
          26,
          26,
          52,
          26,
          42,
          26,
          54,
          21,
          26,
          21,
          26,
          27,
          21,
          52,
          52.5,
          21,
          24.55,
          21,
          29,
          52,
          52,
          21,
          39,
          26,
          25.75,
          48,
          52,
          52.5,
          52,
          28,
          24.7,
          58,
          26,
          52,
          26,
          26,
          26,
          26,
          26,
          26,
          55.4416,
          147,
          26,
          24,
          52,
          21,
          25.3,
          42,
          37.5,
          65,
          26,
          26,
          52,
          52,
          52,
          37.5,
          21,
          52.5,
          26,
          39,
          55.5,
          21,
          26,
          55.5,
          27.5834,
          42,
          52,
          21,
          52,
          21,
          23,
          52,
          52.5,
          52,
          52,
          73.5,
          52,
          27,
          21,
          26,
          60,
          52,
          30,
          52,
          54,
          83.1584,
          130,
          78,
          21,
          24.7,
          26,
          52.5,
          46,
          147,
          26,
          147,
          26,
          78,
          21,
          26,
          78,
          83.1584,
          27,
          52,
          27,
          26,
          21,
          66,
          26,
          26,
          42,
          52,
          26,
          26,
          26,
          46,
          130,
          29,
          23,
          21,
          46,
          52,
          26,
          26,
          52.5,
          26,
          21,
          74.0084,
          74.0084,
          37.5,
          21,
          66,
          52,
          23,
          26,
          26,
          27.7166,
          48,
          52,
          21,
          26
         ],
         "yaxis": "y"
        }
       ],
       "layout": {
        "barmode": "group",
        "height": 400,
        "legend": {
         "title": {
          "text": "customer_segment"
         },
         "tracegroupgap": 0
        },
        "template": {
         "data": {
          "bar": [
           {
            "error_x": {
             "color": "#2a3f5f"
            },
            "error_y": {
             "color": "#2a3f5f"
            },
            "marker": {
             "line": {
              "color": "#E5ECF6",
              "width": 0.5
             },
             "pattern": {
              "fillmode": "overlay",
              "size": 10,
              "solidity": 0.2
             }
            },
            "type": "bar"
           }
          ],
          "barpolar": [
           {
            "marker": {
             "line": {
              "color": "#E5ECF6",
              "width": 0.5
             },
             "pattern": {
              "fillmode": "overlay",
              "size": 10,
              "solidity": 0.2
             }
            },
            "type": "barpolar"
           }
          ],
          "carpet": [
           {
            "aaxis": {
             "endlinecolor": "#2a3f5f",
             "gridcolor": "white",
             "linecolor": "white",
             "minorgridcolor": "white",
             "startlinecolor": "#2a3f5f"
            },
            "baxis": {
             "endlinecolor": "#2a3f5f",
             "gridcolor": "white",
             "linecolor": "white",
             "minorgridcolor": "white",
             "startlinecolor": "#2a3f5f"
            },
            "type": "carpet"
           }
          ],
          "choropleth": [
           {
            "colorbar": {
             "outlinewidth": 0,
             "ticks": ""
            },
            "type": "choropleth"
           }
          ],
          "contour": [
           {
            "colorbar": {
             "outlinewidth": 0,
             "ticks": ""
            },
            "colorscale": [
             [
              0,
              "#0d0887"
             ],
             [
              0.1111111111111111,
              "#46039f"
             ],
             [
              0.2222222222222222,
              "#7201a8"
             ],
             [
              0.3333333333333333,
              "#9c179e"
             ],
             [
              0.4444444444444444,
              "#bd3786"
             ],
             [
              0.5555555555555556,
              "#d8576b"
             ],
             [
              0.6666666666666666,
              "#ed7953"
             ],
             [
              0.7777777777777778,
              "#fb9f3a"
             ],
             [
              0.8888888888888888,
              "#fdca26"
             ],
             [
              1,
              "#f0f921"
             ]
            ],
            "type": "contour"
           }
          ],
          "contourcarpet": [
           {
            "colorbar": {
             "outlinewidth": 0,
             "ticks": ""
            },
            "type": "contourcarpet"
           }
          ],
          "heatmap": [
           {
            "colorbar": {
             "outlinewidth": 0,
             "ticks": ""
            },
            "colorscale": [
             [
              0,
              "#0d0887"
             ],
             [
              0.1111111111111111,
              "#46039f"
             ],
             [
              0.2222222222222222,
              "#7201a8"
             ],
             [
              0.3333333333333333,
              "#9c179e"
             ],
             [
              0.4444444444444444,
              "#bd3786"
             ],
             [
              0.5555555555555556,
              "#d8576b"
             ],
             [
              0.6666666666666666,
              "#ed7953"
             ],
             [
              0.7777777777777778,
              "#fb9f3a"
             ],
             [
              0.8888888888888888,
              "#fdca26"
             ],
             [
              1,
              "#f0f921"
             ]
            ],
            "type": "heatmap"
           }
          ],
          "heatmapgl": [
           {
            "colorbar": {
             "outlinewidth": 0,
             "ticks": ""
            },
            "colorscale": [
             [
              0,
              "#0d0887"
             ],
             [
              0.1111111111111111,
              "#46039f"
             ],
             [
              0.2222222222222222,
              "#7201a8"
             ],
             [
              0.3333333333333333,
              "#9c179e"
             ],
             [
              0.4444444444444444,
              "#bd3786"
             ],
             [
              0.5555555555555556,
              "#d8576b"
             ],
             [
              0.6666666666666666,
              "#ed7953"
             ],
             [
              0.7777777777777778,
              "#fb9f3a"
             ],
             [
              0.8888888888888888,
              "#fdca26"
             ],
             [
              1,
              "#f0f921"
             ]
            ],
            "type": "heatmapgl"
           }
          ],
          "histogram": [
           {
            "marker": {
             "pattern": {
              "fillmode": "overlay",
              "size": 10,
              "solidity": 0.2
             }
            },
            "type": "histogram"
           }
          ],
          "histogram2d": [
           {
            "colorbar": {
             "outlinewidth": 0,
             "ticks": ""
            },
            "colorscale": [
             [
              0,
              "#0d0887"
             ],
             [
              0.1111111111111111,
              "#46039f"
             ],
             [
              0.2222222222222222,
              "#7201a8"
             ],
             [
              0.3333333333333333,
              "#9c179e"
             ],
             [
              0.4444444444444444,
              "#bd3786"
             ],
             [
              0.5555555555555556,
              "#d8576b"
             ],
             [
              0.6666666666666666,
              "#ed7953"
             ],
             [
              0.7777777777777778,
              "#fb9f3a"
             ],
             [
              0.8888888888888888,
              "#fdca26"
             ],
             [
              1,
              "#f0f921"
             ]
            ],
            "type": "histogram2d"
           }
          ],
          "histogram2dcontour": [
           {
            "colorbar": {
             "outlinewidth": 0,
             "ticks": ""
            },
            "colorscale": [
             [
              0,
              "#0d0887"
             ],
             [
              0.1111111111111111,
              "#46039f"
             ],
             [
              0.2222222222222222,
              "#7201a8"
             ],
             [
              0.3333333333333333,
              "#9c179e"
             ],
             [
              0.4444444444444444,
              "#bd3786"
             ],
             [
              0.5555555555555556,
              "#d8576b"
             ],
             [
              0.6666666666666666,
              "#ed7953"
             ],
             [
              0.7777777777777778,
              "#fb9f3a"
             ],
             [
              0.8888888888888888,
              "#fdca26"
             ],
             [
              1,
              "#f0f921"
             ]
            ],
            "type": "histogram2dcontour"
           }
          ],
          "mesh3d": [
           {
            "colorbar": {
             "outlinewidth": 0,
             "ticks": ""
            },
            "type": "mesh3d"
           }
          ],
          "parcoords": [
           {
            "line": {
             "colorbar": {
              "outlinewidth": 0,
              "ticks": ""
             }
            },
            "type": "parcoords"
           }
          ],
          "pie": [
           {
            "automargin": true,
            "type": "pie"
           }
          ],
          "scatter": [
           {
            "marker": {
             "colorbar": {
              "outlinewidth": 0,
              "ticks": ""
             }
            },
            "type": "scatter"
           }
          ],
          "scatter3d": [
           {
            "line": {
             "colorbar": {
              "outlinewidth": 0,
              "ticks": ""
             }
            },
            "marker": {
             "colorbar": {
              "outlinewidth": 0,
              "ticks": ""
             }
            },
            "type": "scatter3d"
           }
          ],
          "scattercarpet": [
           {
            "marker": {
             "colorbar": {
              "outlinewidth": 0,
              "ticks": ""
             }
            },
            "type": "scattercarpet"
           }
          ],
          "scattergeo": [
           {
            "marker": {
             "colorbar": {
              "outlinewidth": 0,
              "ticks": ""
             }
            },
            "type": "scattergeo"
           }
          ],
          "scattergl": [
           {
            "marker": {
             "colorbar": {
              "outlinewidth": 0,
              "ticks": ""
             }
            },
            "type": "scattergl"
           }
          ],
          "scattermapbox": [
           {
            "marker": {
             "colorbar": {
              "outlinewidth": 0,
              "ticks": ""
             }
            },
            "type": "scattermapbox"
           }
          ],
          "scatterpolar": [
           {
            "marker": {
             "colorbar": {
              "outlinewidth": 0,
              "ticks": ""
             }
            },
            "type": "scatterpolar"
           }
          ],
          "scatterpolargl": [
           {
            "marker": {
             "colorbar": {
              "outlinewidth": 0,
              "ticks": ""
             }
            },
            "type": "scatterpolargl"
           }
          ],
          "scatterternary": [
           {
            "marker": {
             "colorbar": {
              "outlinewidth": 0,
              "ticks": ""
             }
            },
            "type": "scatterternary"
           }
          ],
          "surface": [
           {
            "colorbar": {
             "outlinewidth": 0,
             "ticks": ""
            },
            "colorscale": [
             [
              0,
              "#0d0887"
             ],
             [
              0.1111111111111111,
              "#46039f"
             ],
             [
              0.2222222222222222,
              "#7201a8"
             ],
             [
              0.3333333333333333,
              "#9c179e"
             ],
             [
              0.4444444444444444,
              "#bd3786"
             ],
             [
              0.5555555555555556,
              "#d8576b"
             ],
             [
              0.6666666666666666,
              "#ed7953"
             ],
             [
              0.7777777777777778,
              "#fb9f3a"
             ],
             [
              0.8888888888888888,
              "#fdca26"
             ],
             [
              1,
              "#f0f921"
             ]
            ],
            "type": "surface"
           }
          ],
          "table": [
           {
            "cells": {
             "fill": {
              "color": "#EBF0F8"
             },
             "line": {
              "color": "white"
             }
            },
            "header": {
             "fill": {
              "color": "#C8D4E3"
             },
             "line": {
              "color": "white"
             }
            },
            "type": "table"
           }
          ]
         },
         "layout": {
          "annotationdefaults": {
           "arrowcolor": "#2a3f5f",
           "arrowhead": 0,
           "arrowwidth": 1
          },
          "autotypenumbers": "strict",
          "coloraxis": {
           "colorbar": {
            "outlinewidth": 0,
            "ticks": ""
           }
          },
          "colorscale": {
           "diverging": [
            [
             0,
             "#8e0152"
            ],
            [
             0.1,
             "#c51b7d"
            ],
            [
             0.2,
             "#de77ae"
            ],
            [
             0.3,
             "#f1b6da"
            ],
            [
             0.4,
             "#fde0ef"
            ],
            [
             0.5,
             "#f7f7f7"
            ],
            [
             0.6,
             "#e6f5d0"
            ],
            [
             0.7,
             "#b8e186"
            ],
            [
             0.8,
             "#7fbc41"
            ],
            [
             0.9,
             "#4d9221"
            ],
            [
             1,
             "#276419"
            ]
           ],
           "sequential": [
            [
             0,
             "#0d0887"
            ],
            [
             0.1111111111111111,
             "#46039f"
            ],
            [
             0.2222222222222222,
             "#7201a8"
            ],
            [
             0.3333333333333333,
             "#9c179e"
            ],
            [
             0.4444444444444444,
             "#bd3786"
            ],
            [
             0.5555555555555556,
             "#d8576b"
            ],
            [
             0.6666666666666666,
             "#ed7953"
            ],
            [
             0.7777777777777778,
             "#fb9f3a"
            ],
            [
             0.8888888888888888,
             "#fdca26"
            ],
            [
             1,
             "#f0f921"
            ]
           ],
           "sequentialminus": [
            [
             0,
             "#0d0887"
            ],
            [
             0.1111111111111111,
             "#46039f"
            ],
            [
             0.2222222222222222,
             "#7201a8"
            ],
            [
             0.3333333333333333,
             "#9c179e"
            ],
            [
             0.4444444444444444,
             "#bd3786"
            ],
            [
             0.5555555555555556,
             "#d8576b"
            ],
            [
             0.6666666666666666,
             "#ed7953"
            ],
            [
             0.7777777777777778,
             "#fb9f3a"
            ],
            [
             0.8888888888888888,
             "#fdca26"
            ],
            [
             1,
             "#f0f921"
            ]
           ]
          },
          "colorway": [
           "#636efa",
           "#EF553B",
           "#00cc96",
           "#ab63fa",
           "#FFA15A",
           "#19d3f3",
           "#FF6692",
           "#B6E880",
           "#FF97FF",
           "#FECB52"
          ],
          "font": {
           "color": "#2a3f5f"
          },
          "geo": {
           "bgcolor": "white",
           "lakecolor": "white",
           "landcolor": "#E5ECF6",
           "showlakes": true,
           "showland": true,
           "subunitcolor": "white"
          },
          "hoverlabel": {
           "align": "left"
          },
          "hovermode": "closest",
          "mapbox": {
           "style": "light"
          },
          "paper_bgcolor": "white",
          "plot_bgcolor": "#E5ECF6",
          "polar": {
           "angularaxis": {
            "gridcolor": "white",
            "linecolor": "white",
            "ticks": ""
           },
           "bgcolor": "#E5ECF6",
           "radialaxis": {
            "gridcolor": "white",
            "linecolor": "white",
            "ticks": ""
           }
          },
          "scene": {
           "xaxis": {
            "backgroundcolor": "#E5ECF6",
            "gridcolor": "white",
            "gridwidth": 2,
            "linecolor": "white",
            "showbackground": true,
            "ticks": "",
            "zerolinecolor": "white"
           },
           "yaxis": {
            "backgroundcolor": "#E5ECF6",
            "gridcolor": "white",
            "gridwidth": 2,
            "linecolor": "white",
            "showbackground": true,
            "ticks": "",
            "zerolinecolor": "white"
           },
           "zaxis": {
            "backgroundcolor": "#E5ECF6",
            "gridcolor": "white",
            "gridwidth": 2,
            "linecolor": "white",
            "showbackground": true,
            "ticks": "",
            "zerolinecolor": "white"
           }
          },
          "shapedefaults": {
           "line": {
            "color": "#2a3f5f"
           }
          },
          "ternary": {
           "aaxis": {
            "gridcolor": "white",
            "linecolor": "white",
            "ticks": ""
           },
           "baxis": {
            "gridcolor": "white",
            "linecolor": "white",
            "ticks": ""
           },
           "bgcolor": "#E5ECF6",
           "caxis": {
            "gridcolor": "white",
            "linecolor": "white",
            "ticks": ""
           }
          },
          "title": {
           "x": 0.05
          },
          "xaxis": {
           "automargin": true,
           "gridcolor": "white",
           "linecolor": "white",
           "ticks": "",
           "title": {
            "standoff": 15
           },
           "zerolinecolor": "white",
           "zerolinewidth": 2
          },
          "yaxis": {
           "automargin": true,
           "gridcolor": "white",
           "linecolor": "white",
           "ticks": "",
           "title": {
            "standoff": 15
           },
           "zerolinecolor": "white",
           "zerolinewidth": 2
          }
         }
        },
        "title": {
         "text": "Segment by Gender"
        },
        "width": 800,
        "xaxis": {
         "anchor": "y",
         "domain": [
          0,
          1
         ],
         "title": {
          "text": "branch"
         }
        },
        "yaxis": {
         "anchor": "x",
         "domain": [
          0,
          1
         ],
         "title": {
          "text": "sum of initial_fee_level"
         }
        }
       }
      },
      "text/html": [
       "<div>                            <div id=\"75a40bc1-415f-4734-81d3-51b43300c6c5\" class=\"plotly-graph-div\" style=\"height:400px; width:800px;\"></div>            <script type=\"text/javascript\">                require([\"plotly\"], function(Plotly) {                    window.PLOTLYENV=window.PLOTLYENV || {};                                    if (document.getElementById(\"75a40bc1-415f-4734-81d3-51b43300c6c5\")) {                    Plotly.newPlot(                        \"75a40bc1-415f-4734-81d3-51b43300c6c5\",                        [{\"alignmentgroup\":\"True\",\"bingroup\":\"x\",\"histfunc\":\"sum\",\"hovertemplate\":\"customer_segment=13<br>branch=%{x}<br>sum of initial_fee_level=%{y}<extra></extra>\",\"legendgroup\":\"13\",\"marker\":{\"color\":\"#636efa\",\"pattern\":{\"shape\":\"\"}},\"name\":\"13\",\"offsetgroup\":\"13\",\"orientation\":\"v\",\"showlegend\":true,\"x\":[\"Helsinki\",\"Helsinki\",\"Helsinki\",\"Helsinki\",\"Helsinki\",\"Helsinki\",\"Helsinki\",\"Helsinki\",\"Helsinki\",\"Turku\",\"Helsinki\",\"Turku\",\"Helsinki\",\"Helsinki\",\"Helsinki\",\"Helsinki\",\"Tampere\",\"Helsinki\",\"Turku\",\"Helsinki\",\"Helsinki\",\"Helsinki\",\"Tampere\",\"Helsinki\",\"Tampere\",\"Helsinki\",\"Helsinki\",\"Helsinki\",\"Helsinki\",\"Helsinki\",\"Tampere\",\"Helsinki\",\"Helsinki\",\"Helsinki\",\"Helsinki\",\"Helsinki\",\"Helsinki\",\"Helsinki\",\"Helsinki\",\"Helsinki\",\"Helsinki\",\"Helsinki\",\"Helsinki\",\"Helsinki\",\"Helsinki\",\"Helsinki\",\"Helsinki\",\"Helsinki\",\"Helsinki\",\"Tampere\",\"Helsinki\",\"Helsinki\",\"Tampere\",\"Helsinki\",\"Turku\",\"Helsinki\",\"Tampere\",\"Helsinki\",\"Helsinki\",\"Tampere\",\"Helsinki\",\"Helsinki\",\"Helsinki\",\"Helsinki\",\"Helsinki\",\"Turku\",\"Helsinki\",\"Helsinki\",\"Helsinki\",\"Helsinki\",\"Turku\",\"Helsinki\",\"Helsinki\",\"Helsinki\",\"Helsinki\",\"Helsinki\",\"Helsinki\",\"Helsinki\",\"Helsinki\",\"Turku\",\"Helsinki\",\"Helsinki\",\"Helsinki\",\"Helsinki\",\"Helsinki\",\"Helsinki\",\"Turku\",\"Helsinki\",\"Helsinki\",\"Helsinki\",\"Helsinki\",\"Helsinki\",\"Tampere\",\"Helsinki\",\"Helsinki\",\"Helsinki\",\"Tampere\",\"Turku\",\"Helsinki\",\"Helsinki\",\"Helsinki\",\"Helsinki\",\"Helsinki\",\"Helsinki\",\"Helsinki\",\"Helsinki\",\"Helsinki\",\"Helsinki\",\"Tampere\",\"Helsinki\",\"Helsinki\",\"Helsinki\",\"Helsinki\",\"Tampere\",\"Helsinki\",\"Helsinki\",\"Helsinki\",\"Helsinki\",\"Helsinki\",\"Turku\",\"Helsinki\",\"Turku\",\"Helsinki\",\"Helsinki\",\"Helsinki\",\"Tampere\",\"Helsinki\",\"Helsinki\",\"Turku\",\"Helsinki\",\"Helsinki\",\"Tampere\",\"Helsinki\",\"Helsinki\",\"Helsinki\",\"Helsinki\",\"Helsinki\",\"Helsinki\",\"Helsinki\",\"Helsinki\",\"Helsinki\",\"Helsinki\",\"Helsinki\",\"Helsinki\",\"Tampere\",\"Helsinki\",\"Helsinki\",\"Helsinki\",\"Tampere\",\"Helsinki\",\"Helsinki\",\"Helsinki\",\"Helsinki\",\"Helsinki\",\"Helsinki\",\"Tampere\",\"Helsinki\",\"Tampere\",\"Helsinki\",\"Helsinki\",\"Helsinki\",\"Helsinki\",\"Helsinki\",\"Helsinki\",\"Helsinki\",\"Helsinki\",\"Helsinki\",\"Helsinki\",\"Helsinki\",\"Helsinki\",\"Helsinki\",\"Helsinki\",\"Helsinki\",\"Helsinki\",\"Turku\",\"Helsinki\",\"Helsinki\",\"Helsinki\",\"Helsinki\",\"Helsinki\",\"Helsinki\",\"Helsinki\",\"Helsinki\",\"Tampere\",\"Tampere\",\"Helsinki\",\"Helsinki\",\"Tampere\",\"Helsinki\",\"Helsinki\",\"Helsinki\",\"Helsinki\",\"Helsinki\",\"Helsinki\",\"Helsinki\",\"Helsinki\",\"Helsinki\",\"Helsinki\",\"Helsinki\",\"Helsinki\",\"Helsinki\",\"Helsinki\",\"Turku\",\"Helsinki\",\"Helsinki\",\"Helsinki\",\"Turku\",\"Helsinki\",\"Helsinki\",\"Helsinki\",\"Turku\",\"Helsinki\",\"Tampere\",\"Helsinki\",\"Helsinki\",\"Helsinki\",\"Helsinki\",\"Tampere\",\"Helsinki\",\"Helsinki\",\"Helsinki\",\"Helsinki\",\"Helsinki\",\"Helsinki\",\"Helsinki\",\"Helsinki\",\"Helsinki\",\"Helsinki\",\"Helsinki\",\"Helsinki\",\"Helsinki\",\"Helsinki\",\"Helsinki\",\"Helsinki\",\"Helsinki\",\"Helsinki\",\"Helsinki\",\"Helsinki\",\"Helsinki\",\"Helsinki\",\"Tampere\",\"Tampere\",\"Helsinki\",\"Helsinki\",\"Helsinki\",\"Helsinki\",\"Helsinki\",\"Helsinki\",\"Helsinki\",\"Helsinki\",\"Helsinki\",\"Tampere\",\"Helsinki\",\"Helsinki\",\"Helsinki\",\"Turku\",\"Turku\",\"Tampere\",\"Helsinki\",\"Helsinki\",\"Helsinki\",\"Helsinki\",\"Helsinki\",\"Helsinki\",\"Helsinki\",\"Helsinki\",\"Helsinki\",\"Helsinki\",\"Helsinki\",\"Helsinki\",\"Tampere\",\"Tampere\",\"Helsinki\",\"Helsinki\",\"Tampere\",\"Turku\",\"Helsinki\",\"Helsinki\",\"Helsinki\",\"Helsinki\",\"Helsinki\",\"Helsinki\",\"Helsinki\",\"Tampere\",\"Helsinki\",\"Helsinki\",\"Helsinki\",\"Helsinki\",\"Helsinki\",\"Turku\",\"Helsinki\",\"Helsinki\",\"Helsinki\",\"Helsinki\",\"Helsinki\",\"Helsinki\",\"Tampere\",\"Helsinki\",\"Turku\",\"Helsinki\",\"Helsinki\",\"Helsinki\",\"Helsinki\",\"Helsinki\",\"Tampere\",\"Helsinki\",\"Helsinki\",\"Helsinki\",\"Turku\",\"Helsinki\",\"Helsinki\",\"Helsinki\",\"Tampere\",\"Helsinki\",\"Tampere\",\"Helsinki\",\"Helsinki\",\"Helsinki\",\"Helsinki\",\"Helsinki\",\"Helsinki\",\"Helsinki\",\"Helsinki\",\"Helsinki\",\"Helsinki\",\"Helsinki\",\"Helsinki\",\"Helsinki\",\"Tampere\",\"Helsinki\",\"Helsinki\",\"Helsinki\",\"Helsinki\",\"Helsinki\",\"Tampere\",\"Helsinki\",\"Helsinki\",\"Tampere\",\"Helsinki\",\"Helsinki\",\"Tampere\",\"Helsinki\",\"Tampere\",\"Helsinki\",\"Helsinki\",\"Helsinki\",\"Helsinki\",\"Tampere\",\"Helsinki\",\"Helsinki\",\"Helsinki\",\"Helsinki\",\"Helsinki\",\"Turku\",\"Turku\"],\"xaxis\":\"x\",\"y\":[14.5,15.85,16.1,42.15,22.2666,33.4,16.1,62.55,15.7084,58.25,36.0,16.0584,42.15,62.775,16.1,36.0,22.4834,18.95,15.7584,35.6,79.375,15.6,14.4584,93.8,14.4584,55.8,16.3166,15.85,17.325,93.8,28.9084,112.9916,15.3,24.95,18.0,19.0,31.7,68.75,16.1,16.1,15.7084,41.15,14.5,15.7916,17.3084,15.85,15.7916,15.3,15.7916,28.9084,16.1,19.65,28.9166,15.85,15.5,62.55,22.4834,14.2834,13.95,15.7916,14.1,29.0,18.4334,15.5,31.7,13.5,15.5916,68.75,16.1,29.0,15.4666,16.1,32.2,15.55,17.325,79.375,41.05,55.8,112.9916,58.25,22.2666,15.85,15.7084,0.0,62.775,44.05,31.0,15.7916,15.7084,16.8084,19.0,12.9916,14.45,16.1,20.925,31.7,37.575,15.5,14.1,14.5,15.85,16.1,16.1,18.7,14.5,15.55,62.775,14.25,14.45,15.55,20.925,32.2,40.425,30.4916,62.775,79.375,15.55,0.0,15.5,58.25,40.5,15.5,15.7084,19.0,16.1,17.325,19.0,15.7916,15.5,17.7,15.7916,14.4584,0.0,15.7916,15.7084,14.5,15.7916,12.475,41.05,36.0,16.1,31.8,17.325,18.45,14.4584,35.6,19.0,55.8,28.9084,14.1,14.5,12.9916,16.1,42.15,14.5,8.025,15.55,31.4834,15.85,93.8,15.5916,15.85,33.4,15.5916,15.7084,15.85,16.1,19.65,31.7,17.325,15.5,15.55,15.85,48.3,15.4666,15.75,28.8,40.425,16.1,14.25,68.75,19.0,15.55,38.5166,15.7916,16.1,14.1,38.5166,17.325,19.675,14.0916,15.0416,24.575,93.8,16.1,19.175,16.1,31.8,14.5,16.1,15.5916,17.325,15.5,19.175,45.05,112.9916,15.5,14.9916,15.7916,15.7916,15.5,15.85,14.4584,17.325,62.55,62.55,41.05,14.45,15.55,34.8,15.7916,48.3,15.7916,42.15,15.7084,16.1,29.0,15.85,16.1,14.25,14.5,48.3,0.0,16.1,31.1,15.7916,62.55,16.1,28.8,32.2,28.9084,31.4834,15.7084,32.2,15.7916,14.1084,55.8,15.85,79.375,15.7084,55.8,38.5166,15.7916,15.1,16.8666,13.5,31.0,14.45,14.9916,15.85,16.1,15.55,16.1,19.6834,93.8,18.45,93.8,79.375,20.3416,15.5916,26.8334,14.45,16.1,15.3,28.9084,15.4834,15.7084,18.9666,15.3,15.55,14.1084,17.325,15.85,37.575,32.2,68.75,32.2,15.85,40.5,15.5,24.95,19.0,15.7916,15.5916,16.1,14.25,14.4584,15.55,15.5,16.725,19.0,15.7084,15.5,24.95,14.4584,14.1,14.5,14.9916,58.25,41.15,15.7916,17.3666,14.4584,48.3,17.0334,13.95,15.55,15.55,15.775,48.3,62.55,16.1,15.85,12.9,55.8,17.325,24.95,79.375,28.9084,15.7084,16.6,17.325,112.9916,15.85,12.875,17.325,15.1,15.7916,62.55,15.55,30.4916,18.7,38.5166,28.2166,22.2666,15.7916,18.0,14.45,19.6916,15.7916,15.7916,21.0334,14.1,58.25,15.5],\"yaxis\":\"y\",\"type\":\"histogram\"},{\"alignmentgroup\":\"True\",\"bingroup\":\"x\",\"histfunc\":\"sum\",\"hovertemplate\":\"customer_segment=11<br>branch=%{x}<br>sum of initial_fee_level=%{y}<extra></extra>\",\"legendgroup\":\"11\",\"marker\":{\"color\":\"#EF553B\",\"pattern\":{\"shape\":\"\"}},\"name\":\"11\",\"offsetgroup\":\"11\",\"orientation\":\"v\",\"showlegend\":true,\"x\":[\"Tampere\",\"Helsinki\",\"Helsinki\",\"Helsinki\",\"Helsinki\",\"Helsinki\",\"Tampere\",\"Tampere\",\"Helsinki\",\"Tampere\",\"Tampere\",\"Helsinki\",\"Helsinki\",\"Helsinki\",\"Helsinki\",\"Tampere\",\"Tampere\",\"Helsinki\",\"Helsinki\",\"Tampere\",\"Helsinki\",\"Helsinki\",\"Helsinki\",\"Tampere\",\"Helsinki\",\"Tampere\",\"Helsinki\",\"Tampere\",\"Tampere\",\"Helsinki\",\"Tampere\",\"Tampere\",\"Tampere\",\"Tampere\",\"Tampere\",\"Helsinki\",\"Helsinki\",\"Turku\",\"Helsinki\",\"Helsinki\",\"Helsinki\",\"Tampere\",\"Helsinki\",\"Helsinki\",\"Helsinki\",\"Helsinki\",\"Tampere\",\"Helsinki\",\"Helsinki\",\"Tampere\",\"Helsinki\",\"Tampere\",\"Helsinki\",\"Tampere\",\"Tampere\",\"Tampere\",\"Tampere\",\"Helsinki\",\"Tampere\",\"Tampere\",\"Tampere\",\"Helsinki\",\"Helsinki\",\"Helsinki\",\"Tampere\",\"Helsinki\",\"Helsinki\",\"Helsinki\",\"Tampere\",\"Tampere\",\"Tampere\",\"Tampere\",\"Tampere\",\"Tampere\",\"Helsinki\",\"Helsinki\",\"Tampere\",\"Turku\",\"Helsinki\",\"Helsinki\",\"Helsinki\",\"Helsinki\",\"Helsinki\",\"Helsinki\",\"Helsinki\",\"Tampere\",\"Tampere\",\"Helsinki\",\"Helsinki\",\"Helsinki\",\"Helsinki\",\"Tampere\",\"Helsinki\",\"Tampere\",\"Helsinki\",\"Tampere\",\"Tampere\",\"Helsinki\",\"Helsinki\",\"Tampere\",\"Helsinki\",\"Tampere\",\"Helsinki\",\"Helsinki\",\"Tampere\",\"Helsinki\",\"Tampere\",\"Tampere\",\"Helsinki\",\"Tampere\",\"Helsinki\",\"Tampere\",\"Helsinki\",\"Tampere\",\"Helsinki\",\"Helsinki\",\"Helsinki\",\"Helsinki\",\"Tampere\",\"Tampere\",\"Helsinki\",\"Tampere\",\"Tampere\",\"Tampere\",\"Tampere\",\"Helsinki\",\"Helsinki\",\"Helsinki\",\"Helsinki\",\"Helsinki\",\"Helsinki\",\"Tampere\",\"Tampere\",\"Tampere\",\"Tampere\",\"Tampere\",\"Helsinki\",\"Helsinki\",\"Helsinki\",\"Tampere\",\"Tampere\",\"Helsinki\",\"Helsinki\",\"Helsinki\",\"Tampere\",\"Tampere\",\"Helsinki\",\"Helsinki\",\"Helsinki\",\"Tampere\",\"Helsinki\",\"Tampere\",\"Helsinki\",\"Helsinki\",\"Tampere\",\"Helsinki\",\"Tampere\",\"Helsinki\",\"Helsinki\",\"Helsinki\",\"Helsinki\",\"Helsinki\",\"Helsinki\",\"Helsinki\",\"Helsinki\",\"Tampere\",\"Helsinki\",\"Helsinki\",\"Helsinki\",\"Helsinki\",\"Helsinki\",\"Helsinki\",\"Tampere\",\"Tampere\",\"Helsinki\",\"Helsinki\",\"Helsinki\",\"Helsinki\",\"Helsinki\",\"Helsinki\",\"Helsinki\",\"Tampere\",\"Helsinki\",\"Tampere\"],\"xaxis\":\"x\",\"y\":[142.5666,106.2,103.725,53.1,71.0,526.0,55.4416,164.3416,104.0,153.4584,123.9584,166.95,94.2,526.0,122.35,69.3084,126.7166,154.575,104.0,495.0416,154.575,52.5666,106.2,158.4,133.2,122.7584,67.0,61.3916,57.425,53.1,55.4416,293.0416,62.0,226.55,152.5834,180.0,166.95,180.0,105.1084,53.1,173.0,1024.6584,159.3,0.0,306.925,271.2666,59.4,155.9166,157.7,182.1584,303.1,495.0416,303.1,217.8,113.8584,166.3166,524.75,329.7334,269.0,271.2666,115.9584,57.0,306.925,133.2,269.0,71.0,526.0,110.0,150.5,138.6,110.8834,271.2666,423.0,455.05,104.0,240.0,226.55,180.0,53.1,111.8,240.0,526.0,163.7166,53.1,61.0,55.5,178.2084,53.1,53.1,77.0,53.1,182.1584,180.0,59.4,61.0,99.0084,156.5334,303.1,173.0,217.8,52.575,118.8,68.0416,187.0,115.9584,53.1,212.85,99.0,142.0,212.85,52.0,221.7666,53.1,79.2,159.3,102.9584,52.775,111.8,221.7666,80.25,159.3,158.4,156.5334,113.8584,53.1,61.0,306.925,105.1084,64.6416,155.9166,60.0,61.0,138.6,153.4584,71.0,226.55,267.3,51.175,104.0,1024.6584,153.4584,422.675,114.0,53.1,221.7666,455.05,52.575,52.575,303.1,99.0084,104.0,455.05,106.2,422.675,1024.6584,157.7,524.75,142.0,106.2,173.0,240.0,155.9166,422.675,114.0,60.0,158.4,51.8584,240.0,0.0,106.2,187.0,0.0,166.3166,62.0,78.8,329.7334,53.1,51.8584,100.9916,105.1084,10.0,166.3166,60.0,60.0],\"yaxis\":\"y\",\"type\":\"histogram\"},{\"alignmentgroup\":\"True\",\"bingroup\":\"x\",\"histfunc\":\"sum\",\"hovertemplate\":\"customer_segment=12<br>branch=%{x}<br>sum of initial_fee_level=%{y}<extra></extra>\",\"legendgroup\":\"12\",\"marker\":{\"color\":\"#00cc96\",\"pattern\":{\"shape\":\"\"}},\"name\":\"12\",\"offsetgroup\":\"12\",\"orientation\":\"v\",\"showlegend\":true,\"x\":[\"Tampere\",\"Helsinki\",\"Helsinki\",\"Helsinki\",\"Helsinki\",\"Helsinki\",\"Tampere\",\"Helsinki\",\"Helsinki\",\"Helsinki\",\"Helsinki\",\"Helsinki\",\"Helsinki\",\"Helsinki\",\"Helsinki\",\"Helsinki\",\"Helsinki\",\"Helsinki\",\"Helsinki\",\"Tampere\",\"Helsinki\",\"Helsinki\",\"Helsinki\",\"Tampere\",\"Helsinki\",\"Helsinki\",\"Helsinki\",\"Helsinki\",\"Helsinki\",\"Helsinki\",\"Helsinki\",\"Helsinki\",\"Helsinki\",\"Helsinki\",\"Helsinki\",\"Helsinki\",\"Helsinki\",\"Helsinki\",\"Helsinki\",\"Helsinki\",\"Helsinki\",\"Helsinki\",\"Helsinki\",\"Helsinki\",\"Helsinki\",\"Helsinki\",\"Helsinki\",\"Helsinki\",\"Helsinki\",\"Helsinki\",\"Helsinki\",\"Helsinki\",\"Helsinki\",\"Helsinki\",\"Helsinki\",\"Helsinki\",\"Tampere\",\"Tampere\",\"Helsinki\",\"Helsinki\",\"Helsinki\",\"Helsinki\",\"Turku\",\"Helsinki\",\"Helsinki\",\"Helsinki\",\"Helsinki\",\"Helsinki\",\"Helsinki\",\"Helsinki\",\"Helsinki\",\"Helsinki\",\"Tampere\",\"Helsinki\",\"Helsinki\",\"Tampere\",\"Helsinki\",\"Helsinki\",\"Helsinki\",\"Helsinki\",\"Helsinki\",\"Helsinki\",\"Helsinki\",\"Helsinki\",\"Helsinki\",\"Helsinki\",\"Helsinki\",\"Helsinki\",\"Helsinki\",\"Helsinki\",\"Helsinki\",\"Helsinki\",\"Helsinki\",\"Helsinki\",\"Helsinki\",\"Helsinki\",\"Tampere\",\"Helsinki\",\"Helsinki\",\"Helsinki\",\"Helsinki\",\"Helsinki\",\"Helsinki\",\"Helsinki\",\"Helsinki\",\"Helsinki\",\"Helsinki\",\"Helsinki\",\"Helsinki\",\"Helsinki\",\"Helsinki\",\"Helsinki\",\"Helsinki\",\"Helsinki\",\"Helsinki\",\"Helsinki\",\"Helsinki\",\"Tampere\",\"Helsinki\",\"Helsinki\",\"Helsinki\",\"Turku\",\"Helsinki\",\"Helsinki\",\"Helsinki\",\"Helsinki\",\"Helsinki\",\"Helsinki\",\"Helsinki\",\"Helsinki\",\"Helsinki\",\"Helsinki\",\"Helsinki\",\"Tampere\",\"Helsinki\",\"Helsinki\",\"Helsinki\",\"Helsinki\",\"Helsinki\",\"Helsinki\",\"Helsinki\",\"Helsinki\",\"Helsinki\",\"Helsinki\",\"Helsinki\",\"Helsinki\",\"Helsinki\",\"Helsinki\",\"Helsinki\",\"Helsinki\",\"Helsinki\",\"Helsinki\",\"Helsinki\",\"Helsinki\",\"Helsinki\",\"Helsinki\",\"Helsinki\",\"Helsinki\",\"Helsinki\",\"Tampere\",\"Tampere\",\"Helsinki\",\"Helsinki\",\"Helsinki\",\"Helsinki\",\"Helsinki\",\"Helsinki\",\"Helsinki\",\"Tampere\",\"Tampere\",\"Helsinki\",\"Helsinki\",\"Helsinki\"],\"xaxis\":\"x\",\"y\":[60.1416,32.0,52.0,26.0,21.0,42.0,83.1584,52.0,21.0,55.5,21.0,21.0,147.0,58.0,21.0,46.0,52.0,42.0,147.0,60.1416,26.0,52.0,26.0,30.0916,23.0,73.5,52.0,26.0,25.05,31.5,26.0,78.0,26.0,26.0,52.0,26.0,42.0,26.0,54.0,21.0,26.0,21.0,26.0,27.0,21.0,52.0,52.5,21.0,24.55,21.0,29.0,52.0,52.0,21.0,39.0,26.0,25.75,48.0,52.0,52.5,52.0,28.0,24.7,58.0,26.0,52.0,26.0,26.0,26.0,26.0,26.0,26.0,55.4416,147.0,26.0,24.0,52.0,21.0,25.3,42.0,37.5,65.0,26.0,26.0,52.0,52.0,52.0,37.5,21.0,52.5,26.0,39.0,55.5,21.0,26.0,55.5,27.5834,42.0,52.0,21.0,52.0,21.0,23.0,52.0,52.5,52.0,52.0,73.5,52.0,27.0,21.0,26.0,60.0,52.0,30.0,52.0,54.0,83.1584,130.0,78.0,21.0,24.7,26.0,52.5,46.0,147.0,26.0,147.0,26.0,78.0,21.0,26.0,78.0,83.1584,27.0,52.0,27.0,26.0,21.0,66.0,26.0,26.0,42.0,52.0,26.0,26.0,26.0,46.0,130.0,29.0,23.0,21.0,46.0,52.0,26.0,26.0,52.5,26.0,21.0,74.0084,74.0084,37.5,21.0,66.0,52.0,23.0,26.0,26.0,27.7166,48.0,52.0,21.0,26.0],\"yaxis\":\"y\",\"type\":\"histogram\"}],                        {\"template\":{\"data\":{\"bar\":[{\"error_x\":{\"color\":\"#2a3f5f\"},\"error_y\":{\"color\":\"#2a3f5f\"},\"marker\":{\"line\":{\"color\":\"#E5ECF6\",\"width\":0.5},\"pattern\":{\"fillmode\":\"overlay\",\"size\":10,\"solidity\":0.2}},\"type\":\"bar\"}],\"barpolar\":[{\"marker\":{\"line\":{\"color\":\"#E5ECF6\",\"width\":0.5},\"pattern\":{\"fillmode\":\"overlay\",\"size\":10,\"solidity\":0.2}},\"type\":\"barpolar\"}],\"carpet\":[{\"aaxis\":{\"endlinecolor\":\"#2a3f5f\",\"gridcolor\":\"white\",\"linecolor\":\"white\",\"minorgridcolor\":\"white\",\"startlinecolor\":\"#2a3f5f\"},\"baxis\":{\"endlinecolor\":\"#2a3f5f\",\"gridcolor\":\"white\",\"linecolor\":\"white\",\"minorgridcolor\":\"white\",\"startlinecolor\":\"#2a3f5f\"},\"type\":\"carpet\"}],\"choropleth\":[{\"colorbar\":{\"outlinewidth\":0,\"ticks\":\"\"},\"type\":\"choropleth\"}],\"contour\":[{\"colorbar\":{\"outlinewidth\":0,\"ticks\":\"\"},\"colorscale\":[[0.0,\"#0d0887\"],[0.1111111111111111,\"#46039f\"],[0.2222222222222222,\"#7201a8\"],[0.3333333333333333,\"#9c179e\"],[0.4444444444444444,\"#bd3786\"],[0.5555555555555556,\"#d8576b\"],[0.6666666666666666,\"#ed7953\"],[0.7777777777777778,\"#fb9f3a\"],[0.8888888888888888,\"#fdca26\"],[1.0,\"#f0f921\"]],\"type\":\"contour\"}],\"contourcarpet\":[{\"colorbar\":{\"outlinewidth\":0,\"ticks\":\"\"},\"type\":\"contourcarpet\"}],\"heatmap\":[{\"colorbar\":{\"outlinewidth\":0,\"ticks\":\"\"},\"colorscale\":[[0.0,\"#0d0887\"],[0.1111111111111111,\"#46039f\"],[0.2222222222222222,\"#7201a8\"],[0.3333333333333333,\"#9c179e\"],[0.4444444444444444,\"#bd3786\"],[0.5555555555555556,\"#d8576b\"],[0.6666666666666666,\"#ed7953\"],[0.7777777777777778,\"#fb9f3a\"],[0.8888888888888888,\"#fdca26\"],[1.0,\"#f0f921\"]],\"type\":\"heatmap\"}],\"heatmapgl\":[{\"colorbar\":{\"outlinewidth\":0,\"ticks\":\"\"},\"colorscale\":[[0.0,\"#0d0887\"],[0.1111111111111111,\"#46039f\"],[0.2222222222222222,\"#7201a8\"],[0.3333333333333333,\"#9c179e\"],[0.4444444444444444,\"#bd3786\"],[0.5555555555555556,\"#d8576b\"],[0.6666666666666666,\"#ed7953\"],[0.7777777777777778,\"#fb9f3a\"],[0.8888888888888888,\"#fdca26\"],[1.0,\"#f0f921\"]],\"type\":\"heatmapgl\"}],\"histogram\":[{\"marker\":{\"pattern\":{\"fillmode\":\"overlay\",\"size\":10,\"solidity\":0.2}},\"type\":\"histogram\"}],\"histogram2d\":[{\"colorbar\":{\"outlinewidth\":0,\"ticks\":\"\"},\"colorscale\":[[0.0,\"#0d0887\"],[0.1111111111111111,\"#46039f\"],[0.2222222222222222,\"#7201a8\"],[0.3333333333333333,\"#9c179e\"],[0.4444444444444444,\"#bd3786\"],[0.5555555555555556,\"#d8576b\"],[0.6666666666666666,\"#ed7953\"],[0.7777777777777778,\"#fb9f3a\"],[0.8888888888888888,\"#fdca26\"],[1.0,\"#f0f921\"]],\"type\":\"histogram2d\"}],\"histogram2dcontour\":[{\"colorbar\":{\"outlinewidth\":0,\"ticks\":\"\"},\"colorscale\":[[0.0,\"#0d0887\"],[0.1111111111111111,\"#46039f\"],[0.2222222222222222,\"#7201a8\"],[0.3333333333333333,\"#9c179e\"],[0.4444444444444444,\"#bd3786\"],[0.5555555555555556,\"#d8576b\"],[0.6666666666666666,\"#ed7953\"],[0.7777777777777778,\"#fb9f3a\"],[0.8888888888888888,\"#fdca26\"],[1.0,\"#f0f921\"]],\"type\":\"histogram2dcontour\"}],\"mesh3d\":[{\"colorbar\":{\"outlinewidth\":0,\"ticks\":\"\"},\"type\":\"mesh3d\"}],\"parcoords\":[{\"line\":{\"colorbar\":{\"outlinewidth\":0,\"ticks\":\"\"}},\"type\":\"parcoords\"}],\"pie\":[{\"automargin\":true,\"type\":\"pie\"}],\"scatter\":[{\"marker\":{\"colorbar\":{\"outlinewidth\":0,\"ticks\":\"\"}},\"type\":\"scatter\"}],\"scatter3d\":[{\"line\":{\"colorbar\":{\"outlinewidth\":0,\"ticks\":\"\"}},\"marker\":{\"colorbar\":{\"outlinewidth\":0,\"ticks\":\"\"}},\"type\":\"scatter3d\"}],\"scattercarpet\":[{\"marker\":{\"colorbar\":{\"outlinewidth\":0,\"ticks\":\"\"}},\"type\":\"scattercarpet\"}],\"scattergeo\":[{\"marker\":{\"colorbar\":{\"outlinewidth\":0,\"ticks\":\"\"}},\"type\":\"scattergeo\"}],\"scattergl\":[{\"marker\":{\"colorbar\":{\"outlinewidth\":0,\"ticks\":\"\"}},\"type\":\"scattergl\"}],\"scattermapbox\":[{\"marker\":{\"colorbar\":{\"outlinewidth\":0,\"ticks\":\"\"}},\"type\":\"scattermapbox\"}],\"scatterpolar\":[{\"marker\":{\"colorbar\":{\"outlinewidth\":0,\"ticks\":\"\"}},\"type\":\"scatterpolar\"}],\"scatterpolargl\":[{\"marker\":{\"colorbar\":{\"outlinewidth\":0,\"ticks\":\"\"}},\"type\":\"scatterpolargl\"}],\"scatterternary\":[{\"marker\":{\"colorbar\":{\"outlinewidth\":0,\"ticks\":\"\"}},\"type\":\"scatterternary\"}],\"surface\":[{\"colorbar\":{\"outlinewidth\":0,\"ticks\":\"\"},\"colorscale\":[[0.0,\"#0d0887\"],[0.1111111111111111,\"#46039f\"],[0.2222222222222222,\"#7201a8\"],[0.3333333333333333,\"#9c179e\"],[0.4444444444444444,\"#bd3786\"],[0.5555555555555556,\"#d8576b\"],[0.6666666666666666,\"#ed7953\"],[0.7777777777777778,\"#fb9f3a\"],[0.8888888888888888,\"#fdca26\"],[1.0,\"#f0f921\"]],\"type\":\"surface\"}],\"table\":[{\"cells\":{\"fill\":{\"color\":\"#EBF0F8\"},\"line\":{\"color\":\"white\"}},\"header\":{\"fill\":{\"color\":\"#C8D4E3\"},\"line\":{\"color\":\"white\"}},\"type\":\"table\"}]},\"layout\":{\"annotationdefaults\":{\"arrowcolor\":\"#2a3f5f\",\"arrowhead\":0,\"arrowwidth\":1},\"autotypenumbers\":\"strict\",\"coloraxis\":{\"colorbar\":{\"outlinewidth\":0,\"ticks\":\"\"}},\"colorscale\":{\"diverging\":[[0,\"#8e0152\"],[0.1,\"#c51b7d\"],[0.2,\"#de77ae\"],[0.3,\"#f1b6da\"],[0.4,\"#fde0ef\"],[0.5,\"#f7f7f7\"],[0.6,\"#e6f5d0\"],[0.7,\"#b8e186\"],[0.8,\"#7fbc41\"],[0.9,\"#4d9221\"],[1,\"#276419\"]],\"sequential\":[[0.0,\"#0d0887\"],[0.1111111111111111,\"#46039f\"],[0.2222222222222222,\"#7201a8\"],[0.3333333333333333,\"#9c179e\"],[0.4444444444444444,\"#bd3786\"],[0.5555555555555556,\"#d8576b\"],[0.6666666666666666,\"#ed7953\"],[0.7777777777777778,\"#fb9f3a\"],[0.8888888888888888,\"#fdca26\"],[1.0,\"#f0f921\"]],\"sequentialminus\":[[0.0,\"#0d0887\"],[0.1111111111111111,\"#46039f\"],[0.2222222222222222,\"#7201a8\"],[0.3333333333333333,\"#9c179e\"],[0.4444444444444444,\"#bd3786\"],[0.5555555555555556,\"#d8576b\"],[0.6666666666666666,\"#ed7953\"],[0.7777777777777778,\"#fb9f3a\"],[0.8888888888888888,\"#fdca26\"],[1.0,\"#f0f921\"]]},\"colorway\":[\"#636efa\",\"#EF553B\",\"#00cc96\",\"#ab63fa\",\"#FFA15A\",\"#19d3f3\",\"#FF6692\",\"#B6E880\",\"#FF97FF\",\"#FECB52\"],\"font\":{\"color\":\"#2a3f5f\"},\"geo\":{\"bgcolor\":\"white\",\"lakecolor\":\"white\",\"landcolor\":\"#E5ECF6\",\"showlakes\":true,\"showland\":true,\"subunitcolor\":\"white\"},\"hoverlabel\":{\"align\":\"left\"},\"hovermode\":\"closest\",\"mapbox\":{\"style\":\"light\"},\"paper_bgcolor\":\"white\",\"plot_bgcolor\":\"#E5ECF6\",\"polar\":{\"angularaxis\":{\"gridcolor\":\"white\",\"linecolor\":\"white\",\"ticks\":\"\"},\"bgcolor\":\"#E5ECF6\",\"radialaxis\":{\"gridcolor\":\"white\",\"linecolor\":\"white\",\"ticks\":\"\"}},\"scene\":{\"xaxis\":{\"backgroundcolor\":\"#E5ECF6\",\"gridcolor\":\"white\",\"gridwidth\":2,\"linecolor\":\"white\",\"showbackground\":true,\"ticks\":\"\",\"zerolinecolor\":\"white\"},\"yaxis\":{\"backgroundcolor\":\"#E5ECF6\",\"gridcolor\":\"white\",\"gridwidth\":2,\"linecolor\":\"white\",\"showbackground\":true,\"ticks\":\"\",\"zerolinecolor\":\"white\"},\"zaxis\":{\"backgroundcolor\":\"#E5ECF6\",\"gridcolor\":\"white\",\"gridwidth\":2,\"linecolor\":\"white\",\"showbackground\":true,\"ticks\":\"\",\"zerolinecolor\":\"white\"}},\"shapedefaults\":{\"line\":{\"color\":\"#2a3f5f\"}},\"ternary\":{\"aaxis\":{\"gridcolor\":\"white\",\"linecolor\":\"white\",\"ticks\":\"\"},\"baxis\":{\"gridcolor\":\"white\",\"linecolor\":\"white\",\"ticks\":\"\"},\"bgcolor\":\"#E5ECF6\",\"caxis\":{\"gridcolor\":\"white\",\"linecolor\":\"white\",\"ticks\":\"\"}},\"title\":{\"x\":0.05},\"xaxis\":{\"automargin\":true,\"gridcolor\":\"white\",\"linecolor\":\"white\",\"ticks\":\"\",\"title\":{\"standoff\":15},\"zerolinecolor\":\"white\",\"zerolinewidth\":2},\"yaxis\":{\"automargin\":true,\"gridcolor\":\"white\",\"linecolor\":\"white\",\"ticks\":\"\",\"title\":{\"standoff\":15},\"zerolinecolor\":\"white\",\"zerolinewidth\":2}}},\"xaxis\":{\"anchor\":\"y\",\"domain\":[0.0,1.0],\"title\":{\"text\":\"branch\"}},\"yaxis\":{\"anchor\":\"x\",\"domain\":[0.0,1.0],\"title\":{\"text\":\"sum of initial_fee_level\"}},\"legend\":{\"title\":{\"text\":\"customer_segment\"},\"tracegroupgap\":0},\"title\":{\"text\":\"Segment by Gender\"},\"barmode\":\"group\",\"height\":400,\"width\":800},                        {\"responsive\": true}                    ).then(function(){\n",
       "                            \n",
       "var gd = document.getElementById('75a40bc1-415f-4734-81d3-51b43300c6c5');\n",
       "var x = new MutationObserver(function (mutations, observer) {{\n",
       "        var display = window.getComputedStyle(gd).display;\n",
       "        if (!display || display === 'none') {{\n",
       "            console.log([gd, 'removed!']);\n",
       "            Plotly.purge(gd);\n",
       "            observer.disconnect();\n",
       "        }}\n",
       "}});\n",
       "\n",
       "// Listen for the removal of the full notebook cells\n",
       "var notebookContainer = gd.closest('#notebook-container');\n",
       "if (notebookContainer) {{\n",
       "    x.observe(notebookContainer, {childList: true});\n",
       "}}\n",
       "\n",
       "// Listen for the clearing of the current output cell\n",
       "var outputEl = gd.closest('.output');\n",
       "if (outputEl) {{\n",
       "    x.observe(outputEl, {childList: true});\n",
       "}}\n",
       "\n",
       "                        })                };                });            </script>        </div>"
      ]
     },
     "metadata": {},
     "output_type": "display_data"
    }
   ],
   "source": [
    "#Viewing the data with Customer Segment number  feature\n",
    "fig = px.histogram(clean_data, x=\"branch\", y=\"initial_fee_level\",\n",
    "             color='customer_segment', barmode='group',\n",
    "             title='Segment by Gender',\n",
    "             width=800, height=400)\n",
    "fig.show()"
   ]
  },
  {
   "cell_type": "code",
   "execution_count": 79,
   "id": "35cb39c3",
   "metadata": {},
   "outputs": [
    {
     "data": {
      "text/plain": [
       "0      0\n",
       "1      1\n",
       "2      1\n",
       "3      1\n",
       "4      0\n",
       "      ..\n",
       "885    0\n",
       "886    0\n",
       "887    1\n",
       "889    1\n",
       "890    0\n",
       "Name: converted, Length: 712, dtype: int64"
      ]
     },
     "execution_count": 79,
     "metadata": {},
     "output_type": "execute_result"
    }
   ],
   "source": [
    "predictor_variable = clean_data['converted']\n",
    "predictor_variable"
   ]
  },
  {
   "cell_type": "code",
   "execution_count": 80,
   "id": "17789f37",
   "metadata": {},
   "outputs": [
    {
     "data": {
      "text/html": [
       "<div>\n",
       "<style scoped>\n",
       "    .dataframe tbody tr th:only-of-type {\n",
       "        vertical-align: middle;\n",
       "    }\n",
       "\n",
       "    .dataframe tbody tr th {\n",
       "        vertical-align: top;\n",
       "    }\n",
       "\n",
       "    .dataframe thead th {\n",
       "        text-align: right;\n",
       "    }\n",
       "</style>\n",
       "<table border=\"1\" class=\"dataframe\">\n",
       "  <thead>\n",
       "    <tr style=\"text-align: right;\">\n",
       "      <th></th>\n",
       "      <th>customer_id</th>\n",
       "      <th>customer_segment</th>\n",
       "      <th>gender</th>\n",
       "      <th>age</th>\n",
       "      <th>related_customers</th>\n",
       "      <th>family_size</th>\n",
       "      <th>initial_fee_level</th>\n",
       "      <th>credit_account_id</th>\n",
       "      <th>branch</th>\n",
       "    </tr>\n",
       "  </thead>\n",
       "  <tbody>\n",
       "    <tr>\n",
       "      <th>0</th>\n",
       "      <td>15001</td>\n",
       "      <td>13</td>\n",
       "      <td>male</td>\n",
       "      <td>22.0</td>\n",
       "      <td>1</td>\n",
       "      <td>0</td>\n",
       "      <td>14.5000</td>\n",
       "      <td>9b2d5b4678781e53038e91ea5324530a03f27dc1d0e5f6...</td>\n",
       "      <td>Helsinki</td>\n",
       "    </tr>\n",
       "    <tr>\n",
       "      <th>1</th>\n",
       "      <td>15002</td>\n",
       "      <td>11</td>\n",
       "      <td>female</td>\n",
       "      <td>38.0</td>\n",
       "      <td>1</td>\n",
       "      <td>0</td>\n",
       "      <td>142.5666</td>\n",
       "      <td>afa2dc179e46e8456ffff9016f91396e9c6adf1fe20d17...</td>\n",
       "      <td>Tampere</td>\n",
       "    </tr>\n",
       "    <tr>\n",
       "      <th>2</th>\n",
       "      <td>15003</td>\n",
       "      <td>13</td>\n",
       "      <td>female</td>\n",
       "      <td>26.0</td>\n",
       "      <td>0</td>\n",
       "      <td>0</td>\n",
       "      <td>15.8500</td>\n",
       "      <td>9b2d5b4678781e53038e91ea5324530a03f27dc1d0e5f6...</td>\n",
       "      <td>Helsinki</td>\n",
       "    </tr>\n",
       "    <tr>\n",
       "      <th>3</th>\n",
       "      <td>15004</td>\n",
       "      <td>11</td>\n",
       "      <td>female</td>\n",
       "      <td>35.0</td>\n",
       "      <td>1</td>\n",
       "      <td>0</td>\n",
       "      <td>106.2000</td>\n",
       "      <td>abefcf257b5d2ff2816a68ec7c84ec8c11e0e0dc4f3425...</td>\n",
       "      <td>Helsinki</td>\n",
       "    </tr>\n",
       "    <tr>\n",
       "      <th>4</th>\n",
       "      <td>15005</td>\n",
       "      <td>13</td>\n",
       "      <td>male</td>\n",
       "      <td>35.0</td>\n",
       "      <td>0</td>\n",
       "      <td>0</td>\n",
       "      <td>16.1000</td>\n",
       "      <td>9b2d5b4678781e53038e91ea5324530a03f27dc1d0e5f6...</td>\n",
       "      <td>Helsinki</td>\n",
       "    </tr>\n",
       "    <tr>\n",
       "      <th>...</th>\n",
       "      <td>...</td>\n",
       "      <td>...</td>\n",
       "      <td>...</td>\n",
       "      <td>...</td>\n",
       "      <td>...</td>\n",
       "      <td>...</td>\n",
       "      <td>...</td>\n",
       "      <td>...</td>\n",
       "      <td>...</td>\n",
       "    </tr>\n",
       "    <tr>\n",
       "      <th>885</th>\n",
       "      <td>15886</td>\n",
       "      <td>13</td>\n",
       "      <td>female</td>\n",
       "      <td>39.0</td>\n",
       "      <td>0</td>\n",
       "      <td>5</td>\n",
       "      <td>58.2500</td>\n",
       "      <td>9b2d5b4678781e53038e91ea5324530a03f27dc1d0e5f6...</td>\n",
       "      <td>Turku</td>\n",
       "    </tr>\n",
       "    <tr>\n",
       "      <th>886</th>\n",
       "      <td>15887</td>\n",
       "      <td>12</td>\n",
       "      <td>male</td>\n",
       "      <td>27.0</td>\n",
       "      <td>0</td>\n",
       "      <td>0</td>\n",
       "      <td>26.0000</td>\n",
       "      <td>9b2d5b4678781e53038e91ea5324530a03f27dc1d0e5f6...</td>\n",
       "      <td>Helsinki</td>\n",
       "    </tr>\n",
       "    <tr>\n",
       "      <th>887</th>\n",
       "      <td>15888</td>\n",
       "      <td>11</td>\n",
       "      <td>female</td>\n",
       "      <td>19.0</td>\n",
       "      <td>0</td>\n",
       "      <td>0</td>\n",
       "      <td>60.0000</td>\n",
       "      <td>72294ba1616ddcaee48e56501040e876d26bd0c1839f3c...</td>\n",
       "      <td>Helsinki</td>\n",
       "    </tr>\n",
       "    <tr>\n",
       "      <th>889</th>\n",
       "      <td>15890</td>\n",
       "      <td>11</td>\n",
       "      <td>male</td>\n",
       "      <td>26.0</td>\n",
       "      <td>0</td>\n",
       "      <td>0</td>\n",
       "      <td>60.0000</td>\n",
       "      <td>a2b612f45840d6f27b1a73ddae7f50e0bd9c4935903de6...</td>\n",
       "      <td>Tampere</td>\n",
       "    </tr>\n",
       "    <tr>\n",
       "      <th>890</th>\n",
       "      <td>15891</td>\n",
       "      <td>13</td>\n",
       "      <td>male</td>\n",
       "      <td>32.0</td>\n",
       "      <td>0</td>\n",
       "      <td>0</td>\n",
       "      <td>15.5000</td>\n",
       "      <td>9b2d5b4678781e53038e91ea5324530a03f27dc1d0e5f6...</td>\n",
       "      <td>Turku</td>\n",
       "    </tr>\n",
       "  </tbody>\n",
       "</table>\n",
       "<p>712 rows × 9 columns</p>\n",
       "</div>"
      ],
      "text/plain": [
       "     customer_id  customer_segment  gender   age  related_customers  \\\n",
       "0          15001                13    male  22.0                  1   \n",
       "1          15002                11  female  38.0                  1   \n",
       "2          15003                13  female  26.0                  0   \n",
       "3          15004                11  female  35.0                  1   \n",
       "4          15005                13    male  35.0                  0   \n",
       "..           ...               ...     ...   ...                ...   \n",
       "885        15886                13  female  39.0                  0   \n",
       "886        15887                12    male  27.0                  0   \n",
       "887        15888                11  female  19.0                  0   \n",
       "889        15890                11    male  26.0                  0   \n",
       "890        15891                13    male  32.0                  0   \n",
       "\n",
       "     family_size  initial_fee_level  \\\n",
       "0              0            14.5000   \n",
       "1              0           142.5666   \n",
       "2              0            15.8500   \n",
       "3              0           106.2000   \n",
       "4              0            16.1000   \n",
       "..           ...                ...   \n",
       "885            5            58.2500   \n",
       "886            0            26.0000   \n",
       "887            0            60.0000   \n",
       "889            0            60.0000   \n",
       "890            0            15.5000   \n",
       "\n",
       "                                     credit_account_id    branch  \n",
       "0    9b2d5b4678781e53038e91ea5324530a03f27dc1d0e5f6...  Helsinki  \n",
       "1    afa2dc179e46e8456ffff9016f91396e9c6adf1fe20d17...   Tampere  \n",
       "2    9b2d5b4678781e53038e91ea5324530a03f27dc1d0e5f6...  Helsinki  \n",
       "3    abefcf257b5d2ff2816a68ec7c84ec8c11e0e0dc4f3425...  Helsinki  \n",
       "4    9b2d5b4678781e53038e91ea5324530a03f27dc1d0e5f6...  Helsinki  \n",
       "..                                                 ...       ...  \n",
       "885  9b2d5b4678781e53038e91ea5324530a03f27dc1d0e5f6...     Turku  \n",
       "886  9b2d5b4678781e53038e91ea5324530a03f27dc1d0e5f6...  Helsinki  \n",
       "887  72294ba1616ddcaee48e56501040e876d26bd0c1839f3c...  Helsinki  \n",
       "889  a2b612f45840d6f27b1a73ddae7f50e0bd9c4935903de6...   Tampere  \n",
       "890  9b2d5b4678781e53038e91ea5324530a03f27dc1d0e5f6...     Turku  \n",
       "\n",
       "[712 rows x 9 columns]"
      ]
     },
     "execution_count": 80,
     "metadata": {},
     "output_type": "execute_result"
    }
   ],
   "source": [
    "del clean_data['converted']\n",
    "features = clean_data\n",
    "features"
   ]
  },
  {
   "cell_type": "code",
   "execution_count": 130,
   "id": "91659c92",
   "metadata": {},
   "outputs": [],
   "source": []
  },
  {
   "cell_type": "code",
   "execution_count": null,
   "id": "5d2918f6",
   "metadata": {},
   "outputs": [],
   "source": []
  }
 ],
 "metadata": {
  "kernelspec": {
   "display_name": "Python 3 (ipykernel)",
   "language": "python",
   "name": "python3"
  },
  "language_info": {
   "codemirror_mode": {
    "name": "ipython",
    "version": 3
   },
   "file_extension": ".py",
   "mimetype": "text/x-python",
   "name": "python",
   "nbconvert_exporter": "python",
   "pygments_lexer": "ipython3",
   "version": "3.9.7"
  }
 },
 "nbformat": 4,
 "nbformat_minor": 5
}
