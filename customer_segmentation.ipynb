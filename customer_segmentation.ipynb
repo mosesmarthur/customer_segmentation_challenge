{
 "cells": [
  {
   "cell_type": "markdown",
   "id": "bac5b622",
   "metadata": {},
   "source": [
    "# Background of dataset\n",
    "\n",
    "Raw dataset has 891 rows × 10 columns and column age has 177 na and branch has 2 na.\n",
    "\n",
    "\n",
    "# Flow of Exploration of Dataset\n",
    "\n",
    "\n",
    "- Exploration Data Analysis - This section show the initial min, max about the columns\n",
    "\n",
    "\n",
    "- Finding the dataset null value and null replacing strategy - Dropping 179 rows from 891 rows is not the best strategy since it will cause bias so have used replacing strategy for age column. This section gives information null values impacing the dataset and how the missing age column are tacked. \n",
    "\n",
    "\n",
    "- Visual Graph exploration - Graph are explored with differenet hypothesis on Customer segment, Geography, Age Distribution (all the graph are interactive and can be seem in the folder named Graph)\n",
    "\n",
    "\n",
    "- Initial fees level - Categorize with Customer segment, Branch - This section gives the overlapping factors customer_segment, branch on initial fees level\n",
    "\n",
    "\n",
    "- Convert Categorical variables into Numeric Categories - The categorical variables are converted to numberic class to keep easy for computation\n",
    "\n",
    "# Findings from the Dataset\n",
    "\n",
    "- Analysis on converted 340 rows and not converted - 550 rows\n",
    "- Find the columns/features impacting the conversion - Correction Matrix\n",
    "- A simple ML model for the cleaned dataset to find the factors impacting Converted\n",
    "\n",
    "\n",
    "\n"
   ]
  },
  {
   "cell_type": "code",
   "execution_count": 145,
   "id": "b3d9141b",
   "metadata": {},
   "outputs": [],
   "source": [
    "import pandas as pd\n",
    "import math\n",
    "import plotly.express as px\n",
    "from sklearn import preprocessing, svm\n",
    "from sklearn.model_selection import train_test_split\n",
    "from sklearn.linear_model import LinearRegression\n",
    "import seaborn as sns\n",
    "import matplotlib.pyplot as plt\n",
    "from sklearn import preprocessing, svm\n",
    "from sklearn.model_selection import train_test_split\n",
    "from sklearn.linear_model import LinearRegression\n",
    "import data_patterns\n",
    "import seaborn as sns\n",
    "from sklearn.ensemble import ExtraTreesClassifier\n",
    "from sklearn.tree import DecisionTreeClassifier\n",
    "from sklearn.ensemble import RandomForestClassifier\n",
    "from sklearn import metrics"
   ]
  },
  {
   "cell_type": "code",
   "execution_count": 113,
   "id": "0a820b2e",
   "metadata": {},
   "outputs": [
    {
     "data": {
      "text/html": [
       "<div>\n",
       "<style scoped>\n",
       "    .dataframe tbody tr th:only-of-type {\n",
       "        vertical-align: middle;\n",
       "    }\n",
       "\n",
       "    .dataframe tbody tr th {\n",
       "        vertical-align: top;\n",
       "    }\n",
       "\n",
       "    .dataframe thead th {\n",
       "        text-align: right;\n",
       "    }\n",
       "</style>\n",
       "<table border=\"1\" class=\"dataframe\">\n",
       "  <thead>\n",
       "    <tr style=\"text-align: right;\">\n",
       "      <th></th>\n",
       "      <th>customer_id</th>\n",
       "      <th>converted</th>\n",
       "      <th>customer_segment</th>\n",
       "      <th>gender</th>\n",
       "      <th>age</th>\n",
       "      <th>related_customers</th>\n",
       "      <th>family_size</th>\n",
       "      <th>initial_fee_level</th>\n",
       "      <th>credit_account_id</th>\n",
       "      <th>branch</th>\n",
       "    </tr>\n",
       "  </thead>\n",
       "  <tbody>\n",
       "    <tr>\n",
       "      <th>0</th>\n",
       "      <td>15001</td>\n",
       "      <td>0</td>\n",
       "      <td>13</td>\n",
       "      <td>male</td>\n",
       "      <td>22.0</td>\n",
       "      <td>1</td>\n",
       "      <td>0</td>\n",
       "      <td>14.5000</td>\n",
       "      <td>9b2d5b4678781e53038e91ea5324530a03f27dc1d0e5f6...</td>\n",
       "      <td>Helsinki</td>\n",
       "    </tr>\n",
       "    <tr>\n",
       "      <th>1</th>\n",
       "      <td>15002</td>\n",
       "      <td>1</td>\n",
       "      <td>11</td>\n",
       "      <td>female</td>\n",
       "      <td>38.0</td>\n",
       "      <td>1</td>\n",
       "      <td>0</td>\n",
       "      <td>142.5666</td>\n",
       "      <td>afa2dc179e46e8456ffff9016f91396e9c6adf1fe20d17...</td>\n",
       "      <td>Tampere</td>\n",
       "    </tr>\n",
       "    <tr>\n",
       "      <th>2</th>\n",
       "      <td>15003</td>\n",
       "      <td>1</td>\n",
       "      <td>13</td>\n",
       "      <td>female</td>\n",
       "      <td>26.0</td>\n",
       "      <td>0</td>\n",
       "      <td>0</td>\n",
       "      <td>15.8500</td>\n",
       "      <td>9b2d5b4678781e53038e91ea5324530a03f27dc1d0e5f6...</td>\n",
       "      <td>Helsinki</td>\n",
       "    </tr>\n",
       "    <tr>\n",
       "      <th>3</th>\n",
       "      <td>15004</td>\n",
       "      <td>1</td>\n",
       "      <td>11</td>\n",
       "      <td>female</td>\n",
       "      <td>35.0</td>\n",
       "      <td>1</td>\n",
       "      <td>0</td>\n",
       "      <td>106.2000</td>\n",
       "      <td>abefcf257b5d2ff2816a68ec7c84ec8c11e0e0dc4f3425...</td>\n",
       "      <td>Helsinki</td>\n",
       "    </tr>\n",
       "    <tr>\n",
       "      <th>4</th>\n",
       "      <td>15005</td>\n",
       "      <td>0</td>\n",
       "      <td>13</td>\n",
       "      <td>male</td>\n",
       "      <td>35.0</td>\n",
       "      <td>0</td>\n",
       "      <td>0</td>\n",
       "      <td>16.1000</td>\n",
       "      <td>9b2d5b4678781e53038e91ea5324530a03f27dc1d0e5f6...</td>\n",
       "      <td>Helsinki</td>\n",
       "    </tr>\n",
       "    <tr>\n",
       "      <th>...</th>\n",
       "      <td>...</td>\n",
       "      <td>...</td>\n",
       "      <td>...</td>\n",
       "      <td>...</td>\n",
       "      <td>...</td>\n",
       "      <td>...</td>\n",
       "      <td>...</td>\n",
       "      <td>...</td>\n",
       "      <td>...</td>\n",
       "      <td>...</td>\n",
       "    </tr>\n",
       "    <tr>\n",
       "      <th>886</th>\n",
       "      <td>15887</td>\n",
       "      <td>0</td>\n",
       "      <td>12</td>\n",
       "      <td>male</td>\n",
       "      <td>27.0</td>\n",
       "      <td>0</td>\n",
       "      <td>0</td>\n",
       "      <td>26.0000</td>\n",
       "      <td>9b2d5b4678781e53038e91ea5324530a03f27dc1d0e5f6...</td>\n",
       "      <td>Helsinki</td>\n",
       "    </tr>\n",
       "    <tr>\n",
       "      <th>887</th>\n",
       "      <td>15888</td>\n",
       "      <td>1</td>\n",
       "      <td>11</td>\n",
       "      <td>female</td>\n",
       "      <td>19.0</td>\n",
       "      <td>0</td>\n",
       "      <td>0</td>\n",
       "      <td>60.0000</td>\n",
       "      <td>72294ba1616ddcaee48e56501040e876d26bd0c1839f3c...</td>\n",
       "      <td>Helsinki</td>\n",
       "    </tr>\n",
       "    <tr>\n",
       "      <th>888</th>\n",
       "      <td>15889</td>\n",
       "      <td>0</td>\n",
       "      <td>13</td>\n",
       "      <td>female</td>\n",
       "      <td>NaN</td>\n",
       "      <td>1</td>\n",
       "      <td>2</td>\n",
       "      <td>46.9000</td>\n",
       "      <td>9b2d5b4678781e53038e91ea5324530a03f27dc1d0e5f6...</td>\n",
       "      <td>Helsinki</td>\n",
       "    </tr>\n",
       "    <tr>\n",
       "      <th>889</th>\n",
       "      <td>15890</td>\n",
       "      <td>1</td>\n",
       "      <td>11</td>\n",
       "      <td>male</td>\n",
       "      <td>26.0</td>\n",
       "      <td>0</td>\n",
       "      <td>0</td>\n",
       "      <td>60.0000</td>\n",
       "      <td>a2b612f45840d6f27b1a73ddae7f50e0bd9c4935903de6...</td>\n",
       "      <td>Tampere</td>\n",
       "    </tr>\n",
       "    <tr>\n",
       "      <th>890</th>\n",
       "      <td>15891</td>\n",
       "      <td>0</td>\n",
       "      <td>13</td>\n",
       "      <td>male</td>\n",
       "      <td>32.0</td>\n",
       "      <td>0</td>\n",
       "      <td>0</td>\n",
       "      <td>15.5000</td>\n",
       "      <td>9b2d5b4678781e53038e91ea5324530a03f27dc1d0e5f6...</td>\n",
       "      <td>Turku</td>\n",
       "    </tr>\n",
       "  </tbody>\n",
       "</table>\n",
       "<p>891 rows × 10 columns</p>\n",
       "</div>"
      ],
      "text/plain": [
       "     customer_id  converted  customer_segment  gender   age  \\\n",
       "0          15001          0                13    male  22.0   \n",
       "1          15002          1                11  female  38.0   \n",
       "2          15003          1                13  female  26.0   \n",
       "3          15004          1                11  female  35.0   \n",
       "4          15005          0                13    male  35.0   \n",
       "..           ...        ...               ...     ...   ...   \n",
       "886        15887          0                12    male  27.0   \n",
       "887        15888          1                11  female  19.0   \n",
       "888        15889          0                13  female   NaN   \n",
       "889        15890          1                11    male  26.0   \n",
       "890        15891          0                13    male  32.0   \n",
       "\n",
       "     related_customers  family_size  initial_fee_level  \\\n",
       "0                    1            0            14.5000   \n",
       "1                    1            0           142.5666   \n",
       "2                    0            0            15.8500   \n",
       "3                    1            0           106.2000   \n",
       "4                    0            0            16.1000   \n",
       "..                 ...          ...                ...   \n",
       "886                  0            0            26.0000   \n",
       "887                  0            0            60.0000   \n",
       "888                  1            2            46.9000   \n",
       "889                  0            0            60.0000   \n",
       "890                  0            0            15.5000   \n",
       "\n",
       "                                     credit_account_id    branch  \n",
       "0    9b2d5b4678781e53038e91ea5324530a03f27dc1d0e5f6...  Helsinki  \n",
       "1    afa2dc179e46e8456ffff9016f91396e9c6adf1fe20d17...   Tampere  \n",
       "2    9b2d5b4678781e53038e91ea5324530a03f27dc1d0e5f6...  Helsinki  \n",
       "3    abefcf257b5d2ff2816a68ec7c84ec8c11e0e0dc4f3425...  Helsinki  \n",
       "4    9b2d5b4678781e53038e91ea5324530a03f27dc1d0e5f6...  Helsinki  \n",
       "..                                                 ...       ...  \n",
       "886  9b2d5b4678781e53038e91ea5324530a03f27dc1d0e5f6...  Helsinki  \n",
       "887  72294ba1616ddcaee48e56501040e876d26bd0c1839f3c...  Helsinki  \n",
       "888  9b2d5b4678781e53038e91ea5324530a03f27dc1d0e5f6...  Helsinki  \n",
       "889  a2b612f45840d6f27b1a73ddae7f50e0bd9c4935903de6...   Tampere  \n",
       "890  9b2d5b4678781e53038e91ea5324530a03f27dc1d0e5f6...     Turku  \n",
       "\n",
       "[891 rows x 10 columns]"
      ]
     },
     "execution_count": 113,
     "metadata": {},
     "output_type": "execute_result"
    }
   ],
   "source": [
    "data = pd.read_csv('DS_customer_data_sample.csv')\n",
    "data"
   ]
  },
  {
   "cell_type": "markdown",
   "id": "f647513c",
   "metadata": {},
   "source": [
    "# Exploration Data Analysis"
   ]
  },
  {
   "cell_type": "code",
   "execution_count": 114,
   "id": "66d8e2c4",
   "metadata": {},
   "outputs": [
    {
     "name": "stdout",
     "output_type": "stream",
     "text": [
      "Are the customers unique or there is repetition of customer id\n",
      "891\n",
      "------------\n",
      "Number of Customer Segments\n",
      "[13 11 12]\n",
      "------------\n",
      "Number of Gender\n",
      "['male' 'female']\n",
      "------------\n",
      "Find the number of unique value in related customer\n",
      "[1 0 3 4 2 5 8]\n",
      "------------\n",
      "Find the number unique Familie size\n",
      "[1 0 3 4 2 5 8]\n",
      "------------\n",
      "Find the number unique Familie size\n",
      "['Helsinki' 'Tampere' 'Turku' nan]\n",
      "------------\n",
      "Find age min and max\n",
      "0.42\n",
      "80.0\n"
     ]
    }
   ],
   "source": [
    "print('Are the customers unique or there is repetition of customer id')\n",
    "print(data['customer_id'].nunique())\n",
    "print('------------')\n",
    "\n",
    "print('Number of Customer Segments')\n",
    "print(data['customer_segment'].unique())\n",
    "print('------------')\n",
    "\n",
    "print('Number of Gender')\n",
    "print(data['gender'].unique())\n",
    "print('------------')\n",
    "\n",
    "print('Find the number of unique value in related customer')\n",
    "print(data['related_customers'].unique())\n",
    "print('------------')\n",
    "\n",
    "print('Find the number unique Familie size')\n",
    "print(data['related_customers'].unique())\n",
    "\n",
    "print('------------')\n",
    "print('Find the number unique Familie size')\n",
    "print(data['branch'].unique())\n",
    "\n",
    "print('------------')\n",
    "print('Find age min and max')\n",
    "print(data['age'].min())\n",
    "print(data['age'].max())\n",
    "\n"
   ]
  },
  {
   "cell_type": "markdown",
   "id": "020658a8",
   "metadata": {},
   "source": [
    "# Finding the dataset null value and null replacing strategy"
   ]
  },
  {
   "cell_type": "code",
   "execution_count": 115,
   "id": "086e16df",
   "metadata": {},
   "outputs": [
    {
     "data": {
      "text/plain": [
       "customer_id            0\n",
       "converted              0\n",
       "customer_segment       0\n",
       "gender                 0\n",
       "age                  177\n",
       "related_customers      0\n",
       "family_size            0\n",
       "initial_fee_level      0\n",
       "credit_account_id      0\n",
       "branch                 2\n",
       "dtype: int64"
      ]
     },
     "execution_count": 115,
     "metadata": {},
     "output_type": "execute_result"
    }
   ],
   "source": [
    "#pick only the na rows in the dataset\n",
    "data.isna().sum()"
   ]
  },
  {
   "cell_type": "code",
   "execution_count": 116,
   "id": "70a35a35",
   "metadata": {},
   "outputs": [
    {
     "data": {
      "text/html": [
       "<div>\n",
       "<style scoped>\n",
       "    .dataframe tbody tr th:only-of-type {\n",
       "        vertical-align: middle;\n",
       "    }\n",
       "\n",
       "    .dataframe tbody tr th {\n",
       "        vertical-align: top;\n",
       "    }\n",
       "\n",
       "    .dataframe thead th {\n",
       "        text-align: right;\n",
       "    }\n",
       "</style>\n",
       "<table border=\"1\" class=\"dataframe\">\n",
       "  <thead>\n",
       "    <tr style=\"text-align: right;\">\n",
       "      <th></th>\n",
       "      <th>customer_id</th>\n",
       "      <th>converted</th>\n",
       "      <th>age</th>\n",
       "      <th>related_customers</th>\n",
       "      <th>family_size</th>\n",
       "      <th>initial_fee_level</th>\n",
       "    </tr>\n",
       "    <tr>\n",
       "      <th>customer_segment</th>\n",
       "      <th></th>\n",
       "      <th></th>\n",
       "      <th></th>\n",
       "      <th></th>\n",
       "      <th></th>\n",
       "      <th></th>\n",
       "    </tr>\n",
       "  </thead>\n",
       "  <tbody>\n",
       "    <tr>\n",
       "      <th>11</th>\n",
       "      <td>15461.597222</td>\n",
       "      <td>0.629630</td>\n",
       "      <td>38.233441</td>\n",
       "      <td>0.416667</td>\n",
       "      <td>0.356481</td>\n",
       "      <td>168.309375</td>\n",
       "    </tr>\n",
       "    <tr>\n",
       "      <th>12</th>\n",
       "      <td>15445.956522</td>\n",
       "      <td>0.472826</td>\n",
       "      <td>29.877630</td>\n",
       "      <td>0.402174</td>\n",
       "      <td>0.380435</td>\n",
       "      <td>41.324366</td>\n",
       "    </tr>\n",
       "    <tr>\n",
       "      <th>13</th>\n",
       "      <td>15439.154786</td>\n",
       "      <td>0.242363</td>\n",
       "      <td>25.140620</td>\n",
       "      <td>0.615071</td>\n",
       "      <td>0.393075</td>\n",
       "      <td>27.351100</td>\n",
       "    </tr>\n",
       "  </tbody>\n",
       "</table>\n",
       "</div>"
      ],
      "text/plain": [
       "                   customer_id  converted        age  related_customers  \\\n",
       "customer_segment                                                          \n",
       "11                15461.597222   0.629630  38.233441           0.416667   \n",
       "12                15445.956522   0.472826  29.877630           0.402174   \n",
       "13                15439.154786   0.242363  25.140620           0.615071   \n",
       "\n",
       "                  family_size  initial_fee_level  \n",
       "customer_segment                                  \n",
       "11                   0.356481         168.309375  \n",
       "12                   0.380435          41.324366  \n",
       "13                   0.393075          27.351100  "
      ]
     },
     "execution_count": 116,
     "metadata": {},
     "output_type": "execute_result"
    }
   ],
   "source": [
    "#mean value of the column branch with each category\n",
    "data.groupby('customer_segment').mean()  "
   ]
  },
  {
   "cell_type": "code",
   "execution_count": 117,
   "id": "9e1933c1",
   "metadata": {},
   "outputs": [
    {
     "name": "stderr",
     "output_type": "stream",
     "text": [
      "/var/folders/20/9_zpc0mx6cz0z00dd5ttdhr00000gn/T/ipykernel_2132/2674624696.py:12: SettingWithCopyWarning:\n",
      "\n",
      "\n",
      "A value is trying to be set on a copy of a slice from a DataFrame\n",
      "\n",
      "See the caveats in the documentation: https://pandas.pydata.org/pandas-docs/stable/user_guide/indexing.html#returning-a-view-versus-a-copy\n",
      "\n",
      "/var/folders/20/9_zpc0mx6cz0z00dd5ttdhr00000gn/T/ipykernel_2132/2674624696.py:10: SettingWithCopyWarning:\n",
      "\n",
      "\n",
      "A value is trying to be set on a copy of a slice from a DataFrame\n",
      "\n",
      "See the caveats in the documentation: https://pandas.pydata.org/pandas-docs/stable/user_guide/indexing.html#returning-a-view-versus-a-copy\n",
      "\n",
      "/var/folders/20/9_zpc0mx6cz0z00dd5ttdhr00000gn/T/ipykernel_2132/2674624696.py:8: SettingWithCopyWarning:\n",
      "\n",
      "\n",
      "A value is trying to be set on a copy of a slice from a DataFrame\n",
      "\n",
      "See the caveats in the documentation: https://pandas.pydata.org/pandas-docs/stable/user_guide/indexing.html#returning-a-view-versus-a-copy\n",
      "\n"
     ]
    }
   ],
   "source": [
    "'''\n",
    "There 177 empty values in the dataset in the column age\n",
    "Replace the empty value with the average value of the customer segment\n",
    "'''\n",
    "for idx,row in data.age.iteritems():\n",
    "    if math.isnan(row):\n",
    "        if (data.customer_segment[idx] == 11):\n",
    "            data['age'][idx] = 38\n",
    "        if (data.customer_segment[idx] == 12):\n",
    "            data['age'][idx] = 30\n",
    "        if (data.customer_segment[idx] == 13):\n",
    "            data['age'][idx] = 25"
   ]
  },
  {
   "cell_type": "code",
   "execution_count": 118,
   "id": "d095c97a",
   "metadata": {},
   "outputs": [
    {
     "data": {
      "text/html": [
       "<div>\n",
       "<style scoped>\n",
       "    .dataframe tbody tr th:only-of-type {\n",
       "        vertical-align: middle;\n",
       "    }\n",
       "\n",
       "    .dataframe tbody tr th {\n",
       "        vertical-align: top;\n",
       "    }\n",
       "\n",
       "    .dataframe thead th {\n",
       "        text-align: right;\n",
       "    }\n",
       "</style>\n",
       "<table border=\"1\" class=\"dataframe\">\n",
       "  <thead>\n",
       "    <tr style=\"text-align: right;\">\n",
       "      <th></th>\n",
       "      <th>customer_id</th>\n",
       "      <th>converted</th>\n",
       "      <th>customer_segment</th>\n",
       "      <th>gender</th>\n",
       "      <th>age</th>\n",
       "      <th>related_customers</th>\n",
       "      <th>family_size</th>\n",
       "      <th>initial_fee_level</th>\n",
       "      <th>credit_account_id</th>\n",
       "      <th>branch</th>\n",
       "    </tr>\n",
       "  </thead>\n",
       "  <tbody>\n",
       "    <tr>\n",
       "      <th>0</th>\n",
       "      <td>15001</td>\n",
       "      <td>0</td>\n",
       "      <td>13</td>\n",
       "      <td>male</td>\n",
       "      <td>22.0</td>\n",
       "      <td>1</td>\n",
       "      <td>0</td>\n",
       "      <td>14.5000</td>\n",
       "      <td>9b2d5b4678781e53038e91ea5324530a03f27dc1d0e5f6...</td>\n",
       "      <td>Helsinki</td>\n",
       "    </tr>\n",
       "    <tr>\n",
       "      <th>1</th>\n",
       "      <td>15002</td>\n",
       "      <td>1</td>\n",
       "      <td>11</td>\n",
       "      <td>female</td>\n",
       "      <td>38.0</td>\n",
       "      <td>1</td>\n",
       "      <td>0</td>\n",
       "      <td>142.5666</td>\n",
       "      <td>afa2dc179e46e8456ffff9016f91396e9c6adf1fe20d17...</td>\n",
       "      <td>Tampere</td>\n",
       "    </tr>\n",
       "    <tr>\n",
       "      <th>2</th>\n",
       "      <td>15003</td>\n",
       "      <td>1</td>\n",
       "      <td>13</td>\n",
       "      <td>female</td>\n",
       "      <td>26.0</td>\n",
       "      <td>0</td>\n",
       "      <td>0</td>\n",
       "      <td>15.8500</td>\n",
       "      <td>9b2d5b4678781e53038e91ea5324530a03f27dc1d0e5f6...</td>\n",
       "      <td>Helsinki</td>\n",
       "    </tr>\n",
       "    <tr>\n",
       "      <th>3</th>\n",
       "      <td>15004</td>\n",
       "      <td>1</td>\n",
       "      <td>11</td>\n",
       "      <td>female</td>\n",
       "      <td>35.0</td>\n",
       "      <td>1</td>\n",
       "      <td>0</td>\n",
       "      <td>106.2000</td>\n",
       "      <td>abefcf257b5d2ff2816a68ec7c84ec8c11e0e0dc4f3425...</td>\n",
       "      <td>Helsinki</td>\n",
       "    </tr>\n",
       "    <tr>\n",
       "      <th>4</th>\n",
       "      <td>15005</td>\n",
       "      <td>0</td>\n",
       "      <td>13</td>\n",
       "      <td>male</td>\n",
       "      <td>35.0</td>\n",
       "      <td>0</td>\n",
       "      <td>0</td>\n",
       "      <td>16.1000</td>\n",
       "      <td>9b2d5b4678781e53038e91ea5324530a03f27dc1d0e5f6...</td>\n",
       "      <td>Helsinki</td>\n",
       "    </tr>\n",
       "    <tr>\n",
       "      <th>...</th>\n",
       "      <td>...</td>\n",
       "      <td>...</td>\n",
       "      <td>...</td>\n",
       "      <td>...</td>\n",
       "      <td>...</td>\n",
       "      <td>...</td>\n",
       "      <td>...</td>\n",
       "      <td>...</td>\n",
       "      <td>...</td>\n",
       "      <td>...</td>\n",
       "    </tr>\n",
       "    <tr>\n",
       "      <th>886</th>\n",
       "      <td>15887</td>\n",
       "      <td>0</td>\n",
       "      <td>12</td>\n",
       "      <td>male</td>\n",
       "      <td>27.0</td>\n",
       "      <td>0</td>\n",
       "      <td>0</td>\n",
       "      <td>26.0000</td>\n",
       "      <td>9b2d5b4678781e53038e91ea5324530a03f27dc1d0e5f6...</td>\n",
       "      <td>Helsinki</td>\n",
       "    </tr>\n",
       "    <tr>\n",
       "      <th>887</th>\n",
       "      <td>15888</td>\n",
       "      <td>1</td>\n",
       "      <td>11</td>\n",
       "      <td>female</td>\n",
       "      <td>19.0</td>\n",
       "      <td>0</td>\n",
       "      <td>0</td>\n",
       "      <td>60.0000</td>\n",
       "      <td>72294ba1616ddcaee48e56501040e876d26bd0c1839f3c...</td>\n",
       "      <td>Helsinki</td>\n",
       "    </tr>\n",
       "    <tr>\n",
       "      <th>888</th>\n",
       "      <td>15889</td>\n",
       "      <td>0</td>\n",
       "      <td>13</td>\n",
       "      <td>female</td>\n",
       "      <td>25.0</td>\n",
       "      <td>1</td>\n",
       "      <td>2</td>\n",
       "      <td>46.9000</td>\n",
       "      <td>9b2d5b4678781e53038e91ea5324530a03f27dc1d0e5f6...</td>\n",
       "      <td>Helsinki</td>\n",
       "    </tr>\n",
       "    <tr>\n",
       "      <th>889</th>\n",
       "      <td>15890</td>\n",
       "      <td>1</td>\n",
       "      <td>11</td>\n",
       "      <td>male</td>\n",
       "      <td>26.0</td>\n",
       "      <td>0</td>\n",
       "      <td>0</td>\n",
       "      <td>60.0000</td>\n",
       "      <td>a2b612f45840d6f27b1a73ddae7f50e0bd9c4935903de6...</td>\n",
       "      <td>Tampere</td>\n",
       "    </tr>\n",
       "    <tr>\n",
       "      <th>890</th>\n",
       "      <td>15891</td>\n",
       "      <td>0</td>\n",
       "      <td>13</td>\n",
       "      <td>male</td>\n",
       "      <td>32.0</td>\n",
       "      <td>0</td>\n",
       "      <td>0</td>\n",
       "      <td>15.5000</td>\n",
       "      <td>9b2d5b4678781e53038e91ea5324530a03f27dc1d0e5f6...</td>\n",
       "      <td>Turku</td>\n",
       "    </tr>\n",
       "  </tbody>\n",
       "</table>\n",
       "<p>889 rows × 10 columns</p>\n",
       "</div>"
      ],
      "text/plain": [
       "     customer_id  converted  customer_segment  gender   age  \\\n",
       "0          15001          0                13    male  22.0   \n",
       "1          15002          1                11  female  38.0   \n",
       "2          15003          1                13  female  26.0   \n",
       "3          15004          1                11  female  35.0   \n",
       "4          15005          0                13    male  35.0   \n",
       "..           ...        ...               ...     ...   ...   \n",
       "886        15887          0                12    male  27.0   \n",
       "887        15888          1                11  female  19.0   \n",
       "888        15889          0                13  female  25.0   \n",
       "889        15890          1                11    male  26.0   \n",
       "890        15891          0                13    male  32.0   \n",
       "\n",
       "     related_customers  family_size  initial_fee_level  \\\n",
       "0                    1            0            14.5000   \n",
       "1                    1            0           142.5666   \n",
       "2                    0            0            15.8500   \n",
       "3                    1            0           106.2000   \n",
       "4                    0            0            16.1000   \n",
       "..                 ...          ...                ...   \n",
       "886                  0            0            26.0000   \n",
       "887                  0            0            60.0000   \n",
       "888                  1            2            46.9000   \n",
       "889                  0            0            60.0000   \n",
       "890                  0            0            15.5000   \n",
       "\n",
       "                                     credit_account_id    branch  \n",
       "0    9b2d5b4678781e53038e91ea5324530a03f27dc1d0e5f6...  Helsinki  \n",
       "1    afa2dc179e46e8456ffff9016f91396e9c6adf1fe20d17...   Tampere  \n",
       "2    9b2d5b4678781e53038e91ea5324530a03f27dc1d0e5f6...  Helsinki  \n",
       "3    abefcf257b5d2ff2816a68ec7c84ec8c11e0e0dc4f3425...  Helsinki  \n",
       "4    9b2d5b4678781e53038e91ea5324530a03f27dc1d0e5f6...  Helsinki  \n",
       "..                                                 ...       ...  \n",
       "886  9b2d5b4678781e53038e91ea5324530a03f27dc1d0e5f6...  Helsinki  \n",
       "887  72294ba1616ddcaee48e56501040e876d26bd0c1839f3c...  Helsinki  \n",
       "888  9b2d5b4678781e53038e91ea5324530a03f27dc1d0e5f6...  Helsinki  \n",
       "889  a2b612f45840d6f27b1a73ddae7f50e0bd9c4935903de6...   Tampere  \n",
       "890  9b2d5b4678781e53038e91ea5324530a03f27dc1d0e5f6...     Turku  \n",
       "\n",
       "[889 rows x 10 columns]"
      ]
     },
     "execution_count": 118,
     "metadata": {},
     "output_type": "execute_result"
    }
   ],
   "source": [
    "# Remove the 2 rows which the branch is empty\n",
    "clean_data = data.dropna()\n",
    "clean_data"
   ]
  },
  {
   "cell_type": "markdown",
   "id": "7c80c228",
   "metadata": {},
   "source": [
    "# Visual Graph exploration"
   ]
  },
  {
   "cell_type": "code",
   "execution_count": 119,
   "id": "ff902bf0",
   "metadata": {},
   "outputs": [
    {
     "data": {
      "application/vnd.plotly.v1+json": {
       "config": {
        "plotlyServerURL": "https://plot.ly"
       },
       "data": [
        {
         "domain": {
          "x": [
           0,
           1
          ],
          "y": [
           0,
           1
          ]
         },
         "hovertemplate": "customer_segment=%{label}<br>initial_fee_level=%{value}<extra></extra>",
         "labels": [
          13,
          11,
          13,
          11,
          13,
          13,
          11,
          13,
          13,
          12,
          13,
          11,
          13,
          13,
          13,
          12,
          13,
          12,
          13,
          13,
          12,
          12,
          13,
          11,
          13,
          13,
          13,
          11,
          13,
          13,
          11,
          11,
          13,
          12,
          11,
          11,
          13,
          13,
          13,
          13,
          13,
          12,
          13,
          12,
          13,
          13,
          13,
          13,
          13,
          13,
          13,
          13,
          11,
          12,
          11,
          11,
          12,
          13,
          12,
          13,
          13,
          11,
          13,
          11,
          13,
          12,
          13,
          13,
          13,
          12,
          13,
          12,
          13,
          13,
          13,
          13,
          13,
          12,
          13,
          13,
          13,
          13,
          11,
          12,
          13,
          13,
          13,
          11,
          13,
          13,
          13,
          11,
          13,
          13,
          13,
          11,
          11,
          12,
          12,
          13,
          13,
          11,
          13,
          13,
          13,
          13,
          13,
          13,
          13,
          11,
          13,
          13,
          13,
          13,
          13,
          13,
          12,
          11,
          13,
          12,
          13,
          12,
          12,
          11,
          13,
          13,
          13,
          13,
          13,
          13,
          13,
          13,
          12,
          12,
          12,
          11,
          11,
          13,
          11,
          13,
          13,
          13,
          13,
          12,
          12,
          13,
          13,
          12,
          12,
          12,
          11,
          13,
          13,
          13,
          11,
          13,
          13,
          13,
          13,
          13,
          12,
          13,
          13,
          13,
          13,
          11,
          13,
          11,
          13,
          11,
          13,
          13,
          13,
          11,
          13,
          13,
          11,
          12,
          13,
          13,
          12,
          13,
          12,
          13,
          11,
          13,
          11,
          13,
          13,
          12,
          12,
          13,
          12,
          11,
          11,
          13,
          13,
          13,
          12,
          13,
          13,
          13,
          13,
          13,
          13,
          13,
          13,
          13,
          11,
          13,
          12,
          13,
          12,
          13,
          11,
          13,
          12,
          11,
          12,
          13,
          12,
          13,
          13,
          11,
          13,
          12,
          13,
          12,
          13,
          11,
          13,
          12,
          13,
          12,
          13,
          12,
          12,
          12,
          12,
          13,
          13,
          12,
          13,
          13,
          11,
          13,
          12,
          11,
          12,
          13,
          13,
          11,
          13,
          13,
          13,
          11,
          11,
          11,
          12,
          13,
          13,
          11,
          11,
          13,
          12,
          13,
          13,
          11,
          11,
          11,
          13,
          12,
          11,
          13,
          11,
          13,
          12,
          13,
          13,
          13,
          13,
          13,
          13,
          11,
          13,
          13,
          13,
          12,
          13,
          11,
          11,
          12,
          13,
          13,
          11,
          13,
          11,
          11,
          11,
          13,
          13,
          13,
          12,
          13,
          11,
          11,
          11,
          12,
          11,
          11,
          11,
          12,
          13,
          12,
          13,
          12,
          12,
          11,
          11,
          13,
          13,
          12,
          12,
          13,
          11,
          13,
          12,
          13,
          11,
          13,
          11,
          11,
          13,
          11,
          13,
          11,
          11,
          13,
          11,
          12,
          11,
          12,
          12,
          12,
          12,
          12,
          13,
          13,
          13,
          13,
          11,
          13,
          13,
          13,
          13,
          11,
          12,
          13,
          13,
          13,
          12,
          13,
          13,
          13,
          13,
          11,
          13,
          13,
          11,
          11,
          13,
          13,
          11,
          13,
          11,
          13,
          11,
          13,
          13,
          11,
          13,
          13,
          11,
          13,
          12,
          13,
          12,
          13,
          12,
          11,
          13,
          13,
          11,
          13,
          13,
          13,
          12,
          12,
          12,
          13,
          13,
          13,
          13,
          13,
          12,
          13,
          12,
          13,
          13,
          13,
          13,
          11,
          12,
          13,
          13,
          12,
          12,
          12,
          13,
          13,
          13,
          13,
          13,
          13,
          13,
          12,
          12,
          13,
          13,
          11,
          13,
          12,
          13,
          11,
          11,
          13,
          12,
          11,
          12,
          12,
          13,
          13,
          12,
          13,
          11,
          12,
          11,
          13,
          11,
          12,
          13,
          11,
          11,
          13,
          13,
          11,
          11,
          12,
          13,
          11,
          13,
          11,
          12,
          13,
          13,
          12,
          11,
          13,
          13,
          13,
          13,
          12,
          12,
          13,
          11,
          12,
          13,
          13,
          13,
          13,
          12,
          13,
          13,
          11,
          13,
          11,
          11,
          13,
          13,
          13,
          13,
          11,
          11,
          13,
          13,
          11,
          13,
          11,
          13,
          13,
          13,
          13,
          13,
          11,
          11,
          12,
          11,
          13,
          13,
          13,
          13,
          11,
          11,
          13,
          11,
          12,
          13,
          12,
          13,
          11,
          13,
          13,
          11,
          13,
          13,
          12,
          11,
          13,
          12,
          12,
          13,
          13,
          13,
          13,
          12,
          11,
          11,
          13,
          11,
          11,
          13,
          13,
          12,
          11,
          11,
          12,
          12,
          13,
          12,
          11,
          12,
          13,
          13,
          13,
          11,
          11,
          11,
          11,
          13,
          13,
          13,
          12,
          13,
          13,
          13,
          13,
          13,
          13,
          13,
          12,
          11,
          11,
          13,
          13,
          13,
          12,
          11,
          13,
          13,
          12,
          11,
          12,
          11,
          13,
          11,
          12,
          11,
          13,
          13,
          13,
          11,
          13,
          13,
          12,
          13,
          12,
          13,
          13,
          11,
          12,
          13,
          11,
          13,
          11,
          13,
          13,
          11,
          12,
          11,
          13,
          13,
          13,
          13,
          13,
          12,
          13,
          13,
          12,
          12,
          13,
          11,
          13,
          13,
          13,
          11,
          12,
          11,
          13,
          13,
          11,
          13,
          11,
          11,
          13,
          12,
          13,
          12,
          13,
          13,
          13,
          11,
          13,
          13,
          13,
          11,
          13,
          11,
          13,
          13,
          13,
          12,
          13,
          13,
          13,
          12,
          13,
          13,
          12,
          11,
          11,
          13,
          11,
          13,
          13,
          12,
          12,
          13,
          13,
          11,
          12,
          11,
          12,
          12,
          12,
          13,
          13,
          13,
          13,
          11,
          13,
          11,
          13,
          13,
          12,
          12,
          13,
          13,
          13,
          11,
          11,
          13,
          13,
          13,
          11,
          12,
          13,
          13,
          11,
          13,
          11,
          11,
          13,
          13,
          13,
          12,
          12,
          11,
          11,
          13,
          11,
          11,
          11,
          13,
          12,
          13,
          11,
          12,
          13,
          13,
          12,
          13,
          12,
          12,
          11,
          13,
          12,
          13,
          12,
          13,
          11,
          13,
          12,
          12,
          12,
          13,
          13,
          11,
          13,
          13,
          11,
          11,
          11,
          13,
          13,
          11,
          13,
          12,
          11,
          13,
          12,
          13,
          13,
          13,
          12,
          12,
          13,
          12,
          13,
          11,
          13,
          13,
          13,
          11,
          13,
          11,
          11,
          13,
          13,
          13,
          13,
          13,
          12,
          13,
          12,
          13,
          13,
          13,
          13,
          11,
          13,
          11,
          11,
          13,
          13,
          13,
          13,
          13,
          13,
          11,
          13,
          12,
          13,
          11,
          13,
          12,
          11,
          13,
          13,
          13,
          12,
          12,
          11,
          13,
          13,
          13,
          11,
          13,
          12,
          11,
          13,
          13,
          12,
          13,
          13,
          11,
          13,
          12,
          13,
          13,
          11,
          13,
          11,
          13,
          13,
          13,
          13,
          12,
          13,
          13,
          12,
          13,
          13,
          13,
          11,
          13,
          13,
          13,
          11,
          13,
          12,
          11,
          13,
          13,
          13,
          13,
          13,
          12,
          11,
          13,
          13,
          13,
          11,
          12,
          13,
          11,
          11,
          13,
          13,
          13,
          12,
          11,
          13,
          12,
          12,
          12,
          11,
          13,
          13,
          13,
          11,
          11,
          13,
          12,
          13,
          13,
          13,
          13,
          11,
          12,
          13,
          13,
          12,
          13,
          13,
          12,
          11,
          13,
          11,
          13
         ],
         "legendgroup": "",
         "name": "",
         "showlegend": true,
         "type": "pie",
         "values": [
          14.5,
          142.5666,
          15.85,
          106.2,
          16.1,
          16.9166,
          103.725,
          42.15,
          22.2666,
          60.1416,
          33.4,
          53.1,
          16.1,
          62.55,
          15.7084,
          32,
          58.25,
          26,
          36,
          14.45,
          52,
          26,
          16.0584,
          71,
          42.15,
          62.775,
          14.45,
          526,
          15.7584,
          15.7916,
          55.4416,
          293.0416,
          15.5,
          21,
          164.3416,
          104,
          14.4584,
          16.1,
          36,
          22.4834,
          18.95,
          42,
          15.7916,
          83.1584,
          15.7584,
          16.1,
          31,
          15.5,
          43.3584,
          35.6,
          79.375,
          15.6,
          153.4584,
          52,
          123.9584,
          71,
          21,
          14.4584,
          55.5,
          93.8,
          14.4584,
          166.95,
          55.8,
          55.4416,
          30.4916,
          21,
          16.3166,
          15.85,
          17.325,
          21,
          93.8,
          147,
          28.9084,
          112.9916,
          15.3,
          15.7916,
          16.1,
          58,
          24.95,
          18,
          19,
          15.575,
          94.2,
          21,
          31.7,
          68.75,
          16.1,
          526,
          16.1,
          16.1,
          15.7084,
          122.35,
          41.15,
          14.5,
          16.1,
          69.3084,
          126.7166,
          46,
          52,
          15.7916,
          15.7916,
          154.575,
          17.3084,
          15.85,
          15.7916,
          15.3,
          15.55,
          15.7916,
          48.3,
          104,
          28.9084,
          16.1,
          19.65,
          28.9166,
          15.85,
          15.5,
          42,
          495.0416,
          62.55,
          147,
          16.1,
          60.1416,
          26,
          154.575,
          22.4834,
          15.5,
          14.2834,
          44.7166,
          13.95,
          15.7916,
          14.1,
          29,
          52,
          26,
          30.0916,
          52.5666,
          106.2,
          18.4334,
          158.4,
          30.4916,
          15.5,
          31.7,
          13.5,
          23,
          73.5,
          15.5916,
          68.75,
          52,
          26,
          25.05,
          133.2,
          16.1,
          29,
          14.625,
          122.7584,
          15.4666,
          16.1,
          17.325,
          139.1,
          32.2,
          31.5,
          15.55,
          17.325,
          79.375,
          41.05,
          110,
          55.8,
          51.85,
          112.9916,
          67,
          58.25,
          22.2666,
          15.85,
          61.3916,
          15.7084,
          50.9334,
          57.425,
          26,
          0,
          139.1,
          30.1,
          62.775,
          78,
          44.05,
          100,
          31,
          53.1,
          31,
          15.7916,
          26,
          26,
          15.7084,
          52,
          55.4416,
          293.0416,
          15.5,
          16.8084,
          15.5,
          26,
          19,
          139.1,
          12.9916,
          14.45,
          16.1,
          20.925,
          31.7,
          37.575,
          15.5,
          62,
          14.1,
          42,
          14.5,
          26,
          15.5,
          226.55,
          15.85,
          54,
          152.5834,
          21,
          16.1,
          26,
          16.1,
          15.7916,
          180,
          18.7,
          21,
          14.5,
          26,
          50.9334,
          166.95,
          15.55,
          27,
          62.775,
          21,
          15.1,
          52,
          52.5,
          21,
          24.55,
          28.9084,
          31,
          21,
          14.25,
          14.45,
          180,
          15.55,
          29,
          105.1084,
          52,
          14.5,
          20.925,
          53.1,
          32.2,
          40.425,
          30.4916,
          158.4,
          173,
          1024.6584,
          52,
          15.5,
          62.775,
          159.3,
          0,
          15.5,
          21,
          79.375,
          15.55,
          306.925,
          271.2666,
          62,
          0,
          39,
          59.4,
          15.5,
          155.9166,
          15.5,
          0,
          58.25,
          40.5,
          15.5,
          15.7084,
          19,
          16.1,
          52,
          17.325,
          19,
          15.7916,
          26,
          15.5,
          157.7,
          182.1584,
          25.75,
          17.7,
          15.7916,
          55.4416,
          14.4584,
          303.1,
          61,
          495.0416,
          15.5,
          46.5,
          0,
          24.7,
          16.1,
          303.1,
          221.7666,
          217.8,
          48,
          113.8584,
          166.3166,
          524.75,
          52,
          15.7916,
          52.5,
          15.7084,
          52,
          28,
          329.7334,
          269,
          14.5,
          15.7916,
          24.7,
          58,
          139.1,
          271.2666,
          12.475,
          26,
          41.05,
          115.9584,
          46.5,
          57,
          306.925,
          36,
          267.3,
          15.7916,
          133.2,
          269,
          16.1,
          71,
          52,
          526,
          26,
          26,
          26,
          26,
          26,
          32.2,
          31.8,
          17.325,
          18.45,
          70,
          14.4584,
          35.6,
          14.45,
          19,
          110,
          26,
          15.7584,
          15.7584,
          55.8,
          55.4416,
          28.9084,
          14.1,
          31,
          14.5,
          150.5,
          14.4584,
          15.5,
          138.6,
          110.8834,
          12.9916,
          16.1,
          271.2666,
          42.15,
          164.3416,
          14.5,
          423,
          8.025,
          15.55,
          455.05,
          31.4834,
          15.85,
          104,
          15.7916,
          147,
          93.8,
          26,
          15.4584,
          24,
          240,
          15.5916,
          15.85,
          226.55,
          33.4,
          15.5916,
          15.7084,
          52,
          21,
          25.3,
          15.85,
          16.1,
          19.65,
          31.7,
          17.325,
          42,
          15.5,
          37.5,
          15.55,
          50.9334,
          15.7916,
          13.7166,
          180,
          0,
          15.85,
          16.1,
          65,
          26,
          26,
          48.3,
          15.7916,
          15.4666,
          15.75,
          28.8,
          40.425,
          14.5,
          52,
          52,
          15.5,
          16.1,
          53.1,
          32.2,
          52,
          14.25,
          111.8,
          240,
          68.75,
          37.5,
          526,
          21,
          52.5,
          19,
          15.55,
          26,
          16.225,
          163.7166,
          39,
          53.1,
          38.5166,
          61,
          55.5,
          39.9334,
          55.5,
          178.2084,
          16.1,
          15.7916,
          53.1,
          103.725,
          21,
          15.5,
          53.1,
          16.1,
          77,
          26,
          16.1,
          14.1,
          0,
          53.1,
          15.45,
          38.5166,
          14.5,
          17.325,
          55.5,
          27.5834,
          19.675,
          104,
          42,
          14.0916,
          15.0416,
          24.575,
          93.8,
          0,
          16.1,
          19.175,
          182.1584,
          50.9334,
          180,
          59.4,
          16.1,
          31.8,
          39.9334,
          14.5,
          61,
          99.0084,
          16.1,
          28.9166,
          156.5334,
          30.2,
          303.1,
          15.5916,
          17.325,
          15.5,
          15.2584,
          19.175,
          173,
          217.8,
          52,
          53.1,
          45.05,
          112.9916,
          15.5,
          16.1,
          52.575,
          118.8,
          14.9916,
          68.0416,
          21,
          48.3,
          52,
          15.7916,
          187,
          15.7916,
          14.45,
          115.9584,
          14.4584,
          15.5,
          21,
          443.5584,
          15.85,
          23,
          52,
          14.4584,
          14.4584,
          44.7166,
          17.325,
          52.5,
          53.1,
          212.85,
          29,
          99,
          142,
          62.55,
          62.55,
          52,
          212.85,
          52,
          52,
          27.725,
          41.05,
          73.5,
          221.7666,
          52,
          15.6584,
          14.45,
          15.55,
          53.1,
          79.2,
          455.05,
          159.3,
          34.8,
          15.5,
          15.7916,
          27,
          16.1,
          16.1,
          48.3,
          15.7916,
          42.15,
          14.4584,
          15.7084,
          21,
          102.9584,
          52.775,
          15.5,
          16.1,
          29,
          26,
          111.8,
          28.9166,
          15.85,
          60,
          221.7666,
          52,
          80.25,
          17.425,
          159.3,
          30,
          158.4,
          16.1,
          16.1,
          14.25,
          156.5334,
          14.5,
          15.5,
          52,
          48.3,
          66,
          0,
          14.45,
          113.8584,
          54,
          15.7916,
          84.8,
          16.1,
          53.1,
          31.1,
          15.7916,
          61,
          83.1584,
          306.925,
          62.55,
          14.1,
          31,
          15.5,
          16.1,
          130,
          28.8,
          32.2,
          78,
          21,
          28.9084,
          105.1084,
          31.4834,
          15.7084,
          32.2,
          64.6416,
          24.7,
          155.9166,
          15.7916,
          15.4666,
          60,
          14.1084,
          61,
          0,
          55.8,
          26,
          15.85,
          52.5,
          79.375,
          32.2,
          15.7084,
          138.6,
          55.8,
          112.9916,
          38.5166,
          153.4584,
          15.7916,
          71,
          15.1,
          15.1,
          15.7916,
          46,
          16.8666,
          15.6584,
          13.5,
          147,
          15.7916,
          31,
          26,
          226.55,
          267.3,
          14.45,
          51.175,
          14.9916,
          15.85,
          147,
          26,
          15.55,
          16.1,
          104,
          78,
          104,
          21,
          26,
          0,
          15.55,
          16.1,
          19.6834,
          93.8,
          1024.6584,
          16.275,
          153.4584,
          18.45,
          93.8,
          78,
          83.1584,
          79.375,
          20.3416,
          15.5916,
          422.675,
          114,
          26.8334,
          112.9916,
          14.45,
          53.1,
          27,
          16.1,
          15.4666,
          221.7666,
          15.3,
          455.05,
          52.575,
          28.9084,
          15.4834,
          15.7084,
          52,
          27,
          52.575,
          303.1,
          30.4916,
          99.0084,
          53.1,
          104,
          18.9666,
          26,
          15.3,
          455.05,
          21,
          31,
          15.55,
          66,
          14.1084,
          26,
          26,
          106.2,
          17.325,
          42,
          15.475,
          52,
          15.85,
          422.675,
          37.575,
          0,
          26,
          26,
          32.2,
          68.75,
          1024.6584,
          15.7916,
          15.7916,
          60,
          157.7,
          524.75,
          32.2,
          15.85,
          142,
          40.5,
          26,
          106.2,
          15.5,
          46,
          24.95,
          19,
          15.7916,
          130,
          29,
          15.5916,
          23,
          16.1,
          173,
          29,
          14.25,
          14.4584,
          240,
          15.55,
          155.9166,
          79.2,
          15.5,
          48.3,
          16.725,
          19,
          15.7084,
          21,
          14.45,
          46,
          15.5,
          15.5,
          24.95,
          15.475,
          422.675,
          14.4584,
          114,
          60,
          46.9,
          14.1,
          14.5,
          14.9916,
          58.25,
          41.15,
          158.4,
          15.5,
          52,
          139.1,
          61.3916,
          15.7916,
          26,
          51.8584,
          17.3666,
          14.4584,
          48.3,
          26,
          52.5,
          240,
          17.0334,
          13.95,
          15.55,
          0,
          15.55,
          26,
          106.2,
          15.775,
          48.3,
          21,
          62.55,
          16.1,
          0,
          15.85,
          74.0084,
          12.9,
          55.8,
          187,
          17.325,
          0,
          24.95,
          79.375,
          13.9,
          112.9916,
          74.0084,
          15.5,
          28.9084,
          37.5,
          14.4584,
          15.7084,
          16.6,
          166.3166,
          17.325,
          16.1,
          112.9916,
          59.4,
          15.85,
          21,
          62,
          12.875,
          17.325,
          15.1,
          139.1,
          15.7916,
          66,
          178.2084,
          62.55,
          15.55,
          30.4916,
          78.8,
          52,
          18.7,
          329.7334,
          53.1,
          38.5166,
          14.4584,
          28.2166,
          23,
          51.8584,
          139.1,
          26,
          26,
          27.7166,
          100.9916,
          19,
          22.2666,
          15.7916,
          105.1084,
          10,
          18,
          48,
          14.45,
          19.6916,
          15.7916,
          15.7916,
          166.3166,
          52,
          15.7916,
          21.0334,
          21,
          14.1,
          58.25,
          26,
          60,
          46.9,
          60,
          15.5
         ]
        }
       ],
       "layout": {
        "legend": {
         "tracegroupgap": 0
        },
        "template": {
         "data": {
          "bar": [
           {
            "error_x": {
             "color": "#2a3f5f"
            },
            "error_y": {
             "color": "#2a3f5f"
            },
            "marker": {
             "line": {
              "color": "#E5ECF6",
              "width": 0.5
             },
             "pattern": {
              "fillmode": "overlay",
              "size": 10,
              "solidity": 0.2
             }
            },
            "type": "bar"
           }
          ],
          "barpolar": [
           {
            "marker": {
             "line": {
              "color": "#E5ECF6",
              "width": 0.5
             },
             "pattern": {
              "fillmode": "overlay",
              "size": 10,
              "solidity": 0.2
             }
            },
            "type": "barpolar"
           }
          ],
          "carpet": [
           {
            "aaxis": {
             "endlinecolor": "#2a3f5f",
             "gridcolor": "white",
             "linecolor": "white",
             "minorgridcolor": "white",
             "startlinecolor": "#2a3f5f"
            },
            "baxis": {
             "endlinecolor": "#2a3f5f",
             "gridcolor": "white",
             "linecolor": "white",
             "minorgridcolor": "white",
             "startlinecolor": "#2a3f5f"
            },
            "type": "carpet"
           }
          ],
          "choropleth": [
           {
            "colorbar": {
             "outlinewidth": 0,
             "ticks": ""
            },
            "type": "choropleth"
           }
          ],
          "contour": [
           {
            "colorbar": {
             "outlinewidth": 0,
             "ticks": ""
            },
            "colorscale": [
             [
              0,
              "#0d0887"
             ],
             [
              0.1111111111111111,
              "#46039f"
             ],
             [
              0.2222222222222222,
              "#7201a8"
             ],
             [
              0.3333333333333333,
              "#9c179e"
             ],
             [
              0.4444444444444444,
              "#bd3786"
             ],
             [
              0.5555555555555556,
              "#d8576b"
             ],
             [
              0.6666666666666666,
              "#ed7953"
             ],
             [
              0.7777777777777778,
              "#fb9f3a"
             ],
             [
              0.8888888888888888,
              "#fdca26"
             ],
             [
              1,
              "#f0f921"
             ]
            ],
            "type": "contour"
           }
          ],
          "contourcarpet": [
           {
            "colorbar": {
             "outlinewidth": 0,
             "ticks": ""
            },
            "type": "contourcarpet"
           }
          ],
          "heatmap": [
           {
            "colorbar": {
             "outlinewidth": 0,
             "ticks": ""
            },
            "colorscale": [
             [
              0,
              "#0d0887"
             ],
             [
              0.1111111111111111,
              "#46039f"
             ],
             [
              0.2222222222222222,
              "#7201a8"
             ],
             [
              0.3333333333333333,
              "#9c179e"
             ],
             [
              0.4444444444444444,
              "#bd3786"
             ],
             [
              0.5555555555555556,
              "#d8576b"
             ],
             [
              0.6666666666666666,
              "#ed7953"
             ],
             [
              0.7777777777777778,
              "#fb9f3a"
             ],
             [
              0.8888888888888888,
              "#fdca26"
             ],
             [
              1,
              "#f0f921"
             ]
            ],
            "type": "heatmap"
           }
          ],
          "heatmapgl": [
           {
            "colorbar": {
             "outlinewidth": 0,
             "ticks": ""
            },
            "colorscale": [
             [
              0,
              "#0d0887"
             ],
             [
              0.1111111111111111,
              "#46039f"
             ],
             [
              0.2222222222222222,
              "#7201a8"
             ],
             [
              0.3333333333333333,
              "#9c179e"
             ],
             [
              0.4444444444444444,
              "#bd3786"
             ],
             [
              0.5555555555555556,
              "#d8576b"
             ],
             [
              0.6666666666666666,
              "#ed7953"
             ],
             [
              0.7777777777777778,
              "#fb9f3a"
             ],
             [
              0.8888888888888888,
              "#fdca26"
             ],
             [
              1,
              "#f0f921"
             ]
            ],
            "type": "heatmapgl"
           }
          ],
          "histogram": [
           {
            "marker": {
             "pattern": {
              "fillmode": "overlay",
              "size": 10,
              "solidity": 0.2
             }
            },
            "type": "histogram"
           }
          ],
          "histogram2d": [
           {
            "colorbar": {
             "outlinewidth": 0,
             "ticks": ""
            },
            "colorscale": [
             [
              0,
              "#0d0887"
             ],
             [
              0.1111111111111111,
              "#46039f"
             ],
             [
              0.2222222222222222,
              "#7201a8"
             ],
             [
              0.3333333333333333,
              "#9c179e"
             ],
             [
              0.4444444444444444,
              "#bd3786"
             ],
             [
              0.5555555555555556,
              "#d8576b"
             ],
             [
              0.6666666666666666,
              "#ed7953"
             ],
             [
              0.7777777777777778,
              "#fb9f3a"
             ],
             [
              0.8888888888888888,
              "#fdca26"
             ],
             [
              1,
              "#f0f921"
             ]
            ],
            "type": "histogram2d"
           }
          ],
          "histogram2dcontour": [
           {
            "colorbar": {
             "outlinewidth": 0,
             "ticks": ""
            },
            "colorscale": [
             [
              0,
              "#0d0887"
             ],
             [
              0.1111111111111111,
              "#46039f"
             ],
             [
              0.2222222222222222,
              "#7201a8"
             ],
             [
              0.3333333333333333,
              "#9c179e"
             ],
             [
              0.4444444444444444,
              "#bd3786"
             ],
             [
              0.5555555555555556,
              "#d8576b"
             ],
             [
              0.6666666666666666,
              "#ed7953"
             ],
             [
              0.7777777777777778,
              "#fb9f3a"
             ],
             [
              0.8888888888888888,
              "#fdca26"
             ],
             [
              1,
              "#f0f921"
             ]
            ],
            "type": "histogram2dcontour"
           }
          ],
          "mesh3d": [
           {
            "colorbar": {
             "outlinewidth": 0,
             "ticks": ""
            },
            "type": "mesh3d"
           }
          ],
          "parcoords": [
           {
            "line": {
             "colorbar": {
              "outlinewidth": 0,
              "ticks": ""
             }
            },
            "type": "parcoords"
           }
          ],
          "pie": [
           {
            "automargin": true,
            "type": "pie"
           }
          ],
          "scatter": [
           {
            "marker": {
             "colorbar": {
              "outlinewidth": 0,
              "ticks": ""
             }
            },
            "type": "scatter"
           }
          ],
          "scatter3d": [
           {
            "line": {
             "colorbar": {
              "outlinewidth": 0,
              "ticks": ""
             }
            },
            "marker": {
             "colorbar": {
              "outlinewidth": 0,
              "ticks": ""
             }
            },
            "type": "scatter3d"
           }
          ],
          "scattercarpet": [
           {
            "marker": {
             "colorbar": {
              "outlinewidth": 0,
              "ticks": ""
             }
            },
            "type": "scattercarpet"
           }
          ],
          "scattergeo": [
           {
            "marker": {
             "colorbar": {
              "outlinewidth": 0,
              "ticks": ""
             }
            },
            "type": "scattergeo"
           }
          ],
          "scattergl": [
           {
            "marker": {
             "colorbar": {
              "outlinewidth": 0,
              "ticks": ""
             }
            },
            "type": "scattergl"
           }
          ],
          "scattermapbox": [
           {
            "marker": {
             "colorbar": {
              "outlinewidth": 0,
              "ticks": ""
             }
            },
            "type": "scattermapbox"
           }
          ],
          "scatterpolar": [
           {
            "marker": {
             "colorbar": {
              "outlinewidth": 0,
              "ticks": ""
             }
            },
            "type": "scatterpolar"
           }
          ],
          "scatterpolargl": [
           {
            "marker": {
             "colorbar": {
              "outlinewidth": 0,
              "ticks": ""
             }
            },
            "type": "scatterpolargl"
           }
          ],
          "scatterternary": [
           {
            "marker": {
             "colorbar": {
              "outlinewidth": 0,
              "ticks": ""
             }
            },
            "type": "scatterternary"
           }
          ],
          "surface": [
           {
            "colorbar": {
             "outlinewidth": 0,
             "ticks": ""
            },
            "colorscale": [
             [
              0,
              "#0d0887"
             ],
             [
              0.1111111111111111,
              "#46039f"
             ],
             [
              0.2222222222222222,
              "#7201a8"
             ],
             [
              0.3333333333333333,
              "#9c179e"
             ],
             [
              0.4444444444444444,
              "#bd3786"
             ],
             [
              0.5555555555555556,
              "#d8576b"
             ],
             [
              0.6666666666666666,
              "#ed7953"
             ],
             [
              0.7777777777777778,
              "#fb9f3a"
             ],
             [
              0.8888888888888888,
              "#fdca26"
             ],
             [
              1,
              "#f0f921"
             ]
            ],
            "type": "surface"
           }
          ],
          "table": [
           {
            "cells": {
             "fill": {
              "color": "#EBF0F8"
             },
             "line": {
              "color": "white"
             }
            },
            "header": {
             "fill": {
              "color": "#C8D4E3"
             },
             "line": {
              "color": "white"
             }
            },
            "type": "table"
           }
          ]
         },
         "layout": {
          "annotationdefaults": {
           "arrowcolor": "#2a3f5f",
           "arrowhead": 0,
           "arrowwidth": 1
          },
          "autotypenumbers": "strict",
          "coloraxis": {
           "colorbar": {
            "outlinewidth": 0,
            "ticks": ""
           }
          },
          "colorscale": {
           "diverging": [
            [
             0,
             "#8e0152"
            ],
            [
             0.1,
             "#c51b7d"
            ],
            [
             0.2,
             "#de77ae"
            ],
            [
             0.3,
             "#f1b6da"
            ],
            [
             0.4,
             "#fde0ef"
            ],
            [
             0.5,
             "#f7f7f7"
            ],
            [
             0.6,
             "#e6f5d0"
            ],
            [
             0.7,
             "#b8e186"
            ],
            [
             0.8,
             "#7fbc41"
            ],
            [
             0.9,
             "#4d9221"
            ],
            [
             1,
             "#276419"
            ]
           ],
           "sequential": [
            [
             0,
             "#0d0887"
            ],
            [
             0.1111111111111111,
             "#46039f"
            ],
            [
             0.2222222222222222,
             "#7201a8"
            ],
            [
             0.3333333333333333,
             "#9c179e"
            ],
            [
             0.4444444444444444,
             "#bd3786"
            ],
            [
             0.5555555555555556,
             "#d8576b"
            ],
            [
             0.6666666666666666,
             "#ed7953"
            ],
            [
             0.7777777777777778,
             "#fb9f3a"
            ],
            [
             0.8888888888888888,
             "#fdca26"
            ],
            [
             1,
             "#f0f921"
            ]
           ],
           "sequentialminus": [
            [
             0,
             "#0d0887"
            ],
            [
             0.1111111111111111,
             "#46039f"
            ],
            [
             0.2222222222222222,
             "#7201a8"
            ],
            [
             0.3333333333333333,
             "#9c179e"
            ],
            [
             0.4444444444444444,
             "#bd3786"
            ],
            [
             0.5555555555555556,
             "#d8576b"
            ],
            [
             0.6666666666666666,
             "#ed7953"
            ],
            [
             0.7777777777777778,
             "#fb9f3a"
            ],
            [
             0.8888888888888888,
             "#fdca26"
            ],
            [
             1,
             "#f0f921"
            ]
           ]
          },
          "colorway": [
           "#636efa",
           "#EF553B",
           "#00cc96",
           "#ab63fa",
           "#FFA15A",
           "#19d3f3",
           "#FF6692",
           "#B6E880",
           "#FF97FF",
           "#FECB52"
          ],
          "font": {
           "color": "#2a3f5f"
          },
          "geo": {
           "bgcolor": "white",
           "lakecolor": "white",
           "landcolor": "#E5ECF6",
           "showlakes": true,
           "showland": true,
           "subunitcolor": "white"
          },
          "hoverlabel": {
           "align": "left"
          },
          "hovermode": "closest",
          "mapbox": {
           "style": "light"
          },
          "paper_bgcolor": "white",
          "plot_bgcolor": "#E5ECF6",
          "polar": {
           "angularaxis": {
            "gridcolor": "white",
            "linecolor": "white",
            "ticks": ""
           },
           "bgcolor": "#E5ECF6",
           "radialaxis": {
            "gridcolor": "white",
            "linecolor": "white",
            "ticks": ""
           }
          },
          "scene": {
           "xaxis": {
            "backgroundcolor": "#E5ECF6",
            "gridcolor": "white",
            "gridwidth": 2,
            "linecolor": "white",
            "showbackground": true,
            "ticks": "",
            "zerolinecolor": "white"
           },
           "yaxis": {
            "backgroundcolor": "#E5ECF6",
            "gridcolor": "white",
            "gridwidth": 2,
            "linecolor": "white",
            "showbackground": true,
            "ticks": "",
            "zerolinecolor": "white"
           },
           "zaxis": {
            "backgroundcolor": "#E5ECF6",
            "gridcolor": "white",
            "gridwidth": 2,
            "linecolor": "white",
            "showbackground": true,
            "ticks": "",
            "zerolinecolor": "white"
           }
          },
          "shapedefaults": {
           "line": {
            "color": "#2a3f5f"
           }
          },
          "ternary": {
           "aaxis": {
            "gridcolor": "white",
            "linecolor": "white",
            "ticks": ""
           },
           "baxis": {
            "gridcolor": "white",
            "linecolor": "white",
            "ticks": ""
           },
           "bgcolor": "#E5ECF6",
           "caxis": {
            "gridcolor": "white",
            "linecolor": "white",
            "ticks": ""
           }
          },
          "title": {
           "x": 0.05
          },
          "xaxis": {
           "automargin": true,
           "gridcolor": "white",
           "linecolor": "white",
           "ticks": "",
           "title": {
            "standoff": 15
           },
           "zerolinecolor": "white",
           "zerolinewidth": 2
          },
          "yaxis": {
           "automargin": true,
           "gridcolor": "white",
           "linecolor": "white",
           "ticks": "",
           "title": {
            "standoff": 15
           },
           "zerolinecolor": "white",
           "zerolinewidth": 2
          }
         }
        },
        "title": {
         "text": "Each customer segment impact on Initial fees"
        }
       }
      },
      "text/html": [
       "<div>                            <div id=\"9bce7621-78ba-42cc-aa76-160766a38bfb\" class=\"plotly-graph-div\" style=\"height:525px; width:100%;\"></div>            <script type=\"text/javascript\">                require([\"plotly\"], function(Plotly) {                    window.PLOTLYENV=window.PLOTLYENV || {};                                    if (document.getElementById(\"9bce7621-78ba-42cc-aa76-160766a38bfb\")) {                    Plotly.newPlot(                        \"9bce7621-78ba-42cc-aa76-160766a38bfb\",                        [{\"domain\":{\"x\":[0.0,1.0],\"y\":[0.0,1.0]},\"hovertemplate\":\"customer_segment=%{label}<br>initial_fee_level=%{value}<extra></extra>\",\"labels\":[13,11,13,11,13,13,11,13,13,12,13,11,13,13,13,12,13,12,13,13,12,12,13,11,13,13,13,11,13,13,11,11,13,12,11,11,13,13,13,13,13,12,13,12,13,13,13,13,13,13,13,13,11,12,11,11,12,13,12,13,13,11,13,11,13,12,13,13,13,12,13,12,13,13,13,13,13,12,13,13,13,13,11,12,13,13,13,11,13,13,13,11,13,13,13,11,11,12,12,13,13,11,13,13,13,13,13,13,13,11,13,13,13,13,13,13,12,11,13,12,13,12,12,11,13,13,13,13,13,13,13,13,12,12,12,11,11,13,11,13,13,13,13,12,12,13,13,12,12,12,11,13,13,13,11,13,13,13,13,13,12,13,13,13,13,11,13,11,13,11,13,13,13,11,13,13,11,12,13,13,12,13,12,13,11,13,11,13,13,12,12,13,12,11,11,13,13,13,12,13,13,13,13,13,13,13,13,13,11,13,12,13,12,13,11,13,12,11,12,13,12,13,13,11,13,12,13,12,13,11,13,12,13,12,13,12,12,12,12,13,13,12,13,13,11,13,12,11,12,13,13,11,13,13,13,11,11,11,12,13,13,11,11,13,12,13,13,11,11,11,13,12,11,13,11,13,12,13,13,13,13,13,13,11,13,13,13,12,13,11,11,12,13,13,11,13,11,11,11,13,13,13,12,13,11,11,11,12,11,11,11,12,13,12,13,12,12,11,11,13,13,12,12,13,11,13,12,13,11,13,11,11,13,11,13,11,11,13,11,12,11,12,12,12,12,12,13,13,13,13,11,13,13,13,13,11,12,13,13,13,12,13,13,13,13,11,13,13,11,11,13,13,11,13,11,13,11,13,13,11,13,13,11,13,12,13,12,13,12,11,13,13,11,13,13,13,12,12,12,13,13,13,13,13,12,13,12,13,13,13,13,11,12,13,13,12,12,12,13,13,13,13,13,13,13,12,12,13,13,11,13,12,13,11,11,13,12,11,12,12,13,13,12,13,11,12,11,13,11,12,13,11,11,13,13,11,11,12,13,11,13,11,12,13,13,12,11,13,13,13,13,12,12,13,11,12,13,13,13,13,12,13,13,11,13,11,11,13,13,13,13,11,11,13,13,11,13,11,13,13,13,13,13,11,11,12,11,13,13,13,13,11,11,13,11,12,13,12,13,11,13,13,11,13,13,12,11,13,12,12,13,13,13,13,12,11,11,13,11,11,13,13,12,11,11,12,12,13,12,11,12,13,13,13,11,11,11,11,13,13,13,12,13,13,13,13,13,13,13,12,11,11,13,13,13,12,11,13,13,12,11,12,11,13,11,12,11,13,13,13,11,13,13,12,13,12,13,13,11,12,13,11,13,11,13,13,11,12,11,13,13,13,13,13,12,13,13,12,12,13,11,13,13,13,11,12,11,13,13,11,13,11,11,13,12,13,12,13,13,13,11,13,13,13,11,13,11,13,13,13,12,13,13,13,12,13,13,12,11,11,13,11,13,13,12,12,13,13,11,12,11,12,12,12,13,13,13,13,11,13,11,13,13,12,12,13,13,13,11,11,13,13,13,11,12,13,13,11,13,11,11,13,13,13,12,12,11,11,13,11,11,11,13,12,13,11,12,13,13,12,13,12,12,11,13,12,13,12,13,11,13,12,12,12,13,13,11,13,13,11,11,11,13,13,11,13,12,11,13,12,13,13,13,12,12,13,12,13,11,13,13,13,11,13,11,11,13,13,13,13,13,12,13,12,13,13,13,13,11,13,11,11,13,13,13,13,13,13,11,13,12,13,11,13,12,11,13,13,13,12,12,11,13,13,13,11,13,12,11,13,13,12,13,13,11,13,12,13,13,11,13,11,13,13,13,13,12,13,13,12,13,13,13,11,13,13,13,11,13,12,11,13,13,13,13,13,12,11,13,13,13,11,12,13,11,11,13,13,13,12,11,13,12,12,12,11,13,13,13,11,11,13,12,13,13,13,13,11,12,13,13,12,13,13,12,11,13,11,13],\"legendgroup\":\"\",\"name\":\"\",\"showlegend\":true,\"values\":[14.5,142.5666,15.85,106.2,16.1,16.9166,103.725,42.15,22.2666,60.1416,33.4,53.1,16.1,62.55,15.7084,32.0,58.25,26.0,36.0,14.45,52.0,26.0,16.0584,71.0,42.15,62.775,14.45,526.0,15.7584,15.7916,55.4416,293.0416,15.5,21.0,164.3416,104.0,14.4584,16.1,36.0,22.4834,18.95,42.0,15.7916,83.1584,15.7584,16.1,31.0,15.5,43.3584,35.6,79.375,15.6,153.4584,52.0,123.9584,71.0,21.0,14.4584,55.5,93.8,14.4584,166.95,55.8,55.4416,30.4916,21.0,16.3166,15.85,17.325,21.0,93.8,147.0,28.9084,112.9916,15.3,15.7916,16.1,58.0,24.95,18.0,19.0,15.575,94.2,21.0,31.7,68.75,16.1,526.0,16.1,16.1,15.7084,122.35,41.15,14.5,16.1,69.3084,126.7166,46.0,52.0,15.7916,15.7916,154.575,17.3084,15.85,15.7916,15.3,15.55,15.7916,48.3,104.0,28.9084,16.1,19.65,28.9166,15.85,15.5,42.0,495.0416,62.55,147.0,16.1,60.1416,26.0,154.575,22.4834,15.5,14.2834,44.7166,13.95,15.7916,14.1,29.0,52.0,26.0,30.0916,52.5666,106.2,18.4334,158.4,30.4916,15.5,31.7,13.5,23.0,73.5,15.5916,68.75,52.0,26.0,25.05,133.2,16.1,29.0,14.625,122.7584,15.4666,16.1,17.325,139.1,32.2,31.5,15.55,17.325,79.375,41.05,110.0,55.8,51.85,112.9916,67.0,58.25,22.2666,15.85,61.3916,15.7084,50.9334,57.425,26.0,0.0,139.1,30.1,62.775,78.0,44.05,100.0,31.0,53.1,31.0,15.7916,26.0,26.0,15.7084,52.0,55.4416,293.0416,15.5,16.8084,15.5,26.0,19.0,139.1,12.9916,14.45,16.1,20.925,31.7,37.575,15.5,62.0,14.1,42.0,14.5,26.0,15.5,226.55,15.85,54.0,152.5834,21.0,16.1,26.0,16.1,15.7916,180.0,18.7,21.0,14.5,26.0,50.9334,166.95,15.55,27.0,62.775,21.0,15.1,52.0,52.5,21.0,24.55,28.9084,31.0,21.0,14.25,14.45,180.0,15.55,29.0,105.1084,52.0,14.5,20.925,53.1,32.2,40.425,30.4916,158.4,173.0,1024.6584,52.0,15.5,62.775,159.3,0.0,15.5,21.0,79.375,15.55,306.925,271.2666,62.0,0.0,39.0,59.4,15.5,155.9166,15.5,0.0,58.25,40.5,15.5,15.7084,19.0,16.1,52.0,17.325,19.0,15.7916,26.0,15.5,157.7,182.1584,25.75,17.7,15.7916,55.4416,14.4584,303.1,61.0,495.0416,15.5,46.5,0.0,24.7,16.1,303.1,221.7666,217.8,48.0,113.8584,166.3166,524.75,52.0,15.7916,52.5,15.7084,52.0,28.0,329.7334,269.0,14.5,15.7916,24.7,58.0,139.1,271.2666,12.475,26.0,41.05,115.9584,46.5,57.0,306.925,36.0,267.3,15.7916,133.2,269.0,16.1,71.0,52.0,526.0,26.0,26.0,26.0,26.0,26.0,32.2,31.8,17.325,18.45,70.0,14.4584,35.6,14.45,19.0,110.0,26.0,15.7584,15.7584,55.8,55.4416,28.9084,14.1,31.0,14.5,150.5,14.4584,15.5,138.6,110.8834,12.9916,16.1,271.2666,42.15,164.3416,14.5,423.0,8.025,15.55,455.05,31.4834,15.85,104.0,15.7916,147.0,93.8,26.0,15.4584,24.0,240.0,15.5916,15.85,226.55,33.4,15.5916,15.7084,52.0,21.0,25.3,15.85,16.1,19.65,31.7,17.325,42.0,15.5,37.5,15.55,50.9334,15.7916,13.7166,180.0,0.0,15.85,16.1,65.0,26.0,26.0,48.3,15.7916,15.4666,15.75,28.8,40.425,14.5,52.0,52.0,15.5,16.1,53.1,32.2,52.0,14.25,111.8,240.0,68.75,37.5,526.0,21.0,52.5,19.0,15.55,26.0,16.225,163.7166,39.0,53.1,38.5166,61.0,55.5,39.9334,55.5,178.2084,16.1,15.7916,53.1,103.725,21.0,15.5,53.1,16.1,77.0,26.0,16.1,14.1,0.0,53.1,15.45,38.5166,14.5,17.325,55.5,27.5834,19.675,104.0,42.0,14.0916,15.0416,24.575,93.8,0.0,16.1,19.175,182.1584,50.9334,180.0,59.4,16.1,31.8,39.9334,14.5,61.0,99.0084,16.1,28.9166,156.5334,30.2,303.1,15.5916,17.325,15.5,15.2584,19.175,173.0,217.8,52.0,53.1,45.05,112.9916,15.5,16.1,52.575,118.8,14.9916,68.0416,21.0,48.3,52.0,15.7916,187.0,15.7916,14.45,115.9584,14.4584,15.5,21.0,443.5584,15.85,23.0,52.0,14.4584,14.4584,44.7166,17.325,52.5,53.1,212.85,29.0,99.0,142.0,62.55,62.55,52.0,212.85,52.0,52.0,27.725,41.05,73.5,221.7666,52.0,15.6584,14.45,15.55,53.1,79.2,455.05,159.3,34.8,15.5,15.7916,27.0,16.1,16.1,48.3,15.7916,42.15,14.4584,15.7084,21.0,102.9584,52.775,15.5,16.1,29.0,26.0,111.8,28.9166,15.85,60.0,221.7666,52.0,80.25,17.425,159.3,30.0,158.4,16.1,16.1,14.25,156.5334,14.5,15.5,52.0,48.3,66.0,0.0,14.45,113.8584,54.0,15.7916,84.8,16.1,53.1,31.1,15.7916,61.0,83.1584,306.925,62.55,14.1,31.0,15.5,16.1,130.0,28.8,32.2,78.0,21.0,28.9084,105.1084,31.4834,15.7084,32.2,64.6416,24.7,155.9166,15.7916,15.4666,60.0,14.1084,61.0,0.0,55.8,26.0,15.85,52.5,79.375,32.2,15.7084,138.6,55.8,112.9916,38.5166,153.4584,15.7916,71.0,15.1,15.1,15.7916,46.0,16.8666,15.6584,13.5,147.0,15.7916,31.0,26.0,226.55,267.3,14.45,51.175,14.9916,15.85,147.0,26.0,15.55,16.1,104.0,78.0,104.0,21.0,26.0,0.0,15.55,16.1,19.6834,93.8,1024.6584,16.275,153.4584,18.45,93.8,78.0,83.1584,79.375,20.3416,15.5916,422.675,114.0,26.8334,112.9916,14.45,53.1,27.0,16.1,15.4666,221.7666,15.3,455.05,52.575,28.9084,15.4834,15.7084,52.0,27.0,52.575,303.1,30.4916,99.0084,53.1,104.0,18.9666,26.0,15.3,455.05,21.0,31.0,15.55,66.0,14.1084,26.0,26.0,106.2,17.325,42.0,15.475,52.0,15.85,422.675,37.575,0.0,26.0,26.0,32.2,68.75,1024.6584,15.7916,15.7916,60.0,157.7,524.75,32.2,15.85,142.0,40.5,26.0,106.2,15.5,46.0,24.95,19.0,15.7916,130.0,29.0,15.5916,23.0,16.1,173.0,29.0,14.25,14.4584,240.0,15.55,155.9166,79.2,15.5,48.3,16.725,19.0,15.7084,21.0,14.45,46.0,15.5,15.5,24.95,15.475,422.675,14.4584,114.0,60.0,46.9,14.1,14.5,14.9916,58.25,41.15,158.4,15.5,52.0,139.1,61.3916,15.7916,26.0,51.8584,17.3666,14.4584,48.3,26.0,52.5,240.0,17.0334,13.95,15.55,0.0,15.55,26.0,106.2,15.775,48.3,21.0,62.55,16.1,0.0,15.85,74.0084,12.9,55.8,187.0,17.325,0.0,24.95,79.375,13.9,112.9916,74.0084,15.5,28.9084,37.5,14.4584,15.7084,16.6,166.3166,17.325,16.1,112.9916,59.4,15.85,21.0,62.0,12.875,17.325,15.1,139.1,15.7916,66.0,178.2084,62.55,15.55,30.4916,78.8,52.0,18.7,329.7334,53.1,38.5166,14.4584,28.2166,23.0,51.8584,139.1,26.0,26.0,27.7166,100.9916,19.0,22.2666,15.7916,105.1084,10.0,18.0,48.0,14.45,19.6916,15.7916,15.7916,166.3166,52.0,15.7916,21.0334,21.0,14.1,58.25,26.0,60.0,46.9,60.0,15.5],\"type\":\"pie\"}],                        {\"template\":{\"data\":{\"bar\":[{\"error_x\":{\"color\":\"#2a3f5f\"},\"error_y\":{\"color\":\"#2a3f5f\"},\"marker\":{\"line\":{\"color\":\"#E5ECF6\",\"width\":0.5},\"pattern\":{\"fillmode\":\"overlay\",\"size\":10,\"solidity\":0.2}},\"type\":\"bar\"}],\"barpolar\":[{\"marker\":{\"line\":{\"color\":\"#E5ECF6\",\"width\":0.5},\"pattern\":{\"fillmode\":\"overlay\",\"size\":10,\"solidity\":0.2}},\"type\":\"barpolar\"}],\"carpet\":[{\"aaxis\":{\"endlinecolor\":\"#2a3f5f\",\"gridcolor\":\"white\",\"linecolor\":\"white\",\"minorgridcolor\":\"white\",\"startlinecolor\":\"#2a3f5f\"},\"baxis\":{\"endlinecolor\":\"#2a3f5f\",\"gridcolor\":\"white\",\"linecolor\":\"white\",\"minorgridcolor\":\"white\",\"startlinecolor\":\"#2a3f5f\"},\"type\":\"carpet\"}],\"choropleth\":[{\"colorbar\":{\"outlinewidth\":0,\"ticks\":\"\"},\"type\":\"choropleth\"}],\"contour\":[{\"colorbar\":{\"outlinewidth\":0,\"ticks\":\"\"},\"colorscale\":[[0.0,\"#0d0887\"],[0.1111111111111111,\"#46039f\"],[0.2222222222222222,\"#7201a8\"],[0.3333333333333333,\"#9c179e\"],[0.4444444444444444,\"#bd3786\"],[0.5555555555555556,\"#d8576b\"],[0.6666666666666666,\"#ed7953\"],[0.7777777777777778,\"#fb9f3a\"],[0.8888888888888888,\"#fdca26\"],[1.0,\"#f0f921\"]],\"type\":\"contour\"}],\"contourcarpet\":[{\"colorbar\":{\"outlinewidth\":0,\"ticks\":\"\"},\"type\":\"contourcarpet\"}],\"heatmap\":[{\"colorbar\":{\"outlinewidth\":0,\"ticks\":\"\"},\"colorscale\":[[0.0,\"#0d0887\"],[0.1111111111111111,\"#46039f\"],[0.2222222222222222,\"#7201a8\"],[0.3333333333333333,\"#9c179e\"],[0.4444444444444444,\"#bd3786\"],[0.5555555555555556,\"#d8576b\"],[0.6666666666666666,\"#ed7953\"],[0.7777777777777778,\"#fb9f3a\"],[0.8888888888888888,\"#fdca26\"],[1.0,\"#f0f921\"]],\"type\":\"heatmap\"}],\"heatmapgl\":[{\"colorbar\":{\"outlinewidth\":0,\"ticks\":\"\"},\"colorscale\":[[0.0,\"#0d0887\"],[0.1111111111111111,\"#46039f\"],[0.2222222222222222,\"#7201a8\"],[0.3333333333333333,\"#9c179e\"],[0.4444444444444444,\"#bd3786\"],[0.5555555555555556,\"#d8576b\"],[0.6666666666666666,\"#ed7953\"],[0.7777777777777778,\"#fb9f3a\"],[0.8888888888888888,\"#fdca26\"],[1.0,\"#f0f921\"]],\"type\":\"heatmapgl\"}],\"histogram\":[{\"marker\":{\"pattern\":{\"fillmode\":\"overlay\",\"size\":10,\"solidity\":0.2}},\"type\":\"histogram\"}],\"histogram2d\":[{\"colorbar\":{\"outlinewidth\":0,\"ticks\":\"\"},\"colorscale\":[[0.0,\"#0d0887\"],[0.1111111111111111,\"#46039f\"],[0.2222222222222222,\"#7201a8\"],[0.3333333333333333,\"#9c179e\"],[0.4444444444444444,\"#bd3786\"],[0.5555555555555556,\"#d8576b\"],[0.6666666666666666,\"#ed7953\"],[0.7777777777777778,\"#fb9f3a\"],[0.8888888888888888,\"#fdca26\"],[1.0,\"#f0f921\"]],\"type\":\"histogram2d\"}],\"histogram2dcontour\":[{\"colorbar\":{\"outlinewidth\":0,\"ticks\":\"\"},\"colorscale\":[[0.0,\"#0d0887\"],[0.1111111111111111,\"#46039f\"],[0.2222222222222222,\"#7201a8\"],[0.3333333333333333,\"#9c179e\"],[0.4444444444444444,\"#bd3786\"],[0.5555555555555556,\"#d8576b\"],[0.6666666666666666,\"#ed7953\"],[0.7777777777777778,\"#fb9f3a\"],[0.8888888888888888,\"#fdca26\"],[1.0,\"#f0f921\"]],\"type\":\"histogram2dcontour\"}],\"mesh3d\":[{\"colorbar\":{\"outlinewidth\":0,\"ticks\":\"\"},\"type\":\"mesh3d\"}],\"parcoords\":[{\"line\":{\"colorbar\":{\"outlinewidth\":0,\"ticks\":\"\"}},\"type\":\"parcoords\"}],\"pie\":[{\"automargin\":true,\"type\":\"pie\"}],\"scatter\":[{\"marker\":{\"colorbar\":{\"outlinewidth\":0,\"ticks\":\"\"}},\"type\":\"scatter\"}],\"scatter3d\":[{\"line\":{\"colorbar\":{\"outlinewidth\":0,\"ticks\":\"\"}},\"marker\":{\"colorbar\":{\"outlinewidth\":0,\"ticks\":\"\"}},\"type\":\"scatter3d\"}],\"scattercarpet\":[{\"marker\":{\"colorbar\":{\"outlinewidth\":0,\"ticks\":\"\"}},\"type\":\"scattercarpet\"}],\"scattergeo\":[{\"marker\":{\"colorbar\":{\"outlinewidth\":0,\"ticks\":\"\"}},\"type\":\"scattergeo\"}],\"scattergl\":[{\"marker\":{\"colorbar\":{\"outlinewidth\":0,\"ticks\":\"\"}},\"type\":\"scattergl\"}],\"scattermapbox\":[{\"marker\":{\"colorbar\":{\"outlinewidth\":0,\"ticks\":\"\"}},\"type\":\"scattermapbox\"}],\"scatterpolar\":[{\"marker\":{\"colorbar\":{\"outlinewidth\":0,\"ticks\":\"\"}},\"type\":\"scatterpolar\"}],\"scatterpolargl\":[{\"marker\":{\"colorbar\":{\"outlinewidth\":0,\"ticks\":\"\"}},\"type\":\"scatterpolargl\"}],\"scatterternary\":[{\"marker\":{\"colorbar\":{\"outlinewidth\":0,\"ticks\":\"\"}},\"type\":\"scatterternary\"}],\"surface\":[{\"colorbar\":{\"outlinewidth\":0,\"ticks\":\"\"},\"colorscale\":[[0.0,\"#0d0887\"],[0.1111111111111111,\"#46039f\"],[0.2222222222222222,\"#7201a8\"],[0.3333333333333333,\"#9c179e\"],[0.4444444444444444,\"#bd3786\"],[0.5555555555555556,\"#d8576b\"],[0.6666666666666666,\"#ed7953\"],[0.7777777777777778,\"#fb9f3a\"],[0.8888888888888888,\"#fdca26\"],[1.0,\"#f0f921\"]],\"type\":\"surface\"}],\"table\":[{\"cells\":{\"fill\":{\"color\":\"#EBF0F8\"},\"line\":{\"color\":\"white\"}},\"header\":{\"fill\":{\"color\":\"#C8D4E3\"},\"line\":{\"color\":\"white\"}},\"type\":\"table\"}]},\"layout\":{\"annotationdefaults\":{\"arrowcolor\":\"#2a3f5f\",\"arrowhead\":0,\"arrowwidth\":1},\"autotypenumbers\":\"strict\",\"coloraxis\":{\"colorbar\":{\"outlinewidth\":0,\"ticks\":\"\"}},\"colorscale\":{\"diverging\":[[0,\"#8e0152\"],[0.1,\"#c51b7d\"],[0.2,\"#de77ae\"],[0.3,\"#f1b6da\"],[0.4,\"#fde0ef\"],[0.5,\"#f7f7f7\"],[0.6,\"#e6f5d0\"],[0.7,\"#b8e186\"],[0.8,\"#7fbc41\"],[0.9,\"#4d9221\"],[1,\"#276419\"]],\"sequential\":[[0.0,\"#0d0887\"],[0.1111111111111111,\"#46039f\"],[0.2222222222222222,\"#7201a8\"],[0.3333333333333333,\"#9c179e\"],[0.4444444444444444,\"#bd3786\"],[0.5555555555555556,\"#d8576b\"],[0.6666666666666666,\"#ed7953\"],[0.7777777777777778,\"#fb9f3a\"],[0.8888888888888888,\"#fdca26\"],[1.0,\"#f0f921\"]],\"sequentialminus\":[[0.0,\"#0d0887\"],[0.1111111111111111,\"#46039f\"],[0.2222222222222222,\"#7201a8\"],[0.3333333333333333,\"#9c179e\"],[0.4444444444444444,\"#bd3786\"],[0.5555555555555556,\"#d8576b\"],[0.6666666666666666,\"#ed7953\"],[0.7777777777777778,\"#fb9f3a\"],[0.8888888888888888,\"#fdca26\"],[1.0,\"#f0f921\"]]},\"colorway\":[\"#636efa\",\"#EF553B\",\"#00cc96\",\"#ab63fa\",\"#FFA15A\",\"#19d3f3\",\"#FF6692\",\"#B6E880\",\"#FF97FF\",\"#FECB52\"],\"font\":{\"color\":\"#2a3f5f\"},\"geo\":{\"bgcolor\":\"white\",\"lakecolor\":\"white\",\"landcolor\":\"#E5ECF6\",\"showlakes\":true,\"showland\":true,\"subunitcolor\":\"white\"},\"hoverlabel\":{\"align\":\"left\"},\"hovermode\":\"closest\",\"mapbox\":{\"style\":\"light\"},\"paper_bgcolor\":\"white\",\"plot_bgcolor\":\"#E5ECF6\",\"polar\":{\"angularaxis\":{\"gridcolor\":\"white\",\"linecolor\":\"white\",\"ticks\":\"\"},\"bgcolor\":\"#E5ECF6\",\"radialaxis\":{\"gridcolor\":\"white\",\"linecolor\":\"white\",\"ticks\":\"\"}},\"scene\":{\"xaxis\":{\"backgroundcolor\":\"#E5ECF6\",\"gridcolor\":\"white\",\"gridwidth\":2,\"linecolor\":\"white\",\"showbackground\":true,\"ticks\":\"\",\"zerolinecolor\":\"white\"},\"yaxis\":{\"backgroundcolor\":\"#E5ECF6\",\"gridcolor\":\"white\",\"gridwidth\":2,\"linecolor\":\"white\",\"showbackground\":true,\"ticks\":\"\",\"zerolinecolor\":\"white\"},\"zaxis\":{\"backgroundcolor\":\"#E5ECF6\",\"gridcolor\":\"white\",\"gridwidth\":2,\"linecolor\":\"white\",\"showbackground\":true,\"ticks\":\"\",\"zerolinecolor\":\"white\"}},\"shapedefaults\":{\"line\":{\"color\":\"#2a3f5f\"}},\"ternary\":{\"aaxis\":{\"gridcolor\":\"white\",\"linecolor\":\"white\",\"ticks\":\"\"},\"baxis\":{\"gridcolor\":\"white\",\"linecolor\":\"white\",\"ticks\":\"\"},\"bgcolor\":\"#E5ECF6\",\"caxis\":{\"gridcolor\":\"white\",\"linecolor\":\"white\",\"ticks\":\"\"}},\"title\":{\"x\":0.05},\"xaxis\":{\"automargin\":true,\"gridcolor\":\"white\",\"linecolor\":\"white\",\"ticks\":\"\",\"title\":{\"standoff\":15},\"zerolinecolor\":\"white\",\"zerolinewidth\":2},\"yaxis\":{\"automargin\":true,\"gridcolor\":\"white\",\"linecolor\":\"white\",\"ticks\":\"\",\"title\":{\"standoff\":15},\"zerolinecolor\":\"white\",\"zerolinewidth\":2}}},\"legend\":{\"tracegroupgap\":0},\"title\":{\"text\":\"Each customer segment impact on Initial fees\"}},                        {\"responsive\": true}                    ).then(function(){\n",
       "                            \n",
       "var gd = document.getElementById('9bce7621-78ba-42cc-aa76-160766a38bfb');\n",
       "var x = new MutationObserver(function (mutations, observer) {{\n",
       "        var display = window.getComputedStyle(gd).display;\n",
       "        if (!display || display === 'none') {{\n",
       "            console.log([gd, 'removed!']);\n",
       "            Plotly.purge(gd);\n",
       "            observer.disconnect();\n",
       "        }}\n",
       "}});\n",
       "\n",
       "// Listen for the removal of the full notebook cells\n",
       "var notebookContainer = gd.closest('#notebook-container');\n",
       "if (notebookContainer) {{\n",
       "    x.observe(notebookContainer, {childList: true});\n",
       "}}\n",
       "\n",
       "// Listen for the clearing of the current output cell\n",
       "var outputEl = gd.closest('.output');\n",
       "if (outputEl) {{\n",
       "    x.observe(outputEl, {childList: true});\n",
       "}}\n",
       "\n",
       "                        })                };                });            </script>        </div>"
      ]
     },
     "metadata": {},
     "output_type": "display_data"
    },
    {
     "data": {
      "text/plain": [
       "'\\nResult - From the  graph 11 brings in more money\\n\\n'"
      ]
     },
     "execution_count": 119,
     "metadata": {},
     "output_type": "execute_result"
    }
   ],
   "source": [
    "# Initial fees collected from Customer segment \n",
    "\n",
    "fig = px.pie(clean_data, values='initial_fee_level', \n",
    "             names='customer_segment',\n",
    "             title = \"Each customer segment impact on Initial fees\")\n",
    "fig.show()\n",
    "\n",
    "clean_data.groupby('customer_segment').mean()\n",
    "#fig.write_html(\"graph/Each customer segment impact on Initial fees.html\")\n",
    "\n",
    "'''\n",
    "Result - From the  graph 11 brings in more money\n",
    "\n",
    "'''"
   ]
  },
  {
   "cell_type": "code",
   "execution_count": 120,
   "id": "503e4617",
   "metadata": {},
   "outputs": [
    {
     "data": {
      "application/vnd.plotly.v1+json": {
       "config": {
        "plotlyServerURL": "https://plot.ly"
       },
       "data": [
        {
         "domain": {
          "x": [
           0,
           1
          ],
          "y": [
           0,
           1
          ]
         },
         "hovertemplate": "branch=%{label}<br>initial_fee_level=%{value}<extra></extra>",
         "labels": [
          "Helsinki",
          "Tampere",
          "Helsinki",
          "Helsinki",
          "Helsinki",
          "Turku",
          "Helsinki",
          "Helsinki",
          "Helsinki",
          "Tampere",
          "Helsinki",
          "Helsinki",
          "Helsinki",
          "Helsinki",
          "Helsinki",
          "Helsinki",
          "Turku",
          "Helsinki",
          "Helsinki",
          "Tampere",
          "Helsinki",
          "Helsinki",
          "Turku",
          "Helsinki",
          "Helsinki",
          "Helsinki",
          "Tampere",
          "Helsinki",
          "Turku",
          "Helsinki",
          "Tampere",
          "Tampere",
          "Turku",
          "Helsinki",
          "Tampere",
          "Helsinki",
          "Tampere",
          "Helsinki",
          "Helsinki",
          "Tampere",
          "Helsinki",
          "Helsinki",
          "Tampere",
          "Tampere",
          "Turku",
          "Helsinki",
          "Turku",
          "Turku",
          "Tampere",
          "Helsinki",
          "Helsinki",
          "Helsinki",
          "Tampere",
          "Helsinki",
          "Tampere",
          "Helsinki",
          "Helsinki",
          "Tampere",
          "Helsinki",
          "Helsinki",
          "Tampere",
          "Helsinki",
          "Helsinki",
          "Tampere",
          "Tampere",
          "Helsinki",
          "Helsinki",
          "Helsinki",
          "Helsinki",
          "Helsinki",
          "Helsinki",
          "Helsinki",
          "Tampere",
          "Helsinki",
          "Helsinki",
          "Helsinki",
          "Helsinki",
          "Helsinki",
          "Helsinki",
          "Helsinki",
          "Helsinki",
          "Turku",
          "Helsinki",
          "Helsinki",
          "Helsinki",
          "Helsinki",
          "Helsinki",
          "Helsinki",
          "Helsinki",
          "Helsinki",
          "Helsinki",
          "Helsinki",
          "Helsinki",
          "Helsinki",
          "Helsinki",
          "Tampere",
          "Tampere",
          "Helsinki",
          "Helsinki",
          "Helsinki",
          "Helsinki",
          "Helsinki",
          "Helsinki",
          "Helsinki",
          "Helsinki",
          "Helsinki",
          "Helsinki",
          "Helsinki",
          "Turku",
          "Helsinki",
          "Tampere",
          "Helsinki",
          "Helsinki",
          "Tampere",
          "Helsinki",
          "Turku",
          "Helsinki",
          "Tampere",
          "Helsinki",
          "Helsinki",
          "Helsinki",
          "Tampere",
          "Helsinki",
          "Helsinki",
          "Tampere",
          "Turku",
          "Helsinki",
          "Tampere",
          "Helsinki",
          "Tampere",
          "Helsinki",
          "Helsinki",
          "Helsinki",
          "Helsinki",
          "Tampere",
          "Helsinki",
          "Helsinki",
          "Helsinki",
          "Tampere",
          "Tampere",
          "Helsinki",
          "Helsinki",
          "Turku",
          "Helsinki",
          "Helsinki",
          "Helsinki",
          "Helsinki",
          "Helsinki",
          "Helsinki",
          "Helsinki",
          "Helsinki",
          "Helsinki",
          "Helsinki",
          "Helsinki",
          "Tampere",
          "Turku",
          "Helsinki",
          "Helsinki",
          "Helsinki",
          "Helsinki",
          "Helsinki",
          "Helsinki",
          "Helsinki",
          "Helsinki",
          "Helsinki",
          "Helsinki",
          "Helsinki",
          "Helsinki",
          "Helsinki",
          "Helsinki",
          "Turku",
          "Helsinki",
          "Helsinki",
          "Tampere",
          "Helsinki",
          "Helsinki",
          "Tampere",
          "Helsinki",
          "Helsinki",
          "Helsinki",
          "Tampere",
          "Helsinki",
          "Helsinki",
          "Helsinki",
          "Helsinki",
          "Turku",
          "Helsinki",
          "Turku",
          "Helsinki",
          "Helsinki",
          "Helsinki",
          "Helsinki",
          "Helsinki",
          "Tampere",
          "Tampere",
          "Turku",
          "Helsinki",
          "Turku",
          "Helsinki",
          "Helsinki",
          "Helsinki",
          "Helsinki",
          "Tampere",
          "Helsinki",
          "Helsinki",
          "Helsinki",
          "Tampere",
          "Turku",
          "Tampere",
          "Helsinki",
          "Helsinki",
          "Helsinki",
          "Helsinki",
          "Turku",
          "Tampere",
          "Helsinki",
          "Helsinki",
          "Tampere",
          "Helsinki",
          "Helsinki",
          "Helsinki",
          "Helsinki",
          "Helsinki",
          "Helsinki",
          "Helsinki",
          "Helsinki",
          "Helsinki",
          "Helsinki",
          "Helsinki",
          "Helsinki",
          "Helsinki",
          "Helsinki",
          "Helsinki",
          "Helsinki",
          "Helsinki",
          "Helsinki",
          "Helsinki",
          "Helsinki",
          "Helsinki",
          "Tampere",
          "Turku",
          "Helsinki",
          "Helsinki",
          "Tampere",
          "Turku",
          "Helsinki",
          "Helsinki",
          "Helsinki",
          "Helsinki",
          "Helsinki",
          "Helsinki",
          "Helsinki",
          "Helsinki",
          "Helsinki",
          "Tampere",
          "Tampere",
          "Helsinki",
          "Tampere",
          "Helsinki",
          "Turku",
          "Helsinki",
          "Helsinki",
          "Helsinki",
          "Turku",
          "Helsinki",
          "Helsinki",
          "Helsinki",
          "Helsinki",
          "Helsinki",
          "Helsinki",
          "Helsinki",
          "Helsinki",
          "Tampere",
          "Turku",
          "Helsinki",
          "Helsinki",
          "Helsinki",
          "Turku",
          "Helsinki",
          "Turku",
          "Helsinki",
          "Helsinki",
          "Helsinki",
          "Helsinki",
          "Tampere",
          "Helsinki",
          "Helsinki",
          "Helsinki",
          "Turku",
          "Helsinki",
          "Tampere",
          "Tampere",
          "Helsinki",
          "Helsinki",
          "Tampere",
          "Tampere",
          "Helsinki",
          "Helsinki",
          "Tampere",
          "Turku",
          "Turku",
          "Helsinki",
          "Turku",
          "Helsinki",
          "Helsinki",
          "Tampere",
          "Tampere",
          "Tampere",
          "Tampere",
          "Tampere",
          "Tampere",
          "Helsinki",
          "Helsinki",
          "Helsinki",
          "Helsinki",
          "Helsinki",
          "Helsinki",
          "Helsinki",
          "Tampere",
          "Helsinki",
          "Helsinki",
          "Turku",
          "Helsinki",
          "Helsinki",
          "Tampere",
          "Helsinki",
          "Helsinki",
          "Helsinki",
          "Tampere",
          "Turku",
          "Helsinki",
          "Helsinki",
          "Helsinki",
          "Helsinki",
          "Helsinki",
          "Helsinki",
          "Tampere",
          "Helsinki",
          "Helsinki",
          "Helsinki",
          "Helsinki",
          "Helsinki",
          "Helsinki",
          "Helsinki",
          "Helsinki",
          "Helsinki",
          "Helsinki",
          "Helsinki",
          "Helsinki",
          "Helsinki",
          "Helsinki",
          "Tampere",
          "Helsinki",
          "Tampere",
          "Helsinki",
          "Helsinki",
          "Helsinki",
          "Turku",
          "Turku",
          "Helsinki",
          "Tampere",
          "Tampere",
          "Helsinki",
          "Turku",
          "Helsinki",
          "Tampere",
          "Tampere",
          "Turku",
          "Tampere",
          "Tampere",
          "Helsinki",
          "Helsinki",
          "Tampere",
          "Helsinki",
          "Tampere",
          "Helsinki",
          "Tampere",
          "Tampere",
          "Helsinki",
          "Tampere",
          "Tampere",
          "Helsinki",
          "Helsinki",
          "Helsinki",
          "Helsinki",
          "Helsinki",
          "Helsinki",
          "Turku",
          "Tampere",
          "Helsinki",
          "Helsinki",
          "Helsinki",
          "Tampere",
          "Helsinki",
          "Helsinki",
          "Helsinki",
          "Helsinki",
          "Helsinki",
          "Helsinki",
          "Helsinki",
          "Helsinki",
          "Helsinki",
          "Helsinki",
          "Helsinki",
          "Helsinki",
          "Helsinki",
          "Helsinki",
          "Helsinki",
          "Helsinki",
          "Helsinki",
          "Turku",
          "Turku",
          "Helsinki",
          "Helsinki",
          "Helsinki",
          "Helsinki",
          "Helsinki",
          "Helsinki",
          "Helsinki",
          "Tampere",
          "Turku",
          "Helsinki",
          "Helsinki",
          "Helsinki",
          "Helsinki",
          "Helsinki",
          "Helsinki",
          "Turku",
          "Helsinki",
          "Helsinki",
          "Helsinki",
          "Helsinki",
          "Helsinki",
          "Helsinki",
          "Helsinki",
          "Helsinki",
          "Helsinki",
          "Helsinki",
          "Helsinki",
          "Helsinki",
          "Helsinki",
          "Helsinki",
          "Helsinki",
          "Helsinki",
          "Helsinki",
          "Helsinki",
          "Helsinki",
          "Tampere",
          "Helsinki",
          "Helsinki",
          "Helsinki",
          "Tampere",
          "Tampere",
          "Helsinki",
          "Tampere",
          "Helsinki",
          "Helsinki",
          "Helsinki",
          "Turku",
          "Helsinki",
          "Helsinki",
          "Helsinki",
          "Helsinki",
          "Helsinki",
          "Helsinki",
          "Helsinki",
          "Helsinki",
          "Turku",
          "Tampere",
          "Helsinki",
          "Helsinki",
          "Helsinki",
          "Tampere",
          "Helsinki",
          "Helsinki",
          "Helsinki",
          "Helsinki",
          "Helsinki",
          "Helsinki",
          "Helsinki",
          "Helsinki",
          "Helsinki",
          "Helsinki",
          "Tampere",
          "Helsinki",
          "Helsinki",
          "Tampere",
          "Helsinki",
          "Helsinki",
          "Helsinki",
          "Helsinki",
          "Helsinki",
          "Tampere",
          "Helsinki",
          "Tampere",
          "Tampere",
          "Helsinki",
          "Helsinki",
          "Helsinki",
          "Helsinki",
          "Turku",
          "Turku",
          "Helsinki",
          "Helsinki",
          "Tampere",
          "Helsinki",
          "Helsinki",
          "Helsinki",
          "Helsinki",
          "Turku",
          "Helsinki",
          "Helsinki",
          "Tampere",
          "Helsinki",
          "Helsinki",
          "Helsinki",
          "Turku",
          "Helsinki",
          "Helsinki",
          "Helsinki",
          "Helsinki",
          "Tampere",
          "Tampere",
          "Tampere",
          "Turku",
          "Helsinki",
          "Helsinki",
          "Helsinki",
          "Helsinki",
          "Helsinki",
          "Tampere",
          "Tampere",
          "Tampere",
          "Helsinki",
          "Helsinki",
          "Helsinki",
          "Tampere",
          "Helsinki",
          "Tampere",
          "Helsinki",
          "Helsinki",
          "Helsinki",
          "Helsinki",
          "Tampere",
          "Helsinki",
          "Helsinki",
          "Tampere",
          "Helsinki",
          "Helsinki",
          "Tampere",
          "Helsinki",
          "Turku",
          "Tampere",
          "Helsinki",
          "Helsinki",
          "Tampere",
          "Tampere",
          "Helsinki",
          "Helsinki",
          "Turku",
          "Helsinki",
          "Helsinki",
          "Helsinki",
          "Helsinki",
          "Helsinki",
          "Helsinki",
          "Helsinki",
          "Tampere",
          "Helsinki",
          "Helsinki",
          "Helsinki",
          "Helsinki",
          "Turku",
          "Helsinki",
          "Helsinki",
          "Helsinki",
          "Helsinki",
          "Tampere",
          "Helsinki",
          "Helsinki",
          "Tampere",
          "Helsinki",
          "Tampere",
          "Tampere",
          "Helsinki",
          "Helsinki",
          "Tampere",
          "Helsinki",
          "Helsinki",
          "Helsinki",
          "Tampere",
          "Helsinki",
          "Turku",
          "Helsinki",
          "Helsinki",
          "Helsinki",
          "Helsinki",
          "Tampere",
          "Tampere",
          "Helsinki",
          "Helsinki",
          "Helsinki",
          "Helsinki",
          "Tampere",
          "Helsinki",
          "Helsinki",
          "Helsinki",
          "Tampere",
          "Helsinki",
          "Helsinki",
          "Helsinki",
          "Turku",
          "Turku",
          "Helsinki",
          "Helsinki",
          "Helsinki",
          "Helsinki",
          "Helsinki",
          "Helsinki",
          "Tampere",
          "Helsinki",
          "Tampere",
          "Helsinki",
          "Helsinki",
          "Helsinki",
          "Turku",
          "Helsinki",
          "Helsinki",
          "Turku",
          "Helsinki",
          "Helsinki",
          "Tampere",
          "Helsinki",
          "Helsinki",
          "Helsinki",
          "Helsinki",
          "Helsinki",
          "Helsinki",
          "Helsinki",
          "Helsinki",
          "Tampere",
          "Helsinki",
          "Helsinki",
          "Tampere",
          "Tampere",
          "Helsinki",
          "Tampere",
          "Helsinki",
          "Helsinki",
          "Helsinki",
          "Helsinki",
          "Helsinki",
          "Turku",
          "Turku",
          "Helsinki",
          "Helsinki",
          "Turku",
          "Helsinki",
          "Tampere",
          "Helsinki",
          "Tampere",
          "Helsinki",
          "Helsinki",
          "Helsinki",
          "Helsinki",
          "Helsinki",
          "Helsinki",
          "Helsinki",
          "Helsinki",
          "Helsinki",
          "Helsinki",
          "Helsinki",
          "Helsinki",
          "Helsinki",
          "Helsinki",
          "Helsinki",
          "Helsinki",
          "Helsinki",
          "Tampere",
          "Turku",
          "Tampere",
          "Helsinki",
          "Helsinki",
          "Helsinki",
          "Tampere",
          "Helsinki",
          "Helsinki",
          "Helsinki",
          "Helsinki",
          "Helsinki",
          "Tampere",
          "Helsinki",
          "Tampere",
          "Helsinki",
          "Helsinki",
          "Helsinki",
          "Turku",
          "Tampere",
          "Helsinki",
          "Tampere",
          "Helsinki",
          "Tampere",
          "Turku",
          "Helsinki",
          "Helsinki",
          "Helsinki",
          "Helsinki",
          "Helsinki",
          "Tampere",
          "Tampere",
          "Helsinki",
          "Helsinki",
          "Helsinki",
          "Helsinki",
          "Helsinki",
          "Tampere",
          "Helsinki",
          "Turku",
          "Helsinki",
          "Helsinki",
          "Helsinki",
          "Helsinki",
          "Helsinki",
          "Helsinki",
          "Helsinki",
          "Helsinki",
          "Turku",
          "Helsinki",
          "Helsinki",
          "Helsinki",
          "Tampere",
          "Helsinki",
          "Helsinki",
          "Helsinki",
          "Helsinki",
          "Helsinki",
          "Tampere",
          "Helsinki",
          "Helsinki",
          "Helsinki",
          "Helsinki",
          "Tampere",
          "Helsinki",
          "Helsinki",
          "Helsinki",
          "Helsinki",
          "Helsinki",
          "Helsinki",
          "Turku",
          "Helsinki",
          "Helsinki",
          "Helsinki",
          "Helsinki",
          "Helsinki",
          "Helsinki",
          "Helsinki",
          "Helsinki",
          "Helsinki",
          "Helsinki",
          "Helsinki",
          "Helsinki",
          "Tampere",
          "Helsinki",
          "Helsinki",
          "Helsinki",
          "Tampere",
          "Turku",
          "Turku",
          "Helsinki",
          "Helsinki",
          "Helsinki",
          "Helsinki",
          "Tampere",
          "Helsinki",
          "Helsinki",
          "Turku",
          "Helsinki",
          "Turku",
          "Helsinki",
          "Tampere",
          "Helsinki",
          "Helsinki",
          "Helsinki",
          "Helsinki",
          "Helsinki",
          "Helsinki",
          "Turku",
          "Helsinki",
          "Tampere",
          "Turku",
          "Helsinki",
          "Helsinki",
          "Tampere",
          "Helsinki",
          "Helsinki",
          "Helsinki",
          "Helsinki",
          "Tampere",
          "Helsinki",
          "Helsinki",
          "Helsinki",
          "Helsinki",
          "Tampere",
          "Helsinki",
          "Helsinki",
          "Helsinki",
          "Helsinki",
          "Helsinki",
          "Helsinki",
          "Helsinki",
          "Helsinki",
          "Helsinki",
          "Helsinki",
          "Helsinki",
          "Helsinki",
          "Helsinki",
          "Tampere",
          "Helsinki",
          "Helsinki",
          "Helsinki",
          "Helsinki",
          "Helsinki",
          "Helsinki",
          "Helsinki",
          "Turku",
          "Helsinki",
          "Tampere",
          "Turku",
          "Tampere",
          "Helsinki",
          "Tampere",
          "Helsinki",
          "Helsinki",
          "Tampere",
          "Helsinki",
          "Helsinki",
          "Helsinki",
          "Tampere",
          "Helsinki",
          "Helsinki",
          "Tampere",
          "Tampere",
          "Helsinki",
          "Helsinki",
          "Helsinki",
          "Tampere",
          "Helsinki",
          "Tampere",
          "Helsinki",
          "Helsinki",
          "Tampere",
          "Helsinki",
          "Helsinki",
          "Helsinki",
          "Helsinki",
          "Helsinki",
          "Tampere",
          "Tampere",
          "Helsinki",
          "Helsinki",
          "Helsinki",
          "Helsinki",
          "Helsinki",
          "Helsinki",
          "Tampere",
          "Helsinki",
          "Helsinki",
          "Helsinki",
          "Helsinki",
          "Helsinki",
          "Helsinki",
          "Helsinki",
          "Tampere",
          "Tampere",
          "Helsinki",
          "Helsinki",
          "Helsinki",
          "Tampere",
          "Helsinki",
          "Helsinki",
          "Helsinki",
          "Helsinki",
          "Helsinki",
          "Turku",
          "Helsinki",
          "Helsinki",
          "Helsinki",
          "Tampere",
          "Turku"
         ],
         "legendgroup": "",
         "name": "",
         "showlegend": true,
         "type": "pie",
         "values": [
          14.5,
          142.5666,
          15.85,
          106.2,
          16.1,
          16.9166,
          103.725,
          42.15,
          22.2666,
          60.1416,
          33.4,
          53.1,
          16.1,
          62.55,
          15.7084,
          32,
          58.25,
          26,
          36,
          14.45,
          52,
          26,
          16.0584,
          71,
          42.15,
          62.775,
          14.45,
          526,
          15.7584,
          15.7916,
          55.4416,
          293.0416,
          15.5,
          21,
          164.3416,
          104,
          14.4584,
          16.1,
          36,
          22.4834,
          18.95,
          42,
          15.7916,
          83.1584,
          15.7584,
          16.1,
          31,
          15.5,
          43.3584,
          35.6,
          79.375,
          15.6,
          153.4584,
          52,
          123.9584,
          71,
          21,
          14.4584,
          55.5,
          93.8,
          14.4584,
          166.95,
          55.8,
          55.4416,
          30.4916,
          21,
          16.3166,
          15.85,
          17.325,
          21,
          93.8,
          147,
          28.9084,
          112.9916,
          15.3,
          15.7916,
          16.1,
          58,
          24.95,
          18,
          19,
          15.575,
          94.2,
          21,
          31.7,
          68.75,
          16.1,
          526,
          16.1,
          16.1,
          15.7084,
          122.35,
          41.15,
          14.5,
          16.1,
          69.3084,
          126.7166,
          46,
          52,
          15.7916,
          15.7916,
          154.575,
          17.3084,
          15.85,
          15.7916,
          15.3,
          15.55,
          15.7916,
          48.3,
          104,
          28.9084,
          16.1,
          19.65,
          28.9166,
          15.85,
          15.5,
          42,
          495.0416,
          62.55,
          147,
          16.1,
          60.1416,
          26,
          154.575,
          22.4834,
          15.5,
          14.2834,
          44.7166,
          13.95,
          15.7916,
          14.1,
          29,
          52,
          26,
          30.0916,
          52.5666,
          106.2,
          18.4334,
          158.4,
          30.4916,
          15.5,
          31.7,
          13.5,
          23,
          73.5,
          15.5916,
          68.75,
          52,
          26,
          25.05,
          133.2,
          16.1,
          29,
          14.625,
          122.7584,
          15.4666,
          16.1,
          17.325,
          139.1,
          32.2,
          31.5,
          15.55,
          17.325,
          79.375,
          41.05,
          110,
          55.8,
          51.85,
          112.9916,
          67,
          58.25,
          22.2666,
          15.85,
          61.3916,
          15.7084,
          50.9334,
          57.425,
          26,
          0,
          139.1,
          30.1,
          62.775,
          78,
          44.05,
          100,
          31,
          53.1,
          31,
          15.7916,
          26,
          26,
          15.7084,
          52,
          55.4416,
          293.0416,
          15.5,
          16.8084,
          15.5,
          26,
          19,
          139.1,
          12.9916,
          14.45,
          16.1,
          20.925,
          31.7,
          37.575,
          15.5,
          62,
          14.1,
          42,
          14.5,
          26,
          15.5,
          226.55,
          15.85,
          54,
          152.5834,
          21,
          16.1,
          26,
          16.1,
          15.7916,
          180,
          18.7,
          21,
          14.5,
          26,
          50.9334,
          166.95,
          15.55,
          27,
          62.775,
          21,
          15.1,
          52,
          52.5,
          21,
          24.55,
          28.9084,
          31,
          21,
          14.25,
          14.45,
          180,
          15.55,
          29,
          105.1084,
          52,
          14.5,
          20.925,
          53.1,
          32.2,
          40.425,
          30.4916,
          158.4,
          173,
          1024.6584,
          52,
          15.5,
          62.775,
          159.3,
          0,
          15.5,
          21,
          79.375,
          15.55,
          306.925,
          271.2666,
          62,
          0,
          39,
          59.4,
          15.5,
          155.9166,
          15.5,
          0,
          58.25,
          40.5,
          15.5,
          15.7084,
          19,
          16.1,
          52,
          17.325,
          19,
          15.7916,
          26,
          15.5,
          157.7,
          182.1584,
          25.75,
          17.7,
          15.7916,
          55.4416,
          14.4584,
          303.1,
          61,
          495.0416,
          15.5,
          46.5,
          0,
          24.7,
          16.1,
          303.1,
          221.7666,
          217.8,
          48,
          113.8584,
          166.3166,
          524.75,
          52,
          15.7916,
          52.5,
          15.7084,
          52,
          28,
          329.7334,
          269,
          14.5,
          15.7916,
          24.7,
          58,
          139.1,
          271.2666,
          12.475,
          26,
          41.05,
          115.9584,
          46.5,
          57,
          306.925,
          36,
          267.3,
          15.7916,
          133.2,
          269,
          16.1,
          71,
          52,
          526,
          26,
          26,
          26,
          26,
          26,
          32.2,
          31.8,
          17.325,
          18.45,
          70,
          14.4584,
          35.6,
          14.45,
          19,
          110,
          26,
          15.7584,
          15.7584,
          55.8,
          55.4416,
          28.9084,
          14.1,
          31,
          14.5,
          150.5,
          14.4584,
          15.5,
          138.6,
          110.8834,
          12.9916,
          16.1,
          271.2666,
          42.15,
          164.3416,
          14.5,
          423,
          8.025,
          15.55,
          455.05,
          31.4834,
          15.85,
          104,
          15.7916,
          147,
          93.8,
          26,
          15.4584,
          24,
          240,
          15.5916,
          15.85,
          226.55,
          33.4,
          15.5916,
          15.7084,
          52,
          21,
          25.3,
          15.85,
          16.1,
          19.65,
          31.7,
          17.325,
          42,
          15.5,
          37.5,
          15.55,
          50.9334,
          15.7916,
          13.7166,
          180,
          0,
          15.85,
          16.1,
          65,
          26,
          26,
          48.3,
          15.7916,
          15.4666,
          15.75,
          28.8,
          40.425,
          14.5,
          52,
          52,
          15.5,
          16.1,
          53.1,
          32.2,
          52,
          14.25,
          111.8,
          240,
          68.75,
          37.5,
          526,
          21,
          52.5,
          19,
          15.55,
          26,
          16.225,
          163.7166,
          39,
          53.1,
          38.5166,
          61,
          55.5,
          39.9334,
          55.5,
          178.2084,
          16.1,
          15.7916,
          53.1,
          103.725,
          21,
          15.5,
          53.1,
          16.1,
          77,
          26,
          16.1,
          14.1,
          0,
          53.1,
          15.45,
          38.5166,
          14.5,
          17.325,
          55.5,
          27.5834,
          19.675,
          104,
          42,
          14.0916,
          15.0416,
          24.575,
          93.8,
          0,
          16.1,
          19.175,
          182.1584,
          50.9334,
          180,
          59.4,
          16.1,
          31.8,
          39.9334,
          14.5,
          61,
          99.0084,
          16.1,
          28.9166,
          156.5334,
          30.2,
          303.1,
          15.5916,
          17.325,
          15.5,
          15.2584,
          19.175,
          173,
          217.8,
          52,
          53.1,
          45.05,
          112.9916,
          15.5,
          16.1,
          52.575,
          118.8,
          14.9916,
          68.0416,
          21,
          48.3,
          52,
          15.7916,
          187,
          15.7916,
          14.45,
          115.9584,
          14.4584,
          15.5,
          21,
          443.5584,
          15.85,
          23,
          52,
          14.4584,
          14.4584,
          44.7166,
          17.325,
          52.5,
          53.1,
          212.85,
          29,
          99,
          142,
          62.55,
          62.55,
          52,
          212.85,
          52,
          52,
          27.725,
          41.05,
          73.5,
          221.7666,
          52,
          15.6584,
          14.45,
          15.55,
          53.1,
          79.2,
          455.05,
          159.3,
          34.8,
          15.5,
          15.7916,
          27,
          16.1,
          16.1,
          48.3,
          15.7916,
          42.15,
          14.4584,
          15.7084,
          21,
          102.9584,
          52.775,
          15.5,
          16.1,
          29,
          26,
          111.8,
          28.9166,
          15.85,
          60,
          221.7666,
          52,
          80.25,
          17.425,
          159.3,
          30,
          158.4,
          16.1,
          16.1,
          14.25,
          156.5334,
          14.5,
          15.5,
          52,
          48.3,
          66,
          0,
          14.45,
          113.8584,
          54,
          15.7916,
          84.8,
          16.1,
          53.1,
          31.1,
          15.7916,
          61,
          83.1584,
          306.925,
          62.55,
          14.1,
          31,
          15.5,
          16.1,
          130,
          28.8,
          32.2,
          78,
          21,
          28.9084,
          105.1084,
          31.4834,
          15.7084,
          32.2,
          64.6416,
          24.7,
          155.9166,
          15.7916,
          15.4666,
          60,
          14.1084,
          61,
          0,
          55.8,
          26,
          15.85,
          52.5,
          79.375,
          32.2,
          15.7084,
          138.6,
          55.8,
          112.9916,
          38.5166,
          153.4584,
          15.7916,
          71,
          15.1,
          15.1,
          15.7916,
          46,
          16.8666,
          15.6584,
          13.5,
          147,
          15.7916,
          31,
          26,
          226.55,
          267.3,
          14.45,
          51.175,
          14.9916,
          15.85,
          147,
          26,
          15.55,
          16.1,
          104,
          78,
          104,
          21,
          26,
          0,
          15.55,
          16.1,
          19.6834,
          93.8,
          1024.6584,
          16.275,
          153.4584,
          18.45,
          93.8,
          78,
          83.1584,
          79.375,
          20.3416,
          15.5916,
          422.675,
          114,
          26.8334,
          112.9916,
          14.45,
          53.1,
          27,
          16.1,
          15.4666,
          221.7666,
          15.3,
          455.05,
          52.575,
          28.9084,
          15.4834,
          15.7084,
          52,
          27,
          52.575,
          303.1,
          30.4916,
          99.0084,
          53.1,
          104,
          18.9666,
          26,
          15.3,
          455.05,
          21,
          31,
          15.55,
          66,
          14.1084,
          26,
          26,
          106.2,
          17.325,
          42,
          15.475,
          52,
          15.85,
          422.675,
          37.575,
          0,
          26,
          26,
          32.2,
          68.75,
          1024.6584,
          15.7916,
          15.7916,
          60,
          157.7,
          524.75,
          32.2,
          15.85,
          142,
          40.5,
          26,
          106.2,
          15.5,
          46,
          24.95,
          19,
          15.7916,
          130,
          29,
          15.5916,
          23,
          16.1,
          173,
          29,
          14.25,
          14.4584,
          240,
          15.55,
          155.9166,
          79.2,
          15.5,
          48.3,
          16.725,
          19,
          15.7084,
          21,
          14.45,
          46,
          15.5,
          15.5,
          24.95,
          15.475,
          422.675,
          14.4584,
          114,
          60,
          46.9,
          14.1,
          14.5,
          14.9916,
          58.25,
          41.15,
          158.4,
          15.5,
          52,
          139.1,
          61.3916,
          15.7916,
          26,
          51.8584,
          17.3666,
          14.4584,
          48.3,
          26,
          52.5,
          240,
          17.0334,
          13.95,
          15.55,
          0,
          15.55,
          26,
          106.2,
          15.775,
          48.3,
          21,
          62.55,
          16.1,
          0,
          15.85,
          74.0084,
          12.9,
          55.8,
          187,
          17.325,
          0,
          24.95,
          79.375,
          13.9,
          112.9916,
          74.0084,
          15.5,
          28.9084,
          37.5,
          14.4584,
          15.7084,
          16.6,
          166.3166,
          17.325,
          16.1,
          112.9916,
          59.4,
          15.85,
          21,
          62,
          12.875,
          17.325,
          15.1,
          139.1,
          15.7916,
          66,
          178.2084,
          62.55,
          15.55,
          30.4916,
          78.8,
          52,
          18.7,
          329.7334,
          53.1,
          38.5166,
          14.4584,
          28.2166,
          23,
          51.8584,
          139.1,
          26,
          26,
          27.7166,
          100.9916,
          19,
          22.2666,
          15.7916,
          105.1084,
          10,
          18,
          48,
          14.45,
          19.6916,
          15.7916,
          15.7916,
          166.3166,
          52,
          15.7916,
          21.0334,
          21,
          14.1,
          58.25,
          26,
          60,
          46.9,
          60,
          15.5
         ]
        }
       ],
       "layout": {
        "legend": {
         "tracegroupgap": 0
        },
        "template": {
         "data": {
          "bar": [
           {
            "error_x": {
             "color": "#2a3f5f"
            },
            "error_y": {
             "color": "#2a3f5f"
            },
            "marker": {
             "line": {
              "color": "#E5ECF6",
              "width": 0.5
             },
             "pattern": {
              "fillmode": "overlay",
              "size": 10,
              "solidity": 0.2
             }
            },
            "type": "bar"
           }
          ],
          "barpolar": [
           {
            "marker": {
             "line": {
              "color": "#E5ECF6",
              "width": 0.5
             },
             "pattern": {
              "fillmode": "overlay",
              "size": 10,
              "solidity": 0.2
             }
            },
            "type": "barpolar"
           }
          ],
          "carpet": [
           {
            "aaxis": {
             "endlinecolor": "#2a3f5f",
             "gridcolor": "white",
             "linecolor": "white",
             "minorgridcolor": "white",
             "startlinecolor": "#2a3f5f"
            },
            "baxis": {
             "endlinecolor": "#2a3f5f",
             "gridcolor": "white",
             "linecolor": "white",
             "minorgridcolor": "white",
             "startlinecolor": "#2a3f5f"
            },
            "type": "carpet"
           }
          ],
          "choropleth": [
           {
            "colorbar": {
             "outlinewidth": 0,
             "ticks": ""
            },
            "type": "choropleth"
           }
          ],
          "contour": [
           {
            "colorbar": {
             "outlinewidth": 0,
             "ticks": ""
            },
            "colorscale": [
             [
              0,
              "#0d0887"
             ],
             [
              0.1111111111111111,
              "#46039f"
             ],
             [
              0.2222222222222222,
              "#7201a8"
             ],
             [
              0.3333333333333333,
              "#9c179e"
             ],
             [
              0.4444444444444444,
              "#bd3786"
             ],
             [
              0.5555555555555556,
              "#d8576b"
             ],
             [
              0.6666666666666666,
              "#ed7953"
             ],
             [
              0.7777777777777778,
              "#fb9f3a"
             ],
             [
              0.8888888888888888,
              "#fdca26"
             ],
             [
              1,
              "#f0f921"
             ]
            ],
            "type": "contour"
           }
          ],
          "contourcarpet": [
           {
            "colorbar": {
             "outlinewidth": 0,
             "ticks": ""
            },
            "type": "contourcarpet"
           }
          ],
          "heatmap": [
           {
            "colorbar": {
             "outlinewidth": 0,
             "ticks": ""
            },
            "colorscale": [
             [
              0,
              "#0d0887"
             ],
             [
              0.1111111111111111,
              "#46039f"
             ],
             [
              0.2222222222222222,
              "#7201a8"
             ],
             [
              0.3333333333333333,
              "#9c179e"
             ],
             [
              0.4444444444444444,
              "#bd3786"
             ],
             [
              0.5555555555555556,
              "#d8576b"
             ],
             [
              0.6666666666666666,
              "#ed7953"
             ],
             [
              0.7777777777777778,
              "#fb9f3a"
             ],
             [
              0.8888888888888888,
              "#fdca26"
             ],
             [
              1,
              "#f0f921"
             ]
            ],
            "type": "heatmap"
           }
          ],
          "heatmapgl": [
           {
            "colorbar": {
             "outlinewidth": 0,
             "ticks": ""
            },
            "colorscale": [
             [
              0,
              "#0d0887"
             ],
             [
              0.1111111111111111,
              "#46039f"
             ],
             [
              0.2222222222222222,
              "#7201a8"
             ],
             [
              0.3333333333333333,
              "#9c179e"
             ],
             [
              0.4444444444444444,
              "#bd3786"
             ],
             [
              0.5555555555555556,
              "#d8576b"
             ],
             [
              0.6666666666666666,
              "#ed7953"
             ],
             [
              0.7777777777777778,
              "#fb9f3a"
             ],
             [
              0.8888888888888888,
              "#fdca26"
             ],
             [
              1,
              "#f0f921"
             ]
            ],
            "type": "heatmapgl"
           }
          ],
          "histogram": [
           {
            "marker": {
             "pattern": {
              "fillmode": "overlay",
              "size": 10,
              "solidity": 0.2
             }
            },
            "type": "histogram"
           }
          ],
          "histogram2d": [
           {
            "colorbar": {
             "outlinewidth": 0,
             "ticks": ""
            },
            "colorscale": [
             [
              0,
              "#0d0887"
             ],
             [
              0.1111111111111111,
              "#46039f"
             ],
             [
              0.2222222222222222,
              "#7201a8"
             ],
             [
              0.3333333333333333,
              "#9c179e"
             ],
             [
              0.4444444444444444,
              "#bd3786"
             ],
             [
              0.5555555555555556,
              "#d8576b"
             ],
             [
              0.6666666666666666,
              "#ed7953"
             ],
             [
              0.7777777777777778,
              "#fb9f3a"
             ],
             [
              0.8888888888888888,
              "#fdca26"
             ],
             [
              1,
              "#f0f921"
             ]
            ],
            "type": "histogram2d"
           }
          ],
          "histogram2dcontour": [
           {
            "colorbar": {
             "outlinewidth": 0,
             "ticks": ""
            },
            "colorscale": [
             [
              0,
              "#0d0887"
             ],
             [
              0.1111111111111111,
              "#46039f"
             ],
             [
              0.2222222222222222,
              "#7201a8"
             ],
             [
              0.3333333333333333,
              "#9c179e"
             ],
             [
              0.4444444444444444,
              "#bd3786"
             ],
             [
              0.5555555555555556,
              "#d8576b"
             ],
             [
              0.6666666666666666,
              "#ed7953"
             ],
             [
              0.7777777777777778,
              "#fb9f3a"
             ],
             [
              0.8888888888888888,
              "#fdca26"
             ],
             [
              1,
              "#f0f921"
             ]
            ],
            "type": "histogram2dcontour"
           }
          ],
          "mesh3d": [
           {
            "colorbar": {
             "outlinewidth": 0,
             "ticks": ""
            },
            "type": "mesh3d"
           }
          ],
          "parcoords": [
           {
            "line": {
             "colorbar": {
              "outlinewidth": 0,
              "ticks": ""
             }
            },
            "type": "parcoords"
           }
          ],
          "pie": [
           {
            "automargin": true,
            "type": "pie"
           }
          ],
          "scatter": [
           {
            "marker": {
             "colorbar": {
              "outlinewidth": 0,
              "ticks": ""
             }
            },
            "type": "scatter"
           }
          ],
          "scatter3d": [
           {
            "line": {
             "colorbar": {
              "outlinewidth": 0,
              "ticks": ""
             }
            },
            "marker": {
             "colorbar": {
              "outlinewidth": 0,
              "ticks": ""
             }
            },
            "type": "scatter3d"
           }
          ],
          "scattercarpet": [
           {
            "marker": {
             "colorbar": {
              "outlinewidth": 0,
              "ticks": ""
             }
            },
            "type": "scattercarpet"
           }
          ],
          "scattergeo": [
           {
            "marker": {
             "colorbar": {
              "outlinewidth": 0,
              "ticks": ""
             }
            },
            "type": "scattergeo"
           }
          ],
          "scattergl": [
           {
            "marker": {
             "colorbar": {
              "outlinewidth": 0,
              "ticks": ""
             }
            },
            "type": "scattergl"
           }
          ],
          "scattermapbox": [
           {
            "marker": {
             "colorbar": {
              "outlinewidth": 0,
              "ticks": ""
             }
            },
            "type": "scattermapbox"
           }
          ],
          "scatterpolar": [
           {
            "marker": {
             "colorbar": {
              "outlinewidth": 0,
              "ticks": ""
             }
            },
            "type": "scatterpolar"
           }
          ],
          "scatterpolargl": [
           {
            "marker": {
             "colorbar": {
              "outlinewidth": 0,
              "ticks": ""
             }
            },
            "type": "scatterpolargl"
           }
          ],
          "scatterternary": [
           {
            "marker": {
             "colorbar": {
              "outlinewidth": 0,
              "ticks": ""
             }
            },
            "type": "scatterternary"
           }
          ],
          "surface": [
           {
            "colorbar": {
             "outlinewidth": 0,
             "ticks": ""
            },
            "colorscale": [
             [
              0,
              "#0d0887"
             ],
             [
              0.1111111111111111,
              "#46039f"
             ],
             [
              0.2222222222222222,
              "#7201a8"
             ],
             [
              0.3333333333333333,
              "#9c179e"
             ],
             [
              0.4444444444444444,
              "#bd3786"
             ],
             [
              0.5555555555555556,
              "#d8576b"
             ],
             [
              0.6666666666666666,
              "#ed7953"
             ],
             [
              0.7777777777777778,
              "#fb9f3a"
             ],
             [
              0.8888888888888888,
              "#fdca26"
             ],
             [
              1,
              "#f0f921"
             ]
            ],
            "type": "surface"
           }
          ],
          "table": [
           {
            "cells": {
             "fill": {
              "color": "#EBF0F8"
             },
             "line": {
              "color": "white"
             }
            },
            "header": {
             "fill": {
              "color": "#C8D4E3"
             },
             "line": {
              "color": "white"
             }
            },
            "type": "table"
           }
          ]
         },
         "layout": {
          "annotationdefaults": {
           "arrowcolor": "#2a3f5f",
           "arrowhead": 0,
           "arrowwidth": 1
          },
          "autotypenumbers": "strict",
          "coloraxis": {
           "colorbar": {
            "outlinewidth": 0,
            "ticks": ""
           }
          },
          "colorscale": {
           "diverging": [
            [
             0,
             "#8e0152"
            ],
            [
             0.1,
             "#c51b7d"
            ],
            [
             0.2,
             "#de77ae"
            ],
            [
             0.3,
             "#f1b6da"
            ],
            [
             0.4,
             "#fde0ef"
            ],
            [
             0.5,
             "#f7f7f7"
            ],
            [
             0.6,
             "#e6f5d0"
            ],
            [
             0.7,
             "#b8e186"
            ],
            [
             0.8,
             "#7fbc41"
            ],
            [
             0.9,
             "#4d9221"
            ],
            [
             1,
             "#276419"
            ]
           ],
           "sequential": [
            [
             0,
             "#0d0887"
            ],
            [
             0.1111111111111111,
             "#46039f"
            ],
            [
             0.2222222222222222,
             "#7201a8"
            ],
            [
             0.3333333333333333,
             "#9c179e"
            ],
            [
             0.4444444444444444,
             "#bd3786"
            ],
            [
             0.5555555555555556,
             "#d8576b"
            ],
            [
             0.6666666666666666,
             "#ed7953"
            ],
            [
             0.7777777777777778,
             "#fb9f3a"
            ],
            [
             0.8888888888888888,
             "#fdca26"
            ],
            [
             1,
             "#f0f921"
            ]
           ],
           "sequentialminus": [
            [
             0,
             "#0d0887"
            ],
            [
             0.1111111111111111,
             "#46039f"
            ],
            [
             0.2222222222222222,
             "#7201a8"
            ],
            [
             0.3333333333333333,
             "#9c179e"
            ],
            [
             0.4444444444444444,
             "#bd3786"
            ],
            [
             0.5555555555555556,
             "#d8576b"
            ],
            [
             0.6666666666666666,
             "#ed7953"
            ],
            [
             0.7777777777777778,
             "#fb9f3a"
            ],
            [
             0.8888888888888888,
             "#fdca26"
            ],
            [
             1,
             "#f0f921"
            ]
           ]
          },
          "colorway": [
           "#636efa",
           "#EF553B",
           "#00cc96",
           "#ab63fa",
           "#FFA15A",
           "#19d3f3",
           "#FF6692",
           "#B6E880",
           "#FF97FF",
           "#FECB52"
          ],
          "font": {
           "color": "#2a3f5f"
          },
          "geo": {
           "bgcolor": "white",
           "lakecolor": "white",
           "landcolor": "#E5ECF6",
           "showlakes": true,
           "showland": true,
           "subunitcolor": "white"
          },
          "hoverlabel": {
           "align": "left"
          },
          "hovermode": "closest",
          "mapbox": {
           "style": "light"
          },
          "paper_bgcolor": "white",
          "plot_bgcolor": "#E5ECF6",
          "polar": {
           "angularaxis": {
            "gridcolor": "white",
            "linecolor": "white",
            "ticks": ""
           },
           "bgcolor": "#E5ECF6",
           "radialaxis": {
            "gridcolor": "white",
            "linecolor": "white",
            "ticks": ""
           }
          },
          "scene": {
           "xaxis": {
            "backgroundcolor": "#E5ECF6",
            "gridcolor": "white",
            "gridwidth": 2,
            "linecolor": "white",
            "showbackground": true,
            "ticks": "",
            "zerolinecolor": "white"
           },
           "yaxis": {
            "backgroundcolor": "#E5ECF6",
            "gridcolor": "white",
            "gridwidth": 2,
            "linecolor": "white",
            "showbackground": true,
            "ticks": "",
            "zerolinecolor": "white"
           },
           "zaxis": {
            "backgroundcolor": "#E5ECF6",
            "gridcolor": "white",
            "gridwidth": 2,
            "linecolor": "white",
            "showbackground": true,
            "ticks": "",
            "zerolinecolor": "white"
           }
          },
          "shapedefaults": {
           "line": {
            "color": "#2a3f5f"
           }
          },
          "ternary": {
           "aaxis": {
            "gridcolor": "white",
            "linecolor": "white",
            "ticks": ""
           },
           "baxis": {
            "gridcolor": "white",
            "linecolor": "white",
            "ticks": ""
           },
           "bgcolor": "#E5ECF6",
           "caxis": {
            "gridcolor": "white",
            "linecolor": "white",
            "ticks": ""
           }
          },
          "title": {
           "x": 0.05
          },
          "xaxis": {
           "automargin": true,
           "gridcolor": "white",
           "linecolor": "white",
           "ticks": "",
           "title": {
            "standoff": 15
           },
           "zerolinecolor": "white",
           "zerolinewidth": 2
          },
          "yaxis": {
           "automargin": true,
           "gridcolor": "white",
           "linecolor": "white",
           "ticks": "",
           "title": {
            "standoff": 15
           },
           "zerolinecolor": "white",
           "zerolinewidth": 2
          }
         }
        },
        "title": {
         "text": "Customer Segment by Geography"
        }
       }
      },
      "text/html": [
       "<div>                            <div id=\"9a3708b9-a638-44dc-b44c-fcceb581b3ed\" class=\"plotly-graph-div\" style=\"height:525px; width:100%;\"></div>            <script type=\"text/javascript\">                require([\"plotly\"], function(Plotly) {                    window.PLOTLYENV=window.PLOTLYENV || {};                                    if (document.getElementById(\"9a3708b9-a638-44dc-b44c-fcceb581b3ed\")) {                    Plotly.newPlot(                        \"9a3708b9-a638-44dc-b44c-fcceb581b3ed\",                        [{\"domain\":{\"x\":[0.0,1.0],\"y\":[0.0,1.0]},\"hovertemplate\":\"branch=%{label}<br>initial_fee_level=%{value}<extra></extra>\",\"labels\":[\"Helsinki\",\"Tampere\",\"Helsinki\",\"Helsinki\",\"Helsinki\",\"Turku\",\"Helsinki\",\"Helsinki\",\"Helsinki\",\"Tampere\",\"Helsinki\",\"Helsinki\",\"Helsinki\",\"Helsinki\",\"Helsinki\",\"Helsinki\",\"Turku\",\"Helsinki\",\"Helsinki\",\"Tampere\",\"Helsinki\",\"Helsinki\",\"Turku\",\"Helsinki\",\"Helsinki\",\"Helsinki\",\"Tampere\",\"Helsinki\",\"Turku\",\"Helsinki\",\"Tampere\",\"Tampere\",\"Turku\",\"Helsinki\",\"Tampere\",\"Helsinki\",\"Tampere\",\"Helsinki\",\"Helsinki\",\"Tampere\",\"Helsinki\",\"Helsinki\",\"Tampere\",\"Tampere\",\"Turku\",\"Helsinki\",\"Turku\",\"Turku\",\"Tampere\",\"Helsinki\",\"Helsinki\",\"Helsinki\",\"Tampere\",\"Helsinki\",\"Tampere\",\"Helsinki\",\"Helsinki\",\"Tampere\",\"Helsinki\",\"Helsinki\",\"Tampere\",\"Helsinki\",\"Helsinki\",\"Tampere\",\"Tampere\",\"Helsinki\",\"Helsinki\",\"Helsinki\",\"Helsinki\",\"Helsinki\",\"Helsinki\",\"Helsinki\",\"Tampere\",\"Helsinki\",\"Helsinki\",\"Helsinki\",\"Helsinki\",\"Helsinki\",\"Helsinki\",\"Helsinki\",\"Helsinki\",\"Turku\",\"Helsinki\",\"Helsinki\",\"Helsinki\",\"Helsinki\",\"Helsinki\",\"Helsinki\",\"Helsinki\",\"Helsinki\",\"Helsinki\",\"Helsinki\",\"Helsinki\",\"Helsinki\",\"Helsinki\",\"Tampere\",\"Tampere\",\"Helsinki\",\"Helsinki\",\"Helsinki\",\"Helsinki\",\"Helsinki\",\"Helsinki\",\"Helsinki\",\"Helsinki\",\"Helsinki\",\"Helsinki\",\"Helsinki\",\"Turku\",\"Helsinki\",\"Tampere\",\"Helsinki\",\"Helsinki\",\"Tampere\",\"Helsinki\",\"Turku\",\"Helsinki\",\"Tampere\",\"Helsinki\",\"Helsinki\",\"Helsinki\",\"Tampere\",\"Helsinki\",\"Helsinki\",\"Tampere\",\"Turku\",\"Helsinki\",\"Tampere\",\"Helsinki\",\"Tampere\",\"Helsinki\",\"Helsinki\",\"Helsinki\",\"Helsinki\",\"Tampere\",\"Helsinki\",\"Helsinki\",\"Helsinki\",\"Tampere\",\"Tampere\",\"Helsinki\",\"Helsinki\",\"Turku\",\"Helsinki\",\"Helsinki\",\"Helsinki\",\"Helsinki\",\"Helsinki\",\"Helsinki\",\"Helsinki\",\"Helsinki\",\"Helsinki\",\"Helsinki\",\"Helsinki\",\"Tampere\",\"Turku\",\"Helsinki\",\"Helsinki\",\"Helsinki\",\"Helsinki\",\"Helsinki\",\"Helsinki\",\"Helsinki\",\"Helsinki\",\"Helsinki\",\"Helsinki\",\"Helsinki\",\"Helsinki\",\"Helsinki\",\"Helsinki\",\"Turku\",\"Helsinki\",\"Helsinki\",\"Tampere\",\"Helsinki\",\"Helsinki\",\"Tampere\",\"Helsinki\",\"Helsinki\",\"Helsinki\",\"Tampere\",\"Helsinki\",\"Helsinki\",\"Helsinki\",\"Helsinki\",\"Turku\",\"Helsinki\",\"Turku\",\"Helsinki\",\"Helsinki\",\"Helsinki\",\"Helsinki\",\"Helsinki\",\"Tampere\",\"Tampere\",\"Turku\",\"Helsinki\",\"Turku\",\"Helsinki\",\"Helsinki\",\"Helsinki\",\"Helsinki\",\"Tampere\",\"Helsinki\",\"Helsinki\",\"Helsinki\",\"Tampere\",\"Turku\",\"Tampere\",\"Helsinki\",\"Helsinki\",\"Helsinki\",\"Helsinki\",\"Turku\",\"Tampere\",\"Helsinki\",\"Helsinki\",\"Tampere\",\"Helsinki\",\"Helsinki\",\"Helsinki\",\"Helsinki\",\"Helsinki\",\"Helsinki\",\"Helsinki\",\"Helsinki\",\"Helsinki\",\"Helsinki\",\"Helsinki\",\"Helsinki\",\"Helsinki\",\"Helsinki\",\"Helsinki\",\"Helsinki\",\"Helsinki\",\"Helsinki\",\"Helsinki\",\"Helsinki\",\"Helsinki\",\"Tampere\",\"Turku\",\"Helsinki\",\"Helsinki\",\"Tampere\",\"Turku\",\"Helsinki\",\"Helsinki\",\"Helsinki\",\"Helsinki\",\"Helsinki\",\"Helsinki\",\"Helsinki\",\"Helsinki\",\"Helsinki\",\"Tampere\",\"Tampere\",\"Helsinki\",\"Tampere\",\"Helsinki\",\"Turku\",\"Helsinki\",\"Helsinki\",\"Helsinki\",\"Turku\",\"Helsinki\",\"Helsinki\",\"Helsinki\",\"Helsinki\",\"Helsinki\",\"Helsinki\",\"Helsinki\",\"Helsinki\",\"Tampere\",\"Turku\",\"Helsinki\",\"Helsinki\",\"Helsinki\",\"Turku\",\"Helsinki\",\"Turku\",\"Helsinki\",\"Helsinki\",\"Helsinki\",\"Helsinki\",\"Tampere\",\"Helsinki\",\"Helsinki\",\"Helsinki\",\"Turku\",\"Helsinki\",\"Tampere\",\"Tampere\",\"Helsinki\",\"Helsinki\",\"Tampere\",\"Tampere\",\"Helsinki\",\"Helsinki\",\"Tampere\",\"Turku\",\"Turku\",\"Helsinki\",\"Turku\",\"Helsinki\",\"Helsinki\",\"Tampere\",\"Tampere\",\"Tampere\",\"Tampere\",\"Tampere\",\"Tampere\",\"Helsinki\",\"Helsinki\",\"Helsinki\",\"Helsinki\",\"Helsinki\",\"Helsinki\",\"Helsinki\",\"Tampere\",\"Helsinki\",\"Helsinki\",\"Turku\",\"Helsinki\",\"Helsinki\",\"Tampere\",\"Helsinki\",\"Helsinki\",\"Helsinki\",\"Tampere\",\"Turku\",\"Helsinki\",\"Helsinki\",\"Helsinki\",\"Helsinki\",\"Helsinki\",\"Helsinki\",\"Tampere\",\"Helsinki\",\"Helsinki\",\"Helsinki\",\"Helsinki\",\"Helsinki\",\"Helsinki\",\"Helsinki\",\"Helsinki\",\"Helsinki\",\"Helsinki\",\"Helsinki\",\"Helsinki\",\"Helsinki\",\"Helsinki\",\"Tampere\",\"Helsinki\",\"Tampere\",\"Helsinki\",\"Helsinki\",\"Helsinki\",\"Turku\",\"Turku\",\"Helsinki\",\"Tampere\",\"Tampere\",\"Helsinki\",\"Turku\",\"Helsinki\",\"Tampere\",\"Tampere\",\"Turku\",\"Tampere\",\"Tampere\",\"Helsinki\",\"Helsinki\",\"Tampere\",\"Helsinki\",\"Tampere\",\"Helsinki\",\"Tampere\",\"Tampere\",\"Helsinki\",\"Tampere\",\"Tampere\",\"Helsinki\",\"Helsinki\",\"Helsinki\",\"Helsinki\",\"Helsinki\",\"Helsinki\",\"Turku\",\"Tampere\",\"Helsinki\",\"Helsinki\",\"Helsinki\",\"Tampere\",\"Helsinki\",\"Helsinki\",\"Helsinki\",\"Helsinki\",\"Helsinki\",\"Helsinki\",\"Helsinki\",\"Helsinki\",\"Helsinki\",\"Helsinki\",\"Helsinki\",\"Helsinki\",\"Helsinki\",\"Helsinki\",\"Helsinki\",\"Helsinki\",\"Helsinki\",\"Turku\",\"Turku\",\"Helsinki\",\"Helsinki\",\"Helsinki\",\"Helsinki\",\"Helsinki\",\"Helsinki\",\"Helsinki\",\"Tampere\",\"Turku\",\"Helsinki\",\"Helsinki\",\"Helsinki\",\"Helsinki\",\"Helsinki\",\"Helsinki\",\"Turku\",\"Helsinki\",\"Helsinki\",\"Helsinki\",\"Helsinki\",\"Helsinki\",\"Helsinki\",\"Helsinki\",\"Helsinki\",\"Helsinki\",\"Helsinki\",\"Helsinki\",\"Helsinki\",\"Helsinki\",\"Helsinki\",\"Helsinki\",\"Helsinki\",\"Helsinki\",\"Helsinki\",\"Helsinki\",\"Tampere\",\"Helsinki\",\"Helsinki\",\"Helsinki\",\"Tampere\",\"Tampere\",\"Helsinki\",\"Tampere\",\"Helsinki\",\"Helsinki\",\"Helsinki\",\"Turku\",\"Helsinki\",\"Helsinki\",\"Helsinki\",\"Helsinki\",\"Helsinki\",\"Helsinki\",\"Helsinki\",\"Helsinki\",\"Turku\",\"Tampere\",\"Helsinki\",\"Helsinki\",\"Helsinki\",\"Tampere\",\"Helsinki\",\"Helsinki\",\"Helsinki\",\"Helsinki\",\"Helsinki\",\"Helsinki\",\"Helsinki\",\"Helsinki\",\"Helsinki\",\"Helsinki\",\"Tampere\",\"Helsinki\",\"Helsinki\",\"Tampere\",\"Helsinki\",\"Helsinki\",\"Helsinki\",\"Helsinki\",\"Helsinki\",\"Tampere\",\"Helsinki\",\"Tampere\",\"Tampere\",\"Helsinki\",\"Helsinki\",\"Helsinki\",\"Helsinki\",\"Turku\",\"Turku\",\"Helsinki\",\"Helsinki\",\"Tampere\",\"Helsinki\",\"Helsinki\",\"Helsinki\",\"Helsinki\",\"Turku\",\"Helsinki\",\"Helsinki\",\"Tampere\",\"Helsinki\",\"Helsinki\",\"Helsinki\",\"Turku\",\"Helsinki\",\"Helsinki\",\"Helsinki\",\"Helsinki\",\"Tampere\",\"Tampere\",\"Tampere\",\"Turku\",\"Helsinki\",\"Helsinki\",\"Helsinki\",\"Helsinki\",\"Helsinki\",\"Tampere\",\"Tampere\",\"Tampere\",\"Helsinki\",\"Helsinki\",\"Helsinki\",\"Tampere\",\"Helsinki\",\"Tampere\",\"Helsinki\",\"Helsinki\",\"Helsinki\",\"Helsinki\",\"Tampere\",\"Helsinki\",\"Helsinki\",\"Tampere\",\"Helsinki\",\"Helsinki\",\"Tampere\",\"Helsinki\",\"Turku\",\"Tampere\",\"Helsinki\",\"Helsinki\",\"Tampere\",\"Tampere\",\"Helsinki\",\"Helsinki\",\"Turku\",\"Helsinki\",\"Helsinki\",\"Helsinki\",\"Helsinki\",\"Helsinki\",\"Helsinki\",\"Helsinki\",\"Tampere\",\"Helsinki\",\"Helsinki\",\"Helsinki\",\"Helsinki\",\"Turku\",\"Helsinki\",\"Helsinki\",\"Helsinki\",\"Helsinki\",\"Tampere\",\"Helsinki\",\"Helsinki\",\"Tampere\",\"Helsinki\",\"Tampere\",\"Tampere\",\"Helsinki\",\"Helsinki\",\"Tampere\",\"Helsinki\",\"Helsinki\",\"Helsinki\",\"Tampere\",\"Helsinki\",\"Turku\",\"Helsinki\",\"Helsinki\",\"Helsinki\",\"Helsinki\",\"Tampere\",\"Tampere\",\"Helsinki\",\"Helsinki\",\"Helsinki\",\"Helsinki\",\"Tampere\",\"Helsinki\",\"Helsinki\",\"Helsinki\",\"Tampere\",\"Helsinki\",\"Helsinki\",\"Helsinki\",\"Turku\",\"Turku\",\"Helsinki\",\"Helsinki\",\"Helsinki\",\"Helsinki\",\"Helsinki\",\"Helsinki\",\"Tampere\",\"Helsinki\",\"Tampere\",\"Helsinki\",\"Helsinki\",\"Helsinki\",\"Turku\",\"Helsinki\",\"Helsinki\",\"Turku\",\"Helsinki\",\"Helsinki\",\"Tampere\",\"Helsinki\",\"Helsinki\",\"Helsinki\",\"Helsinki\",\"Helsinki\",\"Helsinki\",\"Helsinki\",\"Helsinki\",\"Tampere\",\"Helsinki\",\"Helsinki\",\"Tampere\",\"Tampere\",\"Helsinki\",\"Tampere\",\"Helsinki\",\"Helsinki\",\"Helsinki\",\"Helsinki\",\"Helsinki\",\"Turku\",\"Turku\",\"Helsinki\",\"Helsinki\",\"Turku\",\"Helsinki\",\"Tampere\",\"Helsinki\",\"Tampere\",\"Helsinki\",\"Helsinki\",\"Helsinki\",\"Helsinki\",\"Helsinki\",\"Helsinki\",\"Helsinki\",\"Helsinki\",\"Helsinki\",\"Helsinki\",\"Helsinki\",\"Helsinki\",\"Helsinki\",\"Helsinki\",\"Helsinki\",\"Helsinki\",\"Helsinki\",\"Tampere\",\"Turku\",\"Tampere\",\"Helsinki\",\"Helsinki\",\"Helsinki\",\"Tampere\",\"Helsinki\",\"Helsinki\",\"Helsinki\",\"Helsinki\",\"Helsinki\",\"Tampere\",\"Helsinki\",\"Tampere\",\"Helsinki\",\"Helsinki\",\"Helsinki\",\"Turku\",\"Tampere\",\"Helsinki\",\"Tampere\",\"Helsinki\",\"Tampere\",\"Turku\",\"Helsinki\",\"Helsinki\",\"Helsinki\",\"Helsinki\",\"Helsinki\",\"Tampere\",\"Tampere\",\"Helsinki\",\"Helsinki\",\"Helsinki\",\"Helsinki\",\"Helsinki\",\"Tampere\",\"Helsinki\",\"Turku\",\"Helsinki\",\"Helsinki\",\"Helsinki\",\"Helsinki\",\"Helsinki\",\"Helsinki\",\"Helsinki\",\"Helsinki\",\"Turku\",\"Helsinki\",\"Helsinki\",\"Helsinki\",\"Tampere\",\"Helsinki\",\"Helsinki\",\"Helsinki\",\"Helsinki\",\"Helsinki\",\"Tampere\",\"Helsinki\",\"Helsinki\",\"Helsinki\",\"Helsinki\",\"Tampere\",\"Helsinki\",\"Helsinki\",\"Helsinki\",\"Helsinki\",\"Helsinki\",\"Helsinki\",\"Turku\",\"Helsinki\",\"Helsinki\",\"Helsinki\",\"Helsinki\",\"Helsinki\",\"Helsinki\",\"Helsinki\",\"Helsinki\",\"Helsinki\",\"Helsinki\",\"Helsinki\",\"Helsinki\",\"Tampere\",\"Helsinki\",\"Helsinki\",\"Helsinki\",\"Tampere\",\"Turku\",\"Turku\",\"Helsinki\",\"Helsinki\",\"Helsinki\",\"Helsinki\",\"Tampere\",\"Helsinki\",\"Helsinki\",\"Turku\",\"Helsinki\",\"Turku\",\"Helsinki\",\"Tampere\",\"Helsinki\",\"Helsinki\",\"Helsinki\",\"Helsinki\",\"Helsinki\",\"Helsinki\",\"Turku\",\"Helsinki\",\"Tampere\",\"Turku\",\"Helsinki\",\"Helsinki\",\"Tampere\",\"Helsinki\",\"Helsinki\",\"Helsinki\",\"Helsinki\",\"Tampere\",\"Helsinki\",\"Helsinki\",\"Helsinki\",\"Helsinki\",\"Tampere\",\"Helsinki\",\"Helsinki\",\"Helsinki\",\"Helsinki\",\"Helsinki\",\"Helsinki\",\"Helsinki\",\"Helsinki\",\"Helsinki\",\"Helsinki\",\"Helsinki\",\"Helsinki\",\"Helsinki\",\"Tampere\",\"Helsinki\",\"Helsinki\",\"Helsinki\",\"Helsinki\",\"Helsinki\",\"Helsinki\",\"Helsinki\",\"Turku\",\"Helsinki\",\"Tampere\",\"Turku\",\"Tampere\",\"Helsinki\",\"Tampere\",\"Helsinki\",\"Helsinki\",\"Tampere\",\"Helsinki\",\"Helsinki\",\"Helsinki\",\"Tampere\",\"Helsinki\",\"Helsinki\",\"Tampere\",\"Tampere\",\"Helsinki\",\"Helsinki\",\"Helsinki\",\"Tampere\",\"Helsinki\",\"Tampere\",\"Helsinki\",\"Helsinki\",\"Tampere\",\"Helsinki\",\"Helsinki\",\"Helsinki\",\"Helsinki\",\"Helsinki\",\"Tampere\",\"Tampere\",\"Helsinki\",\"Helsinki\",\"Helsinki\",\"Helsinki\",\"Helsinki\",\"Helsinki\",\"Tampere\",\"Helsinki\",\"Helsinki\",\"Helsinki\",\"Helsinki\",\"Helsinki\",\"Helsinki\",\"Helsinki\",\"Tampere\",\"Tampere\",\"Helsinki\",\"Helsinki\",\"Helsinki\",\"Tampere\",\"Helsinki\",\"Helsinki\",\"Helsinki\",\"Helsinki\",\"Helsinki\",\"Turku\",\"Helsinki\",\"Helsinki\",\"Helsinki\",\"Tampere\",\"Turku\"],\"legendgroup\":\"\",\"name\":\"\",\"showlegend\":true,\"values\":[14.5,142.5666,15.85,106.2,16.1,16.9166,103.725,42.15,22.2666,60.1416,33.4,53.1,16.1,62.55,15.7084,32.0,58.25,26.0,36.0,14.45,52.0,26.0,16.0584,71.0,42.15,62.775,14.45,526.0,15.7584,15.7916,55.4416,293.0416,15.5,21.0,164.3416,104.0,14.4584,16.1,36.0,22.4834,18.95,42.0,15.7916,83.1584,15.7584,16.1,31.0,15.5,43.3584,35.6,79.375,15.6,153.4584,52.0,123.9584,71.0,21.0,14.4584,55.5,93.8,14.4584,166.95,55.8,55.4416,30.4916,21.0,16.3166,15.85,17.325,21.0,93.8,147.0,28.9084,112.9916,15.3,15.7916,16.1,58.0,24.95,18.0,19.0,15.575,94.2,21.0,31.7,68.75,16.1,526.0,16.1,16.1,15.7084,122.35,41.15,14.5,16.1,69.3084,126.7166,46.0,52.0,15.7916,15.7916,154.575,17.3084,15.85,15.7916,15.3,15.55,15.7916,48.3,104.0,28.9084,16.1,19.65,28.9166,15.85,15.5,42.0,495.0416,62.55,147.0,16.1,60.1416,26.0,154.575,22.4834,15.5,14.2834,44.7166,13.95,15.7916,14.1,29.0,52.0,26.0,30.0916,52.5666,106.2,18.4334,158.4,30.4916,15.5,31.7,13.5,23.0,73.5,15.5916,68.75,52.0,26.0,25.05,133.2,16.1,29.0,14.625,122.7584,15.4666,16.1,17.325,139.1,32.2,31.5,15.55,17.325,79.375,41.05,110.0,55.8,51.85,112.9916,67.0,58.25,22.2666,15.85,61.3916,15.7084,50.9334,57.425,26.0,0.0,139.1,30.1,62.775,78.0,44.05,100.0,31.0,53.1,31.0,15.7916,26.0,26.0,15.7084,52.0,55.4416,293.0416,15.5,16.8084,15.5,26.0,19.0,139.1,12.9916,14.45,16.1,20.925,31.7,37.575,15.5,62.0,14.1,42.0,14.5,26.0,15.5,226.55,15.85,54.0,152.5834,21.0,16.1,26.0,16.1,15.7916,180.0,18.7,21.0,14.5,26.0,50.9334,166.95,15.55,27.0,62.775,21.0,15.1,52.0,52.5,21.0,24.55,28.9084,31.0,21.0,14.25,14.45,180.0,15.55,29.0,105.1084,52.0,14.5,20.925,53.1,32.2,40.425,30.4916,158.4,173.0,1024.6584,52.0,15.5,62.775,159.3,0.0,15.5,21.0,79.375,15.55,306.925,271.2666,62.0,0.0,39.0,59.4,15.5,155.9166,15.5,0.0,58.25,40.5,15.5,15.7084,19.0,16.1,52.0,17.325,19.0,15.7916,26.0,15.5,157.7,182.1584,25.75,17.7,15.7916,55.4416,14.4584,303.1,61.0,495.0416,15.5,46.5,0.0,24.7,16.1,303.1,221.7666,217.8,48.0,113.8584,166.3166,524.75,52.0,15.7916,52.5,15.7084,52.0,28.0,329.7334,269.0,14.5,15.7916,24.7,58.0,139.1,271.2666,12.475,26.0,41.05,115.9584,46.5,57.0,306.925,36.0,267.3,15.7916,133.2,269.0,16.1,71.0,52.0,526.0,26.0,26.0,26.0,26.0,26.0,32.2,31.8,17.325,18.45,70.0,14.4584,35.6,14.45,19.0,110.0,26.0,15.7584,15.7584,55.8,55.4416,28.9084,14.1,31.0,14.5,150.5,14.4584,15.5,138.6,110.8834,12.9916,16.1,271.2666,42.15,164.3416,14.5,423.0,8.025,15.55,455.05,31.4834,15.85,104.0,15.7916,147.0,93.8,26.0,15.4584,24.0,240.0,15.5916,15.85,226.55,33.4,15.5916,15.7084,52.0,21.0,25.3,15.85,16.1,19.65,31.7,17.325,42.0,15.5,37.5,15.55,50.9334,15.7916,13.7166,180.0,0.0,15.85,16.1,65.0,26.0,26.0,48.3,15.7916,15.4666,15.75,28.8,40.425,14.5,52.0,52.0,15.5,16.1,53.1,32.2,52.0,14.25,111.8,240.0,68.75,37.5,526.0,21.0,52.5,19.0,15.55,26.0,16.225,163.7166,39.0,53.1,38.5166,61.0,55.5,39.9334,55.5,178.2084,16.1,15.7916,53.1,103.725,21.0,15.5,53.1,16.1,77.0,26.0,16.1,14.1,0.0,53.1,15.45,38.5166,14.5,17.325,55.5,27.5834,19.675,104.0,42.0,14.0916,15.0416,24.575,93.8,0.0,16.1,19.175,182.1584,50.9334,180.0,59.4,16.1,31.8,39.9334,14.5,61.0,99.0084,16.1,28.9166,156.5334,30.2,303.1,15.5916,17.325,15.5,15.2584,19.175,173.0,217.8,52.0,53.1,45.05,112.9916,15.5,16.1,52.575,118.8,14.9916,68.0416,21.0,48.3,52.0,15.7916,187.0,15.7916,14.45,115.9584,14.4584,15.5,21.0,443.5584,15.85,23.0,52.0,14.4584,14.4584,44.7166,17.325,52.5,53.1,212.85,29.0,99.0,142.0,62.55,62.55,52.0,212.85,52.0,52.0,27.725,41.05,73.5,221.7666,52.0,15.6584,14.45,15.55,53.1,79.2,455.05,159.3,34.8,15.5,15.7916,27.0,16.1,16.1,48.3,15.7916,42.15,14.4584,15.7084,21.0,102.9584,52.775,15.5,16.1,29.0,26.0,111.8,28.9166,15.85,60.0,221.7666,52.0,80.25,17.425,159.3,30.0,158.4,16.1,16.1,14.25,156.5334,14.5,15.5,52.0,48.3,66.0,0.0,14.45,113.8584,54.0,15.7916,84.8,16.1,53.1,31.1,15.7916,61.0,83.1584,306.925,62.55,14.1,31.0,15.5,16.1,130.0,28.8,32.2,78.0,21.0,28.9084,105.1084,31.4834,15.7084,32.2,64.6416,24.7,155.9166,15.7916,15.4666,60.0,14.1084,61.0,0.0,55.8,26.0,15.85,52.5,79.375,32.2,15.7084,138.6,55.8,112.9916,38.5166,153.4584,15.7916,71.0,15.1,15.1,15.7916,46.0,16.8666,15.6584,13.5,147.0,15.7916,31.0,26.0,226.55,267.3,14.45,51.175,14.9916,15.85,147.0,26.0,15.55,16.1,104.0,78.0,104.0,21.0,26.0,0.0,15.55,16.1,19.6834,93.8,1024.6584,16.275,153.4584,18.45,93.8,78.0,83.1584,79.375,20.3416,15.5916,422.675,114.0,26.8334,112.9916,14.45,53.1,27.0,16.1,15.4666,221.7666,15.3,455.05,52.575,28.9084,15.4834,15.7084,52.0,27.0,52.575,303.1,30.4916,99.0084,53.1,104.0,18.9666,26.0,15.3,455.05,21.0,31.0,15.55,66.0,14.1084,26.0,26.0,106.2,17.325,42.0,15.475,52.0,15.85,422.675,37.575,0.0,26.0,26.0,32.2,68.75,1024.6584,15.7916,15.7916,60.0,157.7,524.75,32.2,15.85,142.0,40.5,26.0,106.2,15.5,46.0,24.95,19.0,15.7916,130.0,29.0,15.5916,23.0,16.1,173.0,29.0,14.25,14.4584,240.0,15.55,155.9166,79.2,15.5,48.3,16.725,19.0,15.7084,21.0,14.45,46.0,15.5,15.5,24.95,15.475,422.675,14.4584,114.0,60.0,46.9,14.1,14.5,14.9916,58.25,41.15,158.4,15.5,52.0,139.1,61.3916,15.7916,26.0,51.8584,17.3666,14.4584,48.3,26.0,52.5,240.0,17.0334,13.95,15.55,0.0,15.55,26.0,106.2,15.775,48.3,21.0,62.55,16.1,0.0,15.85,74.0084,12.9,55.8,187.0,17.325,0.0,24.95,79.375,13.9,112.9916,74.0084,15.5,28.9084,37.5,14.4584,15.7084,16.6,166.3166,17.325,16.1,112.9916,59.4,15.85,21.0,62.0,12.875,17.325,15.1,139.1,15.7916,66.0,178.2084,62.55,15.55,30.4916,78.8,52.0,18.7,329.7334,53.1,38.5166,14.4584,28.2166,23.0,51.8584,139.1,26.0,26.0,27.7166,100.9916,19.0,22.2666,15.7916,105.1084,10.0,18.0,48.0,14.45,19.6916,15.7916,15.7916,166.3166,52.0,15.7916,21.0334,21.0,14.1,58.25,26.0,60.0,46.9,60.0,15.5],\"type\":\"pie\"}],                        {\"template\":{\"data\":{\"bar\":[{\"error_x\":{\"color\":\"#2a3f5f\"},\"error_y\":{\"color\":\"#2a3f5f\"},\"marker\":{\"line\":{\"color\":\"#E5ECF6\",\"width\":0.5},\"pattern\":{\"fillmode\":\"overlay\",\"size\":10,\"solidity\":0.2}},\"type\":\"bar\"}],\"barpolar\":[{\"marker\":{\"line\":{\"color\":\"#E5ECF6\",\"width\":0.5},\"pattern\":{\"fillmode\":\"overlay\",\"size\":10,\"solidity\":0.2}},\"type\":\"barpolar\"}],\"carpet\":[{\"aaxis\":{\"endlinecolor\":\"#2a3f5f\",\"gridcolor\":\"white\",\"linecolor\":\"white\",\"minorgridcolor\":\"white\",\"startlinecolor\":\"#2a3f5f\"},\"baxis\":{\"endlinecolor\":\"#2a3f5f\",\"gridcolor\":\"white\",\"linecolor\":\"white\",\"minorgridcolor\":\"white\",\"startlinecolor\":\"#2a3f5f\"},\"type\":\"carpet\"}],\"choropleth\":[{\"colorbar\":{\"outlinewidth\":0,\"ticks\":\"\"},\"type\":\"choropleth\"}],\"contour\":[{\"colorbar\":{\"outlinewidth\":0,\"ticks\":\"\"},\"colorscale\":[[0.0,\"#0d0887\"],[0.1111111111111111,\"#46039f\"],[0.2222222222222222,\"#7201a8\"],[0.3333333333333333,\"#9c179e\"],[0.4444444444444444,\"#bd3786\"],[0.5555555555555556,\"#d8576b\"],[0.6666666666666666,\"#ed7953\"],[0.7777777777777778,\"#fb9f3a\"],[0.8888888888888888,\"#fdca26\"],[1.0,\"#f0f921\"]],\"type\":\"contour\"}],\"contourcarpet\":[{\"colorbar\":{\"outlinewidth\":0,\"ticks\":\"\"},\"type\":\"contourcarpet\"}],\"heatmap\":[{\"colorbar\":{\"outlinewidth\":0,\"ticks\":\"\"},\"colorscale\":[[0.0,\"#0d0887\"],[0.1111111111111111,\"#46039f\"],[0.2222222222222222,\"#7201a8\"],[0.3333333333333333,\"#9c179e\"],[0.4444444444444444,\"#bd3786\"],[0.5555555555555556,\"#d8576b\"],[0.6666666666666666,\"#ed7953\"],[0.7777777777777778,\"#fb9f3a\"],[0.8888888888888888,\"#fdca26\"],[1.0,\"#f0f921\"]],\"type\":\"heatmap\"}],\"heatmapgl\":[{\"colorbar\":{\"outlinewidth\":0,\"ticks\":\"\"},\"colorscale\":[[0.0,\"#0d0887\"],[0.1111111111111111,\"#46039f\"],[0.2222222222222222,\"#7201a8\"],[0.3333333333333333,\"#9c179e\"],[0.4444444444444444,\"#bd3786\"],[0.5555555555555556,\"#d8576b\"],[0.6666666666666666,\"#ed7953\"],[0.7777777777777778,\"#fb9f3a\"],[0.8888888888888888,\"#fdca26\"],[1.0,\"#f0f921\"]],\"type\":\"heatmapgl\"}],\"histogram\":[{\"marker\":{\"pattern\":{\"fillmode\":\"overlay\",\"size\":10,\"solidity\":0.2}},\"type\":\"histogram\"}],\"histogram2d\":[{\"colorbar\":{\"outlinewidth\":0,\"ticks\":\"\"},\"colorscale\":[[0.0,\"#0d0887\"],[0.1111111111111111,\"#46039f\"],[0.2222222222222222,\"#7201a8\"],[0.3333333333333333,\"#9c179e\"],[0.4444444444444444,\"#bd3786\"],[0.5555555555555556,\"#d8576b\"],[0.6666666666666666,\"#ed7953\"],[0.7777777777777778,\"#fb9f3a\"],[0.8888888888888888,\"#fdca26\"],[1.0,\"#f0f921\"]],\"type\":\"histogram2d\"}],\"histogram2dcontour\":[{\"colorbar\":{\"outlinewidth\":0,\"ticks\":\"\"},\"colorscale\":[[0.0,\"#0d0887\"],[0.1111111111111111,\"#46039f\"],[0.2222222222222222,\"#7201a8\"],[0.3333333333333333,\"#9c179e\"],[0.4444444444444444,\"#bd3786\"],[0.5555555555555556,\"#d8576b\"],[0.6666666666666666,\"#ed7953\"],[0.7777777777777778,\"#fb9f3a\"],[0.8888888888888888,\"#fdca26\"],[1.0,\"#f0f921\"]],\"type\":\"histogram2dcontour\"}],\"mesh3d\":[{\"colorbar\":{\"outlinewidth\":0,\"ticks\":\"\"},\"type\":\"mesh3d\"}],\"parcoords\":[{\"line\":{\"colorbar\":{\"outlinewidth\":0,\"ticks\":\"\"}},\"type\":\"parcoords\"}],\"pie\":[{\"automargin\":true,\"type\":\"pie\"}],\"scatter\":[{\"marker\":{\"colorbar\":{\"outlinewidth\":0,\"ticks\":\"\"}},\"type\":\"scatter\"}],\"scatter3d\":[{\"line\":{\"colorbar\":{\"outlinewidth\":0,\"ticks\":\"\"}},\"marker\":{\"colorbar\":{\"outlinewidth\":0,\"ticks\":\"\"}},\"type\":\"scatter3d\"}],\"scattercarpet\":[{\"marker\":{\"colorbar\":{\"outlinewidth\":0,\"ticks\":\"\"}},\"type\":\"scattercarpet\"}],\"scattergeo\":[{\"marker\":{\"colorbar\":{\"outlinewidth\":0,\"ticks\":\"\"}},\"type\":\"scattergeo\"}],\"scattergl\":[{\"marker\":{\"colorbar\":{\"outlinewidth\":0,\"ticks\":\"\"}},\"type\":\"scattergl\"}],\"scattermapbox\":[{\"marker\":{\"colorbar\":{\"outlinewidth\":0,\"ticks\":\"\"}},\"type\":\"scattermapbox\"}],\"scatterpolar\":[{\"marker\":{\"colorbar\":{\"outlinewidth\":0,\"ticks\":\"\"}},\"type\":\"scatterpolar\"}],\"scatterpolargl\":[{\"marker\":{\"colorbar\":{\"outlinewidth\":0,\"ticks\":\"\"}},\"type\":\"scatterpolargl\"}],\"scatterternary\":[{\"marker\":{\"colorbar\":{\"outlinewidth\":0,\"ticks\":\"\"}},\"type\":\"scatterternary\"}],\"surface\":[{\"colorbar\":{\"outlinewidth\":0,\"ticks\":\"\"},\"colorscale\":[[0.0,\"#0d0887\"],[0.1111111111111111,\"#46039f\"],[0.2222222222222222,\"#7201a8\"],[0.3333333333333333,\"#9c179e\"],[0.4444444444444444,\"#bd3786\"],[0.5555555555555556,\"#d8576b\"],[0.6666666666666666,\"#ed7953\"],[0.7777777777777778,\"#fb9f3a\"],[0.8888888888888888,\"#fdca26\"],[1.0,\"#f0f921\"]],\"type\":\"surface\"}],\"table\":[{\"cells\":{\"fill\":{\"color\":\"#EBF0F8\"},\"line\":{\"color\":\"white\"}},\"header\":{\"fill\":{\"color\":\"#C8D4E3\"},\"line\":{\"color\":\"white\"}},\"type\":\"table\"}]},\"layout\":{\"annotationdefaults\":{\"arrowcolor\":\"#2a3f5f\",\"arrowhead\":0,\"arrowwidth\":1},\"autotypenumbers\":\"strict\",\"coloraxis\":{\"colorbar\":{\"outlinewidth\":0,\"ticks\":\"\"}},\"colorscale\":{\"diverging\":[[0,\"#8e0152\"],[0.1,\"#c51b7d\"],[0.2,\"#de77ae\"],[0.3,\"#f1b6da\"],[0.4,\"#fde0ef\"],[0.5,\"#f7f7f7\"],[0.6,\"#e6f5d0\"],[0.7,\"#b8e186\"],[0.8,\"#7fbc41\"],[0.9,\"#4d9221\"],[1,\"#276419\"]],\"sequential\":[[0.0,\"#0d0887\"],[0.1111111111111111,\"#46039f\"],[0.2222222222222222,\"#7201a8\"],[0.3333333333333333,\"#9c179e\"],[0.4444444444444444,\"#bd3786\"],[0.5555555555555556,\"#d8576b\"],[0.6666666666666666,\"#ed7953\"],[0.7777777777777778,\"#fb9f3a\"],[0.8888888888888888,\"#fdca26\"],[1.0,\"#f0f921\"]],\"sequentialminus\":[[0.0,\"#0d0887\"],[0.1111111111111111,\"#46039f\"],[0.2222222222222222,\"#7201a8\"],[0.3333333333333333,\"#9c179e\"],[0.4444444444444444,\"#bd3786\"],[0.5555555555555556,\"#d8576b\"],[0.6666666666666666,\"#ed7953\"],[0.7777777777777778,\"#fb9f3a\"],[0.8888888888888888,\"#fdca26\"],[1.0,\"#f0f921\"]]},\"colorway\":[\"#636efa\",\"#EF553B\",\"#00cc96\",\"#ab63fa\",\"#FFA15A\",\"#19d3f3\",\"#FF6692\",\"#B6E880\",\"#FF97FF\",\"#FECB52\"],\"font\":{\"color\":\"#2a3f5f\"},\"geo\":{\"bgcolor\":\"white\",\"lakecolor\":\"white\",\"landcolor\":\"#E5ECF6\",\"showlakes\":true,\"showland\":true,\"subunitcolor\":\"white\"},\"hoverlabel\":{\"align\":\"left\"},\"hovermode\":\"closest\",\"mapbox\":{\"style\":\"light\"},\"paper_bgcolor\":\"white\",\"plot_bgcolor\":\"#E5ECF6\",\"polar\":{\"angularaxis\":{\"gridcolor\":\"white\",\"linecolor\":\"white\",\"ticks\":\"\"},\"bgcolor\":\"#E5ECF6\",\"radialaxis\":{\"gridcolor\":\"white\",\"linecolor\":\"white\",\"ticks\":\"\"}},\"scene\":{\"xaxis\":{\"backgroundcolor\":\"#E5ECF6\",\"gridcolor\":\"white\",\"gridwidth\":2,\"linecolor\":\"white\",\"showbackground\":true,\"ticks\":\"\",\"zerolinecolor\":\"white\"},\"yaxis\":{\"backgroundcolor\":\"#E5ECF6\",\"gridcolor\":\"white\",\"gridwidth\":2,\"linecolor\":\"white\",\"showbackground\":true,\"ticks\":\"\",\"zerolinecolor\":\"white\"},\"zaxis\":{\"backgroundcolor\":\"#E5ECF6\",\"gridcolor\":\"white\",\"gridwidth\":2,\"linecolor\":\"white\",\"showbackground\":true,\"ticks\":\"\",\"zerolinecolor\":\"white\"}},\"shapedefaults\":{\"line\":{\"color\":\"#2a3f5f\"}},\"ternary\":{\"aaxis\":{\"gridcolor\":\"white\",\"linecolor\":\"white\",\"ticks\":\"\"},\"baxis\":{\"gridcolor\":\"white\",\"linecolor\":\"white\",\"ticks\":\"\"},\"bgcolor\":\"#E5ECF6\",\"caxis\":{\"gridcolor\":\"white\",\"linecolor\":\"white\",\"ticks\":\"\"}},\"title\":{\"x\":0.05},\"xaxis\":{\"automargin\":true,\"gridcolor\":\"white\",\"linecolor\":\"white\",\"ticks\":\"\",\"title\":{\"standoff\":15},\"zerolinecolor\":\"white\",\"zerolinewidth\":2},\"yaxis\":{\"automargin\":true,\"gridcolor\":\"white\",\"linecolor\":\"white\",\"ticks\":\"\",\"title\":{\"standoff\":15},\"zerolinecolor\":\"white\",\"zerolinewidth\":2}}},\"legend\":{\"tracegroupgap\":0},\"title\":{\"text\":\"Customer Segment by Geography\"}},                        {\"responsive\": true}                    ).then(function(){\n",
       "                            \n",
       "var gd = document.getElementById('9a3708b9-a638-44dc-b44c-fcceb581b3ed');\n",
       "var x = new MutationObserver(function (mutations, observer) {{\n",
       "        var display = window.getComputedStyle(gd).display;\n",
       "        if (!display || display === 'none') {{\n",
       "            console.log([gd, 'removed!']);\n",
       "            Plotly.purge(gd);\n",
       "            observer.disconnect();\n",
       "        }}\n",
       "}});\n",
       "\n",
       "// Listen for the removal of the full notebook cells\n",
       "var notebookContainer = gd.closest('#notebook-container');\n",
       "if (notebookContainer) {{\n",
       "    x.observe(notebookContainer, {childList: true});\n",
       "}}\n",
       "\n",
       "// Listen for the clearing of the current output cell\n",
       "var outputEl = gd.closest('.output');\n",
       "if (outputEl) {{\n",
       "    x.observe(outputEl, {childList: true});\n",
       "}}\n",
       "\n",
       "                        })                };                });            </script>        </div>"
      ]
     },
     "metadata": {},
     "output_type": "display_data"
    },
    {
     "data": {
      "text/plain": [
       "'\\nResult - Helsinki is the dominant Market in this dataset on splitting the customer segment\\n'"
      ]
     },
     "execution_count": 120,
     "metadata": {},
     "output_type": "execute_result"
    }
   ],
   "source": [
    "#Segment the data with Geography\n",
    "fig = px.pie(clean_data, values='initial_fee_level', names='branch', \n",
    "             title='Customer Segment by Geography')    \n",
    "fig.show()\n",
    "fig.write_html(\"graph/Customer Segment by Geography.html\")\n",
    "'''\n",
    "Result - Helsinki is the dominant Market in this dataset on splitting the customer segment\n",
    "''' "
   ]
  },
  {
   "cell_type": "code",
   "execution_count": 121,
   "id": "4e9ce597",
   "metadata": {},
   "outputs": [
    {
     "data": {
      "application/vnd.plotly.v1+json": {
       "config": {
        "plotlyServerURL": "https://plot.ly"
       },
       "data": [
        {
         "alignmentgroup": "True",
         "bingroup": "x",
         "hovertemplate": "age=%{x}<br>count=%{y}<extra></extra>",
         "legendgroup": "",
         "marker": {
          "color": "#636efa",
          "pattern": {
           "shape": ""
          }
         },
         "name": "",
         "offsetgroup": "",
         "orientation": "v",
         "showlegend": false,
         "type": "histogram",
         "x": [
          22,
          38,
          26,
          35,
          35,
          25,
          54,
          2,
          27,
          14,
          4,
          58,
          20,
          39,
          14,
          55,
          2,
          30,
          31,
          25,
          35,
          34,
          15,
          28,
          8,
          38,
          25,
          19,
          25,
          25,
          40,
          38,
          25,
          66,
          28,
          42,
          25,
          21,
          18,
          14,
          40,
          27,
          25,
          3,
          19,
          25,
          25,
          25,
          25,
          18,
          7,
          21,
          49,
          29,
          65,
          38,
          21,
          28.5,
          5,
          11,
          22,
          45,
          4,
          38,
          25,
          29,
          19,
          17,
          26,
          32,
          16,
          21,
          26,
          32,
          25,
          25,
          25,
          0.83,
          30,
          22,
          29,
          25,
          28,
          17,
          33,
          16,
          25,
          23,
          24,
          29,
          20,
          46,
          26,
          59,
          25,
          71,
          23,
          34,
          34,
          28,
          25,
          21,
          33,
          37,
          28,
          21,
          25,
          38,
          25,
          47,
          14.5,
          22,
          20,
          17,
          21,
          70.5,
          29,
          24,
          2,
          21,
          25,
          32.5,
          32.5,
          54,
          12,
          25,
          24,
          25,
          45,
          33,
          20,
          47,
          29,
          25,
          23,
          19,
          37,
          16,
          24,
          25,
          22,
          24,
          19,
          18,
          19,
          27,
          9,
          36.5,
          42,
          51,
          22,
          55.5,
          40.5,
          25,
          51,
          16,
          30,
          25,
          25,
          44,
          40,
          26,
          17,
          1,
          9,
          38,
          45,
          38,
          28,
          61,
          4,
          1,
          21,
          56,
          18,
          25,
          50,
          30,
          36,
          25,
          30,
          9,
          1,
          4,
          38,
          25,
          45,
          40,
          36,
          32,
          19,
          19,
          3,
          44,
          58,
          25,
          42,
          25,
          24,
          28,
          25,
          34,
          45.5,
          18,
          2,
          32,
          26,
          16,
          40,
          24,
          35,
          22,
          30,
          25,
          31,
          27,
          42,
          32,
          30,
          16,
          27,
          51,
          25,
          38,
          22,
          19,
          20.5,
          18,
          25,
          35,
          29,
          59,
          5,
          24,
          25,
          44,
          8,
          19,
          33,
          25,
          25,
          29,
          22,
          30,
          44,
          25,
          24,
          37,
          54,
          25,
          29,
          62,
          30,
          41,
          29,
          38,
          30,
          35,
          50,
          25,
          3,
          52,
          40,
          25,
          36,
          16,
          25,
          58,
          35,
          38,
          25,
          41,
          37,
          25,
          63,
          45,
          30,
          7,
          35,
          65,
          28,
          16,
          19,
          38,
          33,
          30,
          22,
          42,
          22,
          26,
          19,
          36,
          24,
          24,
          38,
          23.5,
          2,
          38,
          50,
          25,
          25,
          19,
          30,
          25,
          0.92,
          38,
          17,
          30,
          30,
          24,
          18,
          26,
          28,
          43,
          26,
          24,
          54,
          31,
          40,
          22,
          27,
          30,
          22,
          25,
          36,
          61,
          36,
          31,
          16,
          25,
          45.5,
          38,
          16,
          38,
          25,
          29,
          41,
          45,
          45,
          2,
          24,
          28,
          25,
          36,
          24,
          40,
          25,
          3,
          42,
          23,
          38,
          15,
          25,
          25,
          28,
          22,
          38,
          25,
          25,
          40,
          29,
          45,
          35,
          25,
          30,
          60,
          25,
          25,
          24,
          25,
          18,
          19,
          22,
          3,
          38,
          22,
          27,
          20,
          19,
          42,
          1,
          32,
          35,
          25,
          18,
          1,
          36,
          25,
          17,
          36,
          21,
          28,
          23,
          24,
          22,
          31,
          46,
          23,
          28,
          39,
          26,
          21,
          28,
          20,
          34,
          51,
          3,
          21,
          25,
          25,
          25,
          33,
          30,
          44,
          25,
          34,
          18,
          30,
          10,
          25,
          21,
          29,
          28,
          18,
          25,
          28,
          19,
          25,
          32,
          28,
          25,
          42,
          17,
          50,
          14,
          21,
          24,
          64,
          31,
          45,
          20,
          25,
          28,
          25,
          4,
          13,
          34,
          5,
          52,
          36,
          25,
          30,
          49,
          25,
          29,
          65,
          38,
          50,
          25,
          48,
          34,
          47,
          48,
          25,
          38,
          30,
          56,
          25,
          0.75,
          25,
          38,
          33,
          23,
          22,
          38,
          34,
          29,
          22,
          2,
          9,
          30,
          50,
          63,
          25,
          25,
          35,
          58,
          30,
          9,
          25,
          21,
          55,
          71,
          21,
          25,
          54,
          25,
          25,
          24,
          17,
          21,
          25,
          37,
          16,
          18,
          33,
          38,
          28,
          26,
          29,
          25,
          36,
          54,
          24,
          47,
          34,
          25,
          36,
          32,
          30,
          22,
          25,
          44,
          25,
          40.5,
          50,
          38,
          39,
          23,
          2,
          25,
          17,
          25,
          30,
          7,
          45,
          30,
          25,
          22,
          36,
          9,
          11,
          32,
          50,
          64,
          19,
          30,
          33,
          8,
          17,
          27,
          25,
          22,
          22,
          62,
          48,
          38,
          39,
          36,
          25,
          40,
          28,
          25,
          25,
          24,
          19,
          29,
          25,
          32,
          62,
          53,
          36,
          25,
          16,
          19,
          34,
          39,
          25,
          32,
          25,
          39,
          54,
          36,
          25,
          18,
          47,
          60,
          22,
          25,
          35,
          52,
          47,
          25,
          37,
          36,
          30,
          49,
          25,
          49,
          24,
          25,
          38,
          44,
          35,
          36,
          30,
          27,
          22,
          40,
          39,
          25,
          25,
          25,
          35,
          24,
          34,
          26,
          4,
          26,
          27,
          42,
          20,
          21,
          21,
          61,
          57,
          21,
          26,
          25,
          80,
          51,
          32,
          38,
          9,
          28,
          32,
          31,
          41,
          25,
          20,
          24,
          2,
          25,
          0.75,
          48,
          19,
          56,
          25,
          23,
          25,
          18,
          21,
          25,
          18,
          24,
          25,
          32,
          23,
          58,
          50,
          40,
          47,
          36,
          20,
          32,
          25,
          25,
          43,
          38,
          40,
          31,
          70,
          31,
          30,
          18,
          24.5,
          18,
          43,
          36,
          25,
          27,
          20,
          14,
          60,
          25,
          14,
          19,
          18,
          15,
          31,
          4,
          25,
          25,
          60,
          52,
          44,
          25,
          49,
          42,
          18,
          35,
          18,
          25,
          26,
          39,
          45,
          42,
          22,
          25,
          24,
          38,
          48,
          29,
          52,
          19,
          38,
          27,
          25,
          33,
          6,
          17,
          34,
          50,
          27,
          20,
          30,
          25,
          25,
          25,
          29,
          11,
          30,
          23,
          23,
          28.5,
          48,
          35,
          25,
          25,
          38,
          36,
          21,
          24,
          31,
          70,
          16,
          30,
          19,
          31,
          4,
          6,
          33,
          23,
          48,
          0.67,
          28,
          18,
          34,
          33,
          25,
          41,
          20,
          36,
          16,
          51,
          38,
          30.5,
          25,
          32,
          24,
          48,
          57,
          25,
          54,
          18,
          25,
          5,
          25,
          43,
          13,
          17,
          29,
          25,
          25,
          25,
          18,
          8,
          1,
          46,
          25,
          16,
          25,
          38,
          25,
          39,
          49,
          31,
          30,
          30,
          34,
          31,
          11,
          0.42,
          27,
          31,
          39,
          18,
          39,
          33,
          26,
          39,
          35,
          6,
          30.5,
          38,
          23,
          31,
          43,
          10,
          52,
          27,
          38,
          27,
          2,
          25,
          25,
          1,
          25,
          15,
          0.83,
          25,
          23,
          18,
          39,
          21,
          25,
          32,
          38,
          20,
          16,
          30,
          34.5,
          17,
          42,
          25,
          35,
          28,
          38,
          4,
          74,
          9,
          16,
          44,
          18,
          45,
          51,
          24,
          25,
          41,
          21,
          48,
          25,
          24,
          42,
          27,
          31,
          25,
          4,
          26,
          47,
          33,
          47,
          28,
          15,
          20,
          19,
          25,
          56,
          25,
          33,
          22,
          28,
          25,
          39,
          27,
          19,
          25,
          26,
          32
         ],
         "xaxis": "x",
         "yaxis": "y"
        }
       ],
       "layout": {
        "barmode": "relative",
        "legend": {
         "tracegroupgap": 0
        },
        "template": {
         "data": {
          "bar": [
           {
            "error_x": {
             "color": "#2a3f5f"
            },
            "error_y": {
             "color": "#2a3f5f"
            },
            "marker": {
             "line": {
              "color": "#E5ECF6",
              "width": 0.5
             },
             "pattern": {
              "fillmode": "overlay",
              "size": 10,
              "solidity": 0.2
             }
            },
            "type": "bar"
           }
          ],
          "barpolar": [
           {
            "marker": {
             "line": {
              "color": "#E5ECF6",
              "width": 0.5
             },
             "pattern": {
              "fillmode": "overlay",
              "size": 10,
              "solidity": 0.2
             }
            },
            "type": "barpolar"
           }
          ],
          "carpet": [
           {
            "aaxis": {
             "endlinecolor": "#2a3f5f",
             "gridcolor": "white",
             "linecolor": "white",
             "minorgridcolor": "white",
             "startlinecolor": "#2a3f5f"
            },
            "baxis": {
             "endlinecolor": "#2a3f5f",
             "gridcolor": "white",
             "linecolor": "white",
             "minorgridcolor": "white",
             "startlinecolor": "#2a3f5f"
            },
            "type": "carpet"
           }
          ],
          "choropleth": [
           {
            "colorbar": {
             "outlinewidth": 0,
             "ticks": ""
            },
            "type": "choropleth"
           }
          ],
          "contour": [
           {
            "colorbar": {
             "outlinewidth": 0,
             "ticks": ""
            },
            "colorscale": [
             [
              0,
              "#0d0887"
             ],
             [
              0.1111111111111111,
              "#46039f"
             ],
             [
              0.2222222222222222,
              "#7201a8"
             ],
             [
              0.3333333333333333,
              "#9c179e"
             ],
             [
              0.4444444444444444,
              "#bd3786"
             ],
             [
              0.5555555555555556,
              "#d8576b"
             ],
             [
              0.6666666666666666,
              "#ed7953"
             ],
             [
              0.7777777777777778,
              "#fb9f3a"
             ],
             [
              0.8888888888888888,
              "#fdca26"
             ],
             [
              1,
              "#f0f921"
             ]
            ],
            "type": "contour"
           }
          ],
          "contourcarpet": [
           {
            "colorbar": {
             "outlinewidth": 0,
             "ticks": ""
            },
            "type": "contourcarpet"
           }
          ],
          "heatmap": [
           {
            "colorbar": {
             "outlinewidth": 0,
             "ticks": ""
            },
            "colorscale": [
             [
              0,
              "#0d0887"
             ],
             [
              0.1111111111111111,
              "#46039f"
             ],
             [
              0.2222222222222222,
              "#7201a8"
             ],
             [
              0.3333333333333333,
              "#9c179e"
             ],
             [
              0.4444444444444444,
              "#bd3786"
             ],
             [
              0.5555555555555556,
              "#d8576b"
             ],
             [
              0.6666666666666666,
              "#ed7953"
             ],
             [
              0.7777777777777778,
              "#fb9f3a"
             ],
             [
              0.8888888888888888,
              "#fdca26"
             ],
             [
              1,
              "#f0f921"
             ]
            ],
            "type": "heatmap"
           }
          ],
          "heatmapgl": [
           {
            "colorbar": {
             "outlinewidth": 0,
             "ticks": ""
            },
            "colorscale": [
             [
              0,
              "#0d0887"
             ],
             [
              0.1111111111111111,
              "#46039f"
             ],
             [
              0.2222222222222222,
              "#7201a8"
             ],
             [
              0.3333333333333333,
              "#9c179e"
             ],
             [
              0.4444444444444444,
              "#bd3786"
             ],
             [
              0.5555555555555556,
              "#d8576b"
             ],
             [
              0.6666666666666666,
              "#ed7953"
             ],
             [
              0.7777777777777778,
              "#fb9f3a"
             ],
             [
              0.8888888888888888,
              "#fdca26"
             ],
             [
              1,
              "#f0f921"
             ]
            ],
            "type": "heatmapgl"
           }
          ],
          "histogram": [
           {
            "marker": {
             "pattern": {
              "fillmode": "overlay",
              "size": 10,
              "solidity": 0.2
             }
            },
            "type": "histogram"
           }
          ],
          "histogram2d": [
           {
            "colorbar": {
             "outlinewidth": 0,
             "ticks": ""
            },
            "colorscale": [
             [
              0,
              "#0d0887"
             ],
             [
              0.1111111111111111,
              "#46039f"
             ],
             [
              0.2222222222222222,
              "#7201a8"
             ],
             [
              0.3333333333333333,
              "#9c179e"
             ],
             [
              0.4444444444444444,
              "#bd3786"
             ],
             [
              0.5555555555555556,
              "#d8576b"
             ],
             [
              0.6666666666666666,
              "#ed7953"
             ],
             [
              0.7777777777777778,
              "#fb9f3a"
             ],
             [
              0.8888888888888888,
              "#fdca26"
             ],
             [
              1,
              "#f0f921"
             ]
            ],
            "type": "histogram2d"
           }
          ],
          "histogram2dcontour": [
           {
            "colorbar": {
             "outlinewidth": 0,
             "ticks": ""
            },
            "colorscale": [
             [
              0,
              "#0d0887"
             ],
             [
              0.1111111111111111,
              "#46039f"
             ],
             [
              0.2222222222222222,
              "#7201a8"
             ],
             [
              0.3333333333333333,
              "#9c179e"
             ],
             [
              0.4444444444444444,
              "#bd3786"
             ],
             [
              0.5555555555555556,
              "#d8576b"
             ],
             [
              0.6666666666666666,
              "#ed7953"
             ],
             [
              0.7777777777777778,
              "#fb9f3a"
             ],
             [
              0.8888888888888888,
              "#fdca26"
             ],
             [
              1,
              "#f0f921"
             ]
            ],
            "type": "histogram2dcontour"
           }
          ],
          "mesh3d": [
           {
            "colorbar": {
             "outlinewidth": 0,
             "ticks": ""
            },
            "type": "mesh3d"
           }
          ],
          "parcoords": [
           {
            "line": {
             "colorbar": {
              "outlinewidth": 0,
              "ticks": ""
             }
            },
            "type": "parcoords"
           }
          ],
          "pie": [
           {
            "automargin": true,
            "type": "pie"
           }
          ],
          "scatter": [
           {
            "marker": {
             "colorbar": {
              "outlinewidth": 0,
              "ticks": ""
             }
            },
            "type": "scatter"
           }
          ],
          "scatter3d": [
           {
            "line": {
             "colorbar": {
              "outlinewidth": 0,
              "ticks": ""
             }
            },
            "marker": {
             "colorbar": {
              "outlinewidth": 0,
              "ticks": ""
             }
            },
            "type": "scatter3d"
           }
          ],
          "scattercarpet": [
           {
            "marker": {
             "colorbar": {
              "outlinewidth": 0,
              "ticks": ""
             }
            },
            "type": "scattercarpet"
           }
          ],
          "scattergeo": [
           {
            "marker": {
             "colorbar": {
              "outlinewidth": 0,
              "ticks": ""
             }
            },
            "type": "scattergeo"
           }
          ],
          "scattergl": [
           {
            "marker": {
             "colorbar": {
              "outlinewidth": 0,
              "ticks": ""
             }
            },
            "type": "scattergl"
           }
          ],
          "scattermapbox": [
           {
            "marker": {
             "colorbar": {
              "outlinewidth": 0,
              "ticks": ""
             }
            },
            "type": "scattermapbox"
           }
          ],
          "scatterpolar": [
           {
            "marker": {
             "colorbar": {
              "outlinewidth": 0,
              "ticks": ""
             }
            },
            "type": "scatterpolar"
           }
          ],
          "scatterpolargl": [
           {
            "marker": {
             "colorbar": {
              "outlinewidth": 0,
              "ticks": ""
             }
            },
            "type": "scatterpolargl"
           }
          ],
          "scatterternary": [
           {
            "marker": {
             "colorbar": {
              "outlinewidth": 0,
              "ticks": ""
             }
            },
            "type": "scatterternary"
           }
          ],
          "surface": [
           {
            "colorbar": {
             "outlinewidth": 0,
             "ticks": ""
            },
            "colorscale": [
             [
              0,
              "#0d0887"
             ],
             [
              0.1111111111111111,
              "#46039f"
             ],
             [
              0.2222222222222222,
              "#7201a8"
             ],
             [
              0.3333333333333333,
              "#9c179e"
             ],
             [
              0.4444444444444444,
              "#bd3786"
             ],
             [
              0.5555555555555556,
              "#d8576b"
             ],
             [
              0.6666666666666666,
              "#ed7953"
             ],
             [
              0.7777777777777778,
              "#fb9f3a"
             ],
             [
              0.8888888888888888,
              "#fdca26"
             ],
             [
              1,
              "#f0f921"
             ]
            ],
            "type": "surface"
           }
          ],
          "table": [
           {
            "cells": {
             "fill": {
              "color": "#EBF0F8"
             },
             "line": {
              "color": "white"
             }
            },
            "header": {
             "fill": {
              "color": "#C8D4E3"
             },
             "line": {
              "color": "white"
             }
            },
            "type": "table"
           }
          ]
         },
         "layout": {
          "annotationdefaults": {
           "arrowcolor": "#2a3f5f",
           "arrowhead": 0,
           "arrowwidth": 1
          },
          "autotypenumbers": "strict",
          "coloraxis": {
           "colorbar": {
            "outlinewidth": 0,
            "ticks": ""
           }
          },
          "colorscale": {
           "diverging": [
            [
             0,
             "#8e0152"
            ],
            [
             0.1,
             "#c51b7d"
            ],
            [
             0.2,
             "#de77ae"
            ],
            [
             0.3,
             "#f1b6da"
            ],
            [
             0.4,
             "#fde0ef"
            ],
            [
             0.5,
             "#f7f7f7"
            ],
            [
             0.6,
             "#e6f5d0"
            ],
            [
             0.7,
             "#b8e186"
            ],
            [
             0.8,
             "#7fbc41"
            ],
            [
             0.9,
             "#4d9221"
            ],
            [
             1,
             "#276419"
            ]
           ],
           "sequential": [
            [
             0,
             "#0d0887"
            ],
            [
             0.1111111111111111,
             "#46039f"
            ],
            [
             0.2222222222222222,
             "#7201a8"
            ],
            [
             0.3333333333333333,
             "#9c179e"
            ],
            [
             0.4444444444444444,
             "#bd3786"
            ],
            [
             0.5555555555555556,
             "#d8576b"
            ],
            [
             0.6666666666666666,
             "#ed7953"
            ],
            [
             0.7777777777777778,
             "#fb9f3a"
            ],
            [
             0.8888888888888888,
             "#fdca26"
            ],
            [
             1,
             "#f0f921"
            ]
           ],
           "sequentialminus": [
            [
             0,
             "#0d0887"
            ],
            [
             0.1111111111111111,
             "#46039f"
            ],
            [
             0.2222222222222222,
             "#7201a8"
            ],
            [
             0.3333333333333333,
             "#9c179e"
            ],
            [
             0.4444444444444444,
             "#bd3786"
            ],
            [
             0.5555555555555556,
             "#d8576b"
            ],
            [
             0.6666666666666666,
             "#ed7953"
            ],
            [
             0.7777777777777778,
             "#fb9f3a"
            ],
            [
             0.8888888888888888,
             "#fdca26"
            ],
            [
             1,
             "#f0f921"
            ]
           ]
          },
          "colorway": [
           "#636efa",
           "#EF553B",
           "#00cc96",
           "#ab63fa",
           "#FFA15A",
           "#19d3f3",
           "#FF6692",
           "#B6E880",
           "#FF97FF",
           "#FECB52"
          ],
          "font": {
           "color": "#2a3f5f"
          },
          "geo": {
           "bgcolor": "white",
           "lakecolor": "white",
           "landcolor": "#E5ECF6",
           "showlakes": true,
           "showland": true,
           "subunitcolor": "white"
          },
          "hoverlabel": {
           "align": "left"
          },
          "hovermode": "closest",
          "mapbox": {
           "style": "light"
          },
          "paper_bgcolor": "white",
          "plot_bgcolor": "#E5ECF6",
          "polar": {
           "angularaxis": {
            "gridcolor": "white",
            "linecolor": "white",
            "ticks": ""
           },
           "bgcolor": "#E5ECF6",
           "radialaxis": {
            "gridcolor": "white",
            "linecolor": "white",
            "ticks": ""
           }
          },
          "scene": {
           "xaxis": {
            "backgroundcolor": "#E5ECF6",
            "gridcolor": "white",
            "gridwidth": 2,
            "linecolor": "white",
            "showbackground": true,
            "ticks": "",
            "zerolinecolor": "white"
           },
           "yaxis": {
            "backgroundcolor": "#E5ECF6",
            "gridcolor": "white",
            "gridwidth": 2,
            "linecolor": "white",
            "showbackground": true,
            "ticks": "",
            "zerolinecolor": "white"
           },
           "zaxis": {
            "backgroundcolor": "#E5ECF6",
            "gridcolor": "white",
            "gridwidth": 2,
            "linecolor": "white",
            "showbackground": true,
            "ticks": "",
            "zerolinecolor": "white"
           }
          },
          "shapedefaults": {
           "line": {
            "color": "#2a3f5f"
           }
          },
          "ternary": {
           "aaxis": {
            "gridcolor": "white",
            "linecolor": "white",
            "ticks": ""
           },
           "baxis": {
            "gridcolor": "white",
            "linecolor": "white",
            "ticks": ""
           },
           "bgcolor": "#E5ECF6",
           "caxis": {
            "gridcolor": "white",
            "linecolor": "white",
            "ticks": ""
           }
          },
          "title": {
           "x": 0.05
          },
          "xaxis": {
           "automargin": true,
           "gridcolor": "white",
           "linecolor": "white",
           "ticks": "",
           "title": {
            "standoff": 15
           },
           "zerolinecolor": "white",
           "zerolinewidth": 2
          },
          "yaxis": {
           "automargin": true,
           "gridcolor": "white",
           "linecolor": "white",
           "ticks": "",
           "title": {
            "standoff": 15
           },
           "zerolinecolor": "white",
           "zerolinewidth": 2
          }
         }
        },
        "title": {
         "text": "Age distribution"
        },
        "xaxis": {
         "anchor": "y",
         "domain": [
          0,
          1
         ],
         "title": {
          "text": "age"
         }
        },
        "yaxis": {
         "anchor": "x",
         "domain": [
          0,
          1
         ],
         "title": {
          "text": "count"
         }
        }
       }
      },
      "text/html": [
       "<div>                            <div id=\"eac163c4-d69f-4877-94ce-9d9777473502\" class=\"plotly-graph-div\" style=\"height:525px; width:100%;\"></div>            <script type=\"text/javascript\">                require([\"plotly\"], function(Plotly) {                    window.PLOTLYENV=window.PLOTLYENV || {};                                    if (document.getElementById(\"eac163c4-d69f-4877-94ce-9d9777473502\")) {                    Plotly.newPlot(                        \"eac163c4-d69f-4877-94ce-9d9777473502\",                        [{\"alignmentgroup\":\"True\",\"bingroup\":\"x\",\"hovertemplate\":\"age=%{x}<br>count=%{y}<extra></extra>\",\"legendgroup\":\"\",\"marker\":{\"color\":\"#636efa\",\"pattern\":{\"shape\":\"\"}},\"name\":\"\",\"offsetgroup\":\"\",\"orientation\":\"v\",\"showlegend\":false,\"x\":[22.0,38.0,26.0,35.0,35.0,25.0,54.0,2.0,27.0,14.0,4.0,58.0,20.0,39.0,14.0,55.0,2.0,30.0,31.0,25.0,35.0,34.0,15.0,28.0,8.0,38.0,25.0,19.0,25.0,25.0,40.0,38.0,25.0,66.0,28.0,42.0,25.0,21.0,18.0,14.0,40.0,27.0,25.0,3.0,19.0,25.0,25.0,25.0,25.0,18.0,7.0,21.0,49.0,29.0,65.0,38.0,21.0,28.5,5.0,11.0,22.0,45.0,4.0,38.0,25.0,29.0,19.0,17.0,26.0,32.0,16.0,21.0,26.0,32.0,25.0,25.0,25.0,0.83,30.0,22.0,29.0,25.0,28.0,17.0,33.0,16.0,25.0,23.0,24.0,29.0,20.0,46.0,26.0,59.0,25.0,71.0,23.0,34.0,34.0,28.0,25.0,21.0,33.0,37.0,28.0,21.0,25.0,38.0,25.0,47.0,14.5,22.0,20.0,17.0,21.0,70.5,29.0,24.0,2.0,21.0,25.0,32.5,32.5,54.0,12.0,25.0,24.0,25.0,45.0,33.0,20.0,47.0,29.0,25.0,23.0,19.0,37.0,16.0,24.0,25.0,22.0,24.0,19.0,18.0,19.0,27.0,9.0,36.5,42.0,51.0,22.0,55.5,40.5,25.0,51.0,16.0,30.0,25.0,25.0,44.0,40.0,26.0,17.0,1.0,9.0,38.0,45.0,38.0,28.0,61.0,4.0,1.0,21.0,56.0,18.0,25.0,50.0,30.0,36.0,25.0,30.0,9.0,1.0,4.0,38.0,25.0,45.0,40.0,36.0,32.0,19.0,19.0,3.0,44.0,58.0,25.0,42.0,25.0,24.0,28.0,25.0,34.0,45.5,18.0,2.0,32.0,26.0,16.0,40.0,24.0,35.0,22.0,30.0,25.0,31.0,27.0,42.0,32.0,30.0,16.0,27.0,51.0,25.0,38.0,22.0,19.0,20.5,18.0,25.0,35.0,29.0,59.0,5.0,24.0,25.0,44.0,8.0,19.0,33.0,25.0,25.0,29.0,22.0,30.0,44.0,25.0,24.0,37.0,54.0,25.0,29.0,62.0,30.0,41.0,29.0,38.0,30.0,35.0,50.0,25.0,3.0,52.0,40.0,25.0,36.0,16.0,25.0,58.0,35.0,38.0,25.0,41.0,37.0,25.0,63.0,45.0,30.0,7.0,35.0,65.0,28.0,16.0,19.0,38.0,33.0,30.0,22.0,42.0,22.0,26.0,19.0,36.0,24.0,24.0,38.0,23.5,2.0,38.0,50.0,25.0,25.0,19.0,30.0,25.0,0.92,38.0,17.0,30.0,30.0,24.0,18.0,26.0,28.0,43.0,26.0,24.0,54.0,31.0,40.0,22.0,27.0,30.0,22.0,25.0,36.0,61.0,36.0,31.0,16.0,25.0,45.5,38.0,16.0,38.0,25.0,29.0,41.0,45.0,45.0,2.0,24.0,28.0,25.0,36.0,24.0,40.0,25.0,3.0,42.0,23.0,38.0,15.0,25.0,25.0,28.0,22.0,38.0,25.0,25.0,40.0,29.0,45.0,35.0,25.0,30.0,60.0,25.0,25.0,24.0,25.0,18.0,19.0,22.0,3.0,38.0,22.0,27.0,20.0,19.0,42.0,1.0,32.0,35.0,25.0,18.0,1.0,36.0,25.0,17.0,36.0,21.0,28.0,23.0,24.0,22.0,31.0,46.0,23.0,28.0,39.0,26.0,21.0,28.0,20.0,34.0,51.0,3.0,21.0,25.0,25.0,25.0,33.0,30.0,44.0,25.0,34.0,18.0,30.0,10.0,25.0,21.0,29.0,28.0,18.0,25.0,28.0,19.0,25.0,32.0,28.0,25.0,42.0,17.0,50.0,14.0,21.0,24.0,64.0,31.0,45.0,20.0,25.0,28.0,25.0,4.0,13.0,34.0,5.0,52.0,36.0,25.0,30.0,49.0,25.0,29.0,65.0,38.0,50.0,25.0,48.0,34.0,47.0,48.0,25.0,38.0,30.0,56.0,25.0,0.75,25.0,38.0,33.0,23.0,22.0,38.0,34.0,29.0,22.0,2.0,9.0,30.0,50.0,63.0,25.0,25.0,35.0,58.0,30.0,9.0,25.0,21.0,55.0,71.0,21.0,25.0,54.0,25.0,25.0,24.0,17.0,21.0,25.0,37.0,16.0,18.0,33.0,38.0,28.0,26.0,29.0,25.0,36.0,54.0,24.0,47.0,34.0,25.0,36.0,32.0,30.0,22.0,25.0,44.0,25.0,40.5,50.0,38.0,39.0,23.0,2.0,25.0,17.0,25.0,30.0,7.0,45.0,30.0,25.0,22.0,36.0,9.0,11.0,32.0,50.0,64.0,19.0,30.0,33.0,8.0,17.0,27.0,25.0,22.0,22.0,62.0,48.0,38.0,39.0,36.0,25.0,40.0,28.0,25.0,25.0,24.0,19.0,29.0,25.0,32.0,62.0,53.0,36.0,25.0,16.0,19.0,34.0,39.0,25.0,32.0,25.0,39.0,54.0,36.0,25.0,18.0,47.0,60.0,22.0,25.0,35.0,52.0,47.0,25.0,37.0,36.0,30.0,49.0,25.0,49.0,24.0,25.0,38.0,44.0,35.0,36.0,30.0,27.0,22.0,40.0,39.0,25.0,25.0,25.0,35.0,24.0,34.0,26.0,4.0,26.0,27.0,42.0,20.0,21.0,21.0,61.0,57.0,21.0,26.0,25.0,80.0,51.0,32.0,38.0,9.0,28.0,32.0,31.0,41.0,25.0,20.0,24.0,2.0,25.0,0.75,48.0,19.0,56.0,25.0,23.0,25.0,18.0,21.0,25.0,18.0,24.0,25.0,32.0,23.0,58.0,50.0,40.0,47.0,36.0,20.0,32.0,25.0,25.0,43.0,38.0,40.0,31.0,70.0,31.0,30.0,18.0,24.5,18.0,43.0,36.0,25.0,27.0,20.0,14.0,60.0,25.0,14.0,19.0,18.0,15.0,31.0,4.0,25.0,25.0,60.0,52.0,44.0,25.0,49.0,42.0,18.0,35.0,18.0,25.0,26.0,39.0,45.0,42.0,22.0,25.0,24.0,38.0,48.0,29.0,52.0,19.0,38.0,27.0,25.0,33.0,6.0,17.0,34.0,50.0,27.0,20.0,30.0,25.0,25.0,25.0,29.0,11.0,30.0,23.0,23.0,28.5,48.0,35.0,25.0,25.0,38.0,36.0,21.0,24.0,31.0,70.0,16.0,30.0,19.0,31.0,4.0,6.0,33.0,23.0,48.0,0.67,28.0,18.0,34.0,33.0,25.0,41.0,20.0,36.0,16.0,51.0,38.0,30.5,25.0,32.0,24.0,48.0,57.0,25.0,54.0,18.0,25.0,5.0,25.0,43.0,13.0,17.0,29.0,25.0,25.0,25.0,18.0,8.0,1.0,46.0,25.0,16.0,25.0,38.0,25.0,39.0,49.0,31.0,30.0,30.0,34.0,31.0,11.0,0.42,27.0,31.0,39.0,18.0,39.0,33.0,26.0,39.0,35.0,6.0,30.5,38.0,23.0,31.0,43.0,10.0,52.0,27.0,38.0,27.0,2.0,25.0,25.0,1.0,25.0,15.0,0.83,25.0,23.0,18.0,39.0,21.0,25.0,32.0,38.0,20.0,16.0,30.0,34.5,17.0,42.0,25.0,35.0,28.0,38.0,4.0,74.0,9.0,16.0,44.0,18.0,45.0,51.0,24.0,25.0,41.0,21.0,48.0,25.0,24.0,42.0,27.0,31.0,25.0,4.0,26.0,47.0,33.0,47.0,28.0,15.0,20.0,19.0,25.0,56.0,25.0,33.0,22.0,28.0,25.0,39.0,27.0,19.0,25.0,26.0,32.0],\"xaxis\":\"x\",\"yaxis\":\"y\",\"type\":\"histogram\"}],                        {\"template\":{\"data\":{\"bar\":[{\"error_x\":{\"color\":\"#2a3f5f\"},\"error_y\":{\"color\":\"#2a3f5f\"},\"marker\":{\"line\":{\"color\":\"#E5ECF6\",\"width\":0.5},\"pattern\":{\"fillmode\":\"overlay\",\"size\":10,\"solidity\":0.2}},\"type\":\"bar\"}],\"barpolar\":[{\"marker\":{\"line\":{\"color\":\"#E5ECF6\",\"width\":0.5},\"pattern\":{\"fillmode\":\"overlay\",\"size\":10,\"solidity\":0.2}},\"type\":\"barpolar\"}],\"carpet\":[{\"aaxis\":{\"endlinecolor\":\"#2a3f5f\",\"gridcolor\":\"white\",\"linecolor\":\"white\",\"minorgridcolor\":\"white\",\"startlinecolor\":\"#2a3f5f\"},\"baxis\":{\"endlinecolor\":\"#2a3f5f\",\"gridcolor\":\"white\",\"linecolor\":\"white\",\"minorgridcolor\":\"white\",\"startlinecolor\":\"#2a3f5f\"},\"type\":\"carpet\"}],\"choropleth\":[{\"colorbar\":{\"outlinewidth\":0,\"ticks\":\"\"},\"type\":\"choropleth\"}],\"contour\":[{\"colorbar\":{\"outlinewidth\":0,\"ticks\":\"\"},\"colorscale\":[[0.0,\"#0d0887\"],[0.1111111111111111,\"#46039f\"],[0.2222222222222222,\"#7201a8\"],[0.3333333333333333,\"#9c179e\"],[0.4444444444444444,\"#bd3786\"],[0.5555555555555556,\"#d8576b\"],[0.6666666666666666,\"#ed7953\"],[0.7777777777777778,\"#fb9f3a\"],[0.8888888888888888,\"#fdca26\"],[1.0,\"#f0f921\"]],\"type\":\"contour\"}],\"contourcarpet\":[{\"colorbar\":{\"outlinewidth\":0,\"ticks\":\"\"},\"type\":\"contourcarpet\"}],\"heatmap\":[{\"colorbar\":{\"outlinewidth\":0,\"ticks\":\"\"},\"colorscale\":[[0.0,\"#0d0887\"],[0.1111111111111111,\"#46039f\"],[0.2222222222222222,\"#7201a8\"],[0.3333333333333333,\"#9c179e\"],[0.4444444444444444,\"#bd3786\"],[0.5555555555555556,\"#d8576b\"],[0.6666666666666666,\"#ed7953\"],[0.7777777777777778,\"#fb9f3a\"],[0.8888888888888888,\"#fdca26\"],[1.0,\"#f0f921\"]],\"type\":\"heatmap\"}],\"heatmapgl\":[{\"colorbar\":{\"outlinewidth\":0,\"ticks\":\"\"},\"colorscale\":[[0.0,\"#0d0887\"],[0.1111111111111111,\"#46039f\"],[0.2222222222222222,\"#7201a8\"],[0.3333333333333333,\"#9c179e\"],[0.4444444444444444,\"#bd3786\"],[0.5555555555555556,\"#d8576b\"],[0.6666666666666666,\"#ed7953\"],[0.7777777777777778,\"#fb9f3a\"],[0.8888888888888888,\"#fdca26\"],[1.0,\"#f0f921\"]],\"type\":\"heatmapgl\"}],\"histogram\":[{\"marker\":{\"pattern\":{\"fillmode\":\"overlay\",\"size\":10,\"solidity\":0.2}},\"type\":\"histogram\"}],\"histogram2d\":[{\"colorbar\":{\"outlinewidth\":0,\"ticks\":\"\"},\"colorscale\":[[0.0,\"#0d0887\"],[0.1111111111111111,\"#46039f\"],[0.2222222222222222,\"#7201a8\"],[0.3333333333333333,\"#9c179e\"],[0.4444444444444444,\"#bd3786\"],[0.5555555555555556,\"#d8576b\"],[0.6666666666666666,\"#ed7953\"],[0.7777777777777778,\"#fb9f3a\"],[0.8888888888888888,\"#fdca26\"],[1.0,\"#f0f921\"]],\"type\":\"histogram2d\"}],\"histogram2dcontour\":[{\"colorbar\":{\"outlinewidth\":0,\"ticks\":\"\"},\"colorscale\":[[0.0,\"#0d0887\"],[0.1111111111111111,\"#46039f\"],[0.2222222222222222,\"#7201a8\"],[0.3333333333333333,\"#9c179e\"],[0.4444444444444444,\"#bd3786\"],[0.5555555555555556,\"#d8576b\"],[0.6666666666666666,\"#ed7953\"],[0.7777777777777778,\"#fb9f3a\"],[0.8888888888888888,\"#fdca26\"],[1.0,\"#f0f921\"]],\"type\":\"histogram2dcontour\"}],\"mesh3d\":[{\"colorbar\":{\"outlinewidth\":0,\"ticks\":\"\"},\"type\":\"mesh3d\"}],\"parcoords\":[{\"line\":{\"colorbar\":{\"outlinewidth\":0,\"ticks\":\"\"}},\"type\":\"parcoords\"}],\"pie\":[{\"automargin\":true,\"type\":\"pie\"}],\"scatter\":[{\"marker\":{\"colorbar\":{\"outlinewidth\":0,\"ticks\":\"\"}},\"type\":\"scatter\"}],\"scatter3d\":[{\"line\":{\"colorbar\":{\"outlinewidth\":0,\"ticks\":\"\"}},\"marker\":{\"colorbar\":{\"outlinewidth\":0,\"ticks\":\"\"}},\"type\":\"scatter3d\"}],\"scattercarpet\":[{\"marker\":{\"colorbar\":{\"outlinewidth\":0,\"ticks\":\"\"}},\"type\":\"scattercarpet\"}],\"scattergeo\":[{\"marker\":{\"colorbar\":{\"outlinewidth\":0,\"ticks\":\"\"}},\"type\":\"scattergeo\"}],\"scattergl\":[{\"marker\":{\"colorbar\":{\"outlinewidth\":0,\"ticks\":\"\"}},\"type\":\"scattergl\"}],\"scattermapbox\":[{\"marker\":{\"colorbar\":{\"outlinewidth\":0,\"ticks\":\"\"}},\"type\":\"scattermapbox\"}],\"scatterpolar\":[{\"marker\":{\"colorbar\":{\"outlinewidth\":0,\"ticks\":\"\"}},\"type\":\"scatterpolar\"}],\"scatterpolargl\":[{\"marker\":{\"colorbar\":{\"outlinewidth\":0,\"ticks\":\"\"}},\"type\":\"scatterpolargl\"}],\"scatterternary\":[{\"marker\":{\"colorbar\":{\"outlinewidth\":0,\"ticks\":\"\"}},\"type\":\"scatterternary\"}],\"surface\":[{\"colorbar\":{\"outlinewidth\":0,\"ticks\":\"\"},\"colorscale\":[[0.0,\"#0d0887\"],[0.1111111111111111,\"#46039f\"],[0.2222222222222222,\"#7201a8\"],[0.3333333333333333,\"#9c179e\"],[0.4444444444444444,\"#bd3786\"],[0.5555555555555556,\"#d8576b\"],[0.6666666666666666,\"#ed7953\"],[0.7777777777777778,\"#fb9f3a\"],[0.8888888888888888,\"#fdca26\"],[1.0,\"#f0f921\"]],\"type\":\"surface\"}],\"table\":[{\"cells\":{\"fill\":{\"color\":\"#EBF0F8\"},\"line\":{\"color\":\"white\"}},\"header\":{\"fill\":{\"color\":\"#C8D4E3\"},\"line\":{\"color\":\"white\"}},\"type\":\"table\"}]},\"layout\":{\"annotationdefaults\":{\"arrowcolor\":\"#2a3f5f\",\"arrowhead\":0,\"arrowwidth\":1},\"autotypenumbers\":\"strict\",\"coloraxis\":{\"colorbar\":{\"outlinewidth\":0,\"ticks\":\"\"}},\"colorscale\":{\"diverging\":[[0,\"#8e0152\"],[0.1,\"#c51b7d\"],[0.2,\"#de77ae\"],[0.3,\"#f1b6da\"],[0.4,\"#fde0ef\"],[0.5,\"#f7f7f7\"],[0.6,\"#e6f5d0\"],[0.7,\"#b8e186\"],[0.8,\"#7fbc41\"],[0.9,\"#4d9221\"],[1,\"#276419\"]],\"sequential\":[[0.0,\"#0d0887\"],[0.1111111111111111,\"#46039f\"],[0.2222222222222222,\"#7201a8\"],[0.3333333333333333,\"#9c179e\"],[0.4444444444444444,\"#bd3786\"],[0.5555555555555556,\"#d8576b\"],[0.6666666666666666,\"#ed7953\"],[0.7777777777777778,\"#fb9f3a\"],[0.8888888888888888,\"#fdca26\"],[1.0,\"#f0f921\"]],\"sequentialminus\":[[0.0,\"#0d0887\"],[0.1111111111111111,\"#46039f\"],[0.2222222222222222,\"#7201a8\"],[0.3333333333333333,\"#9c179e\"],[0.4444444444444444,\"#bd3786\"],[0.5555555555555556,\"#d8576b\"],[0.6666666666666666,\"#ed7953\"],[0.7777777777777778,\"#fb9f3a\"],[0.8888888888888888,\"#fdca26\"],[1.0,\"#f0f921\"]]},\"colorway\":[\"#636efa\",\"#EF553B\",\"#00cc96\",\"#ab63fa\",\"#FFA15A\",\"#19d3f3\",\"#FF6692\",\"#B6E880\",\"#FF97FF\",\"#FECB52\"],\"font\":{\"color\":\"#2a3f5f\"},\"geo\":{\"bgcolor\":\"white\",\"lakecolor\":\"white\",\"landcolor\":\"#E5ECF6\",\"showlakes\":true,\"showland\":true,\"subunitcolor\":\"white\"},\"hoverlabel\":{\"align\":\"left\"},\"hovermode\":\"closest\",\"mapbox\":{\"style\":\"light\"},\"paper_bgcolor\":\"white\",\"plot_bgcolor\":\"#E5ECF6\",\"polar\":{\"angularaxis\":{\"gridcolor\":\"white\",\"linecolor\":\"white\",\"ticks\":\"\"},\"bgcolor\":\"#E5ECF6\",\"radialaxis\":{\"gridcolor\":\"white\",\"linecolor\":\"white\",\"ticks\":\"\"}},\"scene\":{\"xaxis\":{\"backgroundcolor\":\"#E5ECF6\",\"gridcolor\":\"white\",\"gridwidth\":2,\"linecolor\":\"white\",\"showbackground\":true,\"ticks\":\"\",\"zerolinecolor\":\"white\"},\"yaxis\":{\"backgroundcolor\":\"#E5ECF6\",\"gridcolor\":\"white\",\"gridwidth\":2,\"linecolor\":\"white\",\"showbackground\":true,\"ticks\":\"\",\"zerolinecolor\":\"white\"},\"zaxis\":{\"backgroundcolor\":\"#E5ECF6\",\"gridcolor\":\"white\",\"gridwidth\":2,\"linecolor\":\"white\",\"showbackground\":true,\"ticks\":\"\",\"zerolinecolor\":\"white\"}},\"shapedefaults\":{\"line\":{\"color\":\"#2a3f5f\"}},\"ternary\":{\"aaxis\":{\"gridcolor\":\"white\",\"linecolor\":\"white\",\"ticks\":\"\"},\"baxis\":{\"gridcolor\":\"white\",\"linecolor\":\"white\",\"ticks\":\"\"},\"bgcolor\":\"#E5ECF6\",\"caxis\":{\"gridcolor\":\"white\",\"linecolor\":\"white\",\"ticks\":\"\"}},\"title\":{\"x\":0.05},\"xaxis\":{\"automargin\":true,\"gridcolor\":\"white\",\"linecolor\":\"white\",\"ticks\":\"\",\"title\":{\"standoff\":15},\"zerolinecolor\":\"white\",\"zerolinewidth\":2},\"yaxis\":{\"automargin\":true,\"gridcolor\":\"white\",\"linecolor\":\"white\",\"ticks\":\"\",\"title\":{\"standoff\":15},\"zerolinecolor\":\"white\",\"zerolinewidth\":2}}},\"xaxis\":{\"anchor\":\"y\",\"domain\":[0.0,1.0],\"title\":{\"text\":\"age\"}},\"yaxis\":{\"anchor\":\"x\",\"domain\":[0.0,1.0],\"title\":{\"text\":\"count\"}},\"legend\":{\"tracegroupgap\":0},\"title\":{\"text\":\"Age distribution\"},\"barmode\":\"relative\"},                        {\"responsive\": true}                    ).then(function(){\n",
       "                            \n",
       "var gd = document.getElementById('eac163c4-d69f-4877-94ce-9d9777473502');\n",
       "var x = new MutationObserver(function (mutations, observer) {{\n",
       "        var display = window.getComputedStyle(gd).display;\n",
       "        if (!display || display === 'none') {{\n",
       "            console.log([gd, 'removed!']);\n",
       "            Plotly.purge(gd);\n",
       "            observer.disconnect();\n",
       "        }}\n",
       "}});\n",
       "\n",
       "// Listen for the removal of the full notebook cells\n",
       "var notebookContainer = gd.closest('#notebook-container');\n",
       "if (notebookContainer) {{\n",
       "    x.observe(notebookContainer, {childList: true});\n",
       "}}\n",
       "\n",
       "// Listen for the clearing of the current output cell\n",
       "var outputEl = gd.closest('.output');\n",
       "if (outputEl) {{\n",
       "    x.observe(outputEl, {childList: true});\n",
       "}}\n",
       "\n",
       "                        })                };                });            </script>        </div>"
      ]
     },
     "metadata": {},
     "output_type": "display_data"
    },
    {
     "data": {
      "text/plain": [
       "'\\nFrom the graph - there are lots of customer within the age 20-30, but there are ages 0.4,0.5 in the dataset that is puzzling\\n'"
      ]
     },
     "execution_count": 121,
     "metadata": {},
     "output_type": "execute_result"
    }
   ],
   "source": [
    "#Age distribution\n",
    "fig = px.histogram(clean_data, x='age',title=\"Age distribution\")\n",
    "fig.show()\n",
    "fig.write_html(\"graph/Age distribution.html\")\n",
    "'''\n",
    "From the graph - there are lots of customer within the age 20-30, but there are ages 0.4,0.5 in the dataset that is puzzling\n",
    "'''\n",
    "\n"
   ]
  },
  {
   "cell_type": "markdown",
   "id": "815e5026",
   "metadata": {},
   "source": [
    "# Initial fees level - Categorize with Customer segment, Branch "
   ]
  },
  {
   "cell_type": "code",
   "execution_count": 122,
   "id": "803d6271",
   "metadata": {},
   "outputs": [],
   "source": [
    "# Remove Customer id from dataset \n",
    "del clean_data['customer_id']"
   ]
  },
  {
   "cell_type": "code",
   "execution_count": 123,
   "id": "ba9909f9",
   "metadata": {},
   "outputs": [
    {
     "data": {
      "application/vnd.plotly.v1+json": {
       "config": {
        "plotlyServerURL": "https://plot.ly"
       },
       "data": [
        {
         "alignmentgroup": "True",
         "bingroup": "x",
         "histfunc": "sum",
         "hovertemplate": "branch=Helsinki<br>customer_segment=%{x}<br>sum of initial_fee_level=%{y}<extra></extra>",
         "legendgroup": "Helsinki",
         "marker": {
          "color": "#636efa",
          "pattern": {
           "shape": ""
          }
         },
         "name": "Helsinki",
         "offsetgroup": "Helsinki",
         "orientation": "v",
         "showlegend": true,
         "type": "histogram",
         "x": [
          13,
          13,
          11,
          13,
          11,
          13,
          13,
          13,
          11,
          13,
          13,
          13,
          12,
          12,
          13,
          12,
          12,
          11,
          13,
          13,
          11,
          13,
          12,
          11,
          13,
          13,
          13,
          12,
          13,
          13,
          13,
          13,
          12,
          11,
          12,
          12,
          13,
          11,
          13,
          12,
          13,
          13,
          13,
          12,
          13,
          12,
          13,
          13,
          13,
          13,
          12,
          13,
          13,
          13,
          11,
          12,
          13,
          13,
          13,
          11,
          13,
          13,
          13,
          11,
          13,
          13,
          13,
          12,
          12,
          13,
          13,
          11,
          13,
          13,
          13,
          13,
          13,
          13,
          11,
          13,
          13,
          13,
          12,
          13,
          12,
          13,
          12,
          11,
          13,
          13,
          13,
          13,
          12,
          12,
          11,
          11,
          13,
          13,
          13,
          12,
          12,
          13,
          13,
          12,
          12,
          12,
          11,
          13,
          13,
          13,
          13,
          13,
          13,
          13,
          12,
          13,
          13,
          13,
          13,
          11,
          13,
          11,
          13,
          11,
          13,
          13,
          13,
          13,
          12,
          13,
          13,
          13,
          12,
          13,
          11,
          11,
          13,
          12,
          12,
          13,
          12,
          13,
          12,
          13,
          13,
          13,
          13,
          13,
          13,
          13,
          12,
          13,
          12,
          13,
          12,
          12,
          13,
          12,
          13,
          13,
          11,
          13,
          12,
          13,
          12,
          13,
          11,
          13,
          12,
          13,
          12,
          13,
          12,
          12,
          12,
          12,
          12,
          13,
          13,
          12,
          11,
          12,
          13,
          13,
          11,
          13,
          13,
          11,
          12,
          13,
          11,
          11,
          12,
          13,
          13,
          11,
          11,
          11,
          13,
          12,
          11,
          13,
          12,
          13,
          13,
          13,
          13,
          11,
          13,
          13,
          12,
          11,
          13,
          13,
          11,
          11,
          13,
          13,
          11,
          12,
          13,
          12,
          13,
          12,
          12,
          11,
          13,
          13,
          12,
          13,
          13,
          12,
          13,
          11,
          11,
          13,
          11,
          13,
          11,
          13,
          11,
          12,
          11,
          12,
          12,
          12,
          12,
          12,
          13,
          13,
          13,
          13,
          11,
          13,
          13,
          11,
          12,
          13,
          13,
          13,
          13,
          13,
          13,
          13,
          13,
          13,
          11,
          13,
          12,
          13,
          12,
          11,
          13,
          13,
          13,
          13,
          13,
          12,
          12,
          12,
          13,
          13,
          13,
          13,
          13,
          12,
          13,
          12,
          13,
          13,
          13,
          12,
          13,
          13,
          12,
          12,
          12,
          13,
          13,
          13,
          13,
          13,
          12,
          12,
          13,
          11,
          13,
          12,
          13,
          11,
          11,
          13,
          12,
          11,
          12,
          12,
          13,
          13,
          12,
          13,
          11,
          12,
          11,
          11,
          12,
          13,
          13,
          11,
          11,
          12,
          11,
          13,
          11,
          12,
          13,
          13,
          12,
          11,
          13,
          13,
          12,
          13,
          11,
          12,
          13,
          13,
          13,
          13,
          12,
          13,
          13,
          13,
          11,
          13,
          13,
          13,
          13,
          11,
          13,
          13,
          11,
          13,
          13,
          13,
          11,
          12,
          11,
          13,
          13,
          13,
          11,
          13,
          11,
          12,
          12,
          13,
          11,
          13,
          12,
          11,
          13,
          12,
          12,
          13,
          12,
          11,
          13,
          11,
          13,
          13,
          12,
          11,
          12,
          13,
          12,
          12,
          13,
          11,
          11,
          13,
          13,
          12,
          13,
          13,
          13,
          13,
          13,
          13,
          12,
          11,
          11,
          13,
          13,
          12,
          11,
          13,
          12,
          12,
          11,
          12,
          13,
          13,
          13,
          13,
          12,
          13,
          12,
          13,
          12,
          13,
          11,
          13,
          13,
          13,
          11,
          11,
          13,
          13,
          13,
          12,
          13,
          13,
          12,
          12,
          11,
          13,
          13,
          11,
          11,
          13,
          11,
          13,
          11,
          13,
          12,
          13,
          12,
          13,
          13,
          13,
          13,
          13,
          13,
          13,
          13,
          13,
          12,
          13,
          12,
          13,
          12,
          11,
          11,
          13,
          13,
          12,
          12,
          13,
          13,
          11,
          12,
          11,
          12,
          12,
          12,
          13,
          13,
          13,
          13,
          13,
          13,
          12,
          13,
          13,
          13,
          11,
          11,
          13,
          11,
          12,
          13,
          13,
          11,
          13,
          12,
          12,
          11,
          11,
          11,
          11,
          13,
          12,
          13,
          12,
          13,
          12,
          13,
          12,
          12,
          11,
          13,
          12,
          12,
          13,
          11,
          12,
          12,
          12,
          13,
          13,
          13,
          13,
          11,
          11,
          13,
          13,
          11,
          13,
          12,
          11,
          12,
          13,
          13,
          13,
          12,
          12,
          13,
          12,
          13,
          11,
          13,
          13,
          11,
          13,
          11,
          13,
          13,
          13,
          12,
          12,
          13,
          13,
          11,
          11,
          11,
          13,
          13,
          13,
          13,
          13,
          12,
          13,
          13,
          12,
          11,
          13,
          13,
          12,
          12,
          11,
          13,
          13,
          11,
          13,
          12,
          11,
          13,
          13,
          12,
          13,
          13,
          11,
          13,
          13,
          13,
          11,
          13,
          11,
          13,
          13,
          13,
          12,
          13,
          13,
          13,
          13,
          13,
          13,
          12,
          13,
          13,
          13,
          12,
          13,
          13,
          11,
          12,
          13,
          11,
          11,
          13,
          12,
          11,
          13,
          12,
          12,
          11,
          13,
          13,
          13,
          11,
          11,
          13,
          13,
          13,
          13,
          12,
          13,
          13,
          12,
          13,
          12,
          11,
          13
         ],
         "xaxis": "x",
         "y": [
          14.5,
          15.85,
          106.2,
          16.1,
          103.725,
          42.15,
          22.2666,
          33.4,
          53.1,
          16.1,
          62.55,
          15.7084,
          32,
          26,
          36,
          52,
          26,
          71,
          42.15,
          62.775,
          526,
          15.7916,
          21,
          104,
          16.1,
          36,
          18.95,
          42,
          16.1,
          35.6,
          79.375,
          15.6,
          52,
          71,
          21,
          55.5,
          93.8,
          166.95,
          55.8,
          21,
          16.3166,
          15.85,
          17.325,
          21,
          93.8,
          147,
          112.9916,
          15.3,
          15.7916,
          16.1,
          58,
          24.95,
          18,
          19,
          94.2,
          21,
          31.7,
          68.75,
          16.1,
          526,
          16.1,
          16.1,
          15.7084,
          122.35,
          41.15,
          14.5,
          16.1,
          46,
          52,
          15.7916,
          15.7916,
          154.575,
          17.3084,
          15.85,
          15.7916,
          15.3,
          15.55,
          15.7916,
          104,
          16.1,
          19.65,
          15.85,
          42,
          62.55,
          147,
          16.1,
          26,
          154.575,
          14.2834,
          13.95,
          14.1,
          29,
          52,
          26,
          52.5666,
          106.2,
          18.4334,
          15.5,
          31.7,
          23,
          73.5,
          15.5916,
          68.75,
          52,
          26,
          25.05,
          133.2,
          16.1,
          29,
          14.625,
          16.1,
          17.325,
          139.1,
          32.2,
          31.5,
          15.55,
          17.325,
          79.375,
          41.05,
          110,
          55.8,
          51.85,
          112.9916,
          67,
          22.2666,
          15.85,
          15.7084,
          50.9334,
          26,
          0,
          139.1,
          62.775,
          78,
          44.05,
          100,
          53.1,
          15.7916,
          26,
          26,
          15.7084,
          52,
          16.8084,
          26,
          19,
          139.1,
          12.9916,
          16.1,
          20.925,
          31.7,
          14.1,
          42,
          14.5,
          26,
          15.85,
          54,
          21,
          16.1,
          26,
          16.1,
          15.7916,
          180,
          18.7,
          21,
          14.5,
          26,
          50.9334,
          166.95,
          15.55,
          27,
          62.775,
          21,
          15.1,
          52,
          52.5,
          21,
          24.55,
          21,
          14.25,
          15.55,
          29,
          105.1084,
          52,
          14.5,
          20.925,
          53.1,
          32.2,
          40.425,
          173,
          52,
          62.775,
          159.3,
          0,
          21,
          79.375,
          15.55,
          306.925,
          271.2666,
          62,
          0,
          39,
          155.9166,
          15.5,
          0,
          40.5,
          15.7084,
          19,
          16.1,
          52,
          19,
          15.7916,
          26,
          157.7,
          17.7,
          15.7916,
          303.1,
          61,
          0,
          16.1,
          303.1,
          52,
          15.7916,
          52.5,
          15.7084,
          52,
          28,
          329.7334,
          14.5,
          15.7916,
          58,
          139.1,
          12.475,
          26,
          41.05,
          57,
          306.925,
          36,
          267.3,
          15.7916,
          133.2,
          16.1,
          71,
          52,
          526,
          26,
          26,
          26,
          26,
          26,
          32.2,
          31.8,
          17.325,
          18.45,
          70,
          35.6,
          19,
          110,
          26,
          55.8,
          14.1,
          14.5,
          12.9916,
          16.1,
          42.15,
          14.5,
          15.55,
          15.85,
          104,
          15.7916,
          147,
          93.8,
          26,
          240,
          15.5916,
          15.85,
          33.4,
          15.5916,
          15.7084,
          52,
          21,
          25.3,
          15.85,
          16.1,
          19.65,
          31.7,
          17.325,
          42,
          15.5,
          37.5,
          15.55,
          50.9334,
          15.7916,
          0,
          15.85,
          16.1,
          65,
          26,
          26,
          48.3,
          15.75,
          28.8,
          40.425,
          14.5,
          52,
          52,
          16.1,
          53.1,
          32.2,
          52,
          14.25,
          111.8,
          240,
          68.75,
          37.5,
          526,
          21,
          52.5,
          19,
          15.55,
          26,
          16.225,
          163.7166,
          39,
          53.1,
          61,
          55.5,
          39.9334,
          16.1,
          53.1,
          103.725,
          21,
          53.1,
          16.1,
          77,
          26,
          16.1,
          14.1,
          0,
          53.1,
          14.5,
          17.325,
          55.5,
          19.675,
          104,
          42,
          14.0916,
          15.0416,
          24.575,
          93.8,
          0,
          16.1,
          19.175,
          50.9334,
          180,
          16.1,
          31.8,
          39.9334,
          14.5,
          61,
          16.1,
          30.2,
          303.1,
          15.5916,
          17.325,
          19.175,
          173,
          52,
          53.1,
          45.05,
          112.9916,
          16.1,
          52.575,
          14.9916,
          68.0416,
          21,
          52,
          15.7916,
          187,
          15.7916,
          21,
          443.5584,
          15.85,
          23,
          52,
          17.325,
          52.5,
          53.1,
          29,
          142,
          62.55,
          62.55,
          52,
          52,
          52,
          41.05,
          73.5,
          52,
          15.55,
          53.1,
          159.3,
          34.8,
          15.7916,
          27,
          16.1,
          16.1,
          48.3,
          15.7916,
          42.15,
          15.7084,
          21,
          102.9584,
          52.775,
          16.1,
          29,
          26,
          111.8,
          15.85,
          60,
          52,
          159.3,
          30,
          16.1,
          16.1,
          14.25,
          14.5,
          52,
          48.3,
          66,
          0,
          54,
          15.7916,
          84.8,
          16.1,
          31.1,
          15.7916,
          61,
          306.925,
          62.55,
          14.1,
          16.1,
          130,
          28.8,
          32.2,
          78,
          21,
          105.1084,
          15.7084,
          32.2,
          64.6416,
          155.9166,
          15.7916,
          60,
          14.1084,
          0,
          55.8,
          26,
          15.85,
          52.5,
          79.375,
          32.2,
          15.7084,
          55.8,
          112.9916,
          15.7916,
          15.1,
          15.1,
          15.7916,
          46,
          16.8666,
          147,
          15.7916,
          26,
          267.3,
          51.175,
          14.9916,
          15.85,
          147,
          26,
          15.55,
          16.1,
          104,
          78,
          104,
          21,
          26,
          0,
          15.55,
          16.1,
          19.6834,
          93.8,
          18.45,
          93.8,
          78,
          79.375,
          20.3416,
          15.5916,
          422.675,
          114,
          112.9916,
          53.1,
          27,
          16.1,
          15.3,
          52.575,
          15.7084,
          52,
          27,
          52.575,
          303.1,
          53.1,
          104,
          18.9666,
          26,
          15.3,
          21,
          15.55,
          66,
          14.1084,
          26,
          26,
          106.2,
          17.325,
          42,
          52,
          15.85,
          422.675,
          0,
          26,
          26,
          32.2,
          68.75,
          15.7916,
          15.7916,
          60,
          157.7,
          32.2,
          15.85,
          142,
          40.5,
          26,
          106.2,
          46,
          24.95,
          19,
          15.7916,
          130,
          29,
          15.5916,
          23,
          16.1,
          173,
          29,
          14.25,
          240,
          15.55,
          155.9166,
          16.725,
          19,
          15.7084,
          21,
          46,
          15.5,
          24.95,
          422.675,
          114,
          60,
          46.9,
          14.1,
          14.5,
          14.9916,
          41.15,
          52,
          139.1,
          15.7916,
          26,
          51.8584,
          17.3666,
          48.3,
          26,
          52.5,
          240,
          13.95,
          15.55,
          0,
          15.55,
          26,
          106.2,
          15.775,
          48.3,
          21,
          62.55,
          16.1,
          0,
          15.85,
          12.9,
          55.8,
          187,
          17.325,
          0,
          24.95,
          79.375,
          112.9916,
          37.5,
          15.7084,
          16.6,
          17.325,
          16.1,
          112.9916,
          15.85,
          21,
          17.325,
          15.1,
          139.1,
          66,
          62.55,
          15.55,
          78.8,
          52,
          18.7,
          329.7334,
          53.1,
          28.2166,
          23,
          51.8584,
          139.1,
          26,
          26,
          100.9916,
          19,
          22.2666,
          15.7916,
          105.1084,
          10,
          18,
          19.6916,
          15.7916,
          15.7916,
          52,
          15.7916,
          21.0334,
          21,
          14.1,
          26,
          60,
          46.9
         ],
         "yaxis": "y"
        },
        {
         "alignmentgroup": "True",
         "bingroup": "x",
         "histfunc": "sum",
         "hovertemplate": "branch=Tampere<br>customer_segment=%{x}<br>sum of initial_fee_level=%{y}<extra></extra>",
         "legendgroup": "Tampere",
         "marker": {
          "color": "#EF553B",
          "pattern": {
           "shape": ""
          }
         },
         "name": "Tampere",
         "offsetgroup": "Tampere",
         "orientation": "v",
         "showlegend": true,
         "type": "histogram",
         "x": [
          11,
          12,
          13,
          13,
          11,
          11,
          11,
          13,
          13,
          13,
          12,
          13,
          11,
          11,
          13,
          13,
          11,
          13,
          13,
          11,
          11,
          13,
          13,
          11,
          12,
          13,
          13,
          13,
          12,
          11,
          13,
          11,
          11,
          11,
          12,
          11,
          11,
          13,
          13,
          11,
          11,
          11,
          13,
          13,
          13,
          11,
          11,
          11,
          13,
          11,
          12,
          11,
          13,
          11,
          11,
          11,
          12,
          11,
          11,
          11,
          11,
          11,
          11,
          11,
          13,
          13,
          12,
          13,
          11,
          13,
          11,
          11,
          11,
          11,
          11,
          13,
          11,
          13,
          12,
          11,
          13,
          13,
          11,
          11,
          13,
          13,
          12,
          11,
          11,
          11,
          13,
          11,
          11,
          11,
          13,
          11,
          13,
          13,
          13,
          13,
          11,
          11,
          11,
          12,
          11,
          13,
          11,
          11,
          13,
          13,
          11,
          11,
          13,
          11,
          11,
          13,
          11,
          11,
          12,
          13,
          13,
          11,
          11,
          13,
          11,
          11,
          11,
          13,
          11,
          11,
          12,
          13,
          13,
          11,
          11,
          13,
          13,
          11,
          11,
          13,
          11,
          11,
          13,
          11,
          13,
          13,
          11,
          11,
          13,
          13,
          12,
          12,
          13,
          13,
          11,
          11,
          11,
          13,
          13,
          11,
          13,
          13,
          13,
          12,
          12,
          13,
          11,
          11
         ],
         "xaxis": "x",
         "y": [
          142.5666,
          60.1416,
          14.45,
          14.45,
          55.4416,
          293.0416,
          164.3416,
          14.4584,
          22.4834,
          15.7916,
          83.1584,
          43.3584,
          153.4584,
          123.9584,
          14.4584,
          14.4584,
          55.4416,
          30.4916,
          28.9084,
          69.3084,
          126.7166,
          28.9084,
          28.9166,
          495.0416,
          60.1416,
          22.4834,
          44.7166,
          15.7916,
          30.0916,
          158.4,
          30.4916,
          122.7584,
          61.3916,
          57.425,
          30.1,
          55.4416,
          293.0416,
          14.45,
          37.575,
          62,
          226.55,
          152.5834,
          28.9084,
          14.45,
          30.4916,
          158.4,
          1024.6584,
          59.4,
          17.325,
          182.1584,
          25.75,
          55.4416,
          14.4584,
          495.0416,
          221.7666,
          217.8,
          48,
          113.8584,
          166.3166,
          524.75,
          269,
          271.2666,
          115.9584,
          269,
          14.4584,
          14.45,
          55.4416,
          28.9084,
          150.5,
          14.4584,
          138.6,
          110.8834,
          271.2666,
          164.3416,
          423,
          8.025,
          455.05,
          31.4834,
          24,
          226.55,
          15.7916,
          38.5166,
          55.5,
          178.2084,
          15.7916,
          38.5166,
          27.5834,
          182.1584,
          59.4,
          99.0084,
          28.9166,
          156.5334,
          217.8,
          118.8,
          14.45,
          115.9584,
          14.4584,
          14.4584,
          14.4584,
          44.7166,
          212.85,
          99,
          212.85,
          27.725,
          221.7666,
          14.45,
          79.2,
          455.05,
          14.4584,
          28.9166,
          221.7666,
          80.25,
          17.425,
          158.4,
          156.5334,
          14.45,
          113.8584,
          53.1,
          83.1584,
          28.9084,
          31.4834,
          61,
          138.6,
          38.5166,
          153.4584,
          71,
          226.55,
          14.45,
          1024.6584,
          153.4584,
          83.1584,
          26.8334,
          14.45,
          221.7666,
          455.05,
          28.9084,
          30.4916,
          99.0084,
          455.05,
          37.575,
          1024.6584,
          524.75,
          14.4584,
          79.2,
          14.45,
          14.4584,
          158.4,
          61.3916,
          14.4584,
          17.0334,
          74.0084,
          74.0084,
          28.9084,
          14.4584,
          166.3166,
          59.4,
          62,
          12.875,
          15.7916,
          178.2084,
          30.4916,
          38.5166,
          14.4584,
          27.7166,
          48,
          14.45,
          166.3166,
          60
         ],
         "yaxis": "y"
        },
        {
         "alignmentgroup": "True",
         "bingroup": "x",
         "histfunc": "sum",
         "hovertemplate": "branch=Turku<br>customer_segment=%{x}<br>sum of initial_fee_level=%{y}<extra></extra>",
         "legendgroup": "Turku",
         "marker": {
          "color": "#00cc96",
          "pattern": {
           "shape": ""
          }
         },
         "name": "Turku",
         "offsetgroup": "Turku",
         "orientation": "v",
         "showlegend": true,
         "type": "histogram",
         "x": [
          13,
          13,
          13,
          13,
          13,
          13,
          13,
          13,
          13,
          13,
          13,
          13,
          13,
          13,
          13,
          13,
          13,
          13,
          13,
          13,
          13,
          13,
          11,
          13,
          13,
          13,
          13,
          13,
          13,
          13,
          13,
          12,
          12,
          13,
          13,
          13,
          13,
          13,
          13,
          13,
          11,
          13,
          13,
          13,
          13,
          13,
          13,
          13,
          13,
          13,
          13,
          13,
          13,
          13,
          13,
          13,
          12,
          13,
          13,
          13,
          13,
          13,
          13,
          13,
          13,
          13,
          13,
          13,
          13,
          13,
          13,
          13,
          13,
          13,
          13,
          13,
          13
         ],
         "xaxis": "x",
         "y": [
          16.9166,
          58.25,
          16.0584,
          15.7584,
          15.5,
          15.7584,
          31,
          15.5,
          15.575,
          48.3,
          15.5,
          15.5,
          13.5,
          15.4666,
          58.25,
          31,
          31,
          15.5,
          15.5,
          15.5,
          15.5,
          31,
          180,
          15.5,
          15.5,
          15.5,
          58.25,
          15.5,
          15.5,
          15.5,
          46.5,
          24.7,
          24.7,
          46.5,
          15.7584,
          15.7584,
          31,
          15.5,
          15.4584,
          13.7166,
          180,
          15.4666,
          15.5,
          15.5,
          15.45,
          15.5,
          15.2584,
          15.5,
          48.3,
          15.5,
          15.6584,
          15.5,
          15.5,
          15.5,
          31,
          15.5,
          24.7,
          15.4666,
          15.6584,
          13.5,
          31,
          16.275,
          15.4666,
          15.4834,
          31,
          15.475,
          15.5,
          15.5,
          48.3,
          15.5,
          15.475,
          58.25,
          15.5,
          13.9,
          15.5,
          58.25,
          15.5
         ],
         "yaxis": "y"
        }
       ],
       "layout": {
        "bargap": 0.7,
        "barmode": "relative",
        "legend": {
         "title": {
          "text": "branch"
         },
         "tracegroupgap": 0
        },
        "template": {
         "data": {
          "bar": [
           {
            "error_x": {
             "color": "#2a3f5f"
            },
            "error_y": {
             "color": "#2a3f5f"
            },
            "marker": {
             "line": {
              "color": "#E5ECF6",
              "width": 0.5
             },
             "pattern": {
              "fillmode": "overlay",
              "size": 10,
              "solidity": 0.2
             }
            },
            "type": "bar"
           }
          ],
          "barpolar": [
           {
            "marker": {
             "line": {
              "color": "#E5ECF6",
              "width": 0.5
             },
             "pattern": {
              "fillmode": "overlay",
              "size": 10,
              "solidity": 0.2
             }
            },
            "type": "barpolar"
           }
          ],
          "carpet": [
           {
            "aaxis": {
             "endlinecolor": "#2a3f5f",
             "gridcolor": "white",
             "linecolor": "white",
             "minorgridcolor": "white",
             "startlinecolor": "#2a3f5f"
            },
            "baxis": {
             "endlinecolor": "#2a3f5f",
             "gridcolor": "white",
             "linecolor": "white",
             "minorgridcolor": "white",
             "startlinecolor": "#2a3f5f"
            },
            "type": "carpet"
           }
          ],
          "choropleth": [
           {
            "colorbar": {
             "outlinewidth": 0,
             "ticks": ""
            },
            "type": "choropleth"
           }
          ],
          "contour": [
           {
            "colorbar": {
             "outlinewidth": 0,
             "ticks": ""
            },
            "colorscale": [
             [
              0,
              "#0d0887"
             ],
             [
              0.1111111111111111,
              "#46039f"
             ],
             [
              0.2222222222222222,
              "#7201a8"
             ],
             [
              0.3333333333333333,
              "#9c179e"
             ],
             [
              0.4444444444444444,
              "#bd3786"
             ],
             [
              0.5555555555555556,
              "#d8576b"
             ],
             [
              0.6666666666666666,
              "#ed7953"
             ],
             [
              0.7777777777777778,
              "#fb9f3a"
             ],
             [
              0.8888888888888888,
              "#fdca26"
             ],
             [
              1,
              "#f0f921"
             ]
            ],
            "type": "contour"
           }
          ],
          "contourcarpet": [
           {
            "colorbar": {
             "outlinewidth": 0,
             "ticks": ""
            },
            "type": "contourcarpet"
           }
          ],
          "heatmap": [
           {
            "colorbar": {
             "outlinewidth": 0,
             "ticks": ""
            },
            "colorscale": [
             [
              0,
              "#0d0887"
             ],
             [
              0.1111111111111111,
              "#46039f"
             ],
             [
              0.2222222222222222,
              "#7201a8"
             ],
             [
              0.3333333333333333,
              "#9c179e"
             ],
             [
              0.4444444444444444,
              "#bd3786"
             ],
             [
              0.5555555555555556,
              "#d8576b"
             ],
             [
              0.6666666666666666,
              "#ed7953"
             ],
             [
              0.7777777777777778,
              "#fb9f3a"
             ],
             [
              0.8888888888888888,
              "#fdca26"
             ],
             [
              1,
              "#f0f921"
             ]
            ],
            "type": "heatmap"
           }
          ],
          "heatmapgl": [
           {
            "colorbar": {
             "outlinewidth": 0,
             "ticks": ""
            },
            "colorscale": [
             [
              0,
              "#0d0887"
             ],
             [
              0.1111111111111111,
              "#46039f"
             ],
             [
              0.2222222222222222,
              "#7201a8"
             ],
             [
              0.3333333333333333,
              "#9c179e"
             ],
             [
              0.4444444444444444,
              "#bd3786"
             ],
             [
              0.5555555555555556,
              "#d8576b"
             ],
             [
              0.6666666666666666,
              "#ed7953"
             ],
             [
              0.7777777777777778,
              "#fb9f3a"
             ],
             [
              0.8888888888888888,
              "#fdca26"
             ],
             [
              1,
              "#f0f921"
             ]
            ],
            "type": "heatmapgl"
           }
          ],
          "histogram": [
           {
            "marker": {
             "pattern": {
              "fillmode": "overlay",
              "size": 10,
              "solidity": 0.2
             }
            },
            "type": "histogram"
           }
          ],
          "histogram2d": [
           {
            "colorbar": {
             "outlinewidth": 0,
             "ticks": ""
            },
            "colorscale": [
             [
              0,
              "#0d0887"
             ],
             [
              0.1111111111111111,
              "#46039f"
             ],
             [
              0.2222222222222222,
              "#7201a8"
             ],
             [
              0.3333333333333333,
              "#9c179e"
             ],
             [
              0.4444444444444444,
              "#bd3786"
             ],
             [
              0.5555555555555556,
              "#d8576b"
             ],
             [
              0.6666666666666666,
              "#ed7953"
             ],
             [
              0.7777777777777778,
              "#fb9f3a"
             ],
             [
              0.8888888888888888,
              "#fdca26"
             ],
             [
              1,
              "#f0f921"
             ]
            ],
            "type": "histogram2d"
           }
          ],
          "histogram2dcontour": [
           {
            "colorbar": {
             "outlinewidth": 0,
             "ticks": ""
            },
            "colorscale": [
             [
              0,
              "#0d0887"
             ],
             [
              0.1111111111111111,
              "#46039f"
             ],
             [
              0.2222222222222222,
              "#7201a8"
             ],
             [
              0.3333333333333333,
              "#9c179e"
             ],
             [
              0.4444444444444444,
              "#bd3786"
             ],
             [
              0.5555555555555556,
              "#d8576b"
             ],
             [
              0.6666666666666666,
              "#ed7953"
             ],
             [
              0.7777777777777778,
              "#fb9f3a"
             ],
             [
              0.8888888888888888,
              "#fdca26"
             ],
             [
              1,
              "#f0f921"
             ]
            ],
            "type": "histogram2dcontour"
           }
          ],
          "mesh3d": [
           {
            "colorbar": {
             "outlinewidth": 0,
             "ticks": ""
            },
            "type": "mesh3d"
           }
          ],
          "parcoords": [
           {
            "line": {
             "colorbar": {
              "outlinewidth": 0,
              "ticks": ""
             }
            },
            "type": "parcoords"
           }
          ],
          "pie": [
           {
            "automargin": true,
            "type": "pie"
           }
          ],
          "scatter": [
           {
            "marker": {
             "colorbar": {
              "outlinewidth": 0,
              "ticks": ""
             }
            },
            "type": "scatter"
           }
          ],
          "scatter3d": [
           {
            "line": {
             "colorbar": {
              "outlinewidth": 0,
              "ticks": ""
             }
            },
            "marker": {
             "colorbar": {
              "outlinewidth": 0,
              "ticks": ""
             }
            },
            "type": "scatter3d"
           }
          ],
          "scattercarpet": [
           {
            "marker": {
             "colorbar": {
              "outlinewidth": 0,
              "ticks": ""
             }
            },
            "type": "scattercarpet"
           }
          ],
          "scattergeo": [
           {
            "marker": {
             "colorbar": {
              "outlinewidth": 0,
              "ticks": ""
             }
            },
            "type": "scattergeo"
           }
          ],
          "scattergl": [
           {
            "marker": {
             "colorbar": {
              "outlinewidth": 0,
              "ticks": ""
             }
            },
            "type": "scattergl"
           }
          ],
          "scattermapbox": [
           {
            "marker": {
             "colorbar": {
              "outlinewidth": 0,
              "ticks": ""
             }
            },
            "type": "scattermapbox"
           }
          ],
          "scatterpolar": [
           {
            "marker": {
             "colorbar": {
              "outlinewidth": 0,
              "ticks": ""
             }
            },
            "type": "scatterpolar"
           }
          ],
          "scatterpolargl": [
           {
            "marker": {
             "colorbar": {
              "outlinewidth": 0,
              "ticks": ""
             }
            },
            "type": "scatterpolargl"
           }
          ],
          "scatterternary": [
           {
            "marker": {
             "colorbar": {
              "outlinewidth": 0,
              "ticks": ""
             }
            },
            "type": "scatterternary"
           }
          ],
          "surface": [
           {
            "colorbar": {
             "outlinewidth": 0,
             "ticks": ""
            },
            "colorscale": [
             [
              0,
              "#0d0887"
             ],
             [
              0.1111111111111111,
              "#46039f"
             ],
             [
              0.2222222222222222,
              "#7201a8"
             ],
             [
              0.3333333333333333,
              "#9c179e"
             ],
             [
              0.4444444444444444,
              "#bd3786"
             ],
             [
              0.5555555555555556,
              "#d8576b"
             ],
             [
              0.6666666666666666,
              "#ed7953"
             ],
             [
              0.7777777777777778,
              "#fb9f3a"
             ],
             [
              0.8888888888888888,
              "#fdca26"
             ],
             [
              1,
              "#f0f921"
             ]
            ],
            "type": "surface"
           }
          ],
          "table": [
           {
            "cells": {
             "fill": {
              "color": "#EBF0F8"
             },
             "line": {
              "color": "white"
             }
            },
            "header": {
             "fill": {
              "color": "#C8D4E3"
             },
             "line": {
              "color": "white"
             }
            },
            "type": "table"
           }
          ]
         },
         "layout": {
          "annotationdefaults": {
           "arrowcolor": "#2a3f5f",
           "arrowhead": 0,
           "arrowwidth": 1
          },
          "autotypenumbers": "strict",
          "coloraxis": {
           "colorbar": {
            "outlinewidth": 0,
            "ticks": ""
           }
          },
          "colorscale": {
           "diverging": [
            [
             0,
             "#8e0152"
            ],
            [
             0.1,
             "#c51b7d"
            ],
            [
             0.2,
             "#de77ae"
            ],
            [
             0.3,
             "#f1b6da"
            ],
            [
             0.4,
             "#fde0ef"
            ],
            [
             0.5,
             "#f7f7f7"
            ],
            [
             0.6,
             "#e6f5d0"
            ],
            [
             0.7,
             "#b8e186"
            ],
            [
             0.8,
             "#7fbc41"
            ],
            [
             0.9,
             "#4d9221"
            ],
            [
             1,
             "#276419"
            ]
           ],
           "sequential": [
            [
             0,
             "#0d0887"
            ],
            [
             0.1111111111111111,
             "#46039f"
            ],
            [
             0.2222222222222222,
             "#7201a8"
            ],
            [
             0.3333333333333333,
             "#9c179e"
            ],
            [
             0.4444444444444444,
             "#bd3786"
            ],
            [
             0.5555555555555556,
             "#d8576b"
            ],
            [
             0.6666666666666666,
             "#ed7953"
            ],
            [
             0.7777777777777778,
             "#fb9f3a"
            ],
            [
             0.8888888888888888,
             "#fdca26"
            ],
            [
             1,
             "#f0f921"
            ]
           ],
           "sequentialminus": [
            [
             0,
             "#0d0887"
            ],
            [
             0.1111111111111111,
             "#46039f"
            ],
            [
             0.2222222222222222,
             "#7201a8"
            ],
            [
             0.3333333333333333,
             "#9c179e"
            ],
            [
             0.4444444444444444,
             "#bd3786"
            ],
            [
             0.5555555555555556,
             "#d8576b"
            ],
            [
             0.6666666666666666,
             "#ed7953"
            ],
            [
             0.7777777777777778,
             "#fb9f3a"
            ],
            [
             0.8888888888888888,
             "#fdca26"
            ],
            [
             1,
             "#f0f921"
            ]
           ]
          },
          "colorway": [
           "#636efa",
           "#EF553B",
           "#00cc96",
           "#ab63fa",
           "#FFA15A",
           "#19d3f3",
           "#FF6692",
           "#B6E880",
           "#FF97FF",
           "#FECB52"
          ],
          "font": {
           "color": "#2a3f5f"
          },
          "geo": {
           "bgcolor": "white",
           "lakecolor": "white",
           "landcolor": "#E5ECF6",
           "showlakes": true,
           "showland": true,
           "subunitcolor": "white"
          },
          "hoverlabel": {
           "align": "left"
          },
          "hovermode": "closest",
          "mapbox": {
           "style": "light"
          },
          "paper_bgcolor": "white",
          "plot_bgcolor": "#E5ECF6",
          "polar": {
           "angularaxis": {
            "gridcolor": "white",
            "linecolor": "white",
            "ticks": ""
           },
           "bgcolor": "#E5ECF6",
           "radialaxis": {
            "gridcolor": "white",
            "linecolor": "white",
            "ticks": ""
           }
          },
          "scene": {
           "xaxis": {
            "backgroundcolor": "#E5ECF6",
            "gridcolor": "white",
            "gridwidth": 2,
            "linecolor": "white",
            "showbackground": true,
            "ticks": "",
            "zerolinecolor": "white"
           },
           "yaxis": {
            "backgroundcolor": "#E5ECF6",
            "gridcolor": "white",
            "gridwidth": 2,
            "linecolor": "white",
            "showbackground": true,
            "ticks": "",
            "zerolinecolor": "white"
           },
           "zaxis": {
            "backgroundcolor": "#E5ECF6",
            "gridcolor": "white",
            "gridwidth": 2,
            "linecolor": "white",
            "showbackground": true,
            "ticks": "",
            "zerolinecolor": "white"
           }
          },
          "shapedefaults": {
           "line": {
            "color": "#2a3f5f"
           }
          },
          "ternary": {
           "aaxis": {
            "gridcolor": "white",
            "linecolor": "white",
            "ticks": ""
           },
           "baxis": {
            "gridcolor": "white",
            "linecolor": "white",
            "ticks": ""
           },
           "bgcolor": "#E5ECF6",
           "caxis": {
            "gridcolor": "white",
            "linecolor": "white",
            "ticks": ""
           }
          },
          "title": {
           "x": 0.05
          },
          "xaxis": {
           "automargin": true,
           "gridcolor": "white",
           "linecolor": "white",
           "ticks": "",
           "title": {
            "standoff": 15
           },
           "zerolinecolor": "white",
           "zerolinewidth": 2
          },
          "yaxis": {
           "automargin": true,
           "gridcolor": "white",
           "linecolor": "white",
           "ticks": "",
           "title": {
            "standoff": 15
           },
           "zerolinecolor": "white",
           "zerolinewidth": 2
          }
         }
        },
        "title": {
         "text": "Initial Fees collected  impact from customer segment from each branch"
        },
        "xaxis": {
         "anchor": "y",
         "domain": [
          0,
          1
         ],
         "title": {
          "text": "customer_segment"
         }
        },
        "yaxis": {
         "anchor": "x",
         "domain": [
          0,
          1
         ],
         "title": {
          "text": "sum of initial_fee_level"
         }
        }
       }
      },
      "text/html": [
       "<div>                            <div id=\"1927bee2-4238-4200-9c25-5d267c5d5c74\" class=\"plotly-graph-div\" style=\"height:525px; width:100%;\"></div>            <script type=\"text/javascript\">                require([\"plotly\"], function(Plotly) {                    window.PLOTLYENV=window.PLOTLYENV || {};                                    if (document.getElementById(\"1927bee2-4238-4200-9c25-5d267c5d5c74\")) {                    Plotly.newPlot(                        \"1927bee2-4238-4200-9c25-5d267c5d5c74\",                        [{\"alignmentgroup\":\"True\",\"bingroup\":\"x\",\"histfunc\":\"sum\",\"hovertemplate\":\"branch=Helsinki<br>customer_segment=%{x}<br>sum of initial_fee_level=%{y}<extra></extra>\",\"legendgroup\":\"Helsinki\",\"marker\":{\"color\":\"#636efa\",\"pattern\":{\"shape\":\"\"}},\"name\":\"Helsinki\",\"offsetgroup\":\"Helsinki\",\"orientation\":\"v\",\"showlegend\":true,\"x\":[13,13,11,13,11,13,13,13,11,13,13,13,12,12,13,12,12,11,13,13,11,13,12,11,13,13,13,12,13,13,13,13,12,11,12,12,13,11,13,12,13,13,13,12,13,12,13,13,13,13,12,13,13,13,11,12,13,13,13,11,13,13,13,11,13,13,13,12,12,13,13,11,13,13,13,13,13,13,11,13,13,13,12,13,12,13,12,11,13,13,13,13,12,12,11,11,13,13,13,12,12,13,13,12,12,12,11,13,13,13,13,13,13,13,12,13,13,13,13,11,13,11,13,11,13,13,13,13,12,13,13,13,12,13,11,11,13,12,12,13,12,13,12,13,13,13,13,13,13,13,12,13,12,13,12,12,13,12,13,13,11,13,12,13,12,13,11,13,12,13,12,13,12,12,12,12,12,13,13,12,11,12,13,13,11,13,13,11,12,13,11,11,12,13,13,11,11,11,13,12,11,13,12,13,13,13,13,11,13,13,12,11,13,13,11,11,13,13,11,12,13,12,13,12,12,11,13,13,12,13,13,12,13,11,11,13,11,13,11,13,11,12,11,12,12,12,12,12,13,13,13,13,11,13,13,11,12,13,13,13,13,13,13,13,13,13,11,13,12,13,12,11,13,13,13,13,13,12,12,12,13,13,13,13,13,12,13,12,13,13,13,12,13,13,12,12,12,13,13,13,13,13,12,12,13,11,13,12,13,11,11,13,12,11,12,12,13,13,12,13,11,12,11,11,12,13,13,11,11,12,11,13,11,12,13,13,12,11,13,13,12,13,11,12,13,13,13,13,12,13,13,13,11,13,13,13,13,11,13,13,11,13,13,13,11,12,11,13,13,13,11,13,11,12,12,13,11,13,12,11,13,12,12,13,12,11,13,11,13,13,12,11,12,13,12,12,13,11,11,13,13,12,13,13,13,13,13,13,12,11,11,13,13,12,11,13,12,12,11,12,13,13,13,13,12,13,12,13,12,13,11,13,13,13,11,11,13,13,13,12,13,13,12,12,11,13,13,11,11,13,11,13,11,13,12,13,12,13,13,13,13,13,13,13,13,13,12,13,12,13,12,11,11,13,13,12,12,13,13,11,12,11,12,12,12,13,13,13,13,13,13,12,13,13,13,11,11,13,11,12,13,13,11,13,12,12,11,11,11,11,13,12,13,12,13,12,13,12,12,11,13,12,12,13,11,12,12,12,13,13,13,13,11,11,13,13,11,13,12,11,12,13,13,13,12,12,13,12,13,11,13,13,11,13,11,13,13,13,12,12,13,13,11,11,11,13,13,13,13,13,12,13,13,12,11,13,13,12,12,11,13,13,11,13,12,11,13,13,12,13,13,11,13,13,13,11,13,11,13,13,13,12,13,13,13,13,13,13,12,13,13,13,12,13,13,11,12,13,11,11,13,12,11,13,12,12,11,13,13,13,11,11,13,13,13,13,12,13,13,12,13,12,11,13],\"xaxis\":\"x\",\"y\":[14.5,15.85,106.2,16.1,103.725,42.15,22.2666,33.4,53.1,16.1,62.55,15.7084,32.0,26.0,36.0,52.0,26.0,71.0,42.15,62.775,526.0,15.7916,21.0,104.0,16.1,36.0,18.95,42.0,16.1,35.6,79.375,15.6,52.0,71.0,21.0,55.5,93.8,166.95,55.8,21.0,16.3166,15.85,17.325,21.0,93.8,147.0,112.9916,15.3,15.7916,16.1,58.0,24.95,18.0,19.0,94.2,21.0,31.7,68.75,16.1,526.0,16.1,16.1,15.7084,122.35,41.15,14.5,16.1,46.0,52.0,15.7916,15.7916,154.575,17.3084,15.85,15.7916,15.3,15.55,15.7916,104.0,16.1,19.65,15.85,42.0,62.55,147.0,16.1,26.0,154.575,14.2834,13.95,14.1,29.0,52.0,26.0,52.5666,106.2,18.4334,15.5,31.7,23.0,73.5,15.5916,68.75,52.0,26.0,25.05,133.2,16.1,29.0,14.625,16.1,17.325,139.1,32.2,31.5,15.55,17.325,79.375,41.05,110.0,55.8,51.85,112.9916,67.0,22.2666,15.85,15.7084,50.9334,26.0,0.0,139.1,62.775,78.0,44.05,100.0,53.1,15.7916,26.0,26.0,15.7084,52.0,16.8084,26.0,19.0,139.1,12.9916,16.1,20.925,31.7,14.1,42.0,14.5,26.0,15.85,54.0,21.0,16.1,26.0,16.1,15.7916,180.0,18.7,21.0,14.5,26.0,50.9334,166.95,15.55,27.0,62.775,21.0,15.1,52.0,52.5,21.0,24.55,21.0,14.25,15.55,29.0,105.1084,52.0,14.5,20.925,53.1,32.2,40.425,173.0,52.0,62.775,159.3,0.0,21.0,79.375,15.55,306.925,271.2666,62.0,0.0,39.0,155.9166,15.5,0.0,40.5,15.7084,19.0,16.1,52.0,19.0,15.7916,26.0,157.7,17.7,15.7916,303.1,61.0,0.0,16.1,303.1,52.0,15.7916,52.5,15.7084,52.0,28.0,329.7334,14.5,15.7916,58.0,139.1,12.475,26.0,41.05,57.0,306.925,36.0,267.3,15.7916,133.2,16.1,71.0,52.0,526.0,26.0,26.0,26.0,26.0,26.0,32.2,31.8,17.325,18.45,70.0,35.6,19.0,110.0,26.0,55.8,14.1,14.5,12.9916,16.1,42.15,14.5,15.55,15.85,104.0,15.7916,147.0,93.8,26.0,240.0,15.5916,15.85,33.4,15.5916,15.7084,52.0,21.0,25.3,15.85,16.1,19.65,31.7,17.325,42.0,15.5,37.5,15.55,50.9334,15.7916,0.0,15.85,16.1,65.0,26.0,26.0,48.3,15.75,28.8,40.425,14.5,52.0,52.0,16.1,53.1,32.2,52.0,14.25,111.8,240.0,68.75,37.5,526.0,21.0,52.5,19.0,15.55,26.0,16.225,163.7166,39.0,53.1,61.0,55.5,39.9334,16.1,53.1,103.725,21.0,53.1,16.1,77.0,26.0,16.1,14.1,0.0,53.1,14.5,17.325,55.5,19.675,104.0,42.0,14.0916,15.0416,24.575,93.8,0.0,16.1,19.175,50.9334,180.0,16.1,31.8,39.9334,14.5,61.0,16.1,30.2,303.1,15.5916,17.325,19.175,173.0,52.0,53.1,45.05,112.9916,16.1,52.575,14.9916,68.0416,21.0,52.0,15.7916,187.0,15.7916,21.0,443.5584,15.85,23.0,52.0,17.325,52.5,53.1,29.0,142.0,62.55,62.55,52.0,52.0,52.0,41.05,73.5,52.0,15.55,53.1,159.3,34.8,15.7916,27.0,16.1,16.1,48.3,15.7916,42.15,15.7084,21.0,102.9584,52.775,16.1,29.0,26.0,111.8,15.85,60.0,52.0,159.3,30.0,16.1,16.1,14.25,14.5,52.0,48.3,66.0,0.0,54.0,15.7916,84.8,16.1,31.1,15.7916,61.0,306.925,62.55,14.1,16.1,130.0,28.8,32.2,78.0,21.0,105.1084,15.7084,32.2,64.6416,155.9166,15.7916,60.0,14.1084,0.0,55.8,26.0,15.85,52.5,79.375,32.2,15.7084,55.8,112.9916,15.7916,15.1,15.1,15.7916,46.0,16.8666,147.0,15.7916,26.0,267.3,51.175,14.9916,15.85,147.0,26.0,15.55,16.1,104.0,78.0,104.0,21.0,26.0,0.0,15.55,16.1,19.6834,93.8,18.45,93.8,78.0,79.375,20.3416,15.5916,422.675,114.0,112.9916,53.1,27.0,16.1,15.3,52.575,15.7084,52.0,27.0,52.575,303.1,53.1,104.0,18.9666,26.0,15.3,21.0,15.55,66.0,14.1084,26.0,26.0,106.2,17.325,42.0,52.0,15.85,422.675,0.0,26.0,26.0,32.2,68.75,15.7916,15.7916,60.0,157.7,32.2,15.85,142.0,40.5,26.0,106.2,46.0,24.95,19.0,15.7916,130.0,29.0,15.5916,23.0,16.1,173.0,29.0,14.25,240.0,15.55,155.9166,16.725,19.0,15.7084,21.0,46.0,15.5,24.95,422.675,114.0,60.0,46.9,14.1,14.5,14.9916,41.15,52.0,139.1,15.7916,26.0,51.8584,17.3666,48.3,26.0,52.5,240.0,13.95,15.55,0.0,15.55,26.0,106.2,15.775,48.3,21.0,62.55,16.1,0.0,15.85,12.9,55.8,187.0,17.325,0.0,24.95,79.375,112.9916,37.5,15.7084,16.6,17.325,16.1,112.9916,15.85,21.0,17.325,15.1,139.1,66.0,62.55,15.55,78.8,52.0,18.7,329.7334,53.1,28.2166,23.0,51.8584,139.1,26.0,26.0,100.9916,19.0,22.2666,15.7916,105.1084,10.0,18.0,19.6916,15.7916,15.7916,52.0,15.7916,21.0334,21.0,14.1,26.0,60.0,46.9],\"yaxis\":\"y\",\"type\":\"histogram\"},{\"alignmentgroup\":\"True\",\"bingroup\":\"x\",\"histfunc\":\"sum\",\"hovertemplate\":\"branch=Tampere<br>customer_segment=%{x}<br>sum of initial_fee_level=%{y}<extra></extra>\",\"legendgroup\":\"Tampere\",\"marker\":{\"color\":\"#EF553B\",\"pattern\":{\"shape\":\"\"}},\"name\":\"Tampere\",\"offsetgroup\":\"Tampere\",\"orientation\":\"v\",\"showlegend\":true,\"x\":[11,12,13,13,11,11,11,13,13,13,12,13,11,11,13,13,11,13,13,11,11,13,13,11,12,13,13,13,12,11,13,11,11,11,12,11,11,13,13,11,11,11,13,13,13,11,11,11,13,11,12,11,13,11,11,11,12,11,11,11,11,11,11,11,13,13,12,13,11,13,11,11,11,11,11,13,11,13,12,11,13,13,11,11,13,13,12,11,11,11,13,11,11,11,13,11,13,13,13,13,11,11,11,12,11,13,11,11,13,13,11,11,13,11,11,13,11,11,12,13,13,11,11,13,11,11,11,13,11,11,12,13,13,11,11,13,13,11,11,13,11,11,13,11,13,13,11,11,13,13,12,12,13,13,11,11,11,13,13,11,13,13,13,12,12,13,11,11],\"xaxis\":\"x\",\"y\":[142.5666,60.1416,14.45,14.45,55.4416,293.0416,164.3416,14.4584,22.4834,15.7916,83.1584,43.3584,153.4584,123.9584,14.4584,14.4584,55.4416,30.4916,28.9084,69.3084,126.7166,28.9084,28.9166,495.0416,60.1416,22.4834,44.7166,15.7916,30.0916,158.4,30.4916,122.7584,61.3916,57.425,30.1,55.4416,293.0416,14.45,37.575,62.0,226.55,152.5834,28.9084,14.45,30.4916,158.4,1024.6584,59.4,17.325,182.1584,25.75,55.4416,14.4584,495.0416,221.7666,217.8,48.0,113.8584,166.3166,524.75,269.0,271.2666,115.9584,269.0,14.4584,14.45,55.4416,28.9084,150.5,14.4584,138.6,110.8834,271.2666,164.3416,423.0,8.025,455.05,31.4834,24.0,226.55,15.7916,38.5166,55.5,178.2084,15.7916,38.5166,27.5834,182.1584,59.4,99.0084,28.9166,156.5334,217.8,118.8,14.45,115.9584,14.4584,14.4584,14.4584,44.7166,212.85,99.0,212.85,27.725,221.7666,14.45,79.2,455.05,14.4584,28.9166,221.7666,80.25,17.425,158.4,156.5334,14.45,113.8584,53.1,83.1584,28.9084,31.4834,61.0,138.6,38.5166,153.4584,71.0,226.55,14.45,1024.6584,153.4584,83.1584,26.8334,14.45,221.7666,455.05,28.9084,30.4916,99.0084,455.05,37.575,1024.6584,524.75,14.4584,79.2,14.45,14.4584,158.4,61.3916,14.4584,17.0334,74.0084,74.0084,28.9084,14.4584,166.3166,59.4,62.0,12.875,15.7916,178.2084,30.4916,38.5166,14.4584,27.7166,48.0,14.45,166.3166,60.0],\"yaxis\":\"y\",\"type\":\"histogram\"},{\"alignmentgroup\":\"True\",\"bingroup\":\"x\",\"histfunc\":\"sum\",\"hovertemplate\":\"branch=Turku<br>customer_segment=%{x}<br>sum of initial_fee_level=%{y}<extra></extra>\",\"legendgroup\":\"Turku\",\"marker\":{\"color\":\"#00cc96\",\"pattern\":{\"shape\":\"\"}},\"name\":\"Turku\",\"offsetgroup\":\"Turku\",\"orientation\":\"v\",\"showlegend\":true,\"x\":[13,13,13,13,13,13,13,13,13,13,13,13,13,13,13,13,13,13,13,13,13,13,11,13,13,13,13,13,13,13,13,12,12,13,13,13,13,13,13,13,11,13,13,13,13,13,13,13,13,13,13,13,13,13,13,13,12,13,13,13,13,13,13,13,13,13,13,13,13,13,13,13,13,13,13,13,13],\"xaxis\":\"x\",\"y\":[16.9166,58.25,16.0584,15.7584,15.5,15.7584,31.0,15.5,15.575,48.3,15.5,15.5,13.5,15.4666,58.25,31.0,31.0,15.5,15.5,15.5,15.5,31.0,180.0,15.5,15.5,15.5,58.25,15.5,15.5,15.5,46.5,24.7,24.7,46.5,15.7584,15.7584,31.0,15.5,15.4584,13.7166,180.0,15.4666,15.5,15.5,15.45,15.5,15.2584,15.5,48.3,15.5,15.6584,15.5,15.5,15.5,31.0,15.5,24.7,15.4666,15.6584,13.5,31.0,16.275,15.4666,15.4834,31.0,15.475,15.5,15.5,48.3,15.5,15.475,58.25,15.5,13.9,15.5,58.25,15.5],\"yaxis\":\"y\",\"type\":\"histogram\"}],                        {\"template\":{\"data\":{\"bar\":[{\"error_x\":{\"color\":\"#2a3f5f\"},\"error_y\":{\"color\":\"#2a3f5f\"},\"marker\":{\"line\":{\"color\":\"#E5ECF6\",\"width\":0.5},\"pattern\":{\"fillmode\":\"overlay\",\"size\":10,\"solidity\":0.2}},\"type\":\"bar\"}],\"barpolar\":[{\"marker\":{\"line\":{\"color\":\"#E5ECF6\",\"width\":0.5},\"pattern\":{\"fillmode\":\"overlay\",\"size\":10,\"solidity\":0.2}},\"type\":\"barpolar\"}],\"carpet\":[{\"aaxis\":{\"endlinecolor\":\"#2a3f5f\",\"gridcolor\":\"white\",\"linecolor\":\"white\",\"minorgridcolor\":\"white\",\"startlinecolor\":\"#2a3f5f\"},\"baxis\":{\"endlinecolor\":\"#2a3f5f\",\"gridcolor\":\"white\",\"linecolor\":\"white\",\"minorgridcolor\":\"white\",\"startlinecolor\":\"#2a3f5f\"},\"type\":\"carpet\"}],\"choropleth\":[{\"colorbar\":{\"outlinewidth\":0,\"ticks\":\"\"},\"type\":\"choropleth\"}],\"contour\":[{\"colorbar\":{\"outlinewidth\":0,\"ticks\":\"\"},\"colorscale\":[[0.0,\"#0d0887\"],[0.1111111111111111,\"#46039f\"],[0.2222222222222222,\"#7201a8\"],[0.3333333333333333,\"#9c179e\"],[0.4444444444444444,\"#bd3786\"],[0.5555555555555556,\"#d8576b\"],[0.6666666666666666,\"#ed7953\"],[0.7777777777777778,\"#fb9f3a\"],[0.8888888888888888,\"#fdca26\"],[1.0,\"#f0f921\"]],\"type\":\"contour\"}],\"contourcarpet\":[{\"colorbar\":{\"outlinewidth\":0,\"ticks\":\"\"},\"type\":\"contourcarpet\"}],\"heatmap\":[{\"colorbar\":{\"outlinewidth\":0,\"ticks\":\"\"},\"colorscale\":[[0.0,\"#0d0887\"],[0.1111111111111111,\"#46039f\"],[0.2222222222222222,\"#7201a8\"],[0.3333333333333333,\"#9c179e\"],[0.4444444444444444,\"#bd3786\"],[0.5555555555555556,\"#d8576b\"],[0.6666666666666666,\"#ed7953\"],[0.7777777777777778,\"#fb9f3a\"],[0.8888888888888888,\"#fdca26\"],[1.0,\"#f0f921\"]],\"type\":\"heatmap\"}],\"heatmapgl\":[{\"colorbar\":{\"outlinewidth\":0,\"ticks\":\"\"},\"colorscale\":[[0.0,\"#0d0887\"],[0.1111111111111111,\"#46039f\"],[0.2222222222222222,\"#7201a8\"],[0.3333333333333333,\"#9c179e\"],[0.4444444444444444,\"#bd3786\"],[0.5555555555555556,\"#d8576b\"],[0.6666666666666666,\"#ed7953\"],[0.7777777777777778,\"#fb9f3a\"],[0.8888888888888888,\"#fdca26\"],[1.0,\"#f0f921\"]],\"type\":\"heatmapgl\"}],\"histogram\":[{\"marker\":{\"pattern\":{\"fillmode\":\"overlay\",\"size\":10,\"solidity\":0.2}},\"type\":\"histogram\"}],\"histogram2d\":[{\"colorbar\":{\"outlinewidth\":0,\"ticks\":\"\"},\"colorscale\":[[0.0,\"#0d0887\"],[0.1111111111111111,\"#46039f\"],[0.2222222222222222,\"#7201a8\"],[0.3333333333333333,\"#9c179e\"],[0.4444444444444444,\"#bd3786\"],[0.5555555555555556,\"#d8576b\"],[0.6666666666666666,\"#ed7953\"],[0.7777777777777778,\"#fb9f3a\"],[0.8888888888888888,\"#fdca26\"],[1.0,\"#f0f921\"]],\"type\":\"histogram2d\"}],\"histogram2dcontour\":[{\"colorbar\":{\"outlinewidth\":0,\"ticks\":\"\"},\"colorscale\":[[0.0,\"#0d0887\"],[0.1111111111111111,\"#46039f\"],[0.2222222222222222,\"#7201a8\"],[0.3333333333333333,\"#9c179e\"],[0.4444444444444444,\"#bd3786\"],[0.5555555555555556,\"#d8576b\"],[0.6666666666666666,\"#ed7953\"],[0.7777777777777778,\"#fb9f3a\"],[0.8888888888888888,\"#fdca26\"],[1.0,\"#f0f921\"]],\"type\":\"histogram2dcontour\"}],\"mesh3d\":[{\"colorbar\":{\"outlinewidth\":0,\"ticks\":\"\"},\"type\":\"mesh3d\"}],\"parcoords\":[{\"line\":{\"colorbar\":{\"outlinewidth\":0,\"ticks\":\"\"}},\"type\":\"parcoords\"}],\"pie\":[{\"automargin\":true,\"type\":\"pie\"}],\"scatter\":[{\"marker\":{\"colorbar\":{\"outlinewidth\":0,\"ticks\":\"\"}},\"type\":\"scatter\"}],\"scatter3d\":[{\"line\":{\"colorbar\":{\"outlinewidth\":0,\"ticks\":\"\"}},\"marker\":{\"colorbar\":{\"outlinewidth\":0,\"ticks\":\"\"}},\"type\":\"scatter3d\"}],\"scattercarpet\":[{\"marker\":{\"colorbar\":{\"outlinewidth\":0,\"ticks\":\"\"}},\"type\":\"scattercarpet\"}],\"scattergeo\":[{\"marker\":{\"colorbar\":{\"outlinewidth\":0,\"ticks\":\"\"}},\"type\":\"scattergeo\"}],\"scattergl\":[{\"marker\":{\"colorbar\":{\"outlinewidth\":0,\"ticks\":\"\"}},\"type\":\"scattergl\"}],\"scattermapbox\":[{\"marker\":{\"colorbar\":{\"outlinewidth\":0,\"ticks\":\"\"}},\"type\":\"scattermapbox\"}],\"scatterpolar\":[{\"marker\":{\"colorbar\":{\"outlinewidth\":0,\"ticks\":\"\"}},\"type\":\"scatterpolar\"}],\"scatterpolargl\":[{\"marker\":{\"colorbar\":{\"outlinewidth\":0,\"ticks\":\"\"}},\"type\":\"scatterpolargl\"}],\"scatterternary\":[{\"marker\":{\"colorbar\":{\"outlinewidth\":0,\"ticks\":\"\"}},\"type\":\"scatterternary\"}],\"surface\":[{\"colorbar\":{\"outlinewidth\":0,\"ticks\":\"\"},\"colorscale\":[[0.0,\"#0d0887\"],[0.1111111111111111,\"#46039f\"],[0.2222222222222222,\"#7201a8\"],[0.3333333333333333,\"#9c179e\"],[0.4444444444444444,\"#bd3786\"],[0.5555555555555556,\"#d8576b\"],[0.6666666666666666,\"#ed7953\"],[0.7777777777777778,\"#fb9f3a\"],[0.8888888888888888,\"#fdca26\"],[1.0,\"#f0f921\"]],\"type\":\"surface\"}],\"table\":[{\"cells\":{\"fill\":{\"color\":\"#EBF0F8\"},\"line\":{\"color\":\"white\"}},\"header\":{\"fill\":{\"color\":\"#C8D4E3\"},\"line\":{\"color\":\"white\"}},\"type\":\"table\"}]},\"layout\":{\"annotationdefaults\":{\"arrowcolor\":\"#2a3f5f\",\"arrowhead\":0,\"arrowwidth\":1},\"autotypenumbers\":\"strict\",\"coloraxis\":{\"colorbar\":{\"outlinewidth\":0,\"ticks\":\"\"}},\"colorscale\":{\"diverging\":[[0,\"#8e0152\"],[0.1,\"#c51b7d\"],[0.2,\"#de77ae\"],[0.3,\"#f1b6da\"],[0.4,\"#fde0ef\"],[0.5,\"#f7f7f7\"],[0.6,\"#e6f5d0\"],[0.7,\"#b8e186\"],[0.8,\"#7fbc41\"],[0.9,\"#4d9221\"],[1,\"#276419\"]],\"sequential\":[[0.0,\"#0d0887\"],[0.1111111111111111,\"#46039f\"],[0.2222222222222222,\"#7201a8\"],[0.3333333333333333,\"#9c179e\"],[0.4444444444444444,\"#bd3786\"],[0.5555555555555556,\"#d8576b\"],[0.6666666666666666,\"#ed7953\"],[0.7777777777777778,\"#fb9f3a\"],[0.8888888888888888,\"#fdca26\"],[1.0,\"#f0f921\"]],\"sequentialminus\":[[0.0,\"#0d0887\"],[0.1111111111111111,\"#46039f\"],[0.2222222222222222,\"#7201a8\"],[0.3333333333333333,\"#9c179e\"],[0.4444444444444444,\"#bd3786\"],[0.5555555555555556,\"#d8576b\"],[0.6666666666666666,\"#ed7953\"],[0.7777777777777778,\"#fb9f3a\"],[0.8888888888888888,\"#fdca26\"],[1.0,\"#f0f921\"]]},\"colorway\":[\"#636efa\",\"#EF553B\",\"#00cc96\",\"#ab63fa\",\"#FFA15A\",\"#19d3f3\",\"#FF6692\",\"#B6E880\",\"#FF97FF\",\"#FECB52\"],\"font\":{\"color\":\"#2a3f5f\"},\"geo\":{\"bgcolor\":\"white\",\"lakecolor\":\"white\",\"landcolor\":\"#E5ECF6\",\"showlakes\":true,\"showland\":true,\"subunitcolor\":\"white\"},\"hoverlabel\":{\"align\":\"left\"},\"hovermode\":\"closest\",\"mapbox\":{\"style\":\"light\"},\"paper_bgcolor\":\"white\",\"plot_bgcolor\":\"#E5ECF6\",\"polar\":{\"angularaxis\":{\"gridcolor\":\"white\",\"linecolor\":\"white\",\"ticks\":\"\"},\"bgcolor\":\"#E5ECF6\",\"radialaxis\":{\"gridcolor\":\"white\",\"linecolor\":\"white\",\"ticks\":\"\"}},\"scene\":{\"xaxis\":{\"backgroundcolor\":\"#E5ECF6\",\"gridcolor\":\"white\",\"gridwidth\":2,\"linecolor\":\"white\",\"showbackground\":true,\"ticks\":\"\",\"zerolinecolor\":\"white\"},\"yaxis\":{\"backgroundcolor\":\"#E5ECF6\",\"gridcolor\":\"white\",\"gridwidth\":2,\"linecolor\":\"white\",\"showbackground\":true,\"ticks\":\"\",\"zerolinecolor\":\"white\"},\"zaxis\":{\"backgroundcolor\":\"#E5ECF6\",\"gridcolor\":\"white\",\"gridwidth\":2,\"linecolor\":\"white\",\"showbackground\":true,\"ticks\":\"\",\"zerolinecolor\":\"white\"}},\"shapedefaults\":{\"line\":{\"color\":\"#2a3f5f\"}},\"ternary\":{\"aaxis\":{\"gridcolor\":\"white\",\"linecolor\":\"white\",\"ticks\":\"\"},\"baxis\":{\"gridcolor\":\"white\",\"linecolor\":\"white\",\"ticks\":\"\"},\"bgcolor\":\"#E5ECF6\",\"caxis\":{\"gridcolor\":\"white\",\"linecolor\":\"white\",\"ticks\":\"\"}},\"title\":{\"x\":0.05},\"xaxis\":{\"automargin\":true,\"gridcolor\":\"white\",\"linecolor\":\"white\",\"ticks\":\"\",\"title\":{\"standoff\":15},\"zerolinecolor\":\"white\",\"zerolinewidth\":2},\"yaxis\":{\"automargin\":true,\"gridcolor\":\"white\",\"linecolor\":\"white\",\"ticks\":\"\",\"title\":{\"standoff\":15},\"zerolinecolor\":\"white\",\"zerolinewidth\":2}}},\"xaxis\":{\"anchor\":\"y\",\"domain\":[0.0,1.0],\"title\":{\"text\":\"customer_segment\"}},\"yaxis\":{\"anchor\":\"x\",\"domain\":[0.0,1.0],\"title\":{\"text\":\"sum of initial_fee_level\"}},\"legend\":{\"title\":{\"text\":\"branch\"},\"tracegroupgap\":0},\"title\":{\"text\":\"Initial Fees collected  impact from customer segment from each branch\"},\"barmode\":\"relative\",\"bargap\":0.7},                        {\"responsive\": true}                    ).then(function(){\n",
       "                            \n",
       "var gd = document.getElementById('1927bee2-4238-4200-9c25-5d267c5d5c74');\n",
       "var x = new MutationObserver(function (mutations, observer) {{\n",
       "        var display = window.getComputedStyle(gd).display;\n",
       "        if (!display || display === 'none') {{\n",
       "            console.log([gd, 'removed!']);\n",
       "            Plotly.purge(gd);\n",
       "            observer.disconnect();\n",
       "        }}\n",
       "}});\n",
       "\n",
       "// Listen for the removal of the full notebook cells\n",
       "var notebookContainer = gd.closest('#notebook-container');\n",
       "if (notebookContainer) {{\n",
       "    x.observe(notebookContainer, {childList: true});\n",
       "}}\n",
       "\n",
       "// Listen for the clearing of the current output cell\n",
       "var outputEl = gd.closest('.output');\n",
       "if (outputEl) {{\n",
       "    x.observe(outputEl, {childList: true});\n",
       "}}\n",
       "\n",
       "                        })                };                });            </script>        </div>"
      ]
     },
     "metadata": {},
     "output_type": "display_data"
    },
    {
     "data": {
      "text/plain": [
       "'\\nResult - Helsinki is the biggest market followed by Tampere and then Turku\\n'"
      ]
     },
     "execution_count": 123,
     "metadata": {},
     "output_type": "execute_result"
    }
   ],
   "source": [
    "#Which branch has the most of the customer segment from \n",
    "\n",
    "fig = px.histogram(clean_data, x='customer_segment', y='initial_fee_level', color='branch', title = \"Initial Fees collected  impact from customer segment from each branch\")\n",
    "fig.update_layout(bargap=.7)\n",
    "fig.show()\n",
    "\n",
    "fig.write_html(\"graph/Initial Fees collected  impact from customer segment from each branch.html\")\n",
    "'''\n",
    "Result - Helsinki is the biggest market followed by Tampere and then Turku\n",
    "'''"
   ]
  },
  {
   "cell_type": "code",
   "execution_count": null,
   "id": "591dbe45",
   "metadata": {},
   "outputs": [],
   "source": []
  },
  {
   "cell_type": "code",
   "execution_count": null,
   "id": "2a1bfb05",
   "metadata": {},
   "outputs": [],
   "source": []
  },
  {
   "cell_type": "code",
   "execution_count": null,
   "id": "c0411bd4",
   "metadata": {},
   "outputs": [],
   "source": []
  },
  {
   "cell_type": "code",
   "execution_count": null,
   "id": "56fc1306",
   "metadata": {},
   "outputs": [],
   "source": []
  },
  {
   "cell_type": "markdown",
   "id": "9edabb5b",
   "metadata": {},
   "source": [
    "# Convert Categorical variables into Numeric Categories"
   ]
  },
  {
   "cell_type": "code",
   "execution_count": 124,
   "id": "561a2693",
   "metadata": {},
   "outputs": [
    {
     "name": "stderr",
     "output_type": "stream",
     "text": [
      "/var/folders/20/9_zpc0mx6cz0z00dd5ttdhr00000gn/T/ipykernel_2132/3261883584.py:7: SettingWithCopyWarning:\n",
      "\n",
      "\n",
      "A value is trying to be set on a copy of a slice from a DataFrame\n",
      "\n",
      "See the caveats in the documentation: https://pandas.pydata.org/pandas-docs/stable/user_guide/indexing.html#returning-a-view-versus-a-copy\n",
      "\n",
      "/var/folders/20/9_zpc0mx6cz0z00dd5ttdhr00000gn/T/ipykernel_2132/3261883584.py:9: SettingWithCopyWarning:\n",
      "\n",
      "\n",
      "A value is trying to be set on a copy of a slice from a DataFrame\n",
      "\n",
      "See the caveats in the documentation: https://pandas.pydata.org/pandas-docs/stable/user_guide/indexing.html#returning-a-view-versus-a-copy\n",
      "\n"
     ]
    }
   ],
   "source": [
    "#Replace the gender text to numeric\n",
    "\n",
    "'''male by 0 and female by 1 '''\n",
    "\n",
    "for idx,row in clean_data['gender'].iteritems():\n",
    "    if row == 'male':\n",
    "        clean_data['gender'][idx] = 0\n",
    "    else:\n",
    "        clean_data['gender'][idx] = 1"
   ]
  },
  {
   "cell_type": "code",
   "execution_count": 125,
   "id": "25296403",
   "metadata": {},
   "outputs": [
    {
     "name": "stderr",
     "output_type": "stream",
     "text": [
      "/var/folders/20/9_zpc0mx6cz0z00dd5ttdhr00000gn/T/ipykernel_2132/199418252.py:9: SettingWithCopyWarning:\n",
      "\n",
      "\n",
      "A value is trying to be set on a copy of a slice from a DataFrame\n",
      "\n",
      "See the caveats in the documentation: https://pandas.pydata.org/pandas-docs/stable/user_guide/indexing.html#returning-a-view-versus-a-copy\n",
      "\n",
      "/var/folders/20/9_zpc0mx6cz0z00dd5ttdhr00000gn/T/ipykernel_2132/199418252.py:12: SettingWithCopyWarning:\n",
      "\n",
      "\n",
      "A value is trying to be set on a copy of a slice from a DataFrame\n",
      "\n",
      "See the caveats in the documentation: https://pandas.pydata.org/pandas-docs/stable/user_guide/indexing.html#returning-a-view-versus-a-copy\n",
      "\n"
     ]
    }
   ],
   "source": [
    "#Replace the credit_account_id from n\n",
    "\n",
    "''' \n",
    "9b2d5b4678781e53038e91ea5324530a03f27dc1d0e5f6c9bc9d493a23be9de0\" as 0 and other value as 1\n",
    "'''\n",
    "\n",
    "for idx,row in clean_data['credit_account_id'].iteritems():\n",
    "    if clean_data['credit_account_id'][idx] == '9b2d5b4678781e53038e91ea5324530a03f27dc1d0e5f6c9bc9d493a23be9de0':\n",
    "        clean_data['credit_account_id'][idx] =0\n",
    "        \n",
    "    else:\n",
    "        clean_data['credit_account_id'][idx] =1  "
   ]
  },
  {
   "cell_type": "code",
   "execution_count": 126,
   "id": "19c877c4",
   "metadata": {},
   "outputs": [
    {
     "name": "stderr",
     "output_type": "stream",
     "text": [
      "/var/folders/20/9_zpc0mx6cz0z00dd5ttdhr00000gn/T/ipykernel_2132/659498159.py:10: SettingWithCopyWarning:\n",
      "\n",
      "\n",
      "A value is trying to be set on a copy of a slice from a DataFrame\n",
      "\n",
      "See the caveats in the documentation: https://pandas.pydata.org/pandas-docs/stable/user_guide/indexing.html#returning-a-view-versus-a-copy\n",
      "\n",
      "/var/folders/20/9_zpc0mx6cz0z00dd5ttdhr00000gn/T/ipykernel_2132/659498159.py:12: SettingWithCopyWarning:\n",
      "\n",
      "\n",
      "A value is trying to be set on a copy of a slice from a DataFrame\n",
      "\n",
      "See the caveats in the documentation: https://pandas.pydata.org/pandas-docs/stable/user_guide/indexing.html#returning-a-view-versus-a-copy\n",
      "\n",
      "/var/folders/20/9_zpc0mx6cz0z00dd5ttdhr00000gn/T/ipykernel_2132/659498159.py:14: SettingWithCopyWarning:\n",
      "\n",
      "\n",
      "A value is trying to be set on a copy of a slice from a DataFrame\n",
      "\n",
      "See the caveats in the documentation: https://pandas.pydata.org/pandas-docs/stable/user_guide/indexing.html#returning-a-view-versus-a-copy\n",
      "\n"
     ]
    }
   ],
   "source": [
    "#Replace branch name from text to numbers\n",
    "'''\n",
    "Helsinki - 0\n",
    "Tampere - 1\n",
    "Turku - 2\n",
    "'''\n",
    "\n",
    "for idx,row in clean_data['branch'].iteritems():\n",
    "    if clean_data['branch'][idx] == 'Helsinki':\n",
    "        clean_data['branch'][idx] =0\n",
    "    elif clean_data['branch'][idx] == 'Tampere':\n",
    "        clean_data['branch'][idx] =1\n",
    "    elif clean_data['branch'][idx] == 'Turku':\n",
    "        clean_data['branch'][idx] =2"
   ]
  },
  {
   "cell_type": "markdown",
   "id": "d67e93fd",
   "metadata": {},
   "source": [
    "# Total Number of people converted 340 (with cleaning dataset)"
   ]
  },
  {
   "cell_type": "code",
   "execution_count": 127,
   "id": "1b1ae469",
   "metadata": {},
   "outputs": [
    {
     "data": {
      "text/plain": [
       "340"
      ]
     },
     "execution_count": 127,
     "metadata": {},
     "output_type": "execute_result"
    }
   ],
   "source": [
    "clean_data['converted'].sum()\n",
    "#from the query - out of 890 unique id - only 340 are converted"
   ]
  },
  {
   "cell_type": "code",
   "execution_count": 128,
   "id": "c2ee7673",
   "metadata": {},
   "outputs": [
    {
     "name": "stdout",
     "output_type": "stream",
     "text": [
      "Number of Helsinki rows (644, 9)\n",
      "Number of tampere rows (168, 9)\n",
      "Number of turku rows (77, 9)\n"
     ]
    }
   ],
   "source": [
    "# picking out the helsinki rows - Out 889 rows - 644,168,77 rows are from Helsinki, tampere,turku market\n",
    "helsinki = clean_data[clean_data['branch'] == 0]\n",
    "print('Number of Helsinki rows',helsinki.shape)\n",
    "\n",
    "\n",
    "tampere = clean_data[clean_data['branch'] == 1]\n",
    "print('Number of tampere rows',tampere.shape)\n",
    "\n",
    "turku = clean_data[clean_data['branch'] == 2]\n",
    "print('Number of turku rows',turku.shape)\n",
    "\n"
   ]
  },
  {
   "cell_type": "code",
   "execution_count": 129,
   "id": "c408a7cc",
   "metadata": {},
   "outputs": [
    {
     "name": "stdout",
     "output_type": "stream",
     "text": [
      "Helsinki converted  217\n",
      "Tampere converted  93\n",
      "Turku converted  30\n"
     ]
    }
   ],
   "source": [
    "#out of 217 converted from Helsinki \n",
    "print('Helsinki converted ',helsinki['converted'].sum())\n",
    "\n",
    "#out of  93 are converted from tampere\n",
    "print('Tampere converted ',tampere['converted'].sum())\n",
    "\n",
    "#out of 30 are converted from Turku\n",
    "print('Turku converted ',turku['converted'].sum())"
   ]
  },
  {
   "cell_type": "markdown",
   "id": "83a843c5",
   "metadata": {},
   "source": [
    "# Total Number of people not converted - 549 (with cleaned dataset)"
   ]
  },
  {
   "cell_type": "code",
   "execution_count": 130,
   "id": "62f29e64",
   "metadata": {},
   "outputs": [
    {
     "name": "stdout",
     "output_type": "stream",
     "text": [
      "Helsinki non converted 427\n",
      "Tampere non converted 75\n",
      "Turku non converted 47\n"
     ]
    }
   ],
   "source": [
    "# out of 427 non converted from Helsinki \n",
    "print('Helsinki non converted',644 - helsinki['converted'].sum())\n",
    "\n",
    "# out of 75 non converted from tampere \n",
    "print('Tampere non converted',168 - tampere['converted'].sum())\n",
    "\n",
    "# out of 47 non converted from tampere\n",
    "print('Turku non converted',77 - turku['converted'].sum())"
   ]
  },
  {
   "cell_type": "markdown",
   "id": "1fc6212b",
   "metadata": {},
   "source": [
    "# Find the columns/features impacting the conversion - Correction Matrix"
   ]
  },
  {
   "cell_type": "code",
   "execution_count": 131,
   "id": "984f4c20",
   "metadata": {},
   "outputs": [
    {
     "data": {
      "text/html": [
       "<div>\n",
       "<style scoped>\n",
       "    .dataframe tbody tr th:only-of-type {\n",
       "        vertical-align: middle;\n",
       "    }\n",
       "\n",
       "    .dataframe tbody tr th {\n",
       "        vertical-align: top;\n",
       "    }\n",
       "\n",
       "    .dataframe thead th {\n",
       "        text-align: right;\n",
       "    }\n",
       "</style>\n",
       "<table border=\"1\" class=\"dataframe\">\n",
       "  <thead>\n",
       "    <tr style=\"text-align: right;\">\n",
       "      <th></th>\n",
       "      <th>converted</th>\n",
       "      <th>customer_segment</th>\n",
       "      <th>age</th>\n",
       "      <th>related_customers</th>\n",
       "      <th>family_size</th>\n",
       "      <th>initial_fee_level</th>\n",
       "    </tr>\n",
       "  </thead>\n",
       "  <tbody>\n",
       "    <tr>\n",
       "      <th>converted</th>\n",
       "      <td>1.000000</td>\n",
       "      <td>-0.335549</td>\n",
       "      <td>-0.054934</td>\n",
       "      <td>-0.034040</td>\n",
       "      <td>0.083151</td>\n",
       "      <td>0.255290</td>\n",
       "    </tr>\n",
       "    <tr>\n",
       "      <th>customer_segment</th>\n",
       "      <td>-0.335549</td>\n",
       "      <td>1.000000</td>\n",
       "      <td>-0.401322</td>\n",
       "      <td>0.081656</td>\n",
       "      <td>0.016824</td>\n",
       "      <td>-0.548193</td>\n",
       "    </tr>\n",
       "    <tr>\n",
       "      <th>age</th>\n",
       "      <td>-0.054934</td>\n",
       "      <td>-0.401322</td>\n",
       "      <td>1.000000</td>\n",
       "      <td>-0.242834</td>\n",
       "      <td>-0.174280</td>\n",
       "      <td>0.118205</td>\n",
       "    </tr>\n",
       "    <tr>\n",
       "      <th>related_customers</th>\n",
       "      <td>-0.034040</td>\n",
       "      <td>0.081656</td>\n",
       "      <td>-0.242834</td>\n",
       "      <td>1.000000</td>\n",
       "      <td>0.414542</td>\n",
       "      <td>0.160887</td>\n",
       "    </tr>\n",
       "    <tr>\n",
       "      <th>family_size</th>\n",
       "      <td>0.083151</td>\n",
       "      <td>0.016824</td>\n",
       "      <td>-0.174280</td>\n",
       "      <td>0.414542</td>\n",
       "      <td>1.000000</td>\n",
       "      <td>0.217532</td>\n",
       "    </tr>\n",
       "    <tr>\n",
       "      <th>initial_fee_level</th>\n",
       "      <td>0.255290</td>\n",
       "      <td>-0.548193</td>\n",
       "      <td>0.118205</td>\n",
       "      <td>0.160887</td>\n",
       "      <td>0.217532</td>\n",
       "      <td>1.000000</td>\n",
       "    </tr>\n",
       "  </tbody>\n",
       "</table>\n",
       "</div>"
      ],
      "text/plain": [
       "                   converted  customer_segment       age  related_customers  \\\n",
       "converted           1.000000         -0.335549 -0.054934          -0.034040   \n",
       "customer_segment   -0.335549          1.000000 -0.401322           0.081656   \n",
       "age                -0.054934         -0.401322  1.000000          -0.242834   \n",
       "related_customers  -0.034040          0.081656 -0.242834           1.000000   \n",
       "family_size         0.083151          0.016824 -0.174280           0.414542   \n",
       "initial_fee_level   0.255290         -0.548193  0.118205           0.160887   \n",
       "\n",
       "                   family_size  initial_fee_level  \n",
       "converted             0.083151           0.255290  \n",
       "customer_segment      0.016824          -0.548193  \n",
       "age                  -0.174280           0.118205  \n",
       "related_customers     0.414542           0.160887  \n",
       "family_size           1.000000           0.217532  \n",
       "initial_fee_level     0.217532           1.000000  "
      ]
     },
     "execution_count": 131,
     "metadata": {},
     "output_type": "execute_result"
    }
   ],
   "source": [
    "clean_data.corr()"
   ]
  },
  {
   "cell_type": "markdown",
   "id": "62bbd411",
   "metadata": {},
   "source": [
    "\n",
    "\n",
    "## The below findings are by keeping the correlation threshold above 0.15\n",
    "1. Converted column  - Impacted by customer_segment initial_fees_level \n",
    "2. customer_segment column -  Impacted by age that decides initial_fees_level\n",
    "3. Age column - Impacted by customer_segment, related_customers, family size \n",
    "\n",
    "\n",
    "\n"
   ]
  },
  {
   "cell_type": "markdown",
   "id": "8f3faed3",
   "metadata": {},
   "source": [
    "# A simple ML model for the cleaned dataset\n",
    "\n",
    "Since the converted predictor variable is given - i am approaching this with Supervised Learning models"
   ]
  },
  {
   "cell_type": "code",
   "execution_count": 132,
   "id": "fa9f3191",
   "metadata": {},
   "outputs": [
    {
     "data": {
      "text/plain": [
       "0      0\n",
       "1      1\n",
       "2      1\n",
       "3      1\n",
       "4      0\n",
       "      ..\n",
       "886    0\n",
       "887    1\n",
       "888    0\n",
       "889    1\n",
       "890    0\n",
       "Name: converted, Length: 889, dtype: int64"
      ]
     },
     "execution_count": 132,
     "metadata": {},
     "output_type": "execute_result"
    }
   ],
   "source": [
    "#extract predictor variable converted\n",
    "predictor_variable = clean_data['converted']\n",
    "predictor_variable"
   ]
  },
  {
   "cell_type": "code",
   "execution_count": 133,
   "id": "1f272dff",
   "metadata": {},
   "outputs": [
    {
     "data": {
      "text/html": [
       "<div>\n",
       "<style scoped>\n",
       "    .dataframe tbody tr th:only-of-type {\n",
       "        vertical-align: middle;\n",
       "    }\n",
       "\n",
       "    .dataframe tbody tr th {\n",
       "        vertical-align: top;\n",
       "    }\n",
       "\n",
       "    .dataframe thead th {\n",
       "        text-align: right;\n",
       "    }\n",
       "</style>\n",
       "<table border=\"1\" class=\"dataframe\">\n",
       "  <thead>\n",
       "    <tr style=\"text-align: right;\">\n",
       "      <th></th>\n",
       "      <th>customer_segment</th>\n",
       "      <th>gender</th>\n",
       "      <th>age</th>\n",
       "      <th>related_customers</th>\n",
       "      <th>family_size</th>\n",
       "      <th>initial_fee_level</th>\n",
       "      <th>credit_account_id</th>\n",
       "      <th>branch</th>\n",
       "    </tr>\n",
       "  </thead>\n",
       "  <tbody>\n",
       "    <tr>\n",
       "      <th>0</th>\n",
       "      <td>13</td>\n",
       "      <td>0</td>\n",
       "      <td>22.0</td>\n",
       "      <td>1</td>\n",
       "      <td>0</td>\n",
       "      <td>14.5000</td>\n",
       "      <td>0</td>\n",
       "      <td>0</td>\n",
       "    </tr>\n",
       "    <tr>\n",
       "      <th>1</th>\n",
       "      <td>11</td>\n",
       "      <td>1</td>\n",
       "      <td>38.0</td>\n",
       "      <td>1</td>\n",
       "      <td>0</td>\n",
       "      <td>142.5666</td>\n",
       "      <td>1</td>\n",
       "      <td>1</td>\n",
       "    </tr>\n",
       "    <tr>\n",
       "      <th>2</th>\n",
       "      <td>13</td>\n",
       "      <td>1</td>\n",
       "      <td>26.0</td>\n",
       "      <td>0</td>\n",
       "      <td>0</td>\n",
       "      <td>15.8500</td>\n",
       "      <td>0</td>\n",
       "      <td>0</td>\n",
       "    </tr>\n",
       "    <tr>\n",
       "      <th>3</th>\n",
       "      <td>11</td>\n",
       "      <td>1</td>\n",
       "      <td>35.0</td>\n",
       "      <td>1</td>\n",
       "      <td>0</td>\n",
       "      <td>106.2000</td>\n",
       "      <td>1</td>\n",
       "      <td>0</td>\n",
       "    </tr>\n",
       "    <tr>\n",
       "      <th>4</th>\n",
       "      <td>13</td>\n",
       "      <td>0</td>\n",
       "      <td>35.0</td>\n",
       "      <td>0</td>\n",
       "      <td>0</td>\n",
       "      <td>16.1000</td>\n",
       "      <td>0</td>\n",
       "      <td>0</td>\n",
       "    </tr>\n",
       "    <tr>\n",
       "      <th>...</th>\n",
       "      <td>...</td>\n",
       "      <td>...</td>\n",
       "      <td>...</td>\n",
       "      <td>...</td>\n",
       "      <td>...</td>\n",
       "      <td>...</td>\n",
       "      <td>...</td>\n",
       "      <td>...</td>\n",
       "    </tr>\n",
       "    <tr>\n",
       "      <th>886</th>\n",
       "      <td>12</td>\n",
       "      <td>0</td>\n",
       "      <td>27.0</td>\n",
       "      <td>0</td>\n",
       "      <td>0</td>\n",
       "      <td>26.0000</td>\n",
       "      <td>0</td>\n",
       "      <td>0</td>\n",
       "    </tr>\n",
       "    <tr>\n",
       "      <th>887</th>\n",
       "      <td>11</td>\n",
       "      <td>1</td>\n",
       "      <td>19.0</td>\n",
       "      <td>0</td>\n",
       "      <td>0</td>\n",
       "      <td>60.0000</td>\n",
       "      <td>1</td>\n",
       "      <td>0</td>\n",
       "    </tr>\n",
       "    <tr>\n",
       "      <th>888</th>\n",
       "      <td>13</td>\n",
       "      <td>1</td>\n",
       "      <td>25.0</td>\n",
       "      <td>1</td>\n",
       "      <td>2</td>\n",
       "      <td>46.9000</td>\n",
       "      <td>0</td>\n",
       "      <td>0</td>\n",
       "    </tr>\n",
       "    <tr>\n",
       "      <th>889</th>\n",
       "      <td>11</td>\n",
       "      <td>0</td>\n",
       "      <td>26.0</td>\n",
       "      <td>0</td>\n",
       "      <td>0</td>\n",
       "      <td>60.0000</td>\n",
       "      <td>1</td>\n",
       "      <td>1</td>\n",
       "    </tr>\n",
       "    <tr>\n",
       "      <th>890</th>\n",
       "      <td>13</td>\n",
       "      <td>0</td>\n",
       "      <td>32.0</td>\n",
       "      <td>0</td>\n",
       "      <td>0</td>\n",
       "      <td>15.5000</td>\n",
       "      <td>0</td>\n",
       "      <td>2</td>\n",
       "    </tr>\n",
       "  </tbody>\n",
       "</table>\n",
       "<p>889 rows × 8 columns</p>\n",
       "</div>"
      ],
      "text/plain": [
       "     customer_segment gender   age  related_customers  family_size  \\\n",
       "0                  13      0  22.0                  1            0   \n",
       "1                  11      1  38.0                  1            0   \n",
       "2                  13      1  26.0                  0            0   \n",
       "3                  11      1  35.0                  1            0   \n",
       "4                  13      0  35.0                  0            0   \n",
       "..                ...    ...   ...                ...          ...   \n",
       "886                12      0  27.0                  0            0   \n",
       "887                11      1  19.0                  0            0   \n",
       "888                13      1  25.0                  1            2   \n",
       "889                11      0  26.0                  0            0   \n",
       "890                13      0  32.0                  0            0   \n",
       "\n",
       "     initial_fee_level credit_account_id branch  \n",
       "0              14.5000                 0      0  \n",
       "1             142.5666                 1      1  \n",
       "2              15.8500                 0      0  \n",
       "3             106.2000                 1      0  \n",
       "4              16.1000                 0      0  \n",
       "..                 ...               ...    ...  \n",
       "886            26.0000                 0      0  \n",
       "887            60.0000                 1      0  \n",
       "888            46.9000                 0      0  \n",
       "889            60.0000                 1      1  \n",
       "890            15.5000                 0      2  \n",
       "\n",
       "[889 rows x 8 columns]"
      ]
     },
     "execution_count": 133,
     "metadata": {},
     "output_type": "execute_result"
    }
   ],
   "source": [
    "#Features without predictor variable\n",
    "del clean_data['converted']\n",
    "\n",
    "features = clean_data\n",
    "features"
   ]
  },
  {
   "cell_type": "code",
   "execution_count": 135,
   "id": "0ef32f47",
   "metadata": {},
   "outputs": [],
   "source": [
    "del clean_data['branch']\n",
    "\n",
    "del clean_data['customer_segment']"
   ]
  },
  {
   "cell_type": "code",
   "execution_count": 136,
   "id": "98c18180",
   "metadata": {},
   "outputs": [],
   "source": [
    "\n",
    "X_train, X_test, y_train, y_test = train_test_split(\n",
    "    features, predictor_variable, test_size=0.33, random_state=42)"
   ]
  },
  {
   "cell_type": "code",
   "execution_count": 151,
   "id": "42461462",
   "metadata": {},
   "outputs": [],
   "source": [
    "def ensambled(d1,d2,d3,d4):\n",
    "    model = 'Decision Tree'\n",
    "    clf = DecisionTreeClassifier(max_depth=None, min_samples_split=2,\n",
    "        random_state=0)\n",
    "    clf.fit(d1,d2)\n",
    "\n",
    "    scores = clf.score(d3, d4)\n",
    "    print('Accuracy for Decision Tree',scores.mean())\n",
    "\n",
    "    y_pred = clf.predict(d3)\n",
    "    mae = metrics.mean_absolute_error(d4, y_pred)\n",
    "    mse = metrics.mean_squared_error(d4, y_pred)\n",
    "    r2 = metrics.r2_score(d4, y_pred)\n",
    "    print(model,mae,mse,r2,clf)\n",
    "\n",
    "    model = 'Random Forest'\n",
    "    clf = RandomForestClassifier(n_estimators=10, max_depth=None,\n",
    "        min_samples_split=2, random_state=0)\n",
    "    clf.fit(d1,d2)\n",
    "\n",
    "    scores = clf.score(d3, d4)\n",
    "    print('Accuracy for Random Forest',scores.mean())\n",
    "\n",
    "    y_pred = clf.predict(d3)\n",
    "    mae = metrics.mean_absolute_error(d4, y_pred)\n",
    "    mse = metrics.mean_squared_error(d4, y_pred)\n",
    "    r2 = metrics.r2_score(d4, y_pred)\n",
    "    print(model,mae,mse,r2,clf)"
   ]
  },
  {
   "cell_type": "code",
   "execution_count": 142,
   "id": "12e9c335",
   "metadata": {},
   "outputs": [],
   "source": [
    "def visualize(d1,d2,d3):\n",
    "    model = ExtraTreesClassifier()\n",
    "    model.fit(d1,d2)\n",
    "    #print(model.feature_importances_) #use inbuilt class feature_importances of tree based classifiers\n",
    "    #plot graph of feature importances for better visualization\n",
    "    feat_importances = pd.Series(model.feature_importances_, index=d1.columns)\n",
    "    feat_importances.nlargest(10).plot(kind='barh')\n",
    "    feat_importances = feat_importances.nlargest(10)\n",
    "    #print(d1[feat_importances.keys()])\n",
    "    #print(d3[feat_importances.keys()])\n",
    "    \n",
    "    plt.show()\n",
    "    return d1[feat_importances.keys()], d3[feat_importances.keys()]\n",
    "\n"
   ]
  },
  {
   "cell_type": "code",
   "execution_count": 152,
   "id": "81c97fec",
   "metadata": {
    "scrolled": true
   },
   "outputs": [
    {
     "data": {
      "image/png": "[encoded data removed]",
      "text/plain": [
       "<Figure size 432x288 with 1 Axes>"
      ]
     },
     "metadata": {
      "needs_background": "light"
     },
     "output_type": "display_data"
    },
    {
     "name": "stdout",
     "output_type": "stream",
     "text": [
      "Accuracy for Decision Tree 0.782312925170068\n",
      "Decision Tree 0.21768707482993196 0.21768707482993196 0.07035573122529659 DecisionTreeClassifier(random_state=0)\n",
      "Accuracy for Random Forest 0.8095238095238095\n",
      "Random Forest 0.19047619047619047 0.19047619047619047 0.18656126482213442 RandomForestClassifier(n_estimators=10, random_state=0)\n"
     ]
    }
   ],
   "source": [
    "def main():\n",
    "\n",
    "    rdata_train,rdata_test = visualize(X_train,y_train, X_test)\n",
    "   \n",
    "    emsabled = ensambled(rdata_train,y_train,rdata_test,y_test)\n",
    "    #cnn_result = cnn.cnn_model(x_train,y_train,x_test,y_test)\n",
    "    \n",
    "if __name__ == \"__main__\":\n",
    "    main()\n",
    "\n"
   ]
  },
  {
   "cell_type": "code",
   "execution_count": null,
   "id": "c19b2586",
   "metadata": {},
   "outputs": [],
   "source": []
  }
 ],
 "metadata": {
  "kernelspec": {
   "display_name": "Python 3 (ipykernel)",
   "language": "python",
   "name": "python3"
  },
  "language_info": {
   "codemirror_mode": {
    "name": "ipython",
    "version": 3
   },
   "file_extension": ".py",
   "mimetype": "text/x-python",
   "name": "python",
   "nbconvert_exporter": "python",
   "pygments_lexer": "ipython3",
   "version": "3.9.7"
  }
 },
 "nbformat": 4,
 "nbformat_minor": 5
}
